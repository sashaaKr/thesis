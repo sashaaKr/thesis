{
 "cells": [
  {
   "cell_type": "code",
   "execution_count": 3,
   "id": "95252fc3",
   "metadata": {},
   "outputs": [
    {
     "data": {
      "text/html": [
       "<style>.container { width:100% !important; }</style>"
      ],
      "text/plain": [
       "<IPython.core.display.HTML object>"
      ]
     },
     "metadata": {},
     "output_type": "display_data"
    }
   ],
   "source": [
    "from IPython.core.display import display, HTML\n",
    "display(HTML(\"<style>.container { width:100% !important; }</style>\"))"
   ]
  },
  {
   "cell_type": "code",
   "execution_count": 4,
   "id": "eaab2581",
   "metadata": {},
   "outputs": [
    {
     "name": "stdout",
     "output_type": "stream",
     "text": [
      "Requirement already satisfied: decorator==5.0.9 in /Users/sasha.kruglyak/opt/anaconda3/lib/python3.8/site-packages (5.0.9)\n",
      "Note: you may need to restart the kernel to use updated packages.\n"
     ]
    }
   ],
   "source": [
    "%pip install decorator==5.0.9\n",
    "\n",
    "import imp\n",
    "import numpy as np\n",
    "import pandas as pd\n",
    "from sklearn.feature_extraction.text import TfidfVectorizer\n",
    "from sklearn.metrics.pairwise import cosine_similarity\n",
    "import matplotlib.pyplot as plt\n",
    "import networkx as nx\n",
    "import seaborn as sns"
   ]
  },
  {
   "cell_type": "code",
   "execution_count": 2,
   "id": "c40d4655",
   "metadata": {},
   "outputs": [
    {
     "name": "stdout",
     "output_type": "stream",
     "text": [
      "Requirement already satisfied: cltk==1.0.22 in /Users/sasha.kruglyak/opt/anaconda3/lib/python3.8/site-packages (1.0.22)\n",
      "Requirement already satisfied: boltons<21.0.0,>=20.0.0 in /Users/sasha.kruglyak/opt/anaconda3/lib/python3.8/site-packages (from cltk==1.0.22) (20.2.1)\n",
      "Requirement already satisfied: gensim<4.0.0,>=3.8.1 in /Users/sasha.kruglyak/opt/anaconda3/lib/python3.8/site-packages (from cltk==1.0.22) (3.8.3)\n",
      "Requirement already satisfied: fasttext<0.10.0,>=0.9.1 in /Users/sasha.kruglyak/opt/anaconda3/lib/python3.8/site-packages (from cltk==1.0.22) (0.9.2)\n",
      "Requirement already satisfied: greek-accentuation<2.0.0,>=1.2.0 in /Users/sasha.kruglyak/opt/anaconda3/lib/python3.8/site-packages (from cltk==1.0.22) (1.2.0)\n",
      "Requirement already satisfied: requests<3.0.0,>=2.22.0 in /Users/sasha.kruglyak/opt/anaconda3/lib/python3.8/site-packages (from cltk==1.0.22) (2.25.1)\n",
      "Requirement already satisfied: scikit-learn<0.25.0,>=0.24.2 in /Users/sasha.kruglyak/opt/anaconda3/lib/python3.8/site-packages (from cltk==1.0.22) (0.24.2)\n",
      "Requirement already satisfied: spacy<3.0.0,>=2.3.5 in /Users/sasha.kruglyak/opt/anaconda3/lib/python3.8/site-packages (from cltk==1.0.22) (2.3.7)\n",
      "Requirement already satisfied: stanza<2.0.0,>=1.3.0 in /Users/sasha.kruglyak/opt/anaconda3/lib/python3.8/site-packages (from cltk==1.0.22) (1.3.0)\n",
      "Requirement already satisfied: PyYAML<6.0.0,>=5.4.1 in /Users/sasha.kruglyak/opt/anaconda3/lib/python3.8/site-packages (from cltk==1.0.22) (5.4.1)\n",
      "Requirement already satisfied: python-Levenshtein<0.13.0,>=0.12.0 in /Users/sasha.kruglyak/opt/anaconda3/lib/python3.8/site-packages (from cltk==1.0.22) (0.12.2)\n",
      "Requirement already satisfied: stringcase<2.0,>=1.2 in /Users/sasha.kruglyak/opt/anaconda3/lib/python3.8/site-packages (from cltk==1.0.22) (1.2.0)\n",
      "Requirement already satisfied: tqdm<5.0.0,>=4.41.1 in /Users/sasha.kruglyak/opt/anaconda3/lib/python3.8/site-packages (from cltk==1.0.22) (4.48.2)\n",
      "Requirement already satisfied: gitpython<4.0,>=3.0 in /Users/sasha.kruglyak/opt/anaconda3/lib/python3.8/site-packages (from cltk==1.0.22) (3.1.24)\n",
      "Requirement already satisfied: nltk<4.0,>=3.5 in /Users/sasha.kruglyak/opt/anaconda3/lib/python3.8/site-packages (from cltk==1.0.22) (3.5)\n",
      "Requirement already satisfied: numpy in /Users/sasha.kruglyak/opt/anaconda3/lib/python3.8/site-packages (from fasttext<0.10.0,>=0.9.1->cltk==1.0.22) (1.18.5)\n",
      "Requirement already satisfied: setuptools>=0.7.0 in /Users/sasha.kruglyak/opt/anaconda3/lib/python3.8/site-packages (from fasttext<0.10.0,>=0.9.1->cltk==1.0.22) (52.0.0.post20210125)\n",
      "Requirement already satisfied: pybind11>=2.2 in /Users/sasha.kruglyak/opt/anaconda3/lib/python3.8/site-packages (from fasttext<0.10.0,>=0.9.1->cltk==1.0.22) (2.8.1)\n",
      "Requirement already satisfied: scipy>=0.18.1 in /Users/sasha.kruglyak/opt/anaconda3/lib/python3.8/site-packages (from gensim<4.0.0,>=3.8.1->cltk==1.0.22) (1.4.1)\n",
      "Requirement already satisfied: six>=1.5.0 in /Users/sasha.kruglyak/opt/anaconda3/lib/python3.8/site-packages (from gensim<4.0.0,>=3.8.1->cltk==1.0.22) (1.15.0)\n",
      "Requirement already satisfied: smart-open>=1.8.1 in /Users/sasha.kruglyak/opt/anaconda3/lib/python3.8/site-packages (from gensim<4.0.0,>=3.8.1->cltk==1.0.22) (5.2.1)\n",
      "Requirement already satisfied: gitdb<5,>=4.0.1 in /Users/sasha.kruglyak/opt/anaconda3/lib/python3.8/site-packages (from gitpython<4.0,>=3.0->cltk==1.0.22) (4.0.9)\n",
      "Requirement already satisfied: typing-extensions>=3.7.4.3 in /Users/sasha.kruglyak/opt/anaconda3/lib/python3.8/site-packages (from gitpython<4.0,>=3.0->cltk==1.0.22) (3.10.0.2)\n",
      "Requirement already satisfied: smmap<6,>=3.0.1 in /Users/sasha.kruglyak/opt/anaconda3/lib/python3.8/site-packages (from gitdb<5,>=4.0.1->gitpython<4.0,>=3.0->cltk==1.0.22) (5.0.0)\n",
      "Requirement already satisfied: joblib in /Users/sasha.kruglyak/opt/anaconda3/lib/python3.8/site-packages (from nltk<4.0,>=3.5->cltk==1.0.22) (1.0.1)\n",
      "Requirement already satisfied: click in /Users/sasha.kruglyak/opt/anaconda3/lib/python3.8/site-packages (from nltk<4.0,>=3.5->cltk==1.0.22) (7.1.2)\n",
      "Requirement already satisfied: regex in /Users/sasha.kruglyak/opt/anaconda3/lib/python3.8/site-packages (from nltk<4.0,>=3.5->cltk==1.0.22) (2021.4.4)\n",
      "Requirement already satisfied: urllib3<1.27,>=1.21.1 in /Users/sasha.kruglyak/opt/anaconda3/lib/python3.8/site-packages (from requests<3.0.0,>=2.22.0->cltk==1.0.22) (1.26.4)\n",
      "Requirement already satisfied: idna<3,>=2.5 in /Users/sasha.kruglyak/opt/anaconda3/lib/python3.8/site-packages (from requests<3.0.0,>=2.22.0->cltk==1.0.22) (2.10)\n",
      "Requirement already satisfied: chardet<5,>=3.0.2 in /Users/sasha.kruglyak/opt/anaconda3/lib/python3.8/site-packages (from requests<3.0.0,>=2.22.0->cltk==1.0.22) (4.0.0)\n",
      "Requirement already satisfied: certifi>=2017.4.17 in /Users/sasha.kruglyak/opt/anaconda3/lib/python3.8/site-packages (from requests<3.0.0,>=2.22.0->cltk==1.0.22) (2020.12.5)\n",
      "Requirement already satisfied: threadpoolctl>=2.0.0 in /Users/sasha.kruglyak/opt/anaconda3/lib/python3.8/site-packages (from scikit-learn<0.25.0,>=0.24.2->cltk==1.0.22) (2.1.0)\n",
      "Requirement already satisfied: cymem<2.1.0,>=2.0.2 in /Users/sasha.kruglyak/opt/anaconda3/lib/python3.8/site-packages (from spacy<3.0.0,>=2.3.5->cltk==1.0.22) (2.0.6)\n",
      "Requirement already satisfied: blis<0.8.0,>=0.4.0 in /Users/sasha.kruglyak/opt/anaconda3/lib/python3.8/site-packages (from spacy<3.0.0,>=2.3.5->cltk==1.0.22) (0.7.5)\n",
      "Requirement already satisfied: plac<1.2.0,>=0.9.6 in /Users/sasha.kruglyak/opt/anaconda3/lib/python3.8/site-packages (from spacy<3.0.0,>=2.3.5->cltk==1.0.22) (1.1.3)\n",
      "Requirement already satisfied: preshed<3.1.0,>=3.0.2 in /Users/sasha.kruglyak/opt/anaconda3/lib/python3.8/site-packages (from spacy<3.0.0,>=2.3.5->cltk==1.0.22) (3.0.6)\n",
      "Requirement already satisfied: murmurhash<1.1.0,>=0.28.0 in /Users/sasha.kruglyak/opt/anaconda3/lib/python3.8/site-packages (from spacy<3.0.0,>=2.3.5->cltk==1.0.22) (1.0.6)\n",
      "Requirement already satisfied: srsly<1.1.0,>=1.0.2 in /Users/sasha.kruglyak/opt/anaconda3/lib/python3.8/site-packages (from spacy<3.0.0,>=2.3.5->cltk==1.0.22) (1.0.5)\n",
      "Requirement already satisfied: catalogue<1.1.0,>=0.0.7 in /Users/sasha.kruglyak/opt/anaconda3/lib/python3.8/site-packages (from spacy<3.0.0,>=2.3.5->cltk==1.0.22) (1.0.0)\n",
      "Requirement already satisfied: wasabi<1.1.0,>=0.4.0 in /Users/sasha.kruglyak/opt/anaconda3/lib/python3.8/site-packages (from spacy<3.0.0,>=2.3.5->cltk==1.0.22) (0.8.2)\n",
      "Requirement already satisfied: thinc<7.5.0,>=7.4.1 in /Users/sasha.kruglyak/opt/anaconda3/lib/python3.8/site-packages (from spacy<3.0.0,>=2.3.5->cltk==1.0.22) (7.4.5)\n",
      "Requirement already satisfied: torch>=1.3.0 in /Users/sasha.kruglyak/opt/anaconda3/lib/python3.8/site-packages (from stanza<2.0.0,>=1.3.0->cltk==1.0.22) (1.10.0)\n",
      "Requirement already satisfied: emoji in /Users/sasha.kruglyak/opt/anaconda3/lib/python3.8/site-packages (from stanza<2.0.0,>=1.3.0->cltk==1.0.22) (1.6.1)\n",
      "Requirement already satisfied: protobuf in /Users/sasha.kruglyak/opt/anaconda3/lib/python3.8/site-packages (from stanza<2.0.0,>=1.3.0->cltk==1.0.22) (3.19.1)\n",
      "Note: you may need to restart the kernel to use updated packages.\n"
     ]
    }
   ],
   "source": [
    "%pip install cltk==1.0.22"
   ]
  },
  {
   "cell_type": "code",
   "execution_count": 27,
   "id": "06c52572",
   "metadata": {},
   "outputs": [
    {
     "data": {
      "text/plain": [
       "<module 'vocabulary.vocabulary' from '../src/vocabulary/vocabulary.py'>"
      ]
     },
     "execution_count": 27,
     "metadata": {},
     "output_type": "execute_result"
    }
   ],
   "source": [
    "# importing local modules\n",
    "\n",
    "import sys\n",
    "sys.path.append('../src/')\n",
    "\n",
    "import text_cleanup.text_cleanup as thesisCleanUp\n",
    "import preprocessing.text_preprocessing as thesisTextPreprocessing\n",
    "import data.reader as thesisDataReader\n",
    "import utils.utils as thesisUtils\n",
    "import features.tf_idf.n_gram as thesisTfIdfNgramFeatures\n",
    "import similarities.cosine as thesisCosineSimilarities\n",
    "import vocabulary.vocabulary as thesisVocabulary\n",
    "\n",
    "imp.reload(thesisCleanUp)\n",
    "imp.reload(thesisTextPreprocessing)\n",
    "imp.reload(thesisDataReader)\n",
    "imp.reload(thesisUtils)\n",
    "imp.reload(thesisTfIdfNgramFeatures)\n",
    "imp.reload(thesisVocabulary)"
   ]
  },
  {
   "cell_type": "markdown",
   "id": "982586a7",
   "metadata": {},
   "source": [
    "# Unique vocabulary\n",
    "After our meeting 20.4, Yoni asked if we can have vocabulary of the words that appears in one version with counter bigger than 3 (for example) and does not appear in another 2 version\n",
    "\n",
    "**UPDT**: cause unique vocabulary is very small for every version I choose threshold 1"
   ]
  },
  {
   "cell_type": "code",
   "execution_count": 110,
   "id": "b08ba0c6",
   "metadata": {},
   "outputs": [],
   "source": [
    "def get_version_unique_words(main_version_dictionary, version_2_dictionary, version_3_dictionary):\n",
    "    unique_word = []\n",
    "    for word in main_version_dictionary:\n",
    "        if main_version_dictionary[word] > 1 and version_2_dictionary.get(word) is None and version_3_dictionary.get(word) is None:\n",
    "            unique_word.append(word)\n",
    "    return unique_word\n",
    "    \n",
    "def unique_vocabulary():\n",
    "    london_corpus = thesisDataReader.get_london_corpus()\n",
    "    zwickau_corpus = thesisDataReader.get_zwickau_corpus()\n",
    "    breslau_corpus = thesisDataReader.get_breslau_corpus()\n",
    "\n",
    "    london_dictionary = thesisVocabulary.create_words_dictionary(london_corpus)\n",
    "    zwickau_dictionary = thesisVocabulary.create_words_dictionary(zwickau_corpus)\n",
    "    breslau_dictionary = thesisVocabulary.create_words_dictionary(breslau_corpus)    \n",
    "    \n",
    "    london_unique_words = get_version_unique_words(london_dictionary, zwickau_dictionary, breslau_dictionary)\n",
    "    zwickau_unique_words = get_version_unique_words(zwickau_dictionary, london_dictionary, breslau_dictionary)\n",
    "    breslau_unique_words = get_version_unique_words(breslau_dictionary, london_dictionary, zwickau_dictionary)\n",
    "    \n",
    "    df_columns = ['version', 'word', 'count']\n",
    "    df_data = []\n",
    "    \n",
    "    for word in london_unique_words:\n",
    "        df_data.append(['london', word, london_dictionary.get(word)])\n",
    "    \n",
    "    for word in zwickau_unique_words:\n",
    "        df_data.append(['zwickau', word, zwickau_dictionary.get(word)])\n",
    "        \n",
    "    for word in breslau_unique_words:\n",
    "            df_data.append(['breslau', word, breslau_dictionary.get(word)])\n",
    "    \n",
    "    df = pd.DataFrame(df_data, columns=df_columns)\n",
    "    df.to_csv('../computed_data/text_to_text/3_version_unique_vocabulary.csv')\n",
    "    return df"
   ]
  },
  {
   "cell_type": "code",
   "execution_count": 109,
   "id": "079de240",
   "metadata": {},
   "outputs": [
    {
     "data": {
      "text/html": [
       "<div>\n",
       "<style scoped>\n",
       "    .dataframe tbody tr th:only-of-type {\n",
       "        vertical-align: middle;\n",
       "    }\n",
       "\n",
       "    .dataframe tbody tr th {\n",
       "        vertical-align: top;\n",
       "    }\n",
       "\n",
       "    .dataframe thead th {\n",
       "        text-align: right;\n",
       "    }\n",
       "</style>\n",
       "<table border=\"1\" class=\"dataframe\">\n",
       "  <thead>\n",
       "    <tr style=\"text-align: right;\">\n",
       "      <th></th>\n",
       "      <th>version</th>\n",
       "      <th>word</th>\n",
       "      <th>count</th>\n",
       "    </tr>\n",
       "  </thead>\n",
       "  <tbody>\n",
       "    <tr>\n",
       "      <th>0</th>\n",
       "      <td>london</td>\n",
       "      <td>egyptum</td>\n",
       "      <td>9</td>\n",
       "    </tr>\n",
       "    <tr>\n",
       "      <th>1</th>\n",
       "      <td>london</td>\n",
       "      <td>accepit</td>\n",
       "      <td>9</td>\n",
       "    </tr>\n",
       "    <tr>\n",
       "      <th>2</th>\n",
       "      <td>london</td>\n",
       "      <td>belonas</td>\n",
       "      <td>8</td>\n",
       "    </tr>\n",
       "    <tr>\n",
       "      <th>3</th>\n",
       "      <td>london</td>\n",
       "      <td>suanir</td>\n",
       "      <td>8</td>\n",
       "    </tr>\n",
       "    <tr>\n",
       "      <th>4</th>\n",
       "      <td>london</td>\n",
       "      <td>chanaan</td>\n",
       "      <td>7</td>\n",
       "    </tr>\n",
       "    <tr>\n",
       "      <th>...</th>\n",
       "      <td>...</td>\n",
       "      <td>...</td>\n",
       "      <td>...</td>\n",
       "    </tr>\n",
       "    <tr>\n",
       "      <th>408</th>\n",
       "      <td>breslau</td>\n",
       "      <td>uiii</td>\n",
       "      <td>2</td>\n",
       "    </tr>\n",
       "    <tr>\n",
       "      <th>409</th>\n",
       "      <td>breslau</td>\n",
       "      <td>urbes</td>\n",
       "      <td>2</td>\n",
       "    </tr>\n",
       "    <tr>\n",
       "      <th>410</th>\n",
       "      <td>breslau</td>\n",
       "      <td>diuisionis</td>\n",
       "      <td>2</td>\n",
       "    </tr>\n",
       "    <tr>\n",
       "      <th>411</th>\n",
       "      <td>breslau</td>\n",
       "      <td>arsur</td>\n",
       "      <td>2</td>\n",
       "    </tr>\n",
       "    <tr>\n",
       "      <th>412</th>\n",
       "      <td>breslau</td>\n",
       "      <td>diuisa</td>\n",
       "      <td>2</td>\n",
       "    </tr>\n",
       "  </tbody>\n",
       "</table>\n",
       "<p>413 rows × 3 columns</p>\n",
       "</div>"
      ],
      "text/plain": [
       "     version        word  count\n",
       "0     london     egyptum      9\n",
       "1     london     accepit      9\n",
       "2     london     belonas      8\n",
       "3     london      suanir      8\n",
       "4     london     chanaan      7\n",
       "..       ...         ...    ...\n",
       "408  breslau        uiii      2\n",
       "409  breslau       urbes      2\n",
       "410  breslau  diuisionis      2\n",
       "411  breslau       arsur      2\n",
       "412  breslau      diuisa      2\n",
       "\n",
       "[413 rows x 3 columns]"
      ]
     },
     "execution_count": 109,
     "metadata": {},
     "output_type": "execute_result"
    }
   ],
   "source": [
    "unique_vocabulary()"
   ]
  },
  {
   "cell_type": "code",
   "execution_count": null,
   "id": "0b9d2e50",
   "metadata": {},
   "outputs": [],
   "source": []
  }
 ],
 "metadata": {
  "kernelspec": {
   "display_name": "Python 3",
   "language": "python",
   "name": "python3"
  },
  "language_info": {
   "codemirror_mode": {
    "name": "ipython",
    "version": 3
   },
   "file_extension": ".py",
   "mimetype": "text/x-python",
   "name": "python",
   "nbconvert_exporter": "python",
   "pygments_lexer": "ipython3",
   "version": "3.8.8"
  }
 },
 "nbformat": 4,
 "nbformat_minor": 5
}
