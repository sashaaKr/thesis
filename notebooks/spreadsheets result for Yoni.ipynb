{
 "cells": [
  {
   "cell_type": "code",
   "execution_count": 54,
   "id": "2afbf470",
   "metadata": {},
   "outputs": [
    {
     "data": {
      "text/html": [
       "<style>.container { width:100% !important; }</style>"
      ],
      "text/plain": [
       "<IPython.core.display.HTML object>"
      ]
     },
     "metadata": {},
     "output_type": "display_data"
    }
   ],
   "source": [
    "from IPython.core.display import display, HTML\n",
    "display(HTML(\"<style>.container { width:100% !important; }</style>\"))"
   ]
  },
  {
   "cell_type": "code",
   "execution_count": 87,
   "id": "cb8606e9",
   "metadata": {},
   "outputs": [
    {
     "data": {
      "text/plain": [
       "<module 'similarities.cosine' from '../src/similarities/cosine.py'>"
      ]
     },
     "execution_count": 87,
     "metadata": {},
     "output_type": "execute_result"
    }
   ],
   "source": [
    "import numpy as np\n",
    "import pandas as pd\n",
    "import matplotlib.pyplot as plt\n",
    "import xgboost as xgb\n",
    "\n",
    "from sklearn.ensemble import RandomForestClassifier, AdaBoostClassifier\n",
    "from sklearn.preprocessing import LabelEncoder\n",
    "\n",
    "import sys\n",
    "import imp\n",
    "import time\n",
    "\n",
    "sys.path.append('../src/')\n",
    "\n",
    "import data.reader as dataReader\n",
    "import utils.utils as thesisUtils\n",
    "import similarities.cosine as thesisCosineSimilarity\n",
    "import google_sheets.client as googleSheetsClient\n",
    "import vocabulary.vocabulary as thesisVocabulary\n",
    "import features.factory as thesisFactoryFeatures\n",
    "import features.model_features as thesisModelFeatures\n",
    "\n",
    "\n",
    "imp.reload(dataReader)\n",
    "imp.reload(thesisUtils)\n",
    "imp.reload(thesisVocabulary)\n",
    "imp.reload(googleSheetsClient)\n",
    "imp.reload(thesisModelFeatures)\n",
    "imp.reload(thesisFactoryFeatures)\n",
    "imp.reload(thesisCosineSimilarity)"
   ]
  },
  {
   "cell_type": "code",
   "execution_count": 56,
   "id": "b2c492b3",
   "metadata": {},
   "outputs": [],
   "source": [
    "london_corpus = dataReader.CorpusByNewLine.london()\n",
    "zwickau_corpus = dataReader.CorpusByNewLine.zwickau()\n",
    "burchard_corpus_by_london = dataReader.BurchardCorpus(london_corpus, zwickau_corpus)"
   ]
  },
  {
   "cell_type": "code",
   "execution_count": 57,
   "id": "de7a0357",
   "metadata": {},
   "outputs": [],
   "source": [
    "featuresFactory = thesisFactoryFeatures.FeaturesFactory(\n",
    "    london_corpus = london_corpus,\n",
    "    zwickau_corpus = zwickau_corpus\n",
    ")"
   ]
  },
  {
   "cell_type": "code",
   "execution_count": 58,
   "id": "8f1eb72a",
   "metadata": {},
   "outputs": [],
   "source": [
    "london_leftovers = dataReader.LeftoversCorpus(london_corpus, zwickau_corpus)\n",
    "zwickau_leftovers = dataReader.LeftoversCorpus(zwickau_corpus, london_corpus)"
   ]
  },
  {
   "cell_type": "code",
   "execution_count": 59,
   "id": "2800dd1f",
   "metadata": {},
   "outputs": [
    {
     "name": "stdout",
     "output_type": "stream",
     "text": [
      "n_gram_feature_name: 2_5_gram\n",
      "n_gram_feature_name: 2_5_gram\n",
      "n_gram_feature_name: 2_5_gram\n",
      "n_gram_feature_name: 2_5_gram\n"
     ]
    }
   ],
   "source": [
    "burchard_VS_zwickau_features_df = featuresFactory.burchard_by_london_VS_zwickau()\n",
    "burchard_VS_london_features_df = featuresFactory.burchard_by_london_VS_london()\n",
    "# london_VS_zwickau_features_df = featuresFactory.london_VS_zwickau()"
   ]
  },
  {
   "cell_type": "code",
   "execution_count": 60,
   "id": "2725bff9",
   "metadata": {},
   "outputs": [
    {
     "name": "stdout",
     "output_type": "stream",
     "text": [
      "score is: 0.8\n",
      "score is: 0.9714285714285714\n",
      "score is: 0.8571428571428571\n",
      "score is: 0.7714285714285715\n",
      "score is: 0.8571428571428571\n",
      "score is: 0.8\n",
      "score is: 0.8571428571428571\n",
      "score is: 0.9428571428571428\n",
      "score is: 0.8\n",
      "score is: 0.9117647058823529\n"
     ]
    }
   ],
   "source": [
    "burchard_VS_zwickau_wrong_predictions_experiminet = thesisModelFeatures.GetModelStratifiedKFoldWrongPredictionExperiment(\n",
    "    burchard_VS_zwickau_features_df,\n",
    "    AdaBoostClassifier(learning_rate=1, n_estimators=2000)\n",
    ")\n",
    "burchard_VS_zwickau_wrong_predictions_experiminet.run()"
   ]
  },
  {
   "cell_type": "code",
   "execution_count": 61,
   "id": "c0ec6185",
   "metadata": {},
   "outputs": [
    {
     "data": {
      "text/plain": [
       "[Row 9 has been classified as 1(Zwickau) and should be 2(Burchard),\n",
       " Row 12 has been classified as 1(Zwickau) and should be 2(Burchard),\n",
       " Row 45 has been classified as 1(Zwickau) and should be 2(Burchard),\n",
       " Row 63 has been classified as 1(Zwickau) and should be 2(Burchard),\n",
       " Row 64 has been classified as 1(Zwickau) and should be 2(Burchard),\n",
       " Row 81 has been classified as 1(Zwickau) and should be 2(Burchard),\n",
       " Row 100 has been classified as 1(Zwickau) and should be 2(Burchard),\n",
       " Row 108 has been classified as 1(Zwickau) and should be 2(Burchard),\n",
       " Row 114 has been classified as 1(Zwickau) and should be 2(Burchard),\n",
       " Row 118 has been classified as 1(Zwickau) and should be 2(Burchard),\n",
       " Row 121 has been classified as 1(Zwickau) and should be 2(Burchard),\n",
       " Row 135 has been classified as 1(Zwickau) and should be 2(Burchard),\n",
       " Row 174 has been classified as 1(Zwickau) and should be 2(Burchard)]"
      ]
     },
     "execution_count": 61,
     "metadata": {},
     "output_type": "execute_result"
    }
   ],
   "source": [
    "burchard_VS_zwickau_wrong_predictions_experiminet.get_burchard_wrong_predictions()"
   ]
  },
  {
   "cell_type": "code",
   "execution_count": 62,
   "id": "7fe39e88",
   "metadata": {},
   "outputs": [
    {
     "name": "stdout",
     "output_type": "stream",
     "text": [
      "score is: 0.8333333333333334\n",
      "score is: 0.8611111111111112\n",
      "score is: 0.75\n",
      "score is: 0.8055555555555556\n",
      "score is: 0.8333333333333334\n",
      "score is: 0.5833333333333334\n",
      "score is: 0.8888888888888888\n",
      "score is: 0.75\n",
      "score is: 0.7222222222222222\n",
      "score is: 0.75\n"
     ]
    }
   ],
   "source": [
    "burchard_VS_london_wrong_predictions_experiminet = thesisModelFeatures.GetModelStratifiedKFoldWrongPredictionExperiment(\n",
    "    burchard_VS_london_features_df,\n",
    "    RandomForestClassifier(max_depth=11, n_estimators=300, random_state=0)\n",
    ")\n",
    "burchard_VS_london_wrong_predictions_experiminet.run()"
   ]
  },
  {
   "cell_type": "code",
   "execution_count": 63,
   "id": "a7413daf",
   "metadata": {},
   "outputs": [
    {
     "data": {
      "text/plain": [
       "[Row 15 has been classified as 0(London) and should be 2(Burchard),\n",
       " Row 22 has been classified as 0(London) and should be 2(Burchard),\n",
       " Row 44 has been classified as 0(London) and should be 2(Burchard),\n",
       " Row 67 has been classified as 0(London) and should be 2(Burchard),\n",
       " Row 81 has been classified as 0(London) and should be 2(Burchard),\n",
       " Row 100 has been classified as 0(London) and should be 2(Burchard),\n",
       " Row 101 has been classified as 0(London) and should be 2(Burchard),\n",
       " Row 114 has been classified as 0(London) and should be 2(Burchard),\n",
       " Row 121 has been classified as 0(London) and should be 2(Burchard),\n",
       " Row 146 has been classified as 0(London) and should be 2(Burchard)]"
      ]
     },
     "execution_count": 63,
     "metadata": {},
     "output_type": "execute_result"
    }
   ],
   "source": [
    "burchard_VS_london_wrong_predictions_experiminet.get_burchard_wrong_predictions()"
   ]
  },
  {
   "cell_type": "code",
   "execution_count": 64,
   "id": "6640c6ea",
   "metadata": {},
   "outputs": [],
   "source": [
    "# london_VS_zwickau_wrong_predictions_experiment = thesisModelFeatures.GetModelStratifiedKFoldWrongPredictionExperiment(\n",
    "#     london_VS_zwickau_features_df,\n",
    "#     xgb.XGBClassifier(gamma = 0.4, max_depth = 3, min_child_weight = 5)\n",
    "# )\n",
    "# london_VS_zwickau_wrong_predictions_experiment.run()"
   ]
  },
  {
   "cell_type": "code",
   "execution_count": 65,
   "id": "7fe01caf",
   "metadata": {},
   "outputs": [
    {
     "name": "stdout",
     "output_type": "stream",
     "text": [
      "n_gram_feature_name: 2_5_gram\n"
     ]
    }
   ],
   "source": [
    "X_london, y_london = thesisModelFeatures.create_X_y(featuresFactory.london_by_burchard_by_london_VS_zwickau_vectorizer())\n",
    "X, y = thesisModelFeatures.create_X_y(burchard_VS_zwickau_features_df)\n",
    "burchard_VS_zwickau_best_classifier = AdaBoostClassifier(learning_rate=1, n_estimators=2000).fit(X, y)"
   ]
  },
  {
   "cell_type": "code",
   "execution_count": 66,
   "id": "8ad24fe9",
   "metadata": {},
   "outputs": [],
   "source": [
    "london_predictions_by_burchard_vs_zwickau_classifier = burchard_VS_zwickau_best_classifier.predict(X_london)"
   ]
  },
  {
   "cell_type": "code",
   "execution_count": 67,
   "id": "e90ac9ed",
   "metadata": {},
   "outputs": [
    {
     "name": "stdout",
     "output_type": "stream",
     "text": [
      "n_gram_feature_name: 2_5_gram\n"
     ]
    }
   ],
   "source": [
    "X_zwickau, y_zwickau = thesisModelFeatures.create_X_y(featuresFactory.zwickau_by_burchard_by_london_VS_london_vectorizer())\n",
    "X, y = thesisModelFeatures.create_X_y(burchard_VS_london_features_df)\n",
    "burchard_VS_london_best_classifier = RandomForestClassifier(max_depth=11, n_estimators=300, random_state=0).fit(X, y)"
   ]
  },
  {
   "cell_type": "code",
   "execution_count": 68,
   "id": "0f34a81b",
   "metadata": {},
   "outputs": [],
   "source": [
    "zwickau_predictions_by_burchard_vs_london_classifier = burchard_VS_london_best_classifier.predict(X_zwickau)"
   ]
  },
  {
   "cell_type": "code",
   "execution_count": 69,
   "id": "d3210cbd",
   "metadata": {},
   "outputs": [
    {
     "name": "stdout",
     "output_type": "stream",
     "text": [
      "['London', 'London', 'London', 'London', 'London', 'Burchard', 'London', 'Burchard', 'London', 'Burchard', 'London', 'London', 'London', 'Burchard', 'Burchard', 'London', 'London', 'London', 'London', 'Burchard', 'London', 'Burchard', 'London', 'Burchard', 'London', 'London', 'Burchard', 'Burchard', 'London', 'Burchard', 'Burchard', 'Burchard', 'London', 'London', 'London', 'London', 'Burchard', 'London', 'London', 'London', 'Burchard', 'Burchard', 'Burchard', 'Burchard', 'London', 'London', 'London', 'Burchard', 'Burchard', 'London', 'Burchard', 'Burchard', 'Burchard', 'London', 'London', 'London', 'London', 'London', 'London', 'Burchard', 'Burchard', 'London', 'Burchard', 'Burchard', 'London', 'London', 'London', 'Burchard', 'Burchard', 'London', 'London', 'London', 'London', 'London', 'Burchard', 'London', 'London', 'London', 'Burchard', 'Burchard', 'Burchard', 'Burchard', 'London', 'Burchard', 'London', 'Burchard', 'Burchard', 'London', 'London', 'Burchard', 'London', 'Burchard', 'London', 'Burchard', 'Burchard', 'Burchard', 'Burchard', 'Burchard', 'Burchard', 'Burchard', 'Burchard', 'London', 'London', 'London', 'London', 'London', 'London', 'Burchard', 'London', 'London', 'London', 'London', 'Burchard', 'Burchard', 'Burchard', 'Burchard', 'London', 'London', 'London', 'London', 'Burchard', 'Burchard', 'Burchard', 'London', 'Burchard', 'Burchard', 'Burchard', 'Burchard', 'Burchard', 'Burchard', 'Burchard', 'London', 'Burchard', 'London', 'Burchard', 'London', 'London', 'London', 'London', 'London', 'London', 'Burchard', 'London', 'London', 'London', 'London']\n"
     ]
    }
   ],
   "source": [
    "print(\n",
    "    [ \n",
    "        thesisModelFeatures.version_label_to_human_readable(int(i))\n",
    "        for i in zwickau_predictions_by_burchard_vs_london_classifier \n",
    "    ]\n",
    ")"
   ]
  },
  {
   "cell_type": "code",
   "execution_count": 89,
   "id": "b7139e4d",
   "metadata": {},
   "outputs": [],
   "source": [
    "burchard_spreadsheet = googleSheetsClient.BurchardResults(\n",
    "    burchard_corpus = burchard_corpus_by_london,\n",
    "    london_left_overs_corpus = london_leftovers,\n",
    "    zwickau_left_overs_corpus = zwickau_leftovers,\n",
    "    \n",
    "    burchard_vs_london_burchard_wrong_predictions = burchard_VS_london_wrong_predictions_experiminet.get_burchard_wrong_predictions(),\n",
    "    burchard_vs_zwickau_burchard_wrong_predictions = burchard_VS_zwickau_wrong_predictions_experiminet.get_burchard_wrong_predictions(),\n",
    "    \n",
    "    burchard_vs_london_london_wrong_predictions = burchard_VS_london_wrong_predictions_experiminet.get_london_wrong_predictions(),\n",
    "    burchard_vs_zwickau_zwickau_wrong_predictions = burchard_VS_zwickau_wrong_predictions_experiminet.get_zwickau_wrong_predictions(),\n",
    "    \n",
    "    london_predictions_by_burchard_vs_zwickau_classifier = [ [thesisModelFeatures.version_label_to_human_readable(int(i))] for i in london_predictions_by_burchard_vs_zwickau_classifier ],\n",
    "    zwickau_predictions_by_burchard_vs_london_classifier = [ [thesisModelFeatures.version_label_to_human_readable(int(i))] for i in zwickau_predictions_by_burchard_vs_london_classifier ]\n",
    ")"
   ]
  },
  {
   "cell_type": "code",
   "execution_count": 71,
   "id": "2c8edb6c",
   "metadata": {},
   "outputs": [],
   "source": [
    "# burchard_spreadsheet.write_london_predictions_by_burchard_vs_zwickau_classifier()"
   ]
  },
  {
   "cell_type": "code",
   "execution_count": 72,
   "id": "f807450a",
   "metadata": {},
   "outputs": [],
   "source": [
    "# burchard_spreadsheet.write_zwickau_predictions_by_burchard_vs_london_classifier()"
   ]
  },
  {
   "cell_type": "code",
   "execution_count": 94,
   "id": "a158d310",
   "metadata": {},
   "outputs": [],
   "source": [
    "burchard_spreadsheet.write_headers()"
   ]
  },
  {
   "cell_type": "code",
   "execution_count": 93,
   "id": "40c97a23",
   "metadata": {},
   "outputs": [],
   "source": [
    "# burchard_spreadsheet.write_london_left_overs_paragraphs()\n",
    "# burchard_spreadsheet.colorize_london_leftovers_shared_parts()\n",
    "# burchard_spreadsheet.write_london_wrong_predictions()\n",
    "# burchard_spreadsheet.write_london_predictions_by_burchard_vs_zwickau_classifier()"
   ]
  },
  {
   "cell_type": "code",
   "execution_count": 98,
   "id": "dd869927",
   "metadata": {},
   "outputs": [],
   "source": [
    "# burchard_spreadsheet.write_zwickau_left_overs_paragraphs()\n",
    "# burchard_spreadsheet.colorize_zwickau_leftovers_shared_parts()\n",
    "# burchard_spreadsheet.write_zwickau_wrong_predictions()\n",
    "burchard_spreadsheet.write_zwickau_predictions_by_burchard_vs_london_classifier()"
   ]
  },
  {
   "cell_type": "code",
   "execution_count": null,
   "id": "3e23769c",
   "metadata": {},
   "outputs": [],
   "source": [
    "# burchard_spreadsheet.write_london_wrong_predictions()"
   ]
  },
  {
   "cell_type": "code",
   "execution_count": null,
   "id": "cd5b2c62",
   "metadata": {},
   "outputs": [],
   "source": [
    "# burchard_spreadsheet.write_zwickau_wrong_predictions()"
   ]
  },
  {
   "cell_type": "code",
   "execution_count": null,
   "id": "2b9c2a29",
   "metadata": {},
   "outputs": [],
   "source": [
    "# burchard_spreadsheet.write_headers()"
   ]
  },
  {
   "cell_type": "code",
   "execution_count": null,
   "id": "c36feec9",
   "metadata": {},
   "outputs": [],
   "source": [
    "# burchard_spreadsheet.write_london_left_overs_paragraphs()"
   ]
  },
  {
   "cell_type": "markdown",
   "id": "e7e86c49",
   "metadata": {},
   "source": [
    "# Short results for Yoni (after our f2f meeting)"
   ]
  },
  {
   "cell_type": "code",
   "execution_count": null,
   "id": "2d0bc35c",
   "metadata": {},
   "outputs": [],
   "source": [
    "london_zwickau_similarities = thesisCosineSimilarity.CrossVersionSimilarity5Gram(london_corpus, zwickau_corpus)\n",
    "# london_zwickau_similarities.calculate()\n",
    "\n",
    "zwickau_london_similarities = thesisCosineSimilarity.CrossVersionSimilarity5Gram(zwickau _corpus, london_corpus)\n",
    "# zwickau_london_similarities.calculate()"
   ]
  },
  {
   "cell_type": "code",
   "execution_count": null,
   "id": "b2ddf5c7",
   "metadata": {},
   "outputs": [],
   "source": [
    "# london_zwickau_similarities.save()\n",
    "# zwickau_london_similarities.save()\n",
    "london_zwickau_similarities.calculate()\n",
    "zwickau_london_similarities.calculate()"
   ]
  },
  {
   "cell_type": "code",
   "execution_count": null,
   "id": "7e5f1317",
   "metadata": {},
   "outputs": [],
   "source": [
    "t = \"ebron ciuitas de betgara leucis et plus est ebron ciuitas in qua primus homo conditus et sepultus est cum coniuge et maiores patriarce cum coniugibus suis apud eorum sepulcra ibidem fui uerum est quod ebron ila uetus in qua olim habitauerunt gigantes cariatarbe dicta sita in monte quem expugnauit calep filius iepore et in qua regnauit dauid annis penitus est destructa ebron distat ab ierusalem per miliaria\"\n",
    "\n",
    "zwickau_london_similarities.get_best_match_of_text(t)"
   ]
  },
  {
   "cell_type": "code",
   "execution_count": null,
   "id": "7dd92ac1",
   "metadata": {},
   "outputs": [],
   "source": [
    "t2 = \"de betleem leucis contra austrum uia que ducit ebron est betakar uila in alto sita loco cui ad austrum adiacet alia uila rama nomine excelsa ualde in qua in cole quodam sublimi stans cum aliis multis uidi totam terram arabie usque ad montem seir et omnia loca circa mare mortuum et loca latibulorum dauid iordanem insuper usque secim et usque ad montem abarim contra occidentem uero uidi in eodem loco totum litus maris magni ab ioppe usque gasam et bersabee usque ad desertum sur totam insuper terram pilistiim a ramaca sopim per get et acaron et asotum et iamnam et ascalonem cum omni planicie sub monte iuda de rama plusquam leuca ad dexteram prope uiam regiam que ducit ebron est manbre ubi habitabat abraham longo tempore ubi sedens ad hilicem manbre in ostio tabernaculi sui uidit uiros descendentes per uiam quos etiam recepit hospitio ut dicitur genesis ilex ila hodie ostenditur ante oscium tabernaculi abrahe uerum est quod ila uetus aruit sed de radice eius alia nata est de cuius fructu et ligno tuli mecum in bona quantitate et habet folia modico maiora quam lentiscus sed fructum omnino sicut quercus\"\n",
    "\n",
    "london_zwickau_similarities.get_best_match_of_text(t2)"
   ]
  },
  {
   "cell_type": "code",
   "execution_count": null,
   "id": "b08484a7",
   "metadata": {},
   "outputs": [],
   "source": [
    "res = []\n",
    "for m in zwickau_london_similarities.best_matches:\n",
    "    if m.score >= 0.2 and m.score <= 0.4:\n",
    "        res.append(m)"
   ]
  },
  {
   "cell_type": "code",
   "execution_count": null,
   "id": "c53ae829",
   "metadata": {},
   "outputs": [],
   "source": [
    "# res"
   ]
  },
  {
   "cell_type": "code",
   "execution_count": null,
   "id": "2fbdad69",
   "metadata": {},
   "outputs": [],
   "source": [
    "zwickau_corpus.corpus_without_processing[225]"
   ]
  },
  {
   "cell_type": "code",
   "execution_count": null,
   "id": "4fc35c0a",
   "metadata": {},
   "outputs": [],
   "source": [
    "zwickau_corpus.corpus[225]"
   ]
  },
  {
   "cell_type": "code",
   "execution_count": null,
   "id": "66907817",
   "metadata": {},
   "outputs": [],
   "source": [
    "london_corpus.corpus[223]"
   ]
  },
  {
   "cell_type": "code",
   "execution_count": null,
   "id": "42f4106b",
   "metadata": {},
   "outputs": [],
   "source": [
    "london_leftovers.similarity_scores['ueteribus historiis legamus beatus libris positi menpiticos apolonius caucasum scitas indiam bragmanos iartam uanerabantur cerubin futuri aput uenerabilis quociens tociens linteaminibus']"
   ]
  },
  {
   "cell_type": "code",
   "execution_count": null,
   "id": "4bdcb94c",
   "metadata": {},
   "outputs": [],
   "source": [
    "len(london_leftovers.corpus)"
   ]
  },
  {
   "cell_type": "code",
   "execution_count": null,
   "id": "a691abc3",
   "metadata": {},
   "outputs": [],
   "source": []
  }
 ],
 "metadata": {
  "kernelspec": {
   "display_name": "Python 3",
   "language": "python",
   "name": "python3"
  },
  "language_info": {
   "codemirror_mode": {
    "name": "ipython",
    "version": 3
   },
   "file_extension": ".py",
   "mimetype": "text/x-python",
   "name": "python",
   "nbconvert_exporter": "python",
   "pygments_lexer": "ipython3",
   "version": "3.8.8"
  }
 },
 "nbformat": 4,
 "nbformat_minor": 5
}
