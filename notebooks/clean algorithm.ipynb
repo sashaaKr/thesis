{
 "cells": [
  {
   "cell_type": "code",
   "execution_count": 1,
   "id": "bb1c425b",
   "metadata": {},
   "outputs": [
    {
     "data": {
      "text/html": [
       "<style>.container { width:100% !important; }</style>"
      ],
      "text/plain": [
       "<IPython.core.display.HTML object>"
      ]
     },
     "metadata": {},
     "output_type": "display_data"
    }
   ],
   "source": [
    "from IPython.core.display import display, HTML\n",
    "display(HTML(\"<style>.container { width:100% !important; }</style>\"))"
   ]
  },
  {
   "cell_type": "code",
   "execution_count": 62,
   "id": "ae83c8b9",
   "metadata": {},
   "outputs": [
    {
     "data": {
      "text/plain": [
       "<module 'similarities.cosine' from '../src/similarities/cosine.py'>"
      ]
     },
     "execution_count": 62,
     "metadata": {},
     "output_type": "execute_result"
    }
   ],
   "source": [
    "import sys\n",
    "sys.path.append('../src/')\n",
    "\n",
    "import data.reader as dataReader\n",
    "import utils.utils as thesisUtils\n",
    "import similarities.cosine as thesisCosineSimilarity\n",
    "import vocabulary.vocabulary as thesisVocabulary\n",
    "\n",
    "import imp\n",
    "imp.reload(thesisUtils)\n",
    "imp.reload(dataReader)\n",
    "imp.reload(thesisVocabulary)\n",
    "imp.reload(thesisCosineSimilarity)"
   ]
  },
  {
   "cell_type": "code",
   "execution_count": 63,
   "id": "b7045234",
   "metadata": {},
   "outputs": [],
   "source": [
    "SIMILARITY_SCORE_UPPER_THRESHOLD = 0.8\n",
    "\n",
    "N_GRAM_RANGE_FOR_SHARED_VOCABULARY_FROM = 36\n",
    "N_GRAM_RANGE_FOR_SHARED_VOCABULARY_TO = 29"
   ]
  },
  {
   "cell_type": "code",
   "execution_count": 64,
   "id": "b9518304",
   "metadata": {},
   "outputs": [],
   "source": [
    "london_corpus = dataReader.CorpusByNewLine.london()\n",
    "zwickau_corpus = dataReader.CorpusByNewLine.zwickau()"
   ]
  },
  {
   "cell_type": "code",
   "execution_count": null,
   "id": "e90d7d7f",
   "metadata": {},
   "outputs": [],
   "source": [
    "london_zwickau_similarities = thesisCosineSimilarity.CrossVersionSimilarity5Gram(london_corpus, zwickau_corpus)\n",
    "london_zwickau_similarities.calculate()\n",
    "london_zwickau_similarities.text_alignment_df()"
   ]
  },
  {
   "cell_type": "code",
   "execution_count": 45,
   "id": "7843b63a",
   "metadata": {},
   "outputs": [
    {
     "data": {
      "text/html": [
       "<div>\n",
       "<style scoped>\n",
       "    .dataframe tbody tr th:only-of-type {\n",
       "        vertical-align: middle;\n",
       "    }\n",
       "\n",
       "    .dataframe tbody tr th {\n",
       "        vertical-align: top;\n",
       "    }\n",
       "\n",
       "    .dataframe thead th {\n",
       "        text-align: right;\n",
       "    }\n",
       "</style>\n",
       "<table border=\"1\" class=\"dataframe\">\n",
       "  <thead>\n",
       "    <tr style=\"text-align: right;\">\n",
       "      <th></th>\n",
       "      <th>zwickau</th>\n",
       "      <th>london</th>\n",
       "      <th>score</th>\n",
       "    </tr>\n",
       "  </thead>\n",
       "  <tbody>\n",
       "    <tr>\n",
       "      <th>0</th>\n",
       "      <td>incipit descriptio terre sancte</td>\n",
       "      <td>hucusque de situ terrarum terre sancte adiacen...</td>\n",
       "      <td>0.170487</td>\n",
       "    </tr>\n",
       "    <tr>\n",
       "      <th>1</th>\n",
       "      <td>cum sicut dicit ieronimus quosdam inueniamus l...</td>\n",
       "      <td>cum in ueteribus historiis legamus sicut dicit...</td>\n",
       "      <td>0.811162</td>\n",
       "    </tr>\n",
       "    <tr>\n",
       "      <th>2</th>\n",
       "      <td>quis cristianus hiis uisis non festinabit ueni...</td>\n",
       "      <td>quis cristianus hiis uisis non festinet uenire...</td>\n",
       "      <td>0.895520</td>\n",
       "    </tr>\n",
       "    <tr>\n",
       "      <th>3</th>\n",
       "      <td>redeat post in ierusalem uideat et audiat in t...</td>\n",
       "      <td>redeat post hec in ierusalem ut uideat et audi...</td>\n",
       "      <td>0.888805</td>\n",
       "    </tr>\n",
       "    <tr>\n",
       "      <th>4</th>\n",
       "      <td>sunt preterea quedam que in locis ilis deuotio...</td>\n",
       "      <td>sunt preterea quedam que in locis ilis deuotio...</td>\n",
       "      <td>0.812920</td>\n",
       "    </tr>\n",
       "    <tr>\n",
       "      <th>...</th>\n",
       "      <td>...</td>\n",
       "      <td>...</td>\n",
       "      <td>...</td>\n",
       "    </tr>\n",
       "    <tr>\n",
       "      <th>316</th>\n",
       "      <td>de strongoli igitur mouentes auta et sperantes...</td>\n",
       "      <td>de strongoli igitur mouentes auta et sperantes...</td>\n",
       "      <td>0.917646</td>\n",
       "    </tr>\n",
       "    <tr>\n",
       "      <th>317</th>\n",
       "      <td>egressi itaque de galea uenimus baias de quo l...</td>\n",
       "      <td>egressi itaque de galea uenimus boias de quo l...</td>\n",
       "      <td>0.890851</td>\n",
       "    </tr>\n",
       "    <tr>\n",
       "      <th>318</th>\n",
       "      <td>in neapoli in castro saluatoris uidi ouum uirg...</td>\n",
       "      <td>in neapoli in castro saluatoris uidi ouum uirg...</td>\n",
       "      <td>0.856911</td>\n",
       "    </tr>\n",
       "    <tr>\n",
       "      <th>319</th>\n",
       "      <td>de roma per arecium et florentiam ueni bonnoni...</td>\n",
       "      <td>de roma per arecium et florentiam ueni bononia...</td>\n",
       "      <td>0.841701</td>\n",
       "    </tr>\n",
       "    <tr>\n",
       "      <th>320</th>\n",
       "      <td>est finis libri de statu et dispositione terre...</td>\n",
       "      <td>hucusque de situ terrarum terre sancte adiacen...</td>\n",
       "      <td>0.084277</td>\n",
       "    </tr>\n",
       "  </tbody>\n",
       "</table>\n",
       "<p>321 rows × 3 columns</p>\n",
       "</div>"
      ],
      "text/plain": [
       "                                               zwickau  \\\n",
       "0                      incipit descriptio terre sancte   \n",
       "1    cum sicut dicit ieronimus quosdam inueniamus l...   \n",
       "2    quis cristianus hiis uisis non festinabit ueni...   \n",
       "3    redeat post in ierusalem uideat et audiat in t...   \n",
       "4    sunt preterea quedam que in locis ilis deuotio...   \n",
       "..                                                 ...   \n",
       "316  de strongoli igitur mouentes auta et sperantes...   \n",
       "317  egressi itaque de galea uenimus baias de quo l...   \n",
       "318  in neapoli in castro saluatoris uidi ouum uirg...   \n",
       "319  de roma per arecium et florentiam ueni bonnoni...   \n",
       "320  est finis libri de statu et dispositione terre...   \n",
       "\n",
       "                                                london     score  \n",
       "0    hucusque de situ terrarum terre sancte adiacen...  0.170487  \n",
       "1    cum in ueteribus historiis legamus sicut dicit...  0.811162  \n",
       "2    quis cristianus hiis uisis non festinet uenire...  0.895520  \n",
       "3    redeat post hec in ierusalem ut uideat et audi...  0.888805  \n",
       "4    sunt preterea quedam que in locis ilis deuotio...  0.812920  \n",
       "..                                                 ...       ...  \n",
       "316  de strongoli igitur mouentes auta et sperantes...  0.917646  \n",
       "317  egressi itaque de galea uenimus boias de quo l...  0.890851  \n",
       "318  in neapoli in castro saluatoris uidi ouum uirg...  0.856911  \n",
       "319  de roma per arecium et florentiam ueni bononia...  0.841701  \n",
       "320  hucusque de situ terrarum terre sancte adiacen...  0.084277  \n",
       "\n",
       "[321 rows x 3 columns]"
      ]
     },
     "execution_count": 45,
     "metadata": {},
     "output_type": "execute_result"
    }
   ],
   "source": [
    "zwickau_london_similarities = thesisCosineSimilarity.CrossVersionSimilarity5Gram(zwickau_corpus, london_corpus)\n",
    "zwickau_london_similarities.calculate()\n",
    "zwickau_london_similarities.text_alignment_df()"
   ]
  },
  {
   "cell_type": "code",
   "execution_count": null,
   "id": "0326f852",
   "metadata": {},
   "outputs": [],
   "source": [
    "print(len(london_zwickau_similarities.get_matches_higher_than(SIMILARITY_SCORE_UPPER_THRESHOLD)))\n",
    "print(len(zwickau_london_similarities.get_matches_higher_than(SIMILARITY_SCORE_UPPER_THRESHOLD)))"
   ]
  },
  {
   "cell_type": "code",
   "execution_count": 58,
   "id": "1e1e7209",
   "metadata": {},
   "outputs": [
    {
     "data": {
      "text/plain": [
       "[1 -> 1: 0.8131045786315674,\n",
       " 2 -> 2: 0.8958853131371243,\n",
       " 3 -> 3: 0.8903220617363937,\n",
       " 4 -> 4: 0.8165486916831831,\n",
       " 5 -> 5: 0.8642997597862219,\n",
       " 8 -> 8: 0.8293117327749867,\n",
       " 40 -> 40: 0.8063132048187789,\n",
       " 48 -> 51: 0.818124147457859,\n",
       " 117 -> 122: 0.817103347087383,\n",
       " 119 -> 124: 0.8077434386502398,\n",
       " 166 -> 176: 0.844067389629243,\n",
       " 169 -> 179: 0.8098589830818179,\n",
       " 185 -> 194: 0.8002479175280295,\n",
       " 192 -> 169: 0.8654566572032558,\n",
       " 193 -> 170: 0.8623420097819804,\n",
       " 237 -> 233: 0.8038463459700745,\n",
       " 238 -> 234: 0.8884756958325792,\n",
       " 239 -> 235: 0.8064803973318556,\n",
       " 241 -> 237: 0.8170656962023194,\n",
       " 243 -> 239: 0.8568922682825689,\n",
       " 244 -> 240: 0.9605102439657496,\n",
       " 245 -> 241: 0.9567323366506958,\n",
       " 246 -> 242: 0.9837316304424514,\n",
       " 247 -> 243: 0.8650658420886953,\n",
       " 248 -> 244: 0.9262722996579451,\n",
       " 249 -> 245: 0.9669399419309315,\n",
       " 251 -> 247: 0.9710170154299992,\n",
       " 252 -> 248: 0.9743336173709812,\n",
       " 253 -> 249: 0.8862986006180578,\n",
       " 254 -> 250: 0.84493799069109,\n",
       " 260 -> 254: 0.9006783854967839,\n",
       " 261 -> 268: 0.8684075138095967,\n",
       " 262 -> 269: 0.9093050072404407,\n",
       " 263 -> 271: 0.8189598064191109,\n",
       " 264 -> 272: 0.9202598768382833,\n",
       " 265 -> 273: 0.9287847773722734,\n",
       " 266 -> 274: 0.9100130980805522,\n",
       " 268 -> 277: 0.8601378182664121,\n",
       " 270 -> 278: 0.831166130323505,\n",
       " 271 -> 279: 0.8826171764185119,\n",
       " 272 -> 280: 0.9211138953067347,\n",
       " 273 -> 281: 0.9258913684630723,\n",
       " 274 -> 282: 0.9183659354810014,\n",
       " 275 -> 283: 0.908666685668084,\n",
       " 276 -> 284: 0.9453828265739064,\n",
       " 277 -> 285: 0.8373890754910205,\n",
       " 278 -> 286: 0.9489855687084727,\n",
       " 279 -> 287: 0.92403674173157,\n",
       " 280 -> 288: 0.9132060870394407,\n",
       " 281 -> 289: 0.876367432024104,\n",
       " 282 -> 290: 0.9107509259947579,\n",
       " 283 -> 291: 0.8916338107395679,\n",
       " 284 -> 292: 0.8469575002169814,\n",
       " 285 -> 293: 0.9733307911727858,\n",
       " 286 -> 294: 0.8872179944680769,\n",
       " 287 -> 295: 0.9053309307788423,\n",
       " 288 -> 296: 0.9252105286315029,\n",
       " 289 -> 297: 0.904500324714848,\n",
       " 290 -> 298: 0.9460408649020573,\n",
       " 291 -> 299: 0.9610487677089798,\n",
       " 292 -> 300: 0.8972756729672818,\n",
       " 293 -> 301: 0.889461415807794,\n",
       " 294 -> 302: 0.9261654123223791,\n",
       " 295 -> 303: 0.905036864165333,\n",
       " 296 -> 304: 0.8326765641625814,\n",
       " 297 -> 305: 0.8564199997683082,\n",
       " 298 -> 306: 0.9094018034331425,\n",
       " 299 -> 307: 0.9206833274200498,\n",
       " 300 -> 308: 0.9013770606439242,\n",
       " 301 -> 309: 0.8676996544788206,\n",
       " 302 -> 310: 0.8400209090113689,\n",
       " 304 -> 312: 0.9512013054976816,\n",
       " 305 -> 313: 0.9407671918772083,\n",
       " 306 -> 314: 0.8657707580105792,\n",
       " 307 -> 315: 0.8731194595611045,\n",
       " 308 -> 316: 0.9173823097578908,\n",
       " 309 -> 317: 0.8926370347681678,\n",
       " 310 -> 318: 0.8582282180046971,\n",
       " 311 -> 319: 0.845601672452558]"
      ]
     },
     "execution_count": 58,
     "metadata": {},
     "output_type": "execute_result"
    }
   ],
   "source": [
    "london_zwickau_similarities.get_matches_higher_than(SIMILARITY_SCORE_UPPER_THRESHOLD)"
   ]
  },
  {
   "cell_type": "code",
   "execution_count": 31,
   "id": "c92350c0",
   "metadata": {},
   "outputs": [],
   "source": [
    "london_zwickau_p_to_remove_by_shared_word = []\n",
    "zwickau_london_p_to_remove_by_shared_word = []\n",
    "\n",
    "for n_gram_range in range(N_GRAM_RANGE_FOR_SHARED_VOCABULARY_FROM, N_GRAM_RANGE_FOR_SHARED_VOCABULARY_TO, -1):\n",
    "    shared_words = thesisVocabulary.get_2_version_shared_words(\n",
    "        london_corpus.get_n_grams_words_dictionary(n_gram_range, n_gram_range), london_corpus.corpus_name,\n",
    "        zwickau_corpus.get_n_grams_words_dictionary(n_gram_range, n_gram_range), zwickau_corpus.corpus_name,\n",
    "    )\n",
    "    for shared_word in shared_words:\n",
    "        london_indexes_for_shared_word = thesisUtils.find_text_p_indexed_in_corpus(london_corpus.corpus, shared_word)\n",
    "        zwickau_indexes_for_shared_word = thesisUtils.find_text_p_indexed_in_corpus(zwickau_corpus.corpus, shared_word)\n",
    "\n",
    "        london_zwickau_p_to_remove_by_shared_word = london_zwickau_p_to_remove_by_shared_word + london_indexes_for_shared_word\n",
    "        zwickau_london_p_to_remove_by_shared_word = zwickau_london_p_to_remove_by_shared_word + zwickau_indexes_for_shared_word"
   ]
  },
  {
   "cell_type": "code",
   "execution_count": 54,
   "id": "326bf344",
   "metadata": {},
   "outputs": [
    {
     "data": {
      "text/plain": [
       "{5,\n",
       " 226,\n",
       " 240,\n",
       " 241,\n",
       " 247,\n",
       " 254,\n",
       " 271,\n",
       " 272,\n",
       " 273,\n",
       " 279,\n",
       " 280,\n",
       " 281,\n",
       " 283,\n",
       " 286,\n",
       " 288,\n",
       " 293,\n",
       " 296,\n",
       " 298,\n",
       " 299,\n",
       " 300,\n",
       " 302,\n",
       " 307,\n",
       " 310,\n",
       " 312}"
      ]
     },
     "execution_count": 54,
     "metadata": {},
     "output_type": "execute_result"
    }
   ],
   "source": [
    "set(zwickau_london_p_to_remove_by_shared_word)"
   ]
  },
  {
   "cell_type": "code",
   "execution_count": 55,
   "id": "520fcbf7",
   "metadata": {},
   "outputs": [
    {
     "data": {
      "text/plain": [
       "{5,\n",
       " 232,\n",
       " 244,\n",
       " 245,\n",
       " 251,\n",
       " 260,\n",
       " 263,\n",
       " 264,\n",
       " 265,\n",
       " 271,\n",
       " 272,\n",
       " 273,\n",
       " 275,\n",
       " 278,\n",
       " 280,\n",
       " 285,\n",
       " 288,\n",
       " 290,\n",
       " 291,\n",
       " 292,\n",
       " 294,\n",
       " 299,\n",
       " 302,\n",
       " 304}"
      ]
     },
     "execution_count": 55,
     "metadata": {},
     "output_type": "execute_result"
    }
   ],
   "source": [
    "set(london_zwickau_p_to_remove_by_shared_word)"
   ]
  },
  {
   "cell_type": "code",
   "execution_count": 56,
   "id": "a6524fd9",
   "metadata": {},
   "outputs": [
    {
     "name": "stdout",
     "output_type": "stream",
     "text": [
      "{1, 2, 3, 4, 5, 260, 261, 8, 262, 263, 264, 265, 266, 268, 270, 271, 272, 273, 274, 275, 276, 277, 278, 279, 280, 281, 282, 283, 284, 285, 286, 287, 288, 289, 290, 291, 292, 293, 294, 40, 295, 296, 297, 298, 299, 300, 301, 48, 302, 304, 305, 306, 307, 308, 309, 310, 311, 117, 119, 166, 169, 185, 192, 193, 232, 237, 238, 239, 241, 243, 244, 245, 246, 247, 248, 249, 251, 252, 253, 254}\n"
     ]
    }
   ],
   "source": [
    "print(set([ i.original_index for i in london_zwickau_similarities.get_matches_higher_than(SIMILARITY_SCORE_UPPER_THRESHOLD) ]).union(set(london_zwickau_p_to_remove_by_shared_word)))"
   ]
  },
  {
   "cell_type": "code",
   "execution_count": 52,
   "id": "537a7db3",
   "metadata": {},
   "outputs": [
    {
     "name": "stdout",
     "output_type": "stream",
     "text": [
      "{1, 2, 3, 4, 5, 8, 268, 269, 271, 272, 273, 274, 277, 278, 279, 280, 281, 282, 283, 284, 285, 286, 287, 288, 289, 290, 291, 292, 293, 294, 295, 40, 296, 297, 298, 299, 300, 301, 302, 303, 304, 305, 51, 306, 307, 308, 309, 310, 312, 313, 314, 315, 316, 317, 318, 319, 122, 124, 169, 170, 176, 179, 226, 233, 234, 235, 237, 239, 240, 241, 242, 243, 244, 245, 247, 248, 249, 250, 254}\n"
     ]
    }
   ],
   "source": [
    "print(set([ i.original_index for i in zwickau_london_similarities.get_matches_higher_than(SIMILARITY_SCORE_UPPER_THRESHOLD) ]).union(set(zwickau_london_p_to_remove_by_shared_word)))"
   ]
  },
  {
   "cell_type": "code",
   "execution_count": null,
   "id": "0938df66",
   "metadata": {},
   "outputs": [],
   "source": []
  }
 ],
 "metadata": {
  "kernelspec": {
   "display_name": "Python 3",
   "language": "python",
   "name": "python3"
  },
  "language_info": {
   "codemirror_mode": {
    "name": "ipython",
    "version": 3
   },
   "file_extension": ".py",
   "mimetype": "text/x-python",
   "name": "python",
   "nbconvert_exporter": "python",
   "pygments_lexer": "ipython3",
   "version": "3.8.8"
  }
 },
 "nbformat": 4,
 "nbformat_minor": 5
}
