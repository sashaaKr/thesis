{
 "cells": [
  {
   "cell_type": "code",
   "execution_count": 1,
   "id": "8d19669f",
   "metadata": {},
   "outputs": [
    {
     "data": {
      "text/html": [
       "<style>.container { width:100% !important; }</style>"
      ],
      "text/plain": [
       "<IPython.core.display.HTML object>"
      ]
     },
     "metadata": {},
     "output_type": "display_data"
    }
   ],
   "source": [
    "from IPython.core.display import display, HTML\n",
    "display(HTML(\"<style>.container { width:100% !important; }</style>\"))"
   ]
  },
  {
   "cell_type": "code",
   "execution_count": 2,
   "id": "7b20498a",
   "metadata": {},
   "outputs": [
    {
     "name": "stdout",
     "output_type": "stream",
     "text": [
      "Note: you may need to restart the kernel to use updated packages.\n"
     ]
    }
   ],
   "source": [
    "%pip install -q decorator==5.0.9\n",
    "!pip install -q ipywidgets\n",
    "\n",
    "import csv\n",
    "import math\n",
    "import re\n",
    "import imp\n",
    "import json\n",
    "import numpy as np\n",
    "import pandas as pd\n",
    "from sklearn.feature_extraction.text import TfidfVectorizer, CountVectorizer\n",
    "from sklearn.metrics.pairwise import cosine_similarity\n",
    "from sklearn.preprocessing import normalize\n",
    "import matplotlib.pyplot as plt\n",
    "import networkx as nx\n",
    "import seaborn as sns\n",
    "from collections import Counter\n",
    "\n",
    "import ipywidgets as widgets\n",
    "from ipywidgets import interact, interact_manual"
   ]
  },
  {
   "cell_type": "code",
   "execution_count": 3,
   "id": "51053aed",
   "metadata": {},
   "outputs": [
    {
     "name": "stdout",
     "output_type": "stream",
     "text": [
      "Note: you may need to restart the kernel to use updated packages.\n",
      "Note: you may need to restart the kernel to use updated packages.\n",
      "Note: you may need to restart the kernel to use updated packages.\n"
     ]
    }
   ],
   "source": [
    "%pip install -q cltk==1.0.22\n",
    "%pip install -q strsim\n",
    "%pip install -q leven"
   ]
  },
  {
   "cell_type": "code",
   "execution_count": 14,
   "id": "96ea78bf",
   "metadata": {},
   "outputs": [
    {
     "data": {
      "text/plain": [
       "<module 'similarities.levenshtein' from '../src/similarities/levenshtein.py'>"
      ]
     },
     "execution_count": 14,
     "metadata": {},
     "output_type": "execute_result"
    }
   ],
   "source": [
    "# importing local modules\n",
    "\n",
    "import sys\n",
    "sys.path.append('../src/')\n",
    "\n",
    "import text_cleanup.text_cleanup as thesisCleanUp\n",
    "import preprocessing.text_preprocessing as thesisTextPreprocessing\n",
    "import data.reader as thesisDataReader\n",
    "import utils.utils as thesisUtils\n",
    "import features.tf_idf.n_gram as thesisTfIdfNgramFeatures\n",
    "import features.count_vectorizer.n_gram as thesisCountVectorizerNgramFeatures\n",
    "import similarities.cosine as thesisCosineSimilarities\n",
    "import similarities.levenshtein as thesisLevenshteinSimilarities\n",
    "import vocabulary.vocabulary as thesisVocabulary\n",
    "import features.lexical as thesisLexicalFeatures\n",
    "import similarities.cosine as thesisCosineSimilarity\n",
    "import text_cleanup.text_cleanup as thesisTextCleanUp\n",
    "import p_aligment.p_aligment as thesisPAligment\n",
    "\n",
    "imp.reload(thesisLexicalFeatures)\n",
    "imp.reload(thesisCosineSimilarity)\n",
    "imp.reload(thesisCleanUp)\n",
    "imp.reload(thesisTextPreprocessing)\n",
    "imp.reload(thesisDataReader)\n",
    "imp.reload(thesisUtils)\n",
    "imp.reload(thesisTfIdfNgramFeatures)\n",
    "imp.reload(thesisVocabulary)\n",
    "imp.reload(thesisCosineSimilarities)\n",
    "imp.reload(thesisTextCleanUp)\n",
    "imp.reload(thesisCountVectorizerNgramFeatures)\n",
    "imp.reload(thesisPAligment)\n",
    "imp.reload(thesisLevenshteinSimilarities)"
   ]
  },
  {
   "cell_type": "markdown",
   "id": "34eb7360",
   "metadata": {},
   "source": [
    "# Possible errors to csv"
   ]
  },
  {
   "cell_type": "code",
   "execution_count": 5,
   "id": "fc626414",
   "metadata": {},
   "outputs": [],
   "source": [
    "possible_mistakes_london_to_london_distance_1 = thesisLevenshteinSimilarities.create_version_possible_errors_mapping(\n",
    "    thesisDataReader.get_london_by_new_line(),\n",
    "    thesisDataReader.get_london_by_new_line(),\n",
    "    error_threshold = 1\n",
    ")"
   ]
  },
  {
   "cell_type": "code",
   "execution_count": 6,
   "id": "dc50be2f",
   "metadata": {},
   "outputs": [],
   "source": [
    "possible_mistakes_zwickau_to_zwickau_distance_1 = thesisLevenshteinSimilarities.create_version_possible_errors_mapping(\n",
    "    thesisDataReader.get_zwickau_by_new_line(),\n",
    "    thesisDataReader.get_zwickau_by_new_line(),\n",
    "    error_threshold = 1\n",
    ")"
   ]
  },
  {
   "cell_type": "code",
   "execution_count": 7,
   "id": "baf5de40",
   "metadata": {},
   "outputs": [],
   "source": [
    "possible_mistakes_breslau_to_breslau_distance_1 = thesisLevenshteinSimilarities.create_version_possible_errors_mapping(\n",
    "    thesisDataReader.get_breslau_by_new_line(),\n",
    "    thesisDataReader.get_breslau_by_new_line(),\n",
    "    error_threshold = 1\n",
    ")"
   ]
  },
  {
   "cell_type": "code",
   "execution_count": 8,
   "id": "d4bef762",
   "metadata": {},
   "outputs": [],
   "source": [
    "def create_variants_csv(fileName, variants):\n",
    "    with open(f'../computed_data/words_variants/distance_1/{fileName}.csv','w') as out:\n",
    "        csv_out=csv.writer(out)\n",
    "        csv_out.writerow(['original_word','variants', 'variants_count'])\n",
    "        for i in [(w, variants[w]) for i, w in enumerate(variants) if len(variants[w]) > 0]:\n",
    "            csv_out.writerow((i[0], i[1], len(i[1])))\n",
    "    \n",
    "\n",
    "for p in [\n",
    "    ('london_to_london', possible_mistakes_london_to_london_distance_1),\n",
    "    ('zwickau_to_zwickau', possible_mistakes_zwickau_to_zwickau_distance_1),\n",
    "    ('breslau_to_breslau', possible_mistakes_breslau_to_breslau_distance_1)\n",
    "]:\n",
    "    create_variants_csv(p[0], p[1])\n",
    "        \n"
   ]
  },
  {
   "cell_type": "code",
   "execution_count": 9,
   "id": "a501c2b8",
   "metadata": {},
   "outputs": [],
   "source": [
    "variants_that_appears_in_all_version = []\n",
    "\n",
    "for i, n in enumerate(possible_mistakes_london_to_london_distance_1):\n",
    "    if n in possible_mistakes_zwickau_to_zwickau_distance_1 and n in possible_mistakes_breslau_to_breslau_distance_1:\n",
    "        variants_that_appears_in_all_version.append(n)"
   ]
  },
  {
   "cell_type": "code",
   "execution_count": 10,
   "id": "10d53425",
   "metadata": {},
   "outputs": [
    {
     "data": {
      "text/plain": [
       "1991"
      ]
     },
     "execution_count": 10,
     "metadata": {},
     "output_type": "execute_result"
    }
   ],
   "source": [
    "len(variants_that_appears_in_all_version)"
   ]
  },
  {
   "cell_type": "markdown",
   "id": "ae8b5db2",
   "metadata": {},
   "source": [
    "# Similarity score for chop"
   ]
  },
  {
   "cell_type": "code",
   "execution_count": 15,
   "id": "595a1c84",
   "metadata": {},
   "outputs": [],
   "source": [
    "burchard_based_on_strongly_similar_london_base_corpus = thesisDataReader.get_burchard_candidate_version_based_on_strongly_similar_london_base()\n",
    "burchard_based_on_strongly_similar_zwickau_base_corpus = thesisDataReader.get_burchard_candidate_version_based_on_strongly_similar_zwickau_base()"
   ]
  },
  {
   "cell_type": "code",
   "execution_count": 16,
   "id": "17c7f84e",
   "metadata": {},
   "outputs": [
    {
     "data": {
      "text/plain": [
       "218"
      ]
     },
     "execution_count": 16,
     "metadata": {},
     "output_type": "execute_result"
    }
   ],
   "source": [
    "len(burchard_based_on_strongly_similar_london_base_corpus)"
   ]
  },
  {
   "cell_type": "code",
   "execution_count": 17,
   "id": "8fca8df4",
   "metadata": {},
   "outputs": [],
   "source": [
    "possible_mistakes_burchard_based_on_london_distance_1 = thesisLevenshteinSimilarities.create_version_possible_errors_mapping(\n",
    "    burchard_based_on_strongly_similar_london_base_corpus,\n",
    "    burchard_based_on_strongly_similar_london_base_corpus,\n",
    "    error_threshold = 1\n",
    ")"
   ]
  },
  {
   "cell_type": "code",
   "execution_count": 18,
   "id": "dd271557",
   "metadata": {},
   "outputs": [],
   "source": [
    "possible_mistakes_burchard_based_on_zwickau_distance_1 = thesisLevenshteinSimilarities.create_version_possible_errors_mapping(\n",
    "    burchard_based_on_strongly_similar_zwickau_base_corpus,\n",
    "    burchard_based_on_strongly_similar_zwickau_base_corpus,\n",
    "    error_threshold = 1\n",
    ")"
   ]
  },
  {
   "cell_type": "code",
   "execution_count": 19,
   "id": "d719e343",
   "metadata": {},
   "outputs": [],
   "source": [
    "london_zwickau_breslau_strongly_similar_df = pd.read_csv('../computed_data/p_aligment/by_new_line/strongly_similar/london_zwickau_breslau.csv').drop(['Unnamed: 0'], axis=1)\n",
    "zwickau_london_breslau_strongly_similar_df = pd.read_csv('../computed_data/p_aligment/by_new_line/strongly_similar/zwickau_london_breslau.csv').drop(['Unnamed: 0'], axis=1)"
   ]
  },
  {
   "cell_type": "code",
   "execution_count": 20,
   "id": "52fefdcb",
   "metadata": {},
   "outputs": [],
   "source": [
    "result = []\n",
    "\n",
    "for index, row in london_zwickau_breslau_strongly_similar_df.iterrows():\n",
    "    london_text = row['london text']\n",
    "    zwickau_text = row['zwickau text']\n",
    "    \n",
    "    london_without_shared_words = london_text\n",
    "    zwickau_withoud_shared_words = zwickau_text\n",
    "    \n",
    "    for word in london_text.split():\n",
    "        match_in_london = re.search(r'\\b' + word + r'\\b', london_text)\n",
    "        match_in_zwickau = re.search(r'\\b' + word + r'\\b', zwickau_text)\n",
    "        if match_in_london and match_in_zwickau:\n",
    "            london_without_shared_words = re.sub(r'\\b' + word + r'\\b', '', london_without_shared_words).replace('  ', ' ').strip()\n",
    "            zwickau_withoud_shared_words = re.sub(r'\\b' + word + r'\\b', '', zwickau_withoud_shared_words).replace('  ', ' ').strip()\n",
    "      \n",
    "    result.append([london_without_shared_words, zwickau_withoud_shared_words])"
   ]
  },
  {
   "cell_type": "code",
   "execution_count": 21,
   "id": "ef4a434a",
   "metadata": {},
   "outputs": [],
   "source": [
    "london_zwickau_breslau_strongly_similar_with_chop_df = pd.DataFrame(data=result, columns=['london chop', 'zwickau chop']).join(london_zwickau_breslau_strongly_similar_df)"
   ]
  },
  {
   "cell_type": "code",
   "execution_count": 22,
   "id": "19771156",
   "metadata": {},
   "outputs": [
    {
     "data": {
      "text/html": [
       "<div>\n",
       "<style scoped>\n",
       "    .dataframe tbody tr th:only-of-type {\n",
       "        vertical-align: middle;\n",
       "    }\n",
       "\n",
       "    .dataframe tbody tr th {\n",
       "        vertical-align: top;\n",
       "    }\n",
       "\n",
       "    .dataframe thead th {\n",
       "        text-align: right;\n",
       "    }\n",
       "</style>\n",
       "<table border=\"1\" class=\"dataframe\">\n",
       "  <thead>\n",
       "    <tr style=\"text-align: right;\">\n",
       "      <th></th>\n",
       "      <th>london chop</th>\n",
       "      <th>zwickau chop</th>\n",
       "      <th>london text</th>\n",
       "      <th>zwickau text</th>\n",
       "      <th>zwickau p#</th>\n",
       "      <th>zwickau score</th>\n",
       "      <th>breslau text</th>\n",
       "      <th>breslau p#</th>\n",
       "      <th>breslau score</th>\n",
       "    </tr>\n",
       "  </thead>\n",
       "  <tbody>\n",
       "    <tr>\n",
       "      <th>0</th>\n",
       "      <td>ueteribus historiis legamus beatus libris posi...</td>\n",
       "      <td>inueniamus scripturis mempiticos appolonius ca...</td>\n",
       "      <td>cum in ueteribus historiis legamus sicut dicit...</td>\n",
       "      <td>cum sicut dicit ieronimus quosdam inueniamus l...</td>\n",
       "      <td>0</td>\n",
       "      <td>0.812947</td>\n",
       "      <td>uenerabantur quondam iudei sancta sanctorum qu...</td>\n",
       "      <td>1</td>\n",
       "      <td>0.228345</td>\n",
       "    </tr>\n",
       "    <tr>\n",
       "      <th>1</th>\n",
       "      <td>festinet pacem hominibus maiestate</td>\n",
       "      <td>festinabit magestate</td>\n",
       "      <td>quis cristianus hiis uisis non festinet uenire...</td>\n",
       "      <td>quis cristianus hiis uisis non festinabit ueni...</td>\n",
       "      <td>1</td>\n",
       "      <td>0.896212</td>\n",
       "      <td>uenerabantur quondam iudei sancta sanctorum qu...</td>\n",
       "      <td>1</td>\n",
       "      <td>0.326126</td>\n",
       "    </tr>\n",
       "    <tr>\n",
       "      <th>2</th>\n",
       "      <td>defluentem iudicatum porta ciuitatis succenden...</td>\n",
       "      <td>fluentem iudicari succedentem plena extat exti...</td>\n",
       "      <td>redeat post hec in ierusalem ut uideat et audi...</td>\n",
       "      <td>redeat post in ierusalem uideat et audiat in t...</td>\n",
       "      <td>2</td>\n",
       "      <td>0.887962</td>\n",
       "      <td>uenerabantur quondam iudei sancta sanctorum qu...</td>\n",
       "      <td>1</td>\n",
       "      <td>0.486159</td>\n",
       "    </tr>\n",
       "    <tr>\n",
       "      <th>3</th>\n",
       "      <td>augent quot quot media nabenia maromea nestori...</td>\n",
       "      <td>augeant quod medea iabenia maronite nestoriari...</td>\n",
       "      <td>sunt preterea quedam que in locis ilis deuotio...</td>\n",
       "      <td>sunt preterea quedam que in locis ilis deuotio...</td>\n",
       "      <td>3</td>\n",
       "      <td>0.815394</td>\n",
       "      <td>sunt preterea que deuotionem excitant ampliore...</td>\n",
       "      <td>2</td>\n",
       "      <td>0.358153</td>\n",
       "    </tr>\n",
       "    <tr>\n",
       "      <th>4</th>\n",
       "      <td>domumque cognationem dereliquentem deserentem ...</td>\n",
       "      <td>domum congnationem suam derelinquentem deferen...</td>\n",
       "      <td>eia domine deus uideo secundum ueteres histori...</td>\n",
       "      <td>eia domine deus uideo secundum ueteres histori...</td>\n",
       "      <td>4</td>\n",
       "      <td>0.864038</td>\n",
       "      <td>sunt preterea que deuotionem excitant ampliore...</td>\n",
       "      <td>2</td>\n",
       "      <td>0.397394</td>\n",
       "    </tr>\n",
       "    <tr>\n",
       "      <th>...</th>\n",
       "      <td>...</td>\n",
       "      <td>...</td>\n",
       "      <td>...</td>\n",
       "      <td>...</td>\n",
       "      <td>...</td>\n",
       "      <td>...</td>\n",
       "      <td>...</td>\n",
       "      <td>...</td>\n",
       "      <td>...</td>\n",
       "    </tr>\n",
       "    <tr>\n",
       "      <th>213</th>\n",
       "      <td>strongoli duabus eo episcopi talanario ienuens...</td>\n",
       "      <td>strangoli sumitatem montis ipso tasanaxio ianu...</td>\n",
       "      <td>de lippari nauigantes per miliaria uenimus in ...</td>\n",
       "      <td>de lippari nauigantes per miliaria uenimus in ...</td>\n",
       "      <td>212</td>\n",
       "      <td>0.871923</td>\n",
       "      <td>sunt preterea que deuotionem excitant ampliore...</td>\n",
       "      <td>2</td>\n",
       "      <td>0.120797</td>\n",
       "    </tr>\n",
       "    <tr>\n",
       "      <th>214</th>\n",
       "      <td>paranoria ut alpiam</td>\n",
       "      <td>peranona dicta scariotis malpiam apostolorum</td>\n",
       "      <td>de strongoli igitur mouentes auta et sperantes...</td>\n",
       "      <td>de strongoli igitur mouentes auta et sperantes...</td>\n",
       "      <td>213</td>\n",
       "      <td>0.917238</td>\n",
       "      <td>procedendo igitur de accon per primam diuisioe...</td>\n",
       "      <td>24</td>\n",
       "      <td>0.078676</td>\n",
       "    </tr>\n",
       "    <tr>\n",
       "      <th>215</th>\n",
       "      <td>boias secundum sicut maius fornicem triumpalem...</td>\n",
       "      <td>baias ile circundatur infinitis eorumdem ortus...</td>\n",
       "      <td>egressi itaque de galea uenimus boias de quo l...</td>\n",
       "      <td>egressi itaque de galea uenimus baias de quo l...</td>\n",
       "      <td>214</td>\n",
       "      <td>0.891483</td>\n",
       "      <td>regia erat hec ciuitas in monte pulcra nimis u...</td>\n",
       "      <td>40</td>\n",
       "      <td>0.134890</td>\n",
       "    </tr>\n",
       "    <tr>\n",
       "      <th>216</th>\n",
       "      <td>ciprianum ferentinum anagniam fortinum antonin...</td>\n",
       "      <td>queo quam ciparum felitinum anaginam fortunum ...</td>\n",
       "      <td>in neapoli in castro saluatoris uidi ouum uirg...</td>\n",
       "      <td>in neapoli in castro saluatoris uidi ouum uirg...</td>\n",
       "      <td>215</td>\n",
       "      <td>0.857767</td>\n",
       "      <td>uenerabantur quondam iudei sancta sanctorum qu...</td>\n",
       "      <td>1</td>\n",
       "      <td>0.110843</td>\n",
       "    </tr>\n",
       "    <tr>\n",
       "      <th>217</th>\n",
       "      <td>bononiam quidquid quinque aput iaculatori calc...</td>\n",
       "      <td>bonnoniam quitquit apud ioculatori calcium tet...</td>\n",
       "      <td>de roma per arecium et florentiam ueni bononia...</td>\n",
       "      <td>de roma per arecium et florentiam ueni bonnoni...</td>\n",
       "      <td>216</td>\n",
       "      <td>0.844623</td>\n",
       "      <td>sunt preterea que deuotionem excitant ampliore...</td>\n",
       "      <td>2</td>\n",
       "      <td>0.063840</td>\n",
       "    </tr>\n",
       "  </tbody>\n",
       "</table>\n",
       "<p>218 rows × 9 columns</p>\n",
       "</div>"
      ],
      "text/plain": [
       "                                           london chop  \\\n",
       "0    ueteribus historiis legamus beatus libris posi...   \n",
       "1                   festinet pacem hominibus maiestate   \n",
       "2    defluentem iudicatum porta ciuitatis succenden...   \n",
       "3    augent quot quot media nabenia maromea nestori...   \n",
       "4    domumque cognationem dereliquentem deserentem ...   \n",
       "..                                                 ...   \n",
       "213  strongoli duabus eo episcopi talanario ienuens...   \n",
       "214                                paranoria ut alpiam   \n",
       "215  boias secundum sicut maius fornicem triumpalem...   \n",
       "216  ciprianum ferentinum anagniam fortinum antonin...   \n",
       "217  bononiam quidquid quinque aput iaculatori calc...   \n",
       "\n",
       "                                          zwickau chop  \\\n",
       "0    inueniamus scripturis mempiticos appolonius ca...   \n",
       "1                                 festinabit magestate   \n",
       "2    fluentem iudicari succedentem plena extat exti...   \n",
       "3    augeant quod medea iabenia maronite nestoriari...   \n",
       "4    domum congnationem suam derelinquentem deferen...   \n",
       "..                                                 ...   \n",
       "213  strangoli sumitatem montis ipso tasanaxio ianu...   \n",
       "214       peranona dicta scariotis malpiam apostolorum   \n",
       "215  baias ile circundatur infinitis eorumdem ortus...   \n",
       "216  queo quam ciparum felitinum anaginam fortunum ...   \n",
       "217  bonnoniam quitquit apud ioculatori calcium tet...   \n",
       "\n",
       "                                           london text  \\\n",
       "0    cum in ueteribus historiis legamus sicut dicit...   \n",
       "1    quis cristianus hiis uisis non festinet uenire...   \n",
       "2    redeat post hec in ierusalem ut uideat et audi...   \n",
       "3    sunt preterea quedam que in locis ilis deuotio...   \n",
       "4    eia domine deus uideo secundum ueteres histori...   \n",
       "..                                                 ...   \n",
       "213  de lippari nauigantes per miliaria uenimus in ...   \n",
       "214  de strongoli igitur mouentes auta et sperantes...   \n",
       "215  egressi itaque de galea uenimus boias de quo l...   \n",
       "216  in neapoli in castro saluatoris uidi ouum uirg...   \n",
       "217  de roma per arecium et florentiam ueni bononia...   \n",
       "\n",
       "                                          zwickau text  zwickau p#  \\\n",
       "0    cum sicut dicit ieronimus quosdam inueniamus l...           0   \n",
       "1    quis cristianus hiis uisis non festinabit ueni...           1   \n",
       "2    redeat post in ierusalem uideat et audiat in t...           2   \n",
       "3    sunt preterea quedam que in locis ilis deuotio...           3   \n",
       "4    eia domine deus uideo secundum ueteres histori...           4   \n",
       "..                                                 ...         ...   \n",
       "213  de lippari nauigantes per miliaria uenimus in ...         212   \n",
       "214  de strongoli igitur mouentes auta et sperantes...         213   \n",
       "215  egressi itaque de galea uenimus baias de quo l...         214   \n",
       "216  in neapoli in castro saluatoris uidi ouum uirg...         215   \n",
       "217  de roma per arecium et florentiam ueni bonnoni...         216   \n",
       "\n",
       "     zwickau score                                       breslau text  \\\n",
       "0         0.812947  uenerabantur quondam iudei sancta sanctorum qu...   \n",
       "1         0.896212  uenerabantur quondam iudei sancta sanctorum qu...   \n",
       "2         0.887962  uenerabantur quondam iudei sancta sanctorum qu...   \n",
       "3         0.815394  sunt preterea que deuotionem excitant ampliore...   \n",
       "4         0.864038  sunt preterea que deuotionem excitant ampliore...   \n",
       "..             ...                                                ...   \n",
       "213       0.871923  sunt preterea que deuotionem excitant ampliore...   \n",
       "214       0.917238  procedendo igitur de accon per primam diuisioe...   \n",
       "215       0.891483  regia erat hec ciuitas in monte pulcra nimis u...   \n",
       "216       0.857767  uenerabantur quondam iudei sancta sanctorum qu...   \n",
       "217       0.844623  sunt preterea que deuotionem excitant ampliore...   \n",
       "\n",
       "     breslau p#  breslau score  \n",
       "0             1       0.228345  \n",
       "1             1       0.326126  \n",
       "2             1       0.486159  \n",
       "3             2       0.358153  \n",
       "4             2       0.397394  \n",
       "..          ...            ...  \n",
       "213           2       0.120797  \n",
       "214          24       0.078676  \n",
       "215          40       0.134890  \n",
       "216           1       0.110843  \n",
       "217           2       0.063840  \n",
       "\n",
       "[218 rows x 9 columns]"
      ]
     },
     "execution_count": 22,
     "metadata": {},
     "output_type": "execute_result"
    }
   ],
   "source": [
    "london_zwickau_breslau_strongly_similar_with_chop_df"
   ]
  },
  {
   "cell_type": "code",
   "execution_count": 23,
   "id": "525cc920",
   "metadata": {},
   "outputs": [],
   "source": [
    "london_chop_corpus = list(london_zwickau_breslau_strongly_similar_with_chop_df['london chop'])\n",
    "zwickau_chop_corpus = list(london_zwickau_breslau_strongly_similar_with_chop_df['zwickau chop'])"
   ]
  },
  {
   "cell_type": "code",
   "execution_count": 24,
   "id": "2a43877f",
   "metadata": {},
   "outputs": [
    {
     "data": {
      "text/plain": [
       "218"
      ]
     },
     "execution_count": 24,
     "metadata": {},
     "output_type": "execute_result"
    }
   ],
   "source": [
    "len(zwickau_chop_corpus)"
   ]
  },
  {
   "cell_type": "code",
   "execution_count": 25,
   "id": "0a1fa38d",
   "metadata": {},
   "outputs": [],
   "source": [
    "london_chop_p_score_by_london = thesisLevenshteinSimilarities.get_p_score(london_chop_corpus, possible_mistakes_burchard_based_on_london_distance_1)"
   ]
  },
  {
   "cell_type": "code",
   "execution_count": 26,
   "id": "336b9d76",
   "metadata": {},
   "outputs": [],
   "source": [
    "london_chop_p_score_by_zwickau = thesisLevenshteinSimilarities.get_p_score(london_chop_corpus, possible_mistakes_burchard_based_on_zwickau_distance_1)"
   ]
  },
  {
   "cell_type": "code",
   "execution_count": 27,
   "id": "22cd9eda",
   "metadata": {},
   "outputs": [],
   "source": [
    "zwickau_chop_p_score_by_london = thesisLevenshteinSimilarities.get_p_score(zwickau_chop_corpus, possible_mistakes_burchard_based_on_london_distance_1)"
   ]
  },
  {
   "cell_type": "code",
   "execution_count": 28,
   "id": "a588137d",
   "metadata": {},
   "outputs": [],
   "source": [
    "zwickau_chop_p_score_by_zwickau = thesisLevenshteinSimilarities.get_p_score(zwickau_chop_corpus, possible_mistakes_burchard_based_on_zwickau_distance_1)"
   ]
  },
  {
   "cell_type": "code",
   "execution_count": 30,
   "id": "db744941",
   "metadata": {},
   "outputs": [
    {
     "data": {
      "text/plain": [
       "<matplotlib.legend.Legend at 0x7fd7b86ca130>"
      ]
     },
     "execution_count": 30,
     "metadata": {},
     "output_type": "execute_result"
    },
    {
     "data": {
      "image/png": "[encoded data removed]",
      "text/plain": [
       "<Figure size 2520x360 with 1 Axes>"
      ]
     },
     "metadata": {
      "needs_background": "light"
     },
     "output_type": "display_data"
    }
   ],
   "source": [
    "fig, ax = plt.subplots(1, 1, figsize=(35,5))\n",
    "\n",
    "ax.plot(london_chop_p_score_by_london, label='london by london')\n",
    "ax.plot(london_chop_p_score_by_zwickau, label='london by zwickau')\n",
    "ax.plot(zwickau_chop_p_score_by_london, label='zwickau by london')\n",
    "ax.plot(zwickau_chop_p_score_by_zwickau, label='zwickau by zwickau')\n",
    "\n",
    "\n",
    "ax.set_xlim([0, 225])\n",
    "ax.set_title('Total levenshtein distance for each p (sum of possible errors for every word in p) - error distance 1')\n",
    "ax.legend()"
   ]
  },
  {
   "cell_type": "code",
   "execution_count": null,
   "id": "da2095ff",
   "metadata": {},
   "outputs": [],
   "source": [
    "london_chop_p_score_by_london[55]"
   ]
  },
  {
   "cell_type": "code",
   "execution_count": null,
   "id": "6a44e4fa",
   "metadata": {},
   "outputs": [],
   "source": [
    "london_chop_corpus[55]"
   ]
  },
  {
   "cell_type": "code",
   "execution_count": null,
   "id": "918e753c",
   "metadata": {},
   "outputs": [],
   "source": [
    "london_chop_corpus"
   ]
  },
  {
   "cell_type": "code",
   "execution_count": null,
   "id": "4a54dc40",
   "metadata": {},
   "outputs": [],
   "source": [
    "zwickau_chop_corpus[55]"
   ]
  },
  {
   "cell_type": "code",
   "execution_count": null,
   "id": "c173ddfd",
   "metadata": {},
   "outputs": [],
   "source": [
    "london_chop_p_score_by_london[138]"
   ]
  },
  {
   "cell_type": "code",
   "execution_count": null,
   "id": "46133245",
   "metadata": {},
   "outputs": [],
   "source": [
    "london_chop_corpus[138]"
   ]
  },
  {
   "cell_type": "code",
   "execution_count": null,
   "id": "b9c582b7",
   "metadata": {},
   "outputs": [],
   "source": [
    "zwickau_chop_corpus[138]"
   ]
  },
  {
   "cell_type": "code",
   "execution_count": null,
   "id": "49039bdd",
   "metadata": {},
   "outputs": [],
   "source": [
    "fig, ax = plt.subplots(1, 1, figsize=(35,5))\n",
    "\n",
    "# ax.plot([ p / len(london_chop_corpus[i].split()) if len(london_chop_corpus[i].split()) > 0 else 0 for i, p in enumerate(london_chop_p_score_by_london)], label='london by london')\n",
    "# ax.plot([ p / len(london_chop_corpus[i].split()) if len(london_chop_corpus[i].split()) > 0 else 0 for i, p in enumerate(london_chop_p_score_by_zwickau)], label='london by zwickau')\n",
    "ax.plot([ p / len(zwickau_chop_corpus[i].split()) if len(zwickau_chop_corpus[i].split()) > 0 else 0 for i, p in enumerate(zwickau_chop_p_score_by_london)], label='zwickau by london')\n",
    "ax.plot([ p / len(zwickau_chop_corpus[i].split()) if len(zwickau_chop_corpus[i].split()) > 0 else 0 for i, p in enumerate(zwickau_chop_p_score_by_zwickau)], label='zwickau by zwickau')\n",
    "\n",
    "\n",
    "ax.set_xlim([0, 225])\n",
    "ax.set_title('Normalized to p len: Total levenshtein distance for each p (sum of possible errors for every word in p) - error distance 1')\n",
    "ax.legend()"
   ]
  },
  {
   "cell_type": "code",
   "execution_count": null,
   "id": "d886aaca",
   "metadata": {},
   "outputs": [],
   "source": [
    "zwickau_chop_p_score_by_london"
   ]
  },
  {
   "cell_type": "code",
   "execution_count": null,
   "id": "302290ac",
   "metadata": {},
   "outputs": [],
   "source": [
    "for i, p in enumerate(london_chop_p_score_by_london):\n",
    "    if len(london_chop_corpus[i].split()) == 0:\n",
    "        print(f'found zero lenght', i)\n",
    "        print(london_chop_corpus[i])"
   ]
  },
  {
   "cell_type": "code",
   "execution_count": null,
   "id": "e4fc7b2e",
   "metadata": {},
   "outputs": [],
   "source": [
    "london_chop_corpus[150: 157]"
   ]
  },
  {
   "cell_type": "code",
   "execution_count": null,
   "id": "5d4f0bbc",
   "metadata": {},
   "outputs": [],
   "source": [
    "london_chop_p_score_by_london[157]"
   ]
  },
  {
   "cell_type": "code",
   "execution_count": null,
   "id": "70f3701c",
   "metadata": {},
   "outputs": [],
   "source": [
    "possible_mistakes_london_chop_by_burchard_based_on_london_corpus_distance_1 = thesisLevenshteinSimilarities.create_version_possible_errors_mapping(\n",
    "    london_chop_corpus,\n",
    "    burchard_based_on_london_corpus,\n",
    "    error_threshold = 1\n",
    ")"
   ]
  },
  {
   "cell_type": "code",
   "execution_count": null,
   "id": "4a0864f2",
   "metadata": {},
   "outputs": [],
   "source": [
    "possible_mistakes_zwickau_chop_by_burchard_based_on_london_corpus_distance_1 = thesisLevenshteinSimilarities.create_version_possible_errors_mapping(\n",
    "    zwickau_chop_corpus,\n",
    "    burchard_based_on_london_corpus,\n",
    "    error_threshold = 1\n",
    ")"
   ]
  },
  {
   "cell_type": "code",
   "execution_count": null,
   "id": "3f7bfab2",
   "metadata": {},
   "outputs": [],
   "source": [
    "zwickau_chop_corpus"
   ]
  },
  {
   "cell_type": "code",
   "execution_count": null,
   "id": "849d75c6",
   "metadata": {},
   "outputs": [],
   "source": [
    "possible_mistakes_london_chop_by_burchard_based_on_london_corpus_distance_1"
   ]
  },
  {
   "cell_type": "code",
   "execution_count": null,
   "id": "bd1beb16",
   "metadata": {},
   "outputs": [],
   "source": [
    "print(len(thesisLevenshteinSimilarities.get_non_empty_alternatives(possible_mistakes_london_chop_by_burchard_based_on_london_corpus_distance_1)))\n",
    "print(len(thesisLevenshteinSimilarities.get_non_empty_alternatives(possible_mistakes_zwickau_chop_by_burchard_based_on_london_corpus_distance_1)))"
   ]
  },
  {
   "cell_type": "code",
   "execution_count": null,
   "id": "ff644a75",
   "metadata": {},
   "outputs": [],
   "source": [
    "thesisLevenshteinSimilarities.get_non_empty_alternatives(possible_mistakes_london_chop_by_burchard_based_on_london_corpus_distance_1)"
   ]
  },
  {
   "cell_type": "code",
   "execution_count": null,
   "id": "61868333",
   "metadata": {},
   "outputs": [],
   "source": [
    "thesisLevenshteinSimilarities.get_non_empty_alternatives(possible_mistakes_zwickau_chop_by_burchard_based_on_london_corpus_distance_1)"
   ]
  },
  {
   "cell_type": "markdown",
   "id": "2687fab7",
   "metadata": {},
   "source": [
    "# chop lenghts by p\n",
    "this is might be indication to in which part of text there is mo similarity than in another"
   ]
  },
  {
   "cell_type": "code",
   "execution_count": null,
   "id": "0b1dbaa4",
   "metadata": {},
   "outputs": [],
   "source": [
    "fig, ax = plt.subplots(1, 1, figsize=(35,5))\n",
    "\n",
    "ax.plot([len(i) for i in thesisDataReader.get_burchard_candidate_version_based_on_strongly_similar_london_base()], label='burchard')\n",
    "ax.plot([len(i) for i in london_chop_corpus], label='london chop')\n",
    "ax.plot([len(i) for i in zwickau_chop_corpus], label='zwickau chop')\n",
    "\n",
    "ax.set_title('p lenght')\n",
    "ax.set_xlim([0, 225])\n",
    "ax.legend()"
   ]
  },
  {
   "cell_type": "code",
   "execution_count": null,
   "id": "830454b9",
   "metadata": {},
   "outputs": [],
   "source": [
    "fig, ax = plt.subplots(1, 1, figsize=(35,5))\n",
    "\n",
    "ax.plot([len(i) for i in thesisDataReader.get_burchard_candidate_version_based_on_strongly_similar_london_base()], label='burchard')\n",
    "ax.plot([len(i) for i in london_chop_corpus], label='london chop')\n",
    "ax.plot([len(i) for i in zwickau_chop_corpus], label='zwickau chop')\n",
    "\n",
    "ax.set_title('p lenght')\n",
    "ax.set_xlim([0, 225])\n",
    "ax.legend()\n",
    "ax.set_yscale('log')\n"
   ]
  },
  {
   "cell_type": "code",
   "execution_count": null,
   "id": "d6b7db32",
   "metadata": {},
   "outputs": [],
   "source": [
    "len(thesisDataReader.get_burchard_candidate_version_based_on_strongly_similar_london_base())"
   ]
  },
  {
   "cell_type": "code",
   "execution_count": null,
   "id": "aabe60b4",
   "metadata": {},
   "outputs": [],
   "source": [
    "possible_mistakes_burchard_based_on_london_distance_1"
   ]
  },
  {
   "cell_type": "code",
   "execution_count": null,
   "id": "4843244b",
   "metadata": {},
   "outputs": [],
   "source": [
    "possible_mistakes_burchard_based_on_zwickau_distance_1"
   ]
  },
  {
   "cell_type": "code",
   "execution_count": 31,
   "id": "1dd55ca3",
   "metadata": {},
   "outputs": [],
   "source": [
    "for i in possible_mistakes_burchard_based_on_london_distance_1:\n",
    "    if len(possible_mistakes_burchard_based_on_london_distance_1[i]) == 0 and len(possible_mistakes_burchard_based_on_zwickau_distance_1[i]) == 0: continue\n",
    "    \n",
    "    for n, p in enumerate(possible_mistakes_burchard_based_on_london_distance_1[i]):\n",
    "        if p[0] != possible_mistakes_burchard_based_on_zwickau_distance_1[i][n][0]:\n",
    "            print('found mismatch', p)"
   ]
  },
  {
   "cell_type": "code",
   "execution_count": null,
   "id": "01566841",
   "metadata": {},
   "outputs": [],
   "source": []
  }
 ],
 "metadata": {
  "kernelspec": {
   "display_name": "Python 3",
   "language": "python",
   "name": "python3"
  },
  "language_info": {
   "codemirror_mode": {
    "name": "ipython",
    "version": 3
   },
   "file_extension": ".py",
   "mimetype": "text/x-python",
   "name": "python",
   "nbconvert_exporter": "python",
   "pygments_lexer": "ipython3",
   "version": "3.8.8"
  }
 },
 "nbformat": 4,
 "nbformat_minor": 5
}
