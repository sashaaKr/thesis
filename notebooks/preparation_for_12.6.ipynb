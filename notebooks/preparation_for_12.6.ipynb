{
 "cells": [
  {
   "cell_type": "code",
   "execution_count": 1,
   "id": "8d19669f",
   "metadata": {},
   "outputs": [
    {
     "data": {
      "text/html": [
       "<style>.container { width:100% !important; }</style>"
      ],
      "text/plain": [
       "<IPython.core.display.HTML object>"
      ]
     },
     "metadata": {},
     "output_type": "display_data"
    }
   ],
   "source": [
    "from IPython.core.display import display, HTML\n",
    "display(HTML(\"<style>.container { width:100% !important; }</style>\"))"
   ]
  },
  {
   "cell_type": "code",
   "execution_count": 2,
   "id": "7b20498a",
   "metadata": {},
   "outputs": [
    {
     "name": "stdout",
     "output_type": "stream",
     "text": [
      "Note: you may need to restart the kernel to use updated packages.\n"
     ]
    }
   ],
   "source": [
    "%pip install -q decorator==5.0.9\n",
    "!pip install -q ipywidgets\n",
    "\n",
    "import csv\n",
    "import math\n",
    "import re\n",
    "import imp\n",
    "import json\n",
    "import numpy as np\n",
    "import pandas as pd\n",
    "from sklearn.feature_extraction.text import TfidfVectorizer, CountVectorizer\n",
    "from sklearn.metrics.pairwise import cosine_similarity\n",
    "from sklearn.preprocessing import normalize\n",
    "import matplotlib.pyplot as plt\n",
    "import networkx as nx\n",
    "import seaborn as sns\n",
    "from collections import Counter\n",
    "\n",
    "import ipywidgets as widgets\n",
    "from ipywidgets import interact, interact_manual"
   ]
  },
  {
   "cell_type": "code",
   "execution_count": 3,
   "id": "51053aed",
   "metadata": {},
   "outputs": [
    {
     "name": "stdout",
     "output_type": "stream",
     "text": [
      "Note: you may need to restart the kernel to use updated packages.\n",
      "Note: you may need to restart the kernel to use updated packages.\n",
      "Note: you may need to restart the kernel to use updated packages.\n"
     ]
    }
   ],
   "source": [
    "%pip install -q cltk==1.0.22\n",
    "%pip install -q strsim\n",
    "%pip install -q leven"
   ]
  },
  {
   "cell_type": "code",
   "execution_count": 51,
   "id": "96ea78bf",
   "metadata": {},
   "outputs": [
    {
     "data": {
      "text/plain": [
       "<module 'similarities.levenshtein' from '../src/similarities/levenshtein.py'>"
      ]
     },
     "execution_count": 51,
     "metadata": {},
     "output_type": "execute_result"
    }
   ],
   "source": [
    "# importing local modules\n",
    "\n",
    "import sys\n",
    "sys.path.append('../src/')\n",
    "\n",
    "import text_cleanup.text_cleanup as thesisCleanUp\n",
    "import preprocessing.text_preprocessing as thesisTextPreprocessing\n",
    "import data.reader as thesisDataReader\n",
    "import utils.utils as thesisUtils\n",
    "import features.tf_idf.n_gram as thesisTfIdfNgramFeatures\n",
    "import features.count_vectorizer.n_gram as thesisCountVectorizerNgramFeatures\n",
    "import similarities.cosine as thesisCosineSimilarities\n",
    "import similarities.levenshtein as thesisLevenshteinSimilarities\n",
    "import vocabulary.vocabulary as thesisVocabulary\n",
    "import features.lexical as thesisLexicalFeatures\n",
    "import similarities.cosine as thesisCosineSimilarity\n",
    "import text_cleanup.text_cleanup as thesisTextCleanUp\n",
    "import p_aligment.p_aligment as thesisPAligment\n",
    "\n",
    "imp.reload(thesisLexicalFeatures)\n",
    "imp.reload(thesisCosineSimilarity)\n",
    "imp.reload(thesisCleanUp)\n",
    "imp.reload(thesisTextPreprocessing)\n",
    "imp.reload(thesisDataReader)\n",
    "imp.reload(thesisUtils)\n",
    "imp.reload(thesisTfIdfNgramFeatures)\n",
    "imp.reload(thesisVocabulary)\n",
    "imp.reload(thesisCosineSimilarities)\n",
    "imp.reload(thesisTextCleanUp)\n",
    "imp.reload(thesisCountVectorizerNgramFeatures)\n",
    "imp.reload(thesisPAligment)\n",
    "imp.reload(thesisLevenshteinSimilarities)"
   ]
  },
  {
   "cell_type": "markdown",
   "id": "34eb7360",
   "metadata": {},
   "source": [
    "# Possible errors to csv"
   ]
  },
  {
   "cell_type": "code",
   "execution_count": 5,
   "id": "fc626414",
   "metadata": {},
   "outputs": [],
   "source": [
    "possible_mistakes_london_to_london_distance_1 = thesisLevenshteinSimilarities.create_version_possible_errors_mapping(\n",
    "    thesisDataReader.get_london_by_new_line(),\n",
    "    thesisDataReader.get_london_by_new_line(),\n",
    "    error_threshold = 1\n",
    ")"
   ]
  },
  {
   "cell_type": "code",
   "execution_count": 6,
   "id": "dc50be2f",
   "metadata": {},
   "outputs": [],
   "source": [
    "possible_mistakes_zwickau_to_zwickau_distance_1 = thesisLevenshteinSimilarities.create_version_possible_errors_mapping(\n",
    "    thesisDataReader.get_zwickau_by_new_line(),\n",
    "    thesisDataReader.get_zwickau_by_new_line(),\n",
    "    error_threshold = 1\n",
    ")"
   ]
  },
  {
   "cell_type": "code",
   "execution_count": 7,
   "id": "baf5de40",
   "metadata": {},
   "outputs": [],
   "source": [
    "possible_mistakes_breslau_to_breslau_distance_1 = thesisLevenshteinSimilarities.create_version_possible_errors_mapping(\n",
    "    thesisDataReader.get_breslau_by_new_line(),\n",
    "    thesisDataReader.get_breslau_by_new_line(),\n",
    "    error_threshold = 1\n",
    ")"
   ]
  },
  {
   "cell_type": "code",
   "execution_count": null,
   "id": "d4bef762",
   "metadata": {},
   "outputs": [],
   "source": [
    "def create_variants_csv(fileName, variants):\n",
    "    with open(f'../computed_data/words_variants/distance_1/{fileName}.csv','w') as out:\n",
    "        csv_out=csv.writer(out)\n",
    "        csv_out.writerow(['original_word','variants', 'variants_count'])\n",
    "        for i in [(w, variants[w]) for i, w in enumerate(variants) if len(variants[w]) > 0]:\n",
    "            csv_out.writerow((i[0], i[1], len(i[1])))\n",
    "    \n",
    "\n",
    "for p in [\n",
    "    ('london_to_london', possible_mistakes_london_to_london_distance_1),\n",
    "    ('zwickau_to_zwickau', possible_mistakes_zwickau_to_zwickau_distance_1),\n",
    "    ('breslau_to_breslau', possible_mistakes_breslau_to_breslau_distance_1)\n",
    "]:\n",
    "    create_variants_csv(p[0], p[1])\n",
    "        \n"
   ]
  },
  {
   "cell_type": "code",
   "execution_count": null,
   "id": "a501c2b8",
   "metadata": {},
   "outputs": [],
   "source": [
    "variants_that_appears_in_all_version = []\n",
    "\n",
    "for i, n in enumerate(possible_mistakes_london_to_london_distance_1):\n",
    "    if n in possible_mistakes_zwickau_to_zwickau_distance_1 and n in possible_mistakes_breslau_to_breslau_distance_1:\n",
    "        variants_that_appears_in_all_version.append(n)"
   ]
  },
  {
   "cell_type": "code",
   "execution_count": null,
   "id": "10d53425",
   "metadata": {},
   "outputs": [],
   "source": [
    "len(variants_that_appears_in_all_version)"
   ]
  },
  {
   "cell_type": "markdown",
   "id": "ae8b5db2",
   "metadata": {},
   "source": [
    "# Similarity score for chop"
   ]
  },
  {
   "cell_type": "code",
   "execution_count": 60,
   "id": "595a1c84",
   "metadata": {},
   "outputs": [],
   "source": [
    "burchard_based_on_strongly_similar_london_base_corpus = thesisDataReader.get_burchard_candidate_version_based_on_strongly_similar_london_base()\n",
    "burchard_based_on_strongly_similar_zwickau_base_corpus = thesisDataReader.get_burchard_candidate_version_based_on_strongly_similar_zwickau_base()"
   ]
  },
  {
   "cell_type": "code",
   "execution_count": 61,
   "id": "17c7f84e",
   "metadata": {},
   "outputs": [
    {
     "data": {
      "text/plain": [
       "218"
      ]
     },
     "execution_count": 61,
     "metadata": {},
     "output_type": "execute_result"
    }
   ],
   "source": [
    "len(burchard_based_on_strongly_similar_london_base_corpus)"
   ]
  },
  {
   "cell_type": "code",
   "execution_count": 62,
   "id": "8fca8df4",
   "metadata": {},
   "outputs": [],
   "source": [
    "possible_mistakes_burchard_based_on_london_distance_1 = thesisLevenshteinSimilarities.create_version_possible_errors_mapping(\n",
    "    burchard_based_on_strongly_similar_london_base_corpus,\n",
    "    burchard_based_on_strongly_similar_london_base_corpus,\n",
    "    error_threshold = 1\n",
    ")"
   ]
  },
  {
   "cell_type": "code",
   "execution_count": 63,
   "id": "dd271557",
   "metadata": {},
   "outputs": [],
   "source": [
    "possible_mistakes_burchard_based_on_zwickau_distance_1 = thesisLevenshteinSimilarities.create_version_possible_errors_mapping(\n",
    "    burchard_based_on_strongly_similar_zwickau_base_corpus,\n",
    "    burchard_based_on_strongly_similar_zwickau_base_corpus,\n",
    "    error_threshold = 1\n",
    ")"
   ]
  },
  {
   "cell_type": "code",
   "execution_count": 68,
   "id": "4c8859bd",
   "metadata": {},
   "outputs": [],
   "source": [
    "london_to_zwickau_shared_unique_possible_errors = thesisLevenshteinSimilarities.get_shared_unique_possible_errors(\n",
    "    possible_mistakes_london_to_london_distance_1,\n",
    "    possible_mistakes_zwickau_to_zwickau_distance_1,\n",
    ")\n",
    "zwickau_to_london_shared_unique_possible_errors = thesisLevenshteinSimilarities.get_shared_unique_possible_errors(\n",
    "    possible_mistakes_zwickau_to_zwickau_distance_1,\n",
    "    possible_mistakes_london_to_london_distance_1,\n",
    ")\n",
    "london_to_burchard_shared_unique_possible_errors = thesisLevenshteinSimilarities.get_shared_unique_possible_errors(\n",
    "    possible_mistakes_london_to_london_distance_1,\n",
    "    possible_mistakes_burchard_based_on_london_distance_1,\n",
    ")\n",
    "zwickau_to_burchard_shared_unique_possible_errors = thesisLevenshteinSimilarities.get_shared_unique_possible_errors(\n",
    "    possible_mistakes_zwickau_to_zwickau_distance_1,\n",
    "    possible_mistakes_burchard_based_on_london_distance_1,\n",
    ")"
   ]
  },
  {
   "cell_type": "code",
   "execution_count": 69,
   "id": "9d55ab81",
   "metadata": {},
   "outputs": [
    {
     "name": "stdout",
     "output_type": "stream",
     "text": [
      "London possible mistakes in burchard: 2009\n",
      "London possible mistakes not burchard: 1302\n"
     ]
    }
   ],
   "source": [
    "print(f\"London possible mistakes in burchard: {len(london_to_burchard_shared_unique_possible_errors[0])}\")\n",
    "print(f\"London possible mistakes not burchard: {len(london_to_burchard_shared_unique_possible_errors[1])}\")"
   ]
  },
  {
   "cell_type": "code",
   "execution_count": 70,
   "id": "6b4ac417",
   "metadata": {},
   "outputs": [
    {
     "name": "stdout",
     "output_type": "stream",
     "text": [
      "Zwickau possible mistakes in burchard: 2009\n",
      "Zwickau possible mistakes not burchard: 1049\n"
     ]
    }
   ],
   "source": [
    "print(f\"Zwickau possible mistakes in burchard: {len(zwickau_to_burchard_shared_unique_possible_errors[0])}\")\n",
    "print(f\"Zwickau possible mistakes not burchard: {len(zwickau_to_burchard_shared_unique_possible_errors[1])}\")"
   ]
  },
  {
   "cell_type": "code",
   "execution_count": 71,
   "id": "5e647e8a",
   "metadata": {},
   "outputs": [
    {
     "name": "stdout",
     "output_type": "stream",
     "text": [
      "London possible mistakes in Zwickau: 2358\n",
      "London possible mistakes not in Zwickau: 953\n"
     ]
    }
   ],
   "source": [
    "print(f\"London possible mistakes in Zwickau: {len(london_to_zwickau_shared_unique_possible_errors[0])}\")\n",
    "print(f\"London possible mistakes not in Zwickau: {len(london_to_zwickau_shared_unique_possible_errors[1])}\")"
   ]
  },
  {
   "cell_type": "code",
   "execution_count": 72,
   "id": "76b7bb11",
   "metadata": {},
   "outputs": [
    {
     "name": "stdout",
     "output_type": "stream",
     "text": [
      "Zwickau possible mistakes in London: 2358\n",
      "Zwickau possible mistakes not in London: 700\n"
     ]
    }
   ],
   "source": [
    "print(f\"Zwickau possible mistakes in London: {len(zwickau_to_london_shared_unique_possible_errors[0])}\")\n",
    "print(f\"Zwickau possible mistakes not in London: {len(zwickau_to_london_shared_unique_possible_errors[1])}\")"
   ]
  },
  {
   "cell_type": "code",
   "execution_count": 77,
   "id": "25fcd73d",
   "metadata": {},
   "outputs": [],
   "source": [
    "burchard_mistake_shared_with_london_zwickau = []\n",
    "burchard_mistake_not_shared_with_london_zwickau = []\n",
    "for i in thesisLevenshteinSimilarities.get_non_empty_alternatives(possible_mistakes_burchard_based_on_london_distance_1):\n",
    "    if i in thesisLevenshteinSimilarities.get_non_empty_alternatives(possible_mistakes_london_to_london_distance_1) and i in thesisLevenshteinSimilarities.get_non_empty_alternatives(possible_mistakes_zwickau_to_zwickau_distance_1):\n",
    "        burchard_mistake_shared_with_london_zwickau.append(i)\n",
    "    else:\n",
    "        burchard_mistake_not_shared_with_london_zwickau.append(i)"
   ]
  },
  {
   "cell_type": "code",
   "execution_count": 78,
   "id": "9642f74e",
   "metadata": {},
   "outputs": [
    {
     "data": {
      "text/plain": [
       "2009"
      ]
     },
     "execution_count": 78,
     "metadata": {},
     "output_type": "execute_result"
    }
   ],
   "source": [
    "len(burchard_mistake_shared_with_london_zwickau)"
   ]
  },
  {
   "cell_type": "code",
   "execution_count": 79,
   "id": "bbebc7e5",
   "metadata": {},
   "outputs": [
    {
     "data": {
      "text/plain": [
       "0"
      ]
     },
     "execution_count": 79,
     "metadata": {},
     "output_type": "execute_result"
    }
   ],
   "source": [
    "len(burchard_mistake_not_shared_with_london_zwickau)"
   ]
  },
  {
   "cell_type": "code",
   "execution_count": null,
   "id": "d719e343",
   "metadata": {},
   "outputs": [],
   "source": [
    "london_zwickau_breslau_strongly_similar_df = pd.read_csv('../computed_data/p_aligment/by_new_line/strongly_similar/london_zwickau_breslau.csv').drop(['Unnamed: 0'], axis=1)\n",
    "zwickau_london_breslau_strongly_similar_df = pd.read_csv('../computed_data/p_aligment/by_new_line/strongly_similar/zwickau_london_breslau.csv').drop(['Unnamed: 0'], axis=1)"
   ]
  },
  {
   "cell_type": "code",
   "execution_count": null,
   "id": "52fefdcb",
   "metadata": {},
   "outputs": [],
   "source": [
    "result = []\n",
    "\n",
    "for index, row in london_zwickau_breslau_strongly_similar_df.iterrows():\n",
    "    london_text = row['london text']\n",
    "    zwickau_text = row['zwickau text']\n",
    "    \n",
    "    london_without_shared_words = london_text\n",
    "    zwickau_withoud_shared_words = zwickau_text\n",
    "    \n",
    "    for word in london_text.split():\n",
    "        match_in_london = re.search(r'\\b' + word + r'\\b', london_text)\n",
    "        match_in_zwickau = re.search(r'\\b' + word + r'\\b', zwickau_text)\n",
    "        if match_in_london and match_in_zwickau:\n",
    "            london_without_shared_words = re.sub(r'\\b' + word + r'\\b', '', london_without_shared_words).replace('  ', ' ').strip()\n",
    "            zwickau_withoud_shared_words = re.sub(r'\\b' + word + r'\\b', '', zwickau_withoud_shared_words).replace('  ', ' ').strip()\n",
    "      \n",
    "    result.append([london_without_shared_words, zwickau_withoud_shared_words])"
   ]
  },
  {
   "cell_type": "code",
   "execution_count": null,
   "id": "ef4a434a",
   "metadata": {},
   "outputs": [],
   "source": [
    "london_zwickau_breslau_strongly_similar_with_chop_df = pd.DataFrame(data=result, columns=['london chop', 'zwickau chop']).join(london_zwickau_breslau_strongly_similar_df)"
   ]
  },
  {
   "cell_type": "code",
   "execution_count": null,
   "id": "19771156",
   "metadata": {},
   "outputs": [],
   "source": [
    "london_zwickau_breslau_strongly_similar_with_chop_df"
   ]
  },
  {
   "cell_type": "code",
   "execution_count": null,
   "id": "525cc920",
   "metadata": {},
   "outputs": [],
   "source": [
    "london_chop_corpus = list(london_zwickau_breslau_strongly_similar_with_chop_df['london chop'])\n",
    "zwickau_chop_corpus = list(london_zwickau_breslau_strongly_similar_with_chop_df['zwickau chop'])"
   ]
  },
  {
   "cell_type": "code",
   "execution_count": null,
   "id": "2a43877f",
   "metadata": {},
   "outputs": [],
   "source": [
    "len(zwickau_chop_corpus)"
   ]
  },
  {
   "cell_type": "code",
   "execution_count": null,
   "id": "0a1fa38d",
   "metadata": {},
   "outputs": [],
   "source": [
    "london_chop_p_score_by_london = thesisLevenshteinSimilarities.get_p_score(london_chop_corpus, possible_mistakes_burchard_based_on_london_distance_1)"
   ]
  },
  {
   "cell_type": "code",
   "execution_count": null,
   "id": "336b9d76",
   "metadata": {},
   "outputs": [],
   "source": [
    "london_chop_p_score_by_zwickau = thesisLevenshteinSimilarities.get_p_score(london_chop_corpus, possible_mistakes_burchard_based_on_zwickau_distance_1)"
   ]
  },
  {
   "cell_type": "code",
   "execution_count": null,
   "id": "22cd9eda",
   "metadata": {},
   "outputs": [],
   "source": [
    "zwickau_chop_p_score_by_london = thesisLevenshteinSimilarities.get_p_score(zwickau_chop_corpus, possible_mistakes_burchard_based_on_london_distance_1)"
   ]
  },
  {
   "cell_type": "code",
   "execution_count": null,
   "id": "a588137d",
   "metadata": {},
   "outputs": [],
   "source": [
    "zwickau_chop_p_score_by_zwickau = thesisLevenshteinSimilarities.get_p_score(zwickau_chop_corpus, possible_mistakes_burchard_based_on_zwickau_distance_1)"
   ]
  },
  {
   "cell_type": "code",
   "execution_count": null,
   "id": "db744941",
   "metadata": {},
   "outputs": [],
   "source": [
    "fig, ax = plt.subplots(1, 1, figsize=(35,5))\n",
    "\n",
    "ax.plot(london_chop_p_score_by_london, label='london by london')\n",
    "ax.plot(london_chop_p_score_by_zwickau, label='london by zwickau')\n",
    "ax.plot(zwickau_chop_p_score_by_london, label='zwickau by london')\n",
    "ax.plot(zwickau_chop_p_score_by_zwickau, label='zwickau by zwickau')\n",
    "\n",
    "\n",
    "ax.set_xlim([0, 225])\n",
    "ax.set_title('Total levenshtein distance for each p (sum of possible errors for every word in p) - error distance 1')\n",
    "ax.legend()"
   ]
  },
  {
   "cell_type": "code",
   "execution_count": null,
   "id": "da2095ff",
   "metadata": {},
   "outputs": [],
   "source": [
    "london_chop_p_score_by_london[55]"
   ]
  },
  {
   "cell_type": "code",
   "execution_count": null,
   "id": "6a44e4fa",
   "metadata": {},
   "outputs": [],
   "source": [
    "london_chop_corpus[55]"
   ]
  },
  {
   "cell_type": "code",
   "execution_count": null,
   "id": "918e753c",
   "metadata": {},
   "outputs": [],
   "source": [
    "london_chop_corpus"
   ]
  },
  {
   "cell_type": "code",
   "execution_count": null,
   "id": "4a54dc40",
   "metadata": {},
   "outputs": [],
   "source": [
    "zwickau_chop_corpus[55]"
   ]
  },
  {
   "cell_type": "code",
   "execution_count": null,
   "id": "c173ddfd",
   "metadata": {},
   "outputs": [],
   "source": [
    "london_chop_p_score_by_london[138]"
   ]
  },
  {
   "cell_type": "code",
   "execution_count": null,
   "id": "46133245",
   "metadata": {},
   "outputs": [],
   "source": [
    "london_chop_corpus[138]"
   ]
  },
  {
   "cell_type": "code",
   "execution_count": null,
   "id": "b9c582b7",
   "metadata": {},
   "outputs": [],
   "source": [
    "zwickau_chop_corpus[138]"
   ]
  },
  {
   "cell_type": "code",
   "execution_count": null,
   "id": "49039bdd",
   "metadata": {},
   "outputs": [],
   "source": [
    "fig, ax = plt.subplots(1, 1, figsize=(35,5))\n",
    "\n",
    "# ax.plot([ p / len(london_chop_corpus[i].split()) if len(london_chop_corpus[i].split()) > 0 else 0 for i, p in enumerate(london_chop_p_score_by_london)], label='london by london')\n",
    "# ax.plot([ p / len(london_chop_corpus[i].split()) if len(london_chop_corpus[i].split()) > 0 else 0 for i, p in enumerate(london_chop_p_score_by_zwickau)], label='london by zwickau')\n",
    "ax.plot([ p / len(zwickau_chop_corpus[i].split()) if len(zwickau_chop_corpus[i].split()) > 0 else 0 for i, p in enumerate(zwickau_chop_p_score_by_london)], label='zwickau by london')\n",
    "ax.plot([ p / len(zwickau_chop_corpus[i].split()) if len(zwickau_chop_corpus[i].split()) > 0 else 0 for i, p in enumerate(zwickau_chop_p_score_by_zwickau)], label='zwickau by zwickau')\n",
    "\n",
    "\n",
    "ax.set_xlim([0, 225])\n",
    "ax.set_title('Normalized to p len: Total levenshtein distance for each p (sum of possible errors for every word in p) - error distance 1')\n",
    "ax.legend()"
   ]
  },
  {
   "cell_type": "code",
   "execution_count": null,
   "id": "d886aaca",
   "metadata": {},
   "outputs": [],
   "source": [
    "zwickau_chop_p_score_by_london"
   ]
  },
  {
   "cell_type": "code",
   "execution_count": null,
   "id": "302290ac",
   "metadata": {},
   "outputs": [],
   "source": [
    "for i, p in enumerate(london_chop_p_score_by_london):\n",
    "    if len(london_chop_corpus[i].split()) == 0:\n",
    "        print(f'found zero lenght', i)\n",
    "        print(london_chop_corpus[i])"
   ]
  },
  {
   "cell_type": "code",
   "execution_count": null,
   "id": "e4fc7b2e",
   "metadata": {},
   "outputs": [],
   "source": [
    "london_chop_corpus[150: 157]"
   ]
  },
  {
   "cell_type": "code",
   "execution_count": null,
   "id": "5d4f0bbc",
   "metadata": {},
   "outputs": [],
   "source": [
    "london_chop_p_score_by_london[157]"
   ]
  },
  {
   "cell_type": "code",
   "execution_count": null,
   "id": "70f3701c",
   "metadata": {},
   "outputs": [],
   "source": [
    "possible_mistakes_london_chop_by_burchard_based_on_london_corpus_distance_1 = thesisLevenshteinSimilarities.create_version_possible_errors_mapping(\n",
    "    london_chop_corpus,\n",
    "    burchard_based_on_london_corpus,\n",
    "    error_threshold = 1\n",
    ")"
   ]
  },
  {
   "cell_type": "code",
   "execution_count": null,
   "id": "4a0864f2",
   "metadata": {},
   "outputs": [],
   "source": [
    "possible_mistakes_zwickau_chop_by_burchard_based_on_london_corpus_distance_1 = thesisLevenshteinSimilarities.create_version_possible_errors_mapping(\n",
    "    zwickau_chop_corpus,\n",
    "    burchard_based_on_london_corpus,\n",
    "    error_threshold = 1\n",
    ")"
   ]
  },
  {
   "cell_type": "code",
   "execution_count": null,
   "id": "3f7bfab2",
   "metadata": {},
   "outputs": [],
   "source": [
    "zwickau_chop_corpus"
   ]
  },
  {
   "cell_type": "code",
   "execution_count": null,
   "id": "849d75c6",
   "metadata": {},
   "outputs": [],
   "source": [
    "possible_mistakes_london_chop_by_burchard_based_on_london_corpus_distance_1"
   ]
  },
  {
   "cell_type": "code",
   "execution_count": null,
   "id": "bd1beb16",
   "metadata": {},
   "outputs": [],
   "source": [
    "print(len(thesisLevenshteinSimilarities.get_non_empty_alternatives(possible_mistakes_london_chop_by_burchard_based_on_london_corpus_distance_1)))\n",
    "print(len(thesisLevenshteinSimilarities.get_non_empty_alternatives(possible_mistakes_zwickau_chop_by_burchard_based_on_london_corpus_distance_1)))"
   ]
  },
  {
   "cell_type": "code",
   "execution_count": null,
   "id": "ff644a75",
   "metadata": {},
   "outputs": [],
   "source": [
    "thesisLevenshteinSimilarities.get_non_empty_alternatives(possible_mistakes_london_chop_by_burchard_based_on_london_corpus_distance_1)"
   ]
  },
  {
   "cell_type": "code",
   "execution_count": null,
   "id": "61868333",
   "metadata": {},
   "outputs": [],
   "source": [
    "thesisLevenshteinSimilarities.get_non_empty_alternatives(possible_mistakes_zwickau_chop_by_burchard_based_on_london_corpus_distance_1)"
   ]
  },
  {
   "cell_type": "markdown",
   "id": "2687fab7",
   "metadata": {},
   "source": [
    "# chop lenghts by p\n",
    "this is might be indication to in which part of text there is mo similarity than in another"
   ]
  },
  {
   "cell_type": "code",
   "execution_count": null,
   "id": "0b1dbaa4",
   "metadata": {},
   "outputs": [],
   "source": [
    "fig, ax = plt.subplots(1, 1, figsize=(35,5))\n",
    "\n",
    "ax.plot([len(i) for i in thesisDataReader.get_burchard_candidate_version_based_on_strongly_similar_london_base()], label='burchard')\n",
    "ax.plot([len(i) for i in london_chop_corpus], label='london chop')\n",
    "ax.plot([len(i) for i in zwickau_chop_corpus], label='zwickau chop')\n",
    "\n",
    "ax.set_title('p lenght')\n",
    "ax.set_xlim([0, 225])\n",
    "ax.legend()"
   ]
  },
  {
   "cell_type": "code",
   "execution_count": null,
   "id": "830454b9",
   "metadata": {},
   "outputs": [],
   "source": [
    "fig, ax = plt.subplots(1, 1, figsize=(35,5))\n",
    "\n",
    "ax.plot([len(i) for i in thesisDataReader.get_burchard_candidate_version_based_on_strongly_similar_london_base()], label='burchard')\n",
    "ax.plot([len(i) for i in london_chop_corpus], label='london chop')\n",
    "ax.plot([len(i) for i in zwickau_chop_corpus], label='zwickau chop')\n",
    "\n",
    "ax.set_title('p lenght')\n",
    "ax.set_xlim([0, 225])\n",
    "ax.legend()\n",
    "ax.set_yscale('log')\n"
   ]
  },
  {
   "cell_type": "code",
   "execution_count": null,
   "id": "d6b7db32",
   "metadata": {},
   "outputs": [],
   "source": [
    "len(thesisDataReader.get_burchard_candidate_version_based_on_strongly_similar_london_base())"
   ]
  },
  {
   "cell_type": "code",
   "execution_count": null,
   "id": "aabe60b4",
   "metadata": {},
   "outputs": [],
   "source": [
    "possible_mistakes_burchard_based_on_london_distance_1"
   ]
  },
  {
   "cell_type": "code",
   "execution_count": null,
   "id": "4843244b",
   "metadata": {},
   "outputs": [],
   "source": [
    "possible_mistakes_burchard_based_on_zwickau_distance_1"
   ]
  },
  {
   "cell_type": "code",
   "execution_count": null,
   "id": "1dd55ca3",
   "metadata": {},
   "outputs": [],
   "source": [
    "for i in possible_mistakes_burchard_based_on_london_distance_1:\n",
    "    if len(possible_mistakes_burchard_based_on_london_distance_1[i]) == 0 and len(possible_mistakes_burchard_based_on_zwickau_distance_1[i]) == 0: continue\n",
    "    \n",
    "    for n, p in enumerate(possible_mistakes_burchard_based_on_london_distance_1[i]):\n",
    "        if p[0] != possible_mistakes_burchard_based_on_zwickau_distance_1[i][n][0]:\n",
    "            print('found mismatch', p)"
   ]
  },
  {
   "cell_type": "code",
   "execution_count": null,
   "id": "01566841",
   "metadata": {},
   "outputs": [],
   "source": []
  }
 ],
 "metadata": {
  "kernelspec": {
   "display_name": "Python 3",
   "language": "python",
   "name": "python3"
  },
  "language_info": {
   "codemirror_mode": {
    "name": "ipython",
    "version": 3
   },
   "file_extension": ".py",
   "mimetype": "text/x-python",
   "name": "python",
   "nbconvert_exporter": "python",
   "pygments_lexer": "ipython3",
   "version": "3.8.8"
  }
 },
 "nbformat": 4,
 "nbformat_minor": 5
}
