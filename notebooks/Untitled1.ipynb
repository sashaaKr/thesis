{
 "cells": [
  {
   "cell_type": "code",
   "execution_count": 1,
   "id": "b479df4c",
   "metadata": {},
   "outputs": [
    {
     "data": {
      "text/html": [
       "<style>.container { width:100% !important; }</style>"
      ],
      "text/plain": [
       "<IPython.core.display.HTML object>"
      ]
     },
     "metadata": {},
     "output_type": "display_data"
    }
   ],
   "source": [
    "from IPython.core.display import display, HTML\n",
    "display(HTML(\"<style>.container { width:100% !important; }</style>\"))"
   ]
  },
  {
   "cell_type": "code",
   "execution_count": 2,
   "id": "45c89ea8",
   "metadata": {},
   "outputs": [
    {
     "data": {
      "text/plain": [
       "<module 'similarities.cosine' from '../src/similarities/cosine.py'>"
      ]
     },
     "execution_count": 2,
     "metadata": {},
     "output_type": "execute_result"
    }
   ],
   "source": [
    "import numpy as np\n",
    "import pandas as pd\n",
    "import matplotlib.pyplot as plt\n",
    "import xgboost as xgb\n",
    "\n",
    "from sklearn.ensemble import RandomForestClassifier, AdaBoostClassifier\n",
    "from sklearn.preprocessing import LabelEncoder\n",
    "\n",
    "import sys\n",
    "import imp\n",
    "\n",
    "sys.path.append('../src/')\n",
    "import data.reader as dataReader\n",
    "import utils.utils as thesisUtils\n",
    "import similarities.cosine as thesisCosineSimilarity\n",
    "import vocabulary.vocabulary as thesisVocabulary\n",
    "import features.model_features as thesisModelFeatures\n",
    "import features.factory as thesisFactoryFeatures\n",
    "import data.corpus_stats as thesisCorpusStats\n",
    "\n",
    "imp.reload(dataReader)\n",
    "imp.reload(thesisUtils)\n",
    "imp.reload(thesisVocabulary)\n",
    "imp.reload(thesisCorpusStats)\n",
    "imp.reload(thesisModelFeatures)\n",
    "imp.reload(thesisFactoryFeatures)\n",
    "imp.reload(thesisCosineSimilarity)"
   ]
  },
  {
   "cell_type": "code",
   "execution_count": 3,
   "id": "8a33d64a",
   "metadata": {},
   "outputs": [],
   "source": [
    "london_corpus = dataReader.CorpusByNewLine.london()\n",
    "zwickau_corpus = dataReader.CorpusByNewLine.zwickau()"
   ]
  },
  {
   "cell_type": "code",
   "execution_count": 4,
   "id": "7c5ac3a3",
   "metadata": {},
   "outputs": [
    {
     "data": {
      "text/plain": [
       "506.3659305993691"
      ]
     },
     "execution_count": 4,
     "metadata": {},
     "output_type": "execute_result"
    }
   ],
   "source": [
    "np.average([ len(\"\".join(i.split())) for i in london_corpus.corpus])"
   ]
  },
  {
   "cell_type": "code",
   "execution_count": 5,
   "id": "6017adf0",
   "metadata": {},
   "outputs": [],
   "source": [
    "featuresFactory  = thesisFactoryFeatures.FeaturesFactory(\n",
    "    london_corpus = london_corpus,\n",
    "    zwickau_corpus = zwickau_corpus\n",
    ")"
   ]
  },
  {
   "cell_type": "code",
   "execution_count": 6,
   "id": "4439510f",
   "metadata": {},
   "outputs": [],
   "source": [
    "london_zwickau_similarities = thesisCosineSimilarity.CrossVersionSimilarity5Gram(london_corpus, zwickau_corpus)\n",
    "# london_zwickau_similarities.calculate()\n",
    "\n",
    "zwickau_london_similarities = thesisCosineSimilarity.CrossVersionSimilarity5Gram(zwickau_corpus, london_corpus)\n",
    "# zwickau_london_similarities.calculate()"
   ]
  },
  {
   "cell_type": "code",
   "execution_count": 7,
   "id": "db51455b",
   "metadata": {},
   "outputs": [],
   "source": [
    "# london_zwickau_similarities.save()\n",
    "# zwickau_london_similarities.save()\n",
    "london_zwickau_similarities.load()\n",
    "zwickau_london_similarities.load()"
   ]
  },
  {
   "cell_type": "code",
   "execution_count": 8,
   "id": "61acd065",
   "metadata": {},
   "outputs": [],
   "source": [
    "burchard_corpus_by_london = dataReader.BurchardCorpus(london_corpus, zwickau_corpus)\n",
    "burchard_corpus_by_zwickau = dataReader.BurchardCorpus(zwickau_corpus, london_corpus)"
   ]
  },
  {
   "cell_type": "code",
   "execution_count": 9,
   "id": "073df914",
   "metadata": {},
   "outputs": [],
   "source": [
    "london_leftovers = dataReader.LeftoversCorpus(london_corpus, zwickau_corpus)\n",
    "zwickau_leftovers = dataReader.LeftoversCorpus(zwickau_corpus, london_corpus)"
   ]
  },
  {
   "cell_type": "code",
   "execution_count": 10,
   "id": "d64d3170",
   "metadata": {},
   "outputs": [
    {
     "name": "stdout",
     "output_type": "stream",
     "text": [
      "157\n",
      "146\n"
     ]
    }
   ],
   "source": [
    "print(len(london_leftovers.corpus_for_predictions()))\n",
    "print(len(zwickau_leftovers.corpus_for_predictions()))"
   ]
  },
  {
   "cell_type": "code",
   "execution_count": 11,
   "id": "c56276a1",
   "metadata": {},
   "outputs": [],
   "source": [
    "def filter_short_p(corpus):\n",
    "    return list(filter(lambda x: len(x.split()) > 20, corpus))"
   ]
  },
  {
   "cell_type": "code",
   "execution_count": 12,
   "id": "779c37ef",
   "metadata": {},
   "outputs": [],
   "source": [
    "def build_burchard_corpus_with_predictions(burchard_corpus, wrong_predictions_by_london, wrong_predictions_by_zwickau):\n",
    "    is_burchard = True\n",
    "    temp_corpus = [ [p, is_burchard, is_burchard] for p in burchard_corpus ]\n",
    "    \n",
    "    for prediction in wrong_predictions_by_london:\n",
    "        temp_corpus[prediction.index][1] = False\n",
    "    for prediction in wrong_predictions_by_zwickau:\n",
    "        temp_corpus[prediction.index][2] = False\n",
    "\n",
    "    return temp_corpus"
   ]
  },
  {
   "cell_type": "code",
   "execution_count": 13,
   "id": "6272c71b",
   "metadata": {},
   "outputs": [],
   "source": [
    "london_leftofvers_long = filter_short_p(london_leftovers.corpus)\n",
    "zwickau_leftofvers_long = filter_short_p(zwickau_leftovers.corpus)\n",
    "burchard_corpus_by_london_corpus_long = filter_short_p(burchard_corpus_by_london.corpus)\n",
    "burchard_corpus_by_zwickau_corpus_long = filter_short_p(burchard_corpus_by_zwickau.corpus)"
   ]
  },
  {
   "cell_type": "code",
   "execution_count": 14,
   "id": "f880a6ef",
   "metadata": {},
   "outputs": [
    {
     "name": "stdout",
     "output_type": "stream",
     "text": [
      "203\n",
      "203\n"
     ]
    }
   ],
   "source": [
    "print(len(burchard_corpus_by_london_corpus_long))\n",
    "print(len(burchard_corpus_by_zwickau_corpus_long))"
   ]
  },
  {
   "cell_type": "code",
   "execution_count": 24,
   "id": "a945b10d",
   "metadata": {},
   "outputs": [
    {
     "name": "stdout",
     "output_type": "stream",
     "text": [
      "n_gram_feature_name: 2_5_gram\n",
      "n_gram_feature_name: 2_5_gram\n"
     ]
    }
   ],
   "source": [
    "# burchard_by_london_VS_zwickau_features_df = thesisModelFeatures.create_features_df(\n",
    "#     london_corpus = None,\n",
    "#     zwickau_corpus = zwickau_leftofvers_long,\n",
    "#     n_gram = (2,5),\n",
    "#     features = { 'tfidf', 'inner_mean_cosine_similarity_score' }\n",
    "# )\n",
    "# burchard_by_zwickau_VS_zwickau_features_df = thesisModelFeatures.create_features_df(\n",
    "#     london_corpus = None,\n",
    "#     zwickau_corpus = zwickau_leftofvers_long,\n",
    "#     n_gram = (2,5),\n",
    "#     features = { 'tfidf', 'inner_mean_cosine_similarity_score' }\n",
    "# )\n",
    "# burchard_by_london_VS_london_features_df = thesisModelFeatures.create_features_df(\n",
    "#     london_corpus = london_leftofvers_long,\n",
    "#     zwickau_corpus = None,\n",
    "#     n_gram = (2,5),\n",
    "#     features = { 'tfidf', 'inner_mean_cosine_similarity_score' }\n",
    "# )\n",
    "# burchard_by_zwickau_VS_london_features_df = thesisModelFeatures.create_features_df(\n",
    "#     london_corpus =london_leftofvers_long,\n",
    "#     zwickau_corpus = None,\n",
    "#     n_gram = (2,5),\n",
    "#     features = { 'tfidf', 'inner_mean_cosine_similarity_score' }\n",
    "# )\n",
    "\n",
    "df = featuresFactory.burchard_by_london_VS_zwickau()"
   ]
  },
  {
   "cell_type": "markdown",
   "id": "9a7bd6d7",
   "metadata": {},
   "source": [
    "## Candidate VS zwickau"
   ]
  },
  {
   "cell_type": "code",
   "execution_count": 25,
   "id": "de583b79",
   "metadata": {},
   "outputs": [],
   "source": [
    "burchard_by_london_VS_zwickau_models_experiment = thesisModelFeatures.ModelsExperiment(df, 'big_hope')"
   ]
  },
  {
   "cell_type": "code",
   "execution_count": 26,
   "id": "ec8fdb13",
   "metadata": {},
   "outputs": [
    {
     "name": "stdout",
     "output_type": "stream",
     "text": [
      "running: SVM_linear\n"
     ]
    },
    {
     "name": "stderr",
     "output_type": "stream",
     "text": [
      "/Users/sasha.kruglyak/opt/anaconda3/lib/python3.8/site-packages/sklearn/metrics/_classification.py:1248: UndefinedMetricWarning: Precision is ill-defined and being set to 0.0 in labels with no predicted samples. Use `zero_division` parameter to control this behavior.\n",
      "  _warn_prf(average, modifier, msg_start, len(result))\n",
      "/Users/sasha.kruglyak/opt/anaconda3/lib/python3.8/site-packages/sklearn/metrics/_classification.py:1248: UndefinedMetricWarning: Precision is ill-defined and being set to 0.0 in labels with no predicted samples. Use `zero_division` parameter to control this behavior.\n",
      "  _warn_prf(average, modifier, msg_start, len(result))\n",
      "/Users/sasha.kruglyak/opt/anaconda3/lib/python3.8/site-packages/sklearn/metrics/_classification.py:1248: UndefinedMetricWarning: Precision is ill-defined and being set to 0.0 in labels with no predicted samples. Use `zero_division` parameter to control this behavior.\n",
      "  _warn_prf(average, modifier, msg_start, len(result))\n",
      "/Users/sasha.kruglyak/opt/anaconda3/lib/python3.8/site-packages/sklearn/metrics/_classification.py:1248: UndefinedMetricWarning: Precision is ill-defined and being set to 0.0 in labels with no predicted samples. Use `zero_division` parameter to control this behavior.\n",
      "  _warn_prf(average, modifier, msg_start, len(result))\n",
      "/Users/sasha.kruglyak/opt/anaconda3/lib/python3.8/site-packages/sklearn/metrics/_classification.py:1248: UndefinedMetricWarning: Precision is ill-defined and being set to 0.0 in labels with no predicted samples. Use `zero_division` parameter to control this behavior.\n",
      "  _warn_prf(average, modifier, msg_start, len(result))\n",
      "/Users/sasha.kruglyak/opt/anaconda3/lib/python3.8/site-packages/sklearn/metrics/_classification.py:1248: UndefinedMetricWarning: Precision is ill-defined and being set to 0.0 in labels with no predicted samples. Use `zero_division` parameter to control this behavior.\n",
      "  _warn_prf(average, modifier, msg_start, len(result))\n",
      "/Users/sasha.kruglyak/opt/anaconda3/lib/python3.8/site-packages/sklearn/metrics/_classification.py:1248: UndefinedMetricWarning: Precision is ill-defined and being set to 0.0 in labels with no predicted samples. Use `zero_division` parameter to control this behavior.\n",
      "  _warn_prf(average, modifier, msg_start, len(result))\n",
      "/Users/sasha.kruglyak/opt/anaconda3/lib/python3.8/site-packages/sklearn/metrics/_classification.py:1248: UndefinedMetricWarning: Precision is ill-defined and being set to 0.0 in labels with no predicted samples. Use `zero_division` parameter to control this behavior.\n",
      "  _warn_prf(average, modifier, msg_start, len(result))\n",
      "/Users/sasha.kruglyak/opt/anaconda3/lib/python3.8/site-packages/sklearn/metrics/_classification.py:1248: UndefinedMetricWarning: Precision is ill-defined and being set to 0.0 in labels with no predicted samples. Use `zero_division` parameter to control this behavior.\n",
      "  _warn_prf(average, modifier, msg_start, len(result))\n",
      "/Users/sasha.kruglyak/opt/anaconda3/lib/python3.8/site-packages/sklearn/metrics/_classification.py:1248: UndefinedMetricWarning: Precision is ill-defined and being set to 0.0 in labels with no predicted samples. Use `zero_division` parameter to control this behavior.\n",
      "  _warn_prf(average, modifier, msg_start, len(result))\n"
     ]
    },
    {
     "name": "stdout",
     "output_type": "stream",
     "text": [
      "Elapsed time to compute the cross validate: 0.518 minutes\n",
      "running: SVM_RBF\n",
      "Elapsed time to compute the cross validate: 0.575 minutes\n",
      "running: DecisionTreeClassifier\n",
      "Elapsed time to compute the cross validate: 0.136 minutes\n",
      "running: QuadraticDiscriminantAnalysis\n"
     ]
    },
    {
     "name": "stderr",
     "output_type": "stream",
     "text": [
      "/Users/sasha.kruglyak/opt/anaconda3/lib/python3.8/site-packages/sklearn/discriminant_analysis.py:808: UserWarning: Variables are collinear\n",
      "  warnings.warn(\"Variables are collinear\")\n",
      "/Users/sasha.kruglyak/opt/anaconda3/lib/python3.8/site-packages/sklearn/discriminant_analysis.py:808: UserWarning: Variables are collinear\n",
      "  warnings.warn(\"Variables are collinear\")\n",
      "/Users/sasha.kruglyak/opt/anaconda3/lib/python3.8/site-packages/sklearn/discriminant_analysis.py:808: UserWarning: Variables are collinear\n",
      "  warnings.warn(\"Variables are collinear\")\n",
      "/Users/sasha.kruglyak/opt/anaconda3/lib/python3.8/site-packages/sklearn/discriminant_analysis.py:808: UserWarning: Variables are collinear\n",
      "  warnings.warn(\"Variables are collinear\")\n",
      "/Users/sasha.kruglyak/opt/anaconda3/lib/python3.8/site-packages/sklearn/discriminant_analysis.py:808: UserWarning: Variables are collinear\n",
      "  warnings.warn(\"Variables are collinear\")\n",
      "/Users/sasha.kruglyak/opt/anaconda3/lib/python3.8/site-packages/sklearn/discriminant_analysis.py:808: UserWarning: Variables are collinear\n",
      "  warnings.warn(\"Variables are collinear\")\n",
      "/Users/sasha.kruglyak/opt/anaconda3/lib/python3.8/site-packages/sklearn/discriminant_analysis.py:808: UserWarning: Variables are collinear\n",
      "  warnings.warn(\"Variables are collinear\")\n",
      "/Users/sasha.kruglyak/opt/anaconda3/lib/python3.8/site-packages/sklearn/discriminant_analysis.py:808: UserWarning: Variables are collinear\n",
      "  warnings.warn(\"Variables are collinear\")\n",
      "/Users/sasha.kruglyak/opt/anaconda3/lib/python3.8/site-packages/sklearn/discriminant_analysis.py:808: UserWarning: Variables are collinear\n",
      "  warnings.warn(\"Variables are collinear\")\n",
      "/Users/sasha.kruglyak/opt/anaconda3/lib/python3.8/site-packages/sklearn/discriminant_analysis.py:808: UserWarning: Variables are collinear\n",
      "  warnings.warn(\"Variables are collinear\")\n"
     ]
    },
    {
     "name": "stdout",
     "output_type": "stream",
     "text": [
      "Elapsed time to compute the cross validate: 0.907 minutes\n",
      "running: DecisionTreeClassifier\n",
      "Elapsed time to compute the cross validate: 0.139 minutes\n",
      "running: GaussianProcessClassifier\n",
      "Elapsed time to compute the cross validate: 0.900 minutes\n",
      "running: RandomForestClassifier\n",
      "Elapsed time to compute the cross validate: 0.121 minutes\n",
      "running: MLPClassifier\n",
      "Elapsed time to compute the cross validate: 4.767 minutes\n",
      "running: GaussianNB\n",
      "Elapsed time to compute the cross validate: 0.075 minutes\n",
      "running: KNeighborsClassifier\n",
      "Elapsed time to compute the cross validate: 0.067 minutes\n",
      "running: AdaBoostClassifier\n",
      "Elapsed time to compute the cross validate: 0.694 minutes\n",
      "running: XGBClassifier\n",
      "Elapsed time to compute the cross validate: 2.154 minutes\n"
     ]
    }
   ],
   "source": [
    "burchard_by_london_VS_zwickau_models_experiment.run_cross_validate()"
   ]
  },
  {
   "cell_type": "code",
   "execution_count": 27,
   "id": "b7988d4c",
   "metadata": {},
   "outputs": [
    {
     "data": {
      "text/html": [
       "<div>\n",
       "<style scoped>\n",
       "    .dataframe tbody tr th:only-of-type {\n",
       "        vertical-align: middle;\n",
       "    }\n",
       "\n",
       "    .dataframe tbody tr th {\n",
       "        vertical-align: top;\n",
       "    }\n",
       "\n",
       "    .dataframe thead th {\n",
       "        text-align: right;\n",
       "    }\n",
       "</style>\n",
       "<table border=\"1\" class=\"dataframe\">\n",
       "  <thead>\n",
       "    <tr style=\"text-align: right;\">\n",
       "      <th></th>\n",
       "      <th>precision_macro</th>\n",
       "      <th>recall_macro</th>\n",
       "      <th>f1_macro</th>\n",
       "      <th>f1_micro</th>\n",
       "      <th>f1_weighted</th>\n",
       "      <th>accuracy</th>\n",
       "    </tr>\n",
       "  </thead>\n",
       "  <tbody>\n",
       "    <tr>\n",
       "      <th>XGBClassifier</th>\n",
       "      <td>0.833020</td>\n",
       "      <td>0.808810</td>\n",
       "      <td>0.814038</td>\n",
       "      <td>0.825546</td>\n",
       "      <td>0.821450</td>\n",
       "      <td>0.825546</td>\n",
       "    </tr>\n",
       "    <tr>\n",
       "      <th>AdaBoostClassifier</th>\n",
       "      <td>0.780077</td>\n",
       "      <td>0.768690</td>\n",
       "      <td>0.770442</td>\n",
       "      <td>0.779664</td>\n",
       "      <td>0.777805</td>\n",
       "      <td>0.779664</td>\n",
       "    </tr>\n",
       "    <tr>\n",
       "      <th>RandomForestClassifier</th>\n",
       "      <td>0.736674</td>\n",
       "      <td>0.700119</td>\n",
       "      <td>0.700978</td>\n",
       "      <td>0.728151</td>\n",
       "      <td>0.715509</td>\n",
       "      <td>0.728151</td>\n",
       "    </tr>\n",
       "    <tr>\n",
       "      <th>DecisionTreeClassifier</th>\n",
       "      <td>0.710832</td>\n",
       "      <td>0.702976</td>\n",
       "      <td>0.699308</td>\n",
       "      <td>0.708067</td>\n",
       "      <td>0.706625</td>\n",
       "      <td>0.708067</td>\n",
       "    </tr>\n",
       "    <tr>\n",
       "      <th>SVM_RBF</th>\n",
       "      <td>0.750972</td>\n",
       "      <td>0.645714</td>\n",
       "      <td>0.629794</td>\n",
       "      <td>0.693613</td>\n",
       "      <td>0.654683</td>\n",
       "      <td>0.693613</td>\n",
       "    </tr>\n",
       "    <tr>\n",
       "      <th>GaussianProcessClassifier</th>\n",
       "      <td>0.792409</td>\n",
       "      <td>0.634167</td>\n",
       "      <td>0.608110</td>\n",
       "      <td>0.690756</td>\n",
       "      <td>0.637669</td>\n",
       "      <td>0.690756</td>\n",
       "    </tr>\n",
       "    <tr>\n",
       "      <th>MLPClassifier</th>\n",
       "      <td>0.642064</td>\n",
       "      <td>0.592619</td>\n",
       "      <td>0.580862</td>\n",
       "      <td>0.633697</td>\n",
       "      <td>0.604817</td>\n",
       "      <td>0.633697</td>\n",
       "    </tr>\n",
       "    <tr>\n",
       "      <th>KNeighborsClassifier</th>\n",
       "      <td>0.642882</td>\n",
       "      <td>0.550833</td>\n",
       "      <td>0.490248</td>\n",
       "      <td>0.616134</td>\n",
       "      <td>0.532242</td>\n",
       "      <td>0.616134</td>\n",
       "    </tr>\n",
       "    <tr>\n",
       "      <th>GaussianNB</th>\n",
       "      <td>0.602404</td>\n",
       "      <td>0.520476</td>\n",
       "      <td>0.457501</td>\n",
       "      <td>0.584454</td>\n",
       "      <td>0.499864</td>\n",
       "      <td>0.584454</td>\n",
       "    </tr>\n",
       "    <tr>\n",
       "      <th>SVM_linear</th>\n",
       "      <td>0.290840</td>\n",
       "      <td>0.500000</td>\n",
       "      <td>0.367719</td>\n",
       "      <td>0.581681</td>\n",
       "      <td>0.427924</td>\n",
       "      <td>0.581681</td>\n",
       "    </tr>\n",
       "    <tr>\n",
       "      <th>QuadraticDiscriminantAnalysis</th>\n",
       "      <td>0.546383</td>\n",
       "      <td>0.551905</td>\n",
       "      <td>0.541705</td>\n",
       "      <td>0.573445</td>\n",
       "      <td>0.559351</td>\n",
       "      <td>0.573445</td>\n",
       "    </tr>\n",
       "  </tbody>\n",
       "</table>\n",
       "</div>"
      ],
      "text/plain": [
       "                               precision_macro  recall_macro  f1_macro  \\\n",
       "XGBClassifier                         0.833020      0.808810  0.814038   \n",
       "AdaBoostClassifier                    0.780077      0.768690  0.770442   \n",
       "RandomForestClassifier                0.736674      0.700119  0.700978   \n",
       "DecisionTreeClassifier                0.710832      0.702976  0.699308   \n",
       "SVM_RBF                               0.750972      0.645714  0.629794   \n",
       "GaussianProcessClassifier             0.792409      0.634167  0.608110   \n",
       "MLPClassifier                         0.642064      0.592619  0.580862   \n",
       "KNeighborsClassifier                  0.642882      0.550833  0.490248   \n",
       "GaussianNB                            0.602404      0.520476  0.457501   \n",
       "SVM_linear                            0.290840      0.500000  0.367719   \n",
       "QuadraticDiscriminantAnalysis         0.546383      0.551905  0.541705   \n",
       "\n",
       "                               f1_micro  f1_weighted  accuracy  \n",
       "XGBClassifier                  0.825546     0.821450  0.825546  \n",
       "AdaBoostClassifier             0.779664     0.777805  0.779664  \n",
       "RandomForestClassifier         0.728151     0.715509  0.728151  \n",
       "DecisionTreeClassifier         0.708067     0.706625  0.708067  \n",
       "SVM_RBF                        0.693613     0.654683  0.693613  \n",
       "GaussianProcessClassifier      0.690756     0.637669  0.690756  \n",
       "MLPClassifier                  0.633697     0.604817  0.633697  \n",
       "KNeighborsClassifier           0.616134     0.532242  0.616134  \n",
       "GaussianNB                     0.584454     0.499864  0.584454  \n",
       "SVM_linear                     0.581681     0.427924  0.581681  \n",
       "QuadraticDiscriminantAnalysis  0.573445     0.559351  0.573445  "
      ]
     },
     "execution_count": 27,
     "metadata": {},
     "output_type": "execute_result"
    }
   ],
   "source": [
    "burchard_by_london_VS_zwickau_models_experiment.show_cross_validate_results()"
   ]
  },
  {
   "cell_type": "code",
   "execution_count": 28,
   "id": "366e5c5d",
   "metadata": {},
   "outputs": [],
   "source": [
    "modelsToTest = [\n",
    "    ( thesisModelFeatures.Model(RandomForestClassifier(max_depth = 9, n_estimators = 400, random_state = 0)), 'RandomForestClassifier', {} ),\n",
    "    ( thesisModelFeatures.Model(AdaBoostClassifier(learning_rate = 1, n_estimators = 2000)), 'AdaBoostClassifier', {} ),\n",
    "    ]"
   ]
  },
  {
   "cell_type": "code",
   "execution_count": 30,
   "id": "0ca859c1",
   "metadata": {},
   "outputs": [
    {
     "name": "stdout",
     "output_type": "stream",
     "text": [
      "running: RandomForestClassifier\n",
      "Elapsed time to compute the cross validate: 0.268 minutes\n",
      "running: AdaBoostClassifier\n",
      "Elapsed time to compute the cross validate: 25.489 minutes\n"
     ]
    }
   ],
   "source": [
    "import time\n",
    "scores_df = pd.DataFrame(dtype=float)\n",
    "scoring = ('precision_macro', 'recall_macro', 'f1_macro', 'f1_micro', 'f1_weighted', 'accuracy')\n",
    "\n",
    "cross_validate_results = []\n",
    "for m, classifier_name, greed_search_cv_params in modelsToTest:\n",
    "    print(f'running: {classifier_name}')\n",
    "    start_time = time.time()\n",
    "    classifier_cross_validate_score = m.run_cross_validate(df)\n",
    "    elapsed_time = time.time() - start_time\n",
    "    print(f\"Elapsed time to compute the cross validate: {elapsed_time/60:.3f} minutes\")\n",
    "    cross_validate_results.append(classifier_cross_validate_score)\n",
    "    for s in scoring:\n",
    "        scores_df.loc[classifier_name, s] = classifier_cross_validate_score[f'test_{s}'].mean()"
   ]
  },
  {
   "cell_type": "code",
   "execution_count": 31,
   "id": "79ec3a1c",
   "metadata": {},
   "outputs": [
    {
     "data": {
      "text/html": [
       "<div>\n",
       "<style scoped>\n",
       "    .dataframe tbody tr th:only-of-type {\n",
       "        vertical-align: middle;\n",
       "    }\n",
       "\n",
       "    .dataframe tbody tr th {\n",
       "        vertical-align: top;\n",
       "    }\n",
       "\n",
       "    .dataframe thead th {\n",
       "        text-align: right;\n",
       "    }\n",
       "</style>\n",
       "<table border=\"1\" class=\"dataframe\">\n",
       "  <thead>\n",
       "    <tr style=\"text-align: right;\">\n",
       "      <th></th>\n",
       "      <th>precision_macro</th>\n",
       "      <th>recall_macro</th>\n",
       "      <th>f1_macro</th>\n",
       "      <th>f1_micro</th>\n",
       "      <th>f1_weighted</th>\n",
       "      <th>accuracy</th>\n",
       "    </tr>\n",
       "  </thead>\n",
       "  <tbody>\n",
       "    <tr>\n",
       "      <th>RandomForestClassifier</th>\n",
       "      <td>0.778396</td>\n",
       "      <td>0.718929</td>\n",
       "      <td>0.720251</td>\n",
       "      <td>0.751092</td>\n",
       "      <td>0.735244</td>\n",
       "      <td>0.751092</td>\n",
       "    </tr>\n",
       "    <tr>\n",
       "      <th>AdaBoostClassifier</th>\n",
       "      <td>0.868232</td>\n",
       "      <td>0.841190</td>\n",
       "      <td>0.847723</td>\n",
       "      <td>0.856891</td>\n",
       "      <td>0.853699</td>\n",
       "      <td>0.856891</td>\n",
       "    </tr>\n",
       "  </tbody>\n",
       "</table>\n",
       "</div>"
      ],
      "text/plain": [
       "                        precision_macro  recall_macro  f1_macro  f1_micro  \\\n",
       "RandomForestClassifier         0.778396      0.718929  0.720251  0.751092   \n",
       "AdaBoostClassifier             0.868232      0.841190  0.847723  0.856891   \n",
       "\n",
       "                        f1_weighted  accuracy  \n",
       "RandomForestClassifier     0.735244  0.751092  \n",
       "AdaBoostClassifier         0.853699  0.856891  "
      ]
     },
     "execution_count": 31,
     "metadata": {},
     "output_type": "execute_result"
    }
   ],
   "source": [
    "scores_df"
   ]
  },
  {
   "cell_type": "code",
   "execution_count": 37,
   "id": "30fac9d9",
   "metadata": {},
   "outputs": [],
   "source": [
    "modelsToTest = [\n",
    "    ( thesisModelFeatures.Model(xgb.XGBClassifier(base_score=0.5, booster='gbtree', callbacks=None,\n",
    "              colsample_bylevel=1, colsample_bynode=1, colsample_bytree=1,\n",
    "              early_stopping_rounds=None, enable_categorical=False,\n",
    "              eval_metric=None, gamma=0.4, gpu_id=-1, grow_policy='depthwise',\n",
    "              importance_type=None, interaction_constraints='',\n",
    "              learning_rate=0.300000012, max_bin=256, max_cat_to_onehot=4,\n",
    "              max_delta_step=0, max_depth=3, max_leaves=0, min_child_weight=5,\n",
    "            monotone_constraints='()', n_estimators=100,\n",
    "              n_jobs=0, num_parallel_tree=1, predictor='auto', random_state=0,\n",
    "              reg_alpha=0, reg_lambda=1)), 'XGBClassifier', {} ),\n",
    "    ]"
   ]
  },
  {
   "cell_type": "code",
   "execution_count": 38,
   "id": "5d9791dd",
   "metadata": {},
   "outputs": [
    {
     "name": "stdout",
     "output_type": "stream",
     "text": [
      "running: XGBClassifier\n",
      "Elapsed time to compute the cross validate: 1.936 minutes\n"
     ]
    }
   ],
   "source": [
    "import time\n",
    "scores_df = pd.DataFrame(dtype=float)\n",
    "scoring = ('precision_macro', 'recall_macro', 'f1_macro', 'f1_micro', 'f1_weighted', 'accuracy')\n",
    "\n",
    "cross_validate_results = []\n",
    "for m, classifier_name, greed_search_cv_params in modelsToTest:\n",
    "    print(f'running: {classifier_name}')\n",
    "    start_time = time.time()\n",
    "    classifier_cross_validate_score = m.run_cross_validate(df)\n",
    "    elapsed_time = time.time() - start_time\n",
    "    print(f\"Elapsed time to compute the cross validate: {elapsed_time/60:.3f} minutes\")\n",
    "    cross_validate_results.append(classifier_cross_validate_score)\n",
    "    for s in scoring:\n",
    "        scores_df.loc[classifier_name, s] = classifier_cross_validate_score[f'test_{s}'].mean()"
   ]
  },
  {
   "cell_type": "code",
   "execution_count": 39,
   "id": "df94e1d1",
   "metadata": {},
   "outputs": [
    {
     "data": {
      "text/html": [
       "<div>\n",
       "<style scoped>\n",
       "    .dataframe tbody tr th:only-of-type {\n",
       "        vertical-align: middle;\n",
       "    }\n",
       "\n",
       "    .dataframe tbody tr th {\n",
       "        vertical-align: top;\n",
       "    }\n",
       "\n",
       "    .dataframe thead th {\n",
       "        text-align: right;\n",
       "    }\n",
       "</style>\n",
       "<table border=\"1\" class=\"dataframe\">\n",
       "  <thead>\n",
       "    <tr style=\"text-align: right;\">\n",
       "      <th></th>\n",
       "      <th>precision_macro</th>\n",
       "      <th>recall_macro</th>\n",
       "      <th>f1_macro</th>\n",
       "      <th>f1_micro</th>\n",
       "      <th>f1_weighted</th>\n",
       "      <th>accuracy</th>\n",
       "    </tr>\n",
       "  </thead>\n",
       "  <tbody>\n",
       "    <tr>\n",
       "      <th>XGBClassifier</th>\n",
       "      <td>0.844907</td>\n",
       "      <td>0.828929</td>\n",
       "      <td>0.832233</td>\n",
       "      <td>0.839916</td>\n",
       "      <td>0.837801</td>\n",
       "      <td>0.839916</td>\n",
       "    </tr>\n",
       "  </tbody>\n",
       "</table>\n",
       "</div>"
      ],
      "text/plain": [
       "               precision_macro  recall_macro  f1_macro  f1_micro  f1_weighted  \\\n",
       "XGBClassifier         0.844907      0.828929  0.832233  0.839916     0.837801   \n",
       "\n",
       "               accuracy  \n",
       "XGBClassifier  0.839916  "
      ]
     },
     "execution_count": 39,
     "metadata": {},
     "output_type": "execute_result"
    }
   ],
   "source": [
    "scores_df"
   ]
  },
  {
   "cell_type": "markdown",
   "id": "afd4d104",
   "metadata": {},
   "source": [
    "### Candidate VS London"
   ]
  },
  {
   "cell_type": "code",
   "execution_count": 40,
   "id": "b1256696",
   "metadata": {},
   "outputs": [
    {
     "name": "stdout",
     "output_type": "stream",
     "text": [
      "n_gram_feature_name: 2_5_gram\n",
      "n_gram_feature_name: 2_5_gram\n"
     ]
    }
   ],
   "source": [
    "df = featuresFactory.burchard_by_london_VS_london()"
   ]
  },
  {
   "cell_type": "code",
   "execution_count": 41,
   "id": "3f4fc77c",
   "metadata": {},
   "outputs": [],
   "source": [
    "burchard_by_london_VS_zwickau_models_experiment = thesisModelFeatures.ModelsExperiment(df, 'big_hope_2')"
   ]
  },
  {
   "cell_type": "code",
   "execution_count": 42,
   "id": "82da978e",
   "metadata": {},
   "outputs": [
    {
     "name": "stdout",
     "output_type": "stream",
     "text": [
      "running: SVM_linear\n"
     ]
    },
    {
     "name": "stderr",
     "output_type": "stream",
     "text": [
      "/Users/sasha.kruglyak/opt/anaconda3/lib/python3.8/site-packages/sklearn/metrics/_classification.py:1248: UndefinedMetricWarning: Precision is ill-defined and being set to 0.0 in labels with no predicted samples. Use `zero_division` parameter to control this behavior.\n",
      "  _warn_prf(average, modifier, msg_start, len(result))\n",
      "/Users/sasha.kruglyak/opt/anaconda3/lib/python3.8/site-packages/sklearn/metrics/_classification.py:1248: UndefinedMetricWarning: Precision is ill-defined and being set to 0.0 in labels with no predicted samples. Use `zero_division` parameter to control this behavior.\n",
      "  _warn_prf(average, modifier, msg_start, len(result))\n",
      "/Users/sasha.kruglyak/opt/anaconda3/lib/python3.8/site-packages/sklearn/metrics/_classification.py:1248: UndefinedMetricWarning: Precision is ill-defined and being set to 0.0 in labels with no predicted samples. Use `zero_division` parameter to control this behavior.\n",
      "  _warn_prf(average, modifier, msg_start, len(result))\n",
      "/Users/sasha.kruglyak/opt/anaconda3/lib/python3.8/site-packages/sklearn/metrics/_classification.py:1248: UndefinedMetricWarning: Precision is ill-defined and being set to 0.0 in labels with no predicted samples. Use `zero_division` parameter to control this behavior.\n",
      "  _warn_prf(average, modifier, msg_start, len(result))\n",
      "/Users/sasha.kruglyak/opt/anaconda3/lib/python3.8/site-packages/sklearn/metrics/_classification.py:1248: UndefinedMetricWarning: Precision is ill-defined and being set to 0.0 in labels with no predicted samples. Use `zero_division` parameter to control this behavior.\n",
      "  _warn_prf(average, modifier, msg_start, len(result))\n",
      "/Users/sasha.kruglyak/opt/anaconda3/lib/python3.8/site-packages/sklearn/metrics/_classification.py:1248: UndefinedMetricWarning: Precision is ill-defined and being set to 0.0 in labels with no predicted samples. Use `zero_division` parameter to control this behavior.\n",
      "  _warn_prf(average, modifier, msg_start, len(result))\n",
      "/Users/sasha.kruglyak/opt/anaconda3/lib/python3.8/site-packages/sklearn/metrics/_classification.py:1248: UndefinedMetricWarning: Precision is ill-defined and being set to 0.0 in labels with no predicted samples. Use `zero_division` parameter to control this behavior.\n",
      "  _warn_prf(average, modifier, msg_start, len(result))\n",
      "/Users/sasha.kruglyak/opt/anaconda3/lib/python3.8/site-packages/sklearn/metrics/_classification.py:1248: UndefinedMetricWarning: Precision is ill-defined and being set to 0.0 in labels with no predicted samples. Use `zero_division` parameter to control this behavior.\n",
      "  _warn_prf(average, modifier, msg_start, len(result))\n",
      "/Users/sasha.kruglyak/opt/anaconda3/lib/python3.8/site-packages/sklearn/metrics/_classification.py:1248: UndefinedMetricWarning: Precision is ill-defined and being set to 0.0 in labels with no predicted samples. Use `zero_division` parameter to control this behavior.\n",
      "  _warn_prf(average, modifier, msg_start, len(result))\n",
      "/Users/sasha.kruglyak/opt/anaconda3/lib/python3.8/site-packages/sklearn/metrics/_classification.py:1248: UndefinedMetricWarning: Precision is ill-defined and being set to 0.0 in labels with no predicted samples. Use `zero_division` parameter to control this behavior.\n",
      "  _warn_prf(average, modifier, msg_start, len(result))\n"
     ]
    },
    {
     "name": "stdout",
     "output_type": "stream",
     "text": [
      "Elapsed time to compute the cross validate: 0.863 minutes\n",
      "running: SVM_RBF\n",
      "Elapsed time to compute the cross validate: 0.928 minutes\n",
      "running: DecisionTreeClassifier\n",
      "Elapsed time to compute the cross validate: 0.158 minutes\n",
      "running: QuadraticDiscriminantAnalysis\n"
     ]
    },
    {
     "name": "stderr",
     "output_type": "stream",
     "text": [
      "/Users/sasha.kruglyak/opt/anaconda3/lib/python3.8/site-packages/sklearn/discriminant_analysis.py:808: UserWarning: Variables are collinear\n",
      "  warnings.warn(\"Variables are collinear\")\n",
      "/Users/sasha.kruglyak/opt/anaconda3/lib/python3.8/site-packages/sklearn/discriminant_analysis.py:808: UserWarning: Variables are collinear\n",
      "  warnings.warn(\"Variables are collinear\")\n",
      "/Users/sasha.kruglyak/opt/anaconda3/lib/python3.8/site-packages/sklearn/discriminant_analysis.py:808: UserWarning: Variables are collinear\n",
      "  warnings.warn(\"Variables are collinear\")\n",
      "/Users/sasha.kruglyak/opt/anaconda3/lib/python3.8/site-packages/sklearn/discriminant_analysis.py:808: UserWarning: Variables are collinear\n",
      "  warnings.warn(\"Variables are collinear\")\n",
      "/Users/sasha.kruglyak/opt/anaconda3/lib/python3.8/site-packages/sklearn/discriminant_analysis.py:808: UserWarning: Variables are collinear\n",
      "  warnings.warn(\"Variables are collinear\")\n",
      "/Users/sasha.kruglyak/opt/anaconda3/lib/python3.8/site-packages/sklearn/discriminant_analysis.py:808: UserWarning: Variables are collinear\n",
      "  warnings.warn(\"Variables are collinear\")\n",
      "/Users/sasha.kruglyak/opt/anaconda3/lib/python3.8/site-packages/sklearn/discriminant_analysis.py:808: UserWarning: Variables are collinear\n",
      "  warnings.warn(\"Variables are collinear\")\n",
      "/Users/sasha.kruglyak/opt/anaconda3/lib/python3.8/site-packages/sklearn/discriminant_analysis.py:808: UserWarning: Variables are collinear\n",
      "  warnings.warn(\"Variables are collinear\")\n",
      "/Users/sasha.kruglyak/opt/anaconda3/lib/python3.8/site-packages/sklearn/discriminant_analysis.py:808: UserWarning: Variables are collinear\n",
      "  warnings.warn(\"Variables are collinear\")\n",
      "/Users/sasha.kruglyak/opt/anaconda3/lib/python3.8/site-packages/sklearn/discriminant_analysis.py:808: UserWarning: Variables are collinear\n",
      "  warnings.warn(\"Variables are collinear\")\n"
     ]
    },
    {
     "name": "stdout",
     "output_type": "stream",
     "text": [
      "Elapsed time to compute the cross validate: 0.968 minutes\n",
      "running: DecisionTreeClassifier\n",
      "Elapsed time to compute the cross validate: 0.160 minutes\n",
      "running: GaussianProcessClassifier\n",
      "Elapsed time to compute the cross validate: 1.014 minutes\n",
      "running: RandomForestClassifier\n",
      "Elapsed time to compute the cross validate: 0.133 minutes\n",
      "running: MLPClassifier\n",
      "Elapsed time to compute the cross validate: 5.309 minutes\n",
      "running: GaussianNB\n",
      "Elapsed time to compute the cross validate: 0.078 minutes\n",
      "running: KNeighborsClassifier\n",
      "Elapsed time to compute the cross validate: 0.071 minutes\n",
      "running: AdaBoostClassifier\n",
      "Elapsed time to compute the cross validate: 0.752 minutes\n",
      "running: XGBClassifier\n",
      "Elapsed time to compute the cross validate: 2.358 minutes\n"
     ]
    }
   ],
   "source": [
    "burchard_by_london_VS_zwickau_models_experiment.run_cross_validate()"
   ]
  },
  {
   "cell_type": "code",
   "execution_count": 43,
   "id": "34d9a757",
   "metadata": {},
   "outputs": [
    {
     "data": {
      "text/html": [
       "<div>\n",
       "<style scoped>\n",
       "    .dataframe tbody tr th:only-of-type {\n",
       "        vertical-align: middle;\n",
       "    }\n",
       "\n",
       "    .dataframe tbody tr th {\n",
       "        vertical-align: top;\n",
       "    }\n",
       "\n",
       "    .dataframe thead th {\n",
       "        text-align: right;\n",
       "    }\n",
       "</style>\n",
       "<table border=\"1\" class=\"dataframe\">\n",
       "  <thead>\n",
       "    <tr style=\"text-align: right;\">\n",
       "      <th></th>\n",
       "      <th>precision_macro</th>\n",
       "      <th>recall_macro</th>\n",
       "      <th>f1_macro</th>\n",
       "      <th>f1_micro</th>\n",
       "      <th>f1_weighted</th>\n",
       "      <th>accuracy</th>\n",
       "    </tr>\n",
       "  </thead>\n",
       "  <tbody>\n",
       "    <tr>\n",
       "      <th>RandomForestClassifier</th>\n",
       "      <td>0.782091</td>\n",
       "      <td>0.726071</td>\n",
       "      <td>0.721159</td>\n",
       "      <td>0.750000</td>\n",
       "      <td>0.732690</td>\n",
       "      <td>0.750000</td>\n",
       "    </tr>\n",
       "    <tr>\n",
       "      <th>XGBClassifier</th>\n",
       "      <td>0.757065</td>\n",
       "      <td>0.729881</td>\n",
       "      <td>0.728194</td>\n",
       "      <td>0.747222</td>\n",
       "      <td>0.737307</td>\n",
       "      <td>0.747222</td>\n",
       "    </tr>\n",
       "    <tr>\n",
       "      <th>AdaBoostClassifier</th>\n",
       "      <td>0.690439</td>\n",
       "      <td>0.682649</td>\n",
       "      <td>0.681939</td>\n",
       "      <td>0.691667</td>\n",
       "      <td>0.688885</td>\n",
       "      <td>0.691667</td>\n",
       "    </tr>\n",
       "    <tr>\n",
       "      <th>MLPClassifier</th>\n",
       "      <td>0.692009</td>\n",
       "      <td>0.665238</td>\n",
       "      <td>0.662545</td>\n",
       "      <td>0.686111</td>\n",
       "      <td>0.674059</td>\n",
       "      <td>0.686111</td>\n",
       "    </tr>\n",
       "    <tr>\n",
       "      <th>SVM_RBF</th>\n",
       "      <td>0.793931</td>\n",
       "      <td>0.632649</td>\n",
       "      <td>0.597910</td>\n",
       "      <td>0.677778</td>\n",
       "      <td>0.621549</td>\n",
       "      <td>0.677778</td>\n",
       "    </tr>\n",
       "    <tr>\n",
       "      <th>GaussianProcessClassifier</th>\n",
       "      <td>0.799217</td>\n",
       "      <td>0.627946</td>\n",
       "      <td>0.587528</td>\n",
       "      <td>0.675000</td>\n",
       "      <td>0.612606</td>\n",
       "      <td>0.675000</td>\n",
       "    </tr>\n",
       "    <tr>\n",
       "      <th>DecisionTreeClassifier</th>\n",
       "      <td>0.662437</td>\n",
       "      <td>0.657440</td>\n",
       "      <td>0.655816</td>\n",
       "      <td>0.666667</td>\n",
       "      <td>0.663093</td>\n",
       "      <td>0.666667</td>\n",
       "    </tr>\n",
       "    <tr>\n",
       "      <th>GaussianNB</th>\n",
       "      <td>0.608815</td>\n",
       "      <td>0.568393</td>\n",
       "      <td>0.545137</td>\n",
       "      <td>0.602778</td>\n",
       "      <td>0.565224</td>\n",
       "      <td>0.602778</td>\n",
       "    </tr>\n",
       "    <tr>\n",
       "      <th>KNeighborsClassifier</th>\n",
       "      <td>0.589018</td>\n",
       "      <td>0.556905</td>\n",
       "      <td>0.538614</td>\n",
       "      <td>0.580556</td>\n",
       "      <td>0.554849</td>\n",
       "      <td>0.580556</td>\n",
       "    </tr>\n",
       "    <tr>\n",
       "      <th>SVM_linear</th>\n",
       "      <td>0.281944</td>\n",
       "      <td>0.500000</td>\n",
       "      <td>0.360526</td>\n",
       "      <td>0.563889</td>\n",
       "      <td>0.406725</td>\n",
       "      <td>0.563889</td>\n",
       "    </tr>\n",
       "    <tr>\n",
       "      <th>QuadraticDiscriminantAnalysis</th>\n",
       "      <td>0.496037</td>\n",
       "      <td>0.496786</td>\n",
       "      <td>0.486206</td>\n",
       "      <td>0.494444</td>\n",
       "      <td>0.489060</td>\n",
       "      <td>0.494444</td>\n",
       "    </tr>\n",
       "  </tbody>\n",
       "</table>\n",
       "</div>"
      ],
      "text/plain": [
       "                               precision_macro  recall_macro  f1_macro  \\\n",
       "RandomForestClassifier                0.782091      0.726071  0.721159   \n",
       "XGBClassifier                         0.757065      0.729881  0.728194   \n",
       "AdaBoostClassifier                    0.690439      0.682649  0.681939   \n",
       "MLPClassifier                         0.692009      0.665238  0.662545   \n",
       "SVM_RBF                               0.793931      0.632649  0.597910   \n",
       "GaussianProcessClassifier             0.799217      0.627946  0.587528   \n",
       "DecisionTreeClassifier                0.662437      0.657440  0.655816   \n",
       "GaussianNB                            0.608815      0.568393  0.545137   \n",
       "KNeighborsClassifier                  0.589018      0.556905  0.538614   \n",
       "SVM_linear                            0.281944      0.500000  0.360526   \n",
       "QuadraticDiscriminantAnalysis         0.496037      0.496786  0.486206   \n",
       "\n",
       "                               f1_micro  f1_weighted  accuracy  \n",
       "RandomForestClassifier         0.750000     0.732690  0.750000  \n",
       "XGBClassifier                  0.747222     0.737307  0.747222  \n",
       "AdaBoostClassifier             0.691667     0.688885  0.691667  \n",
       "MLPClassifier                  0.686111     0.674059  0.686111  \n",
       "SVM_RBF                        0.677778     0.621549  0.677778  \n",
       "GaussianProcessClassifier      0.675000     0.612606  0.675000  \n",
       "DecisionTreeClassifier         0.666667     0.663093  0.666667  \n",
       "GaussianNB                     0.602778     0.565224  0.602778  \n",
       "KNeighborsClassifier           0.580556     0.554849  0.580556  \n",
       "SVM_linear                     0.563889     0.406725  0.563889  \n",
       "QuadraticDiscriminantAnalysis  0.494444     0.489060  0.494444  "
      ]
     },
     "execution_count": 43,
     "metadata": {},
     "output_type": "execute_result"
    }
   ],
   "source": [
    "burchard_by_london_VS_zwickau_models_experiment.show_cross_validate_results()"
   ]
  },
  {
   "cell_type": "code",
   "execution_count": 44,
   "id": "0aaaf892",
   "metadata": {},
   "outputs": [],
   "source": [
    "modelsToTest = [\n",
    "    ( thesisModelFeatures.Model(RandomForestClassifier(max_depth = 11, n_estimators = 300, random_state = 0)), 'RandomForestClassifier', {} ),\n",
    "    ( thesisModelFeatures.Model(AdaBoostClassifier(learning_rate = 0.5, n_estimators = 300)), 'AdaBoostClassifier', {} ),\n",
    "    ]"
   ]
  },
  {
   "cell_type": "code",
   "execution_count": 45,
   "id": "86dd007d",
   "metadata": {},
   "outputs": [
    {
     "name": "stdout",
     "output_type": "stream",
     "text": [
      "running: RandomForestClassifier\n",
      "Elapsed time to compute the cross validate: 0.244 minutes\n",
      "running: AdaBoostClassifier\n",
      "Elapsed time to compute the cross validate: 4.259 minutes\n"
     ]
    }
   ],
   "source": [
    "import time\n",
    "scores_df = pd.DataFrame(dtype=float)\n",
    "scoring = ('precision_macro', 'recall_macro', 'f1_macro', 'f1_micro', 'f1_weighted', 'accuracy')\n",
    "\n",
    "cross_validate_results = []\n",
    "for m, classifier_name, greed_search_cv_params in modelsToTest:\n",
    "    print(f'running: {classifier_name}')\n",
    "    start_time = time.time()\n",
    "    classifier_cross_validate_score = m.run_cross_validate(df)\n",
    "    elapsed_time = time.time() - start_time\n",
    "    print(f\"Elapsed time to compute the cross validate: {elapsed_time/60:.3f} minutes\")\n",
    "    cross_validate_results.append(classifier_cross_validate_score)\n",
    "    for s in scoring:\n",
    "        scores_df.loc[classifier_name, s] = classifier_cross_validate_score[f'test_{s}'].mean()"
   ]
  },
  {
   "cell_type": "code",
   "execution_count": 46,
   "id": "5eb05e10",
   "metadata": {},
   "outputs": [
    {
     "data": {
      "text/html": [
       "<div>\n",
       "<style scoped>\n",
       "    .dataframe tbody tr th:only-of-type {\n",
       "        vertical-align: middle;\n",
       "    }\n",
       "\n",
       "    .dataframe tbody tr th {\n",
       "        vertical-align: top;\n",
       "    }\n",
       "\n",
       "    .dataframe thead th {\n",
       "        text-align: right;\n",
       "    }\n",
       "</style>\n",
       "<table border=\"1\" class=\"dataframe\">\n",
       "  <thead>\n",
       "    <tr style=\"text-align: right;\">\n",
       "      <th></th>\n",
       "      <th>precision_macro</th>\n",
       "      <th>recall_macro</th>\n",
       "      <th>f1_macro</th>\n",
       "      <th>f1_micro</th>\n",
       "      <th>f1_weighted</th>\n",
       "      <th>accuracy</th>\n",
       "    </tr>\n",
       "  </thead>\n",
       "  <tbody>\n",
       "    <tr>\n",
       "      <th>RandomForestClassifier</th>\n",
       "      <td>0.817203</td>\n",
       "      <td>0.750744</td>\n",
       "      <td>0.749225</td>\n",
       "      <td>0.777778</td>\n",
       "      <td>0.760445</td>\n",
       "      <td>0.777778</td>\n",
       "    </tr>\n",
       "    <tr>\n",
       "      <th>AdaBoostClassifier</th>\n",
       "      <td>0.753814</td>\n",
       "      <td>0.734911</td>\n",
       "      <td>0.735220</td>\n",
       "      <td>0.750000</td>\n",
       "      <td>0.743263</td>\n",
       "      <td>0.750000</td>\n",
       "    </tr>\n",
       "  </tbody>\n",
       "</table>\n",
       "</div>"
      ],
      "text/plain": [
       "                        precision_macro  recall_macro  f1_macro  f1_micro  \\\n",
       "RandomForestClassifier         0.817203      0.750744  0.749225  0.777778   \n",
       "AdaBoostClassifier             0.753814      0.734911  0.735220  0.750000   \n",
       "\n",
       "                        f1_weighted  accuracy  \n",
       "RandomForestClassifier     0.760445  0.777778  \n",
       "AdaBoostClassifier         0.743263  0.750000  "
      ]
     },
     "execution_count": 46,
     "metadata": {},
     "output_type": "execute_result"
    }
   ],
   "source": [
    "scores_df"
   ]
  },
  {
   "cell_type": "code",
   "execution_count": 47,
   "id": "0cf93eb5",
   "metadata": {},
   "outputs": [],
   "source": [
    "modelsToTest = [\n",
    "    ( thesisModelFeatures.Model(xgb.XGBClassifier(base_score=0.5, booster='gbtree', callbacks=None,\n",
    "              colsample_bylevel=1, colsample_bynode=1, colsample_bytree=1,\n",
    "              early_stopping_rounds=None, enable_categorical=False,\n",
    "              eval_metric=None, gamma=0.1, gpu_id=-1, grow_policy='depthwise',\n",
    "              importance_type=None, interaction_constraints='',\n",
    "              learning_rate=0.300000012, max_bin=256, max_cat_to_onehot=4,\n",
    "              max_delta_step=0, max_depth=9, max_leaves=0, min_child_weight=3, monotone_constraints='()', n_estimators=100,\n",
    "              n_jobs=0, num_parallel_tree=1, predictor='auto', random_state=0,\n",
    "              reg_alpha=0, reg_lambda=1)), 'XGBoost', {} ),\n",
    "    ]"
   ]
  },
  {
   "cell_type": "code",
   "execution_count": 48,
   "id": "908ec820",
   "metadata": {},
   "outputs": [
    {
     "name": "stdout",
     "output_type": "stream",
     "text": [
      "running: XGBoost\n",
      "Elapsed time to compute the cross validate: 2.384 minutes\n"
     ]
    }
   ],
   "source": [
    "import time\n",
    "scores_df = pd.DataFrame(dtype=float)\n",
    "scoring = ('precision_macro', 'recall_macro', 'f1_macro', 'f1_micro', 'f1_weighted', 'accuracy')\n",
    "\n",
    "cross_validate_results = []\n",
    "for m, classifier_name, greed_search_cv_params in modelsToTest:\n",
    "    print(f'running: {classifier_name}')\n",
    "    start_time = time.time()\n",
    "    classifier_cross_validate_score = m.run_cross_validate(df)\n",
    "    elapsed_time = time.time() - start_time\n",
    "    print(f\"Elapsed time to compute the cross validate: {elapsed_time/60:.3f} minutes\")\n",
    "    cross_validate_results.append(classifier_cross_validate_score)\n",
    "    for s in scoring:\n",
    "        scores_df.loc[classifier_name, s] = classifier_cross_validate_score[f'test_{s}'].mean()"
   ]
  },
  {
   "cell_type": "code",
   "execution_count": 49,
   "id": "1808dc13",
   "metadata": {},
   "outputs": [
    {
     "data": {
      "text/html": [
       "<div>\n",
       "<style scoped>\n",
       "    .dataframe tbody tr th:only-of-type {\n",
       "        vertical-align: middle;\n",
       "    }\n",
       "\n",
       "    .dataframe tbody tr th {\n",
       "        vertical-align: top;\n",
       "    }\n",
       "\n",
       "    .dataframe thead th {\n",
       "        text-align: right;\n",
       "    }\n",
       "</style>\n",
       "<table border=\"1\" class=\"dataframe\">\n",
       "  <thead>\n",
       "    <tr style=\"text-align: right;\">\n",
       "      <th></th>\n",
       "      <th>precision_macro</th>\n",
       "      <th>recall_macro</th>\n",
       "      <th>f1_macro</th>\n",
       "      <th>f1_micro</th>\n",
       "      <th>f1_weighted</th>\n",
       "      <th>accuracy</th>\n",
       "    </tr>\n",
       "  </thead>\n",
       "  <tbody>\n",
       "    <tr>\n",
       "      <th>XGBoost</th>\n",
       "      <td>0.77378</td>\n",
       "      <td>0.748839</td>\n",
       "      <td>0.748533</td>\n",
       "      <td>0.763889</td>\n",
       "      <td>0.756434</td>\n",
       "      <td>0.763889</td>\n",
       "    </tr>\n",
       "  </tbody>\n",
       "</table>\n",
       "</div>"
      ],
      "text/plain": [
       "         precision_macro  recall_macro  f1_macro  f1_micro  f1_weighted  \\\n",
       "XGBoost          0.77378      0.748839  0.748533  0.763889     0.756434   \n",
       "\n",
       "         accuracy  \n",
       "XGBoost  0.763889  "
      ]
     },
     "execution_count": 49,
     "metadata": {},
     "output_type": "execute_result"
    }
   ],
   "source": [
    "scores_df"
   ]
  },
  {
   "cell_type": "markdown",
   "id": "65eda4d0",
   "metadata": {},
   "source": [
    "### Burchard by Zwickau vs zwickau"
   ]
  },
  {
   "cell_type": "code",
   "execution_count": 50,
   "id": "31c22d11",
   "metadata": {},
   "outputs": [
    {
     "name": "stdout",
     "output_type": "stream",
     "text": [
      "n_gram_feature_name: 2_5_gram\n",
      "n_gram_feature_name: 2_5_gram\n"
     ]
    }
   ],
   "source": [
    "df = featuresFactory.burchard_by_zwickau_VS_zwickau()"
   ]
  },
  {
   "cell_type": "code",
   "execution_count": 51,
   "id": "fb081a76",
   "metadata": {},
   "outputs": [],
   "source": [
    "burchard_by_zwickau_VS_zwickau_models_experiment = thesisModelFeatures.ModelsExperiment(df, 'big_hope_2')"
   ]
  },
  {
   "cell_type": "code",
   "execution_count": 52,
   "id": "388feb0d",
   "metadata": {},
   "outputs": [
    {
     "name": "stdout",
     "output_type": "stream",
     "text": [
      "running: SVM_linear\n"
     ]
    },
    {
     "name": "stderr",
     "output_type": "stream",
     "text": [
      "/Users/sasha.kruglyak/opt/anaconda3/lib/python3.8/site-packages/sklearn/metrics/_classification.py:1248: UndefinedMetricWarning: Precision is ill-defined and being set to 0.0 in labels with no predicted samples. Use `zero_division` parameter to control this behavior.\n",
      "  _warn_prf(average, modifier, msg_start, len(result))\n",
      "/Users/sasha.kruglyak/opt/anaconda3/lib/python3.8/site-packages/sklearn/metrics/_classification.py:1248: UndefinedMetricWarning: Precision is ill-defined and being set to 0.0 in labels with no predicted samples. Use `zero_division` parameter to control this behavior.\n",
      "  _warn_prf(average, modifier, msg_start, len(result))\n",
      "/Users/sasha.kruglyak/opt/anaconda3/lib/python3.8/site-packages/sklearn/metrics/_classification.py:1248: UndefinedMetricWarning: Precision is ill-defined and being set to 0.0 in labels with no predicted samples. Use `zero_division` parameter to control this behavior.\n",
      "  _warn_prf(average, modifier, msg_start, len(result))\n",
      "/Users/sasha.kruglyak/opt/anaconda3/lib/python3.8/site-packages/sklearn/metrics/_classification.py:1248: UndefinedMetricWarning: Precision is ill-defined and being set to 0.0 in labels with no predicted samples. Use `zero_division` parameter to control this behavior.\n",
      "  _warn_prf(average, modifier, msg_start, len(result))\n",
      "/Users/sasha.kruglyak/opt/anaconda3/lib/python3.8/site-packages/sklearn/metrics/_classification.py:1248: UndefinedMetricWarning: Precision is ill-defined and being set to 0.0 in labels with no predicted samples. Use `zero_division` parameter to control this behavior.\n",
      "  _warn_prf(average, modifier, msg_start, len(result))\n",
      "/Users/sasha.kruglyak/opt/anaconda3/lib/python3.8/site-packages/sklearn/metrics/_classification.py:1248: UndefinedMetricWarning: Precision is ill-defined and being set to 0.0 in labels with no predicted samples. Use `zero_division` parameter to control this behavior.\n",
      "  _warn_prf(average, modifier, msg_start, len(result))\n",
      "/Users/sasha.kruglyak/opt/anaconda3/lib/python3.8/site-packages/sklearn/metrics/_classification.py:1248: UndefinedMetricWarning: Precision is ill-defined and being set to 0.0 in labels with no predicted samples. Use `zero_division` parameter to control this behavior.\n",
      "  _warn_prf(average, modifier, msg_start, len(result))\n",
      "/Users/sasha.kruglyak/opt/anaconda3/lib/python3.8/site-packages/sklearn/metrics/_classification.py:1248: UndefinedMetricWarning: Precision is ill-defined and being set to 0.0 in labels with no predicted samples. Use `zero_division` parameter to control this behavior.\n",
      "  _warn_prf(average, modifier, msg_start, len(result))\n",
      "/Users/sasha.kruglyak/opt/anaconda3/lib/python3.8/site-packages/sklearn/metrics/_classification.py:1248: UndefinedMetricWarning: Precision is ill-defined and being set to 0.0 in labels with no predicted samples. Use `zero_division` parameter to control this behavior.\n",
      "  _warn_prf(average, modifier, msg_start, len(result))\n",
      "/Users/sasha.kruglyak/opt/anaconda3/lib/python3.8/site-packages/sklearn/metrics/_classification.py:1248: UndefinedMetricWarning: Precision is ill-defined and being set to 0.0 in labels with no predicted samples. Use `zero_division` parameter to control this behavior.\n",
      "  _warn_prf(average, modifier, msg_start, len(result))\n"
     ]
    },
    {
     "name": "stdout",
     "output_type": "stream",
     "text": [
      "Elapsed time to compute the cross validate: 0.749 minutes\n",
      "running: SVM_RBF\n",
      "Elapsed time to compute the cross validate: 0.792 minutes\n",
      "running: DecisionTreeClassifier\n",
      "Elapsed time to compute the cross validate: 0.140 minutes\n",
      "running: QuadraticDiscriminantAnalysis\n"
     ]
    },
    {
     "name": "stderr",
     "output_type": "stream",
     "text": [
      "/Users/sasha.kruglyak/opt/anaconda3/lib/python3.8/site-packages/sklearn/discriminant_analysis.py:808: UserWarning: Variables are collinear\n",
      "  warnings.warn(\"Variables are collinear\")\n",
      "/Users/sasha.kruglyak/opt/anaconda3/lib/python3.8/site-packages/sklearn/discriminant_analysis.py:808: UserWarning: Variables are collinear\n",
      "  warnings.warn(\"Variables are collinear\")\n",
      "/Users/sasha.kruglyak/opt/anaconda3/lib/python3.8/site-packages/sklearn/discriminant_analysis.py:808: UserWarning: Variables are collinear\n",
      "  warnings.warn(\"Variables are collinear\")\n",
      "/Users/sasha.kruglyak/opt/anaconda3/lib/python3.8/site-packages/sklearn/discriminant_analysis.py:808: UserWarning: Variables are collinear\n",
      "  warnings.warn(\"Variables are collinear\")\n",
      "/Users/sasha.kruglyak/opt/anaconda3/lib/python3.8/site-packages/sklearn/discriminant_analysis.py:808: UserWarning: Variables are collinear\n",
      "  warnings.warn(\"Variables are collinear\")\n",
      "/Users/sasha.kruglyak/opt/anaconda3/lib/python3.8/site-packages/sklearn/discriminant_analysis.py:808: UserWarning: Variables are collinear\n",
      "  warnings.warn(\"Variables are collinear\")\n",
      "/Users/sasha.kruglyak/opt/anaconda3/lib/python3.8/site-packages/sklearn/discriminant_analysis.py:808: UserWarning: Variables are collinear\n",
      "  warnings.warn(\"Variables are collinear\")\n",
      "/Users/sasha.kruglyak/opt/anaconda3/lib/python3.8/site-packages/sklearn/discriminant_analysis.py:808: UserWarning: Variables are collinear\n",
      "  warnings.warn(\"Variables are collinear\")\n",
      "/Users/sasha.kruglyak/opt/anaconda3/lib/python3.8/site-packages/sklearn/discriminant_analysis.py:808: UserWarning: Variables are collinear\n",
      "  warnings.warn(\"Variables are collinear\")\n",
      "/Users/sasha.kruglyak/opt/anaconda3/lib/python3.8/site-packages/sklearn/discriminant_analysis.py:808: UserWarning: Variables are collinear\n",
      "  warnings.warn(\"Variables are collinear\")\n"
     ]
    },
    {
     "name": "stdout",
     "output_type": "stream",
     "text": [
      "Elapsed time to compute the cross validate: 0.849 minutes\n",
      "running: DecisionTreeClassifier\n",
      "Elapsed time to compute the cross validate: 0.141 minutes\n",
      "running: GaussianProcessClassifier\n",
      "Elapsed time to compute the cross validate: 0.905 minutes\n",
      "running: RandomForestClassifier\n",
      "Elapsed time to compute the cross validate: 0.122 minutes\n",
      "running: MLPClassifier\n",
      "Elapsed time to compute the cross validate: 4.890 minutes\n",
      "running: GaussianNB\n",
      "Elapsed time to compute the cross validate: 0.074 minutes\n",
      "running: KNeighborsClassifier\n",
      "Elapsed time to compute the cross validate: 0.070 minutes\n",
      "running: AdaBoostClassifier\n",
      "Elapsed time to compute the cross validate: 0.688 minutes\n",
      "running: XGBClassifier\n",
      "Elapsed time to compute the cross validate: 2.161 minutes\n"
     ]
    }
   ],
   "source": [
    "burchard_by_zwickau_VS_zwickau_models_experiment.run_cross_validate()"
   ]
  },
  {
   "cell_type": "code",
   "execution_count": 53,
   "id": "f1dd68f2",
   "metadata": {},
   "outputs": [
    {
     "data": {
      "text/html": [
       "<div>\n",
       "<style scoped>\n",
       "    .dataframe tbody tr th:only-of-type {\n",
       "        vertical-align: middle;\n",
       "    }\n",
       "\n",
       "    .dataframe tbody tr th {\n",
       "        vertical-align: top;\n",
       "    }\n",
       "\n",
       "    .dataframe thead th {\n",
       "        text-align: right;\n",
       "    }\n",
       "</style>\n",
       "<table border=\"1\" class=\"dataframe\">\n",
       "  <thead>\n",
       "    <tr style=\"text-align: right;\">\n",
       "      <th></th>\n",
       "      <th>precision_macro</th>\n",
       "      <th>recall_macro</th>\n",
       "      <th>f1_macro</th>\n",
       "      <th>f1_micro</th>\n",
       "      <th>f1_weighted</th>\n",
       "      <th>accuracy</th>\n",
       "    </tr>\n",
       "  </thead>\n",
       "  <tbody>\n",
       "    <tr>\n",
       "      <th>XGBClassifier</th>\n",
       "      <td>0.830416</td>\n",
       "      <td>0.813095</td>\n",
       "      <td>0.817459</td>\n",
       "      <td>0.825546</td>\n",
       "      <td>0.823580</td>\n",
       "      <td>0.825546</td>\n",
       "    </tr>\n",
       "    <tr>\n",
       "      <th>AdaBoostClassifier</th>\n",
       "      <td>0.793551</td>\n",
       "      <td>0.779524</td>\n",
       "      <td>0.782360</td>\n",
       "      <td>0.791008</td>\n",
       "      <td>0.789328</td>\n",
       "      <td>0.791008</td>\n",
       "    </tr>\n",
       "    <tr>\n",
       "      <th>RandomForestClassifier</th>\n",
       "      <td>0.708522</td>\n",
       "      <td>0.674405</td>\n",
       "      <td>0.673645</td>\n",
       "      <td>0.699664</td>\n",
       "      <td>0.687398</td>\n",
       "      <td>0.699664</td>\n",
       "    </tr>\n",
       "    <tr>\n",
       "      <th>DecisionTreeClassifier</th>\n",
       "      <td>0.694488</td>\n",
       "      <td>0.692976</td>\n",
       "      <td>0.687576</td>\n",
       "      <td>0.693529</td>\n",
       "      <td>0.693166</td>\n",
       "      <td>0.693529</td>\n",
       "    </tr>\n",
       "    <tr>\n",
       "      <th>GaussianProcessClassifier</th>\n",
       "      <td>0.790594</td>\n",
       "      <td>0.624881</td>\n",
       "      <td>0.595643</td>\n",
       "      <td>0.682185</td>\n",
       "      <td>0.626282</td>\n",
       "      <td>0.682185</td>\n",
       "    </tr>\n",
       "    <tr>\n",
       "      <th>SVM_RBF</th>\n",
       "      <td>0.734043</td>\n",
       "      <td>0.626190</td>\n",
       "      <td>0.610001</td>\n",
       "      <td>0.673613</td>\n",
       "      <td>0.635210</td>\n",
       "      <td>0.673613</td>\n",
       "    </tr>\n",
       "    <tr>\n",
       "      <th>MLPClassifier</th>\n",
       "      <td>0.628634</td>\n",
       "      <td>0.574643</td>\n",
       "      <td>0.563159</td>\n",
       "      <td>0.616471</td>\n",
       "      <td>0.587647</td>\n",
       "      <td>0.616471</td>\n",
       "    </tr>\n",
       "    <tr>\n",
       "      <th>KNeighborsClassifier</th>\n",
       "      <td>0.648487</td>\n",
       "      <td>0.550714</td>\n",
       "      <td>0.491053</td>\n",
       "      <td>0.616134</td>\n",
       "      <td>0.532939</td>\n",
       "      <td>0.616134</td>\n",
       "    </tr>\n",
       "    <tr>\n",
       "      <th>GaussianNB</th>\n",
       "      <td>0.642063</td>\n",
       "      <td>0.532381</td>\n",
       "      <td>0.474211</td>\n",
       "      <td>0.595882</td>\n",
       "      <td>0.514955</td>\n",
       "      <td>0.595882</td>\n",
       "    </tr>\n",
       "    <tr>\n",
       "      <th>SVM_linear</th>\n",
       "      <td>0.290840</td>\n",
       "      <td>0.500000</td>\n",
       "      <td>0.367719</td>\n",
       "      <td>0.581681</td>\n",
       "      <td>0.427924</td>\n",
       "      <td>0.581681</td>\n",
       "    </tr>\n",
       "    <tr>\n",
       "      <th>QuadraticDiscriminantAnalysis</th>\n",
       "      <td>0.547207</td>\n",
       "      <td>0.544048</td>\n",
       "      <td>0.539445</td>\n",
       "      <td>0.567059</td>\n",
       "      <td>0.557292</td>\n",
       "      <td>0.567059</td>\n",
       "    </tr>\n",
       "  </tbody>\n",
       "</table>\n",
       "</div>"
      ],
      "text/plain": [
       "                               precision_macro  recall_macro  f1_macro  \\\n",
       "XGBClassifier                         0.830416      0.813095  0.817459   \n",
       "AdaBoostClassifier                    0.793551      0.779524  0.782360   \n",
       "RandomForestClassifier                0.708522      0.674405  0.673645   \n",
       "DecisionTreeClassifier                0.694488      0.692976  0.687576   \n",
       "GaussianProcessClassifier             0.790594      0.624881  0.595643   \n",
       "SVM_RBF                               0.734043      0.626190  0.610001   \n",
       "MLPClassifier                         0.628634      0.574643  0.563159   \n",
       "KNeighborsClassifier                  0.648487      0.550714  0.491053   \n",
       "GaussianNB                            0.642063      0.532381  0.474211   \n",
       "SVM_linear                            0.290840      0.500000  0.367719   \n",
       "QuadraticDiscriminantAnalysis         0.547207      0.544048  0.539445   \n",
       "\n",
       "                               f1_micro  f1_weighted  accuracy  \n",
       "XGBClassifier                  0.825546     0.823580  0.825546  \n",
       "AdaBoostClassifier             0.791008     0.789328  0.791008  \n",
       "RandomForestClassifier         0.699664     0.687398  0.699664  \n",
       "DecisionTreeClassifier         0.693529     0.693166  0.693529  \n",
       "GaussianProcessClassifier      0.682185     0.626282  0.682185  \n",
       "SVM_RBF                        0.673613     0.635210  0.673613  \n",
       "MLPClassifier                  0.616471     0.587647  0.616471  \n",
       "KNeighborsClassifier           0.616134     0.532939  0.616134  \n",
       "GaussianNB                     0.595882     0.514955  0.595882  \n",
       "SVM_linear                     0.581681     0.427924  0.581681  \n",
       "QuadraticDiscriminantAnalysis  0.567059     0.557292  0.567059  "
      ]
     },
     "execution_count": 53,
     "metadata": {},
     "output_type": "execute_result"
    }
   ],
   "source": [
    "burchard_by_zwickau_VS_zwickau_models_experiment.show_cross_validate_results()"
   ]
  },
  {
   "cell_type": "code",
   "execution_count": 57,
   "id": "c47254fc",
   "metadata": {},
   "outputs": [],
   "source": [
    "from sklearn.tree import DecisionTreeClassifier\n",
    "modelsToTest = [\n",
    "    ( thesisModelFeatures.Model(DecisionTreeClassifier(criterion='entropy', max_depth=90)), 'DecisionTreeClassifier', {} ),\n",
    "    ( thesisModelFeatures.Model(AdaBoostClassifier(learning_rate=1, n_estimators=500)), 'AdaBoostClassifier', {} ),\n",
    "    ]"
   ]
  },
  {
   "cell_type": "code",
   "execution_count": 58,
   "id": "e8a52026",
   "metadata": {},
   "outputs": [
    {
     "name": "stdout",
     "output_type": "stream",
     "text": [
      "running: DecisionTreeClassifier\n",
      "Elapsed time to compute the cross validate: 0.123 minutes\n",
      "running: AdaBoostClassifier\n",
      "Elapsed time to compute the cross validate: 6.498 minutes\n"
     ]
    }
   ],
   "source": [
    "import time\n",
    "scores_df = pd.DataFrame(dtype=float)\n",
    "scoring = ('precision_macro', 'recall_macro', 'f1_macro', 'f1_micro', 'f1_weighted', 'accuracy')\n",
    "\n",
    "cross_validate_results = []\n",
    "for m, classifier_name, greed_search_cv_params in modelsToTest:\n",
    "    print(f'running: {classifier_name}')\n",
    "    start_time = time.time()\n",
    "    classifier_cross_validate_score = m.run_cross_validate(df)\n",
    "    elapsed_time = time.time() - start_time\n",
    "    print(f\"Elapsed time to compute the cross validate: {elapsed_time/60:.3f} minutes\")\n",
    "    cross_validate_results.append(classifier_cross_validate_score)\n",
    "    for s in scoring:\n",
    "        scores_df.loc[classifier_name, s] = classifier_cross_validate_score[f'test_{s}'].mean()"
   ]
  },
  {
   "cell_type": "code",
   "execution_count": 59,
   "id": "8a591c64",
   "metadata": {},
   "outputs": [
    {
     "data": {
      "text/html": [
       "<div>\n",
       "<style scoped>\n",
       "    .dataframe tbody tr th:only-of-type {\n",
       "        vertical-align: middle;\n",
       "    }\n",
       "\n",
       "    .dataframe tbody tr th {\n",
       "        vertical-align: top;\n",
       "    }\n",
       "\n",
       "    .dataframe thead th {\n",
       "        text-align: right;\n",
       "    }\n",
       "</style>\n",
       "<table border=\"1\" class=\"dataframe\">\n",
       "  <thead>\n",
       "    <tr style=\"text-align: right;\">\n",
       "      <th></th>\n",
       "      <th>precision_macro</th>\n",
       "      <th>recall_macro</th>\n",
       "      <th>f1_macro</th>\n",
       "      <th>f1_micro</th>\n",
       "      <th>f1_weighted</th>\n",
       "      <th>accuracy</th>\n",
       "    </tr>\n",
       "  </thead>\n",
       "  <tbody>\n",
       "    <tr>\n",
       "      <th>DecisionTreeClassifier</th>\n",
       "      <td>0.751820</td>\n",
       "      <td>0.746071</td>\n",
       "      <td>0.743597</td>\n",
       "      <td>0.751008</td>\n",
       "      <td>0.749969</td>\n",
       "      <td>0.751008</td>\n",
       "    </tr>\n",
       "    <tr>\n",
       "      <th>AdaBoostClassifier</th>\n",
       "      <td>0.833893</td>\n",
       "      <td>0.810952</td>\n",
       "      <td>0.815891</td>\n",
       "      <td>0.825378</td>\n",
       "      <td>0.822527</td>\n",
       "      <td>0.825378</td>\n",
       "    </tr>\n",
       "  </tbody>\n",
       "</table>\n",
       "</div>"
      ],
      "text/plain": [
       "                        precision_macro  recall_macro  f1_macro  f1_micro  \\\n",
       "DecisionTreeClassifier         0.751820      0.746071  0.743597  0.751008   \n",
       "AdaBoostClassifier             0.833893      0.810952  0.815891  0.825378   \n",
       "\n",
       "                        f1_weighted  accuracy  \n",
       "DecisionTreeClassifier     0.749969  0.751008  \n",
       "AdaBoostClassifier         0.822527  0.825378  "
      ]
     },
     "execution_count": 59,
     "metadata": {},
     "output_type": "execute_result"
    }
   ],
   "source": [
    "scores_df"
   ]
  },
  {
   "cell_type": "code",
   "execution_count": 60,
   "id": "0e4a2f26",
   "metadata": {},
   "outputs": [],
   "source": [
    "modelsToTest = [\n",
    "    ( thesisModelFeatures.Model(xgb.XGBClassifier(base_score=0.5, booster='gbtree', callbacks=None,\n",
    "              colsample_bylevel=1, colsample_bynode=1, colsample_bytree=1,\n",
    "              early_stopping_rounds=None, enable_categorical=False,\n",
    "              eval_metric=None, gamma=0.0, gpu_id=-1, grow_policy='depthwise',\n",
    "              importance_type=None, interaction_constraints='',\n",
    "              learning_rate=0.300000012, max_bin=256, max_cat_to_onehot=4,\n",
    "              max_delta_step=0, max_depth=5, max_leaves=0, min_child_weight=3,\n",
    "                monotone_constraints='()', n_estimators=100,\n",
    "              n_jobs=0, num_parallel_tree=1, predictor='auto', random_state=0,\n",
    "              reg_alpha=0, reg_lambda=1)), 'XGBoost', {} ),\n",
    "    ]"
   ]
  },
  {
   "cell_type": "code",
   "execution_count": 61,
   "id": "a624f0bd",
   "metadata": {},
   "outputs": [
    {
     "name": "stdout",
     "output_type": "stream",
     "text": [
      "running: XGBoost\n",
      "Elapsed time to compute the cross validate: 2.069 minutes\n"
     ]
    }
   ],
   "source": [
    "import time\n",
    "scores_df = pd.DataFrame(dtype=float)\n",
    "scoring = ('precision_macro', 'recall_macro', 'f1_macro', 'f1_micro', 'f1_weighted', 'accuracy')\n",
    "\n",
    "cross_validate_results = []\n",
    "for m, classifier_name, greed_search_cv_params in modelsToTest:\n",
    "    print(f'running: {classifier_name}')\n",
    "    start_time = time.time()\n",
    "    classifier_cross_validate_score = m.run_cross_validate(df)\n",
    "    elapsed_time = time.time() - start_time\n",
    "    print(f\"Elapsed time to compute the cross validate: {elapsed_time/60:.3f} minutes\")\n",
    "    cross_validate_results.append(classifier_cross_validate_score)\n",
    "    for s in scoring:\n",
    "        scores_df.loc[classifier_name, s] = classifier_cross_validate_score[f'test_{s}'].mean()"
   ]
  },
  {
   "cell_type": "code",
   "execution_count": 62,
   "id": "09394ae5",
   "metadata": {},
   "outputs": [
    {
     "data": {
      "text/html": [
       "<div>\n",
       "<style scoped>\n",
       "    .dataframe tbody tr th:only-of-type {\n",
       "        vertical-align: middle;\n",
       "    }\n",
       "\n",
       "    .dataframe tbody tr th {\n",
       "        vertical-align: top;\n",
       "    }\n",
       "\n",
       "    .dataframe thead th {\n",
       "        text-align: right;\n",
       "    }\n",
       "</style>\n",
       "<table border=\"1\" class=\"dataframe\">\n",
       "  <thead>\n",
       "    <tr style=\"text-align: right;\">\n",
       "      <th></th>\n",
       "      <th>precision_macro</th>\n",
       "      <th>recall_macro</th>\n",
       "      <th>f1_macro</th>\n",
       "      <th>f1_micro</th>\n",
       "      <th>f1_weighted</th>\n",
       "      <th>accuracy</th>\n",
       "    </tr>\n",
       "  </thead>\n",
       "  <tbody>\n",
       "    <tr>\n",
       "      <th>XGBoost</th>\n",
       "      <td>0.84939</td>\n",
       "      <td>0.829405</td>\n",
       "      <td>0.833681</td>\n",
       "      <td>0.842773</td>\n",
       "      <td>0.839898</td>\n",
       "      <td>0.842773</td>\n",
       "    </tr>\n",
       "  </tbody>\n",
       "</table>\n",
       "</div>"
      ],
      "text/plain": [
       "         precision_macro  recall_macro  f1_macro  f1_micro  f1_weighted  \\\n",
       "XGBoost          0.84939      0.829405  0.833681  0.842773     0.839898   \n",
       "\n",
       "         accuracy  \n",
       "XGBoost  0.842773  "
      ]
     },
     "execution_count": 62,
     "metadata": {},
     "output_type": "execute_result"
    }
   ],
   "source": [
    "scores_df"
   ]
  },
  {
   "cell_type": "markdown",
   "id": "0627a4ba",
   "metadata": {},
   "source": [
    "### Burchad by zwickau VS Lodon"
   ]
  },
  {
   "cell_type": "code",
   "execution_count": 63,
   "id": "261f29cb",
   "metadata": {},
   "outputs": [
    {
     "name": "stdout",
     "output_type": "stream",
     "text": [
      "n_gram_feature_name: 2_5_gram\n",
      "n_gram_feature_name: 2_5_gram\n"
     ]
    }
   ],
   "source": [
    "df = featuresFactory.burchard_by_zwickau_VS_london()"
   ]
  },
  {
   "cell_type": "code",
   "execution_count": 64,
   "id": "57c423ab",
   "metadata": {},
   "outputs": [],
   "source": [
    "burchard_by_zwickau_VS_london_models_experiment = thesisModelFeatures.ModelsExperiment(df, 'big_hope_2')"
   ]
  },
  {
   "cell_type": "code",
   "execution_count": 65,
   "id": "4ebc6a56",
   "metadata": {},
   "outputs": [
    {
     "name": "stdout",
     "output_type": "stream",
     "text": [
      "running: SVM_linear\n"
     ]
    },
    {
     "name": "stderr",
     "output_type": "stream",
     "text": [
      "/Users/sasha.kruglyak/opt/anaconda3/lib/python3.8/site-packages/sklearn/metrics/_classification.py:1248: UndefinedMetricWarning: Precision is ill-defined and being set to 0.0 in labels with no predicted samples. Use `zero_division` parameter to control this behavior.\n",
      "  _warn_prf(average, modifier, msg_start, len(result))\n",
      "/Users/sasha.kruglyak/opt/anaconda3/lib/python3.8/site-packages/sklearn/metrics/_classification.py:1248: UndefinedMetricWarning: Precision is ill-defined and being set to 0.0 in labels with no predicted samples. Use `zero_division` parameter to control this behavior.\n",
      "  _warn_prf(average, modifier, msg_start, len(result))\n",
      "/Users/sasha.kruglyak/opt/anaconda3/lib/python3.8/site-packages/sklearn/metrics/_classification.py:1248: UndefinedMetricWarning: Precision is ill-defined and being set to 0.0 in labels with no predicted samples. Use `zero_division` parameter to control this behavior.\n",
      "  _warn_prf(average, modifier, msg_start, len(result))\n",
      "/Users/sasha.kruglyak/opt/anaconda3/lib/python3.8/site-packages/sklearn/metrics/_classification.py:1248: UndefinedMetricWarning: Precision is ill-defined and being set to 0.0 in labels with no predicted samples. Use `zero_division` parameter to control this behavior.\n",
      "  _warn_prf(average, modifier, msg_start, len(result))\n",
      "/Users/sasha.kruglyak/opt/anaconda3/lib/python3.8/site-packages/sklearn/metrics/_classification.py:1248: UndefinedMetricWarning: Precision is ill-defined and being set to 0.0 in labels with no predicted samples. Use `zero_division` parameter to control this behavior.\n",
      "  _warn_prf(average, modifier, msg_start, len(result))\n",
      "/Users/sasha.kruglyak/opt/anaconda3/lib/python3.8/site-packages/sklearn/metrics/_classification.py:1248: UndefinedMetricWarning: Precision is ill-defined and being set to 0.0 in labels with no predicted samples. Use `zero_division` parameter to control this behavior.\n",
      "  _warn_prf(average, modifier, msg_start, len(result))\n",
      "/Users/sasha.kruglyak/opt/anaconda3/lib/python3.8/site-packages/sklearn/metrics/_classification.py:1248: UndefinedMetricWarning: Precision is ill-defined and being set to 0.0 in labels with no predicted samples. Use `zero_division` parameter to control this behavior.\n",
      "  _warn_prf(average, modifier, msg_start, len(result))\n",
      "/Users/sasha.kruglyak/opt/anaconda3/lib/python3.8/site-packages/sklearn/metrics/_classification.py:1248: UndefinedMetricWarning: Precision is ill-defined and being set to 0.0 in labels with no predicted samples. Use `zero_division` parameter to control this behavior.\n",
      "  _warn_prf(average, modifier, msg_start, len(result))\n",
      "/Users/sasha.kruglyak/opt/anaconda3/lib/python3.8/site-packages/sklearn/metrics/_classification.py:1248: UndefinedMetricWarning: Precision is ill-defined and being set to 0.0 in labels with no predicted samples. Use `zero_division` parameter to control this behavior.\n",
      "  _warn_prf(average, modifier, msg_start, len(result))\n",
      "/Users/sasha.kruglyak/opt/anaconda3/lib/python3.8/site-packages/sklearn/metrics/_classification.py:1248: UndefinedMetricWarning: Precision is ill-defined and being set to 0.0 in labels with no predicted samples. Use `zero_division` parameter to control this behavior.\n",
      "  _warn_prf(average, modifier, msg_start, len(result))\n"
     ]
    },
    {
     "name": "stdout",
     "output_type": "stream",
     "text": [
      "Elapsed time to compute the cross validate: 0.814 minutes\n",
      "running: SVM_RBF\n",
      "Elapsed time to compute the cross validate: 0.849 minutes\n",
      "running: DecisionTreeClassifier\n",
      "Elapsed time to compute the cross validate: 0.144 minutes\n",
      "running: QuadraticDiscriminantAnalysis\n"
     ]
    },
    {
     "name": "stderr",
     "output_type": "stream",
     "text": [
      "/Users/sasha.kruglyak/opt/anaconda3/lib/python3.8/site-packages/sklearn/discriminant_analysis.py:808: UserWarning: Variables are collinear\n",
      "  warnings.warn(\"Variables are collinear\")\n",
      "/Users/sasha.kruglyak/opt/anaconda3/lib/python3.8/site-packages/sklearn/discriminant_analysis.py:808: UserWarning: Variables are collinear\n",
      "  warnings.warn(\"Variables are collinear\")\n",
      "/Users/sasha.kruglyak/opt/anaconda3/lib/python3.8/site-packages/sklearn/discriminant_analysis.py:808: UserWarning: Variables are collinear\n",
      "  warnings.warn(\"Variables are collinear\")\n",
      "/Users/sasha.kruglyak/opt/anaconda3/lib/python3.8/site-packages/sklearn/discriminant_analysis.py:808: UserWarning: Variables are collinear\n",
      "  warnings.warn(\"Variables are collinear\")\n",
      "/Users/sasha.kruglyak/opt/anaconda3/lib/python3.8/site-packages/sklearn/discriminant_analysis.py:808: UserWarning: Variables are collinear\n",
      "  warnings.warn(\"Variables are collinear\")\n",
      "/Users/sasha.kruglyak/opt/anaconda3/lib/python3.8/site-packages/sklearn/discriminant_analysis.py:808: UserWarning: Variables are collinear\n",
      "  warnings.warn(\"Variables are collinear\")\n",
      "/Users/sasha.kruglyak/opt/anaconda3/lib/python3.8/site-packages/sklearn/discriminant_analysis.py:808: UserWarning: Variables are collinear\n",
      "  warnings.warn(\"Variables are collinear\")\n",
      "/Users/sasha.kruglyak/opt/anaconda3/lib/python3.8/site-packages/sklearn/discriminant_analysis.py:808: UserWarning: Variables are collinear\n",
      "  warnings.warn(\"Variables are collinear\")\n",
      "/Users/sasha.kruglyak/opt/anaconda3/lib/python3.8/site-packages/sklearn/discriminant_analysis.py:808: UserWarning: Variables are collinear\n",
      "  warnings.warn(\"Variables are collinear\")\n",
      "/Users/sasha.kruglyak/opt/anaconda3/lib/python3.8/site-packages/sklearn/discriminant_analysis.py:808: UserWarning: Variables are collinear\n",
      "  warnings.warn(\"Variables are collinear\")\n"
     ]
    },
    {
     "name": "stdout",
     "output_type": "stream",
     "text": [
      "Elapsed time to compute the cross validate: 0.945 minutes\n",
      "running: DecisionTreeClassifier\n",
      "Elapsed time to compute the cross validate: 0.143 minutes\n",
      "running: GaussianProcessClassifier\n",
      "Elapsed time to compute the cross validate: 0.997 minutes\n",
      "running: RandomForestClassifier\n",
      "Elapsed time to compute the cross validate: 0.131 minutes\n",
      "running: MLPClassifier\n",
      "Elapsed time to compute the cross validate: 5.117 minutes\n",
      "running: GaussianNB\n",
      "Elapsed time to compute the cross validate: 0.077 minutes\n",
      "running: KNeighborsClassifier\n",
      "Elapsed time to compute the cross validate: 0.071 minutes\n",
      "running: AdaBoostClassifier\n",
      "Elapsed time to compute the cross validate: 0.745 minutes\n",
      "running: XGBClassifier\n",
      "Elapsed time to compute the cross validate: 2.338 minutes\n"
     ]
    }
   ],
   "source": [
    "burchard_by_zwickau_VS_london_models_experiment.run_cross_validate()"
   ]
  },
  {
   "cell_type": "code",
   "execution_count": 66,
   "id": "8dabaa53",
   "metadata": {},
   "outputs": [
    {
     "data": {
      "text/html": [
       "<div>\n",
       "<style scoped>\n",
       "    .dataframe tbody tr th:only-of-type {\n",
       "        vertical-align: middle;\n",
       "    }\n",
       "\n",
       "    .dataframe tbody tr th {\n",
       "        vertical-align: top;\n",
       "    }\n",
       "\n",
       "    .dataframe thead th {\n",
       "        text-align: right;\n",
       "    }\n",
       "</style>\n",
       "<table border=\"1\" class=\"dataframe\">\n",
       "  <thead>\n",
       "    <tr style=\"text-align: right;\">\n",
       "      <th></th>\n",
       "      <th>precision_macro</th>\n",
       "      <th>recall_macro</th>\n",
       "      <th>f1_macro</th>\n",
       "      <th>f1_micro</th>\n",
       "      <th>f1_weighted</th>\n",
       "      <th>accuracy</th>\n",
       "    </tr>\n",
       "  </thead>\n",
       "  <tbody>\n",
       "    <tr>\n",
       "      <th>RandomForestClassifier</th>\n",
       "      <td>0.785902</td>\n",
       "      <td>0.716250</td>\n",
       "      <td>0.708787</td>\n",
       "      <td>0.741667</td>\n",
       "      <td>0.721158</td>\n",
       "      <td>0.741667</td>\n",
       "    </tr>\n",
       "    <tr>\n",
       "      <th>XGBClassifier</th>\n",
       "      <td>0.741122</td>\n",
       "      <td>0.724732</td>\n",
       "      <td>0.724051</td>\n",
       "      <td>0.738889</td>\n",
       "      <td>0.732281</td>\n",
       "      <td>0.738889</td>\n",
       "    </tr>\n",
       "    <tr>\n",
       "      <th>AdaBoostClassifier</th>\n",
       "      <td>0.728461</td>\n",
       "      <td>0.723244</td>\n",
       "      <td>0.722036</td>\n",
       "      <td>0.727778</td>\n",
       "      <td>0.726689</td>\n",
       "      <td>0.727778</td>\n",
       "    </tr>\n",
       "    <tr>\n",
       "      <th>MLPClassifier</th>\n",
       "      <td>0.709717</td>\n",
       "      <td>0.672351</td>\n",
       "      <td>0.670150</td>\n",
       "      <td>0.694444</td>\n",
       "      <td>0.681570</td>\n",
       "      <td>0.694444</td>\n",
       "    </tr>\n",
       "    <tr>\n",
       "      <th>SVM_RBF</th>\n",
       "      <td>0.784403</td>\n",
       "      <td>0.628958</td>\n",
       "      <td>0.592497</td>\n",
       "      <td>0.675000</td>\n",
       "      <td>0.616803</td>\n",
       "      <td>0.675000</td>\n",
       "    </tr>\n",
       "    <tr>\n",
       "      <th>GaussianProcessClassifier</th>\n",
       "      <td>0.799119</td>\n",
       "      <td>0.627708</td>\n",
       "      <td>0.587600</td>\n",
       "      <td>0.675000</td>\n",
       "      <td>0.612687</td>\n",
       "      <td>0.675000</td>\n",
       "    </tr>\n",
       "    <tr>\n",
       "      <th>DecisionTreeClassifier</th>\n",
       "      <td>0.648370</td>\n",
       "      <td>0.646250</td>\n",
       "      <td>0.642345</td>\n",
       "      <td>0.652778</td>\n",
       "      <td>0.649223</td>\n",
       "      <td>0.652778</td>\n",
       "    </tr>\n",
       "    <tr>\n",
       "      <th>GaussianNB</th>\n",
       "      <td>0.602903</td>\n",
       "      <td>0.575506</td>\n",
       "      <td>0.551375</td>\n",
       "      <td>0.611111</td>\n",
       "      <td>0.572094</td>\n",
       "      <td>0.611111</td>\n",
       "    </tr>\n",
       "    <tr>\n",
       "      <th>KNeighborsClassifier</th>\n",
       "      <td>0.589629</td>\n",
       "      <td>0.555446</td>\n",
       "      <td>0.535763</td>\n",
       "      <td>0.577778</td>\n",
       "      <td>0.551626</td>\n",
       "      <td>0.577778</td>\n",
       "    </tr>\n",
       "    <tr>\n",
       "      <th>SVM_linear</th>\n",
       "      <td>0.281944</td>\n",
       "      <td>0.500000</td>\n",
       "      <td>0.360526</td>\n",
       "      <td>0.563889</td>\n",
       "      <td>0.406725</td>\n",
       "      <td>0.563889</td>\n",
       "    </tr>\n",
       "    <tr>\n",
       "      <th>QuadraticDiscriminantAnalysis</th>\n",
       "      <td>0.491384</td>\n",
       "      <td>0.493929</td>\n",
       "      <td>0.487736</td>\n",
       "      <td>0.502778</td>\n",
       "      <td>0.496901</td>\n",
       "      <td>0.502778</td>\n",
       "    </tr>\n",
       "  </tbody>\n",
       "</table>\n",
       "</div>"
      ],
      "text/plain": [
       "                               precision_macro  recall_macro  f1_macro  \\\n",
       "RandomForestClassifier                0.785902      0.716250  0.708787   \n",
       "XGBClassifier                         0.741122      0.724732  0.724051   \n",
       "AdaBoostClassifier                    0.728461      0.723244  0.722036   \n",
       "MLPClassifier                         0.709717      0.672351  0.670150   \n",
       "SVM_RBF                               0.784403      0.628958  0.592497   \n",
       "GaussianProcessClassifier             0.799119      0.627708  0.587600   \n",
       "DecisionTreeClassifier                0.648370      0.646250  0.642345   \n",
       "GaussianNB                            0.602903      0.575506  0.551375   \n",
       "KNeighborsClassifier                  0.589629      0.555446  0.535763   \n",
       "SVM_linear                            0.281944      0.500000  0.360526   \n",
       "QuadraticDiscriminantAnalysis         0.491384      0.493929  0.487736   \n",
       "\n",
       "                               f1_micro  f1_weighted  accuracy  \n",
       "RandomForestClassifier         0.741667     0.721158  0.741667  \n",
       "XGBClassifier                  0.738889     0.732281  0.738889  \n",
       "AdaBoostClassifier             0.727778     0.726689  0.727778  \n",
       "MLPClassifier                  0.694444     0.681570  0.694444  \n",
       "SVM_RBF                        0.675000     0.616803  0.675000  \n",
       "GaussianProcessClassifier      0.675000     0.612687  0.675000  \n",
       "DecisionTreeClassifier         0.652778     0.649223  0.652778  \n",
       "GaussianNB                     0.611111     0.572094  0.611111  \n",
       "KNeighborsClassifier           0.577778     0.551626  0.577778  \n",
       "SVM_linear                     0.563889     0.406725  0.563889  \n",
       "QuadraticDiscriminantAnalysis  0.502778     0.496901  0.502778  "
      ]
     },
     "execution_count": 66,
     "metadata": {},
     "output_type": "execute_result"
    }
   ],
   "source": [
    "burchard_by_zwickau_VS_london_models_experiment.show_cross_validate_results()"
   ]
  },
  {
   "cell_type": "code",
   "execution_count": 67,
   "id": "f7f4e289",
   "metadata": {},
   "outputs": [],
   "source": [
    "modelsToTest = [\n",
    "    ( thesisModelFeatures.Model(RandomForestClassifier(max_depth=9, n_estimators=500, random_state=0)), 'RandomForestClassifier', {} ),\n",
    "    ( thesisModelFeatures.Model(AdaBoostClassifier(learning_rate=0.5, n_estimators=300)), 'AdaBoostClassifier', {} ),\n",
    "    ]"
   ]
  },
  {
   "cell_type": "code",
   "execution_count": 68,
   "id": "f162b7dd",
   "metadata": {},
   "outputs": [
    {
     "name": "stdout",
     "output_type": "stream",
     "text": [
      "running: RandomForestClassifier\n",
      "Elapsed time to compute the cross validate: 0.329 minutes\n",
      "running: AdaBoostClassifier\n",
      "Elapsed time to compute the cross validate: 4.189 minutes\n"
     ]
    }
   ],
   "source": [
    "import time\n",
    "scores_df = pd.DataFrame(dtype=float)\n",
    "scoring = ('precision_macro', 'recall_macro', 'f1_macro', 'f1_micro', 'f1_weighted', 'accuracy')\n",
    "\n",
    "cross_validate_results = []\n",
    "for m, classifier_name, greed_search_cv_params in modelsToTest:\n",
    "    print(f'running: {classifier_name}')\n",
    "    start_time = time.time()\n",
    "    classifier_cross_validate_score = m.run_cross_validate(df)\n",
    "    elapsed_time = time.time() - start_time\n",
    "    print(f\"Elapsed time to compute the cross validate: {elapsed_time/60:.3f} minutes\")\n",
    "    cross_validate_results.append(classifier_cross_validate_score)\n",
    "    for s in scoring:\n",
    "        scores_df.loc[classifier_name, s] = classifier_cross_validate_score[f'test_{s}'].mean()"
   ]
  },
  {
   "cell_type": "code",
   "execution_count": 69,
   "id": "d19b2c41",
   "metadata": {},
   "outputs": [
    {
     "data": {
      "text/html": [
       "<div>\n",
       "<style scoped>\n",
       "    .dataframe tbody tr th:only-of-type {\n",
       "        vertical-align: middle;\n",
       "    }\n",
       "\n",
       "    .dataframe tbody tr th {\n",
       "        vertical-align: top;\n",
       "    }\n",
       "\n",
       "    .dataframe thead th {\n",
       "        text-align: right;\n",
       "    }\n",
       "</style>\n",
       "<table border=\"1\" class=\"dataframe\">\n",
       "  <thead>\n",
       "    <tr style=\"text-align: right;\">\n",
       "      <th></th>\n",
       "      <th>precision_macro</th>\n",
       "      <th>recall_macro</th>\n",
       "      <th>f1_macro</th>\n",
       "      <th>f1_micro</th>\n",
       "      <th>f1_weighted</th>\n",
       "      <th>accuracy</th>\n",
       "    </tr>\n",
       "  </thead>\n",
       "  <tbody>\n",
       "    <tr>\n",
       "      <th>RandomForestClassifier</th>\n",
       "      <td>0.819718</td>\n",
       "      <td>0.746994</td>\n",
       "      <td>0.744779</td>\n",
       "      <td>0.775</td>\n",
       "      <td>0.756322</td>\n",
       "      <td>0.775</td>\n",
       "    </tr>\n",
       "    <tr>\n",
       "      <th>AdaBoostClassifier</th>\n",
       "      <td>0.776388</td>\n",
       "      <td>0.763780</td>\n",
       "      <td>0.763986</td>\n",
       "      <td>0.775</td>\n",
       "      <td>0.770504</td>\n",
       "      <td>0.775</td>\n",
       "    </tr>\n",
       "  </tbody>\n",
       "</table>\n",
       "</div>"
      ],
      "text/plain": [
       "                        precision_macro  recall_macro  f1_macro  f1_micro  \\\n",
       "RandomForestClassifier         0.819718      0.746994  0.744779     0.775   \n",
       "AdaBoostClassifier             0.776388      0.763780  0.763986     0.775   \n",
       "\n",
       "                        f1_weighted  accuracy  \n",
       "RandomForestClassifier     0.756322     0.775  \n",
       "AdaBoostClassifier         0.770504     0.775  "
      ]
     },
     "execution_count": 69,
     "metadata": {},
     "output_type": "execute_result"
    }
   ],
   "source": [
    "scores_df"
   ]
  },
  {
   "cell_type": "code",
   "execution_count": 70,
   "id": "65788a9a",
   "metadata": {},
   "outputs": [],
   "source": [
    "modelsToTest = [\n",
    "    ( thesisModelFeatures.Model(xgb.XGBClassifier(base_score=0.5, booster='gbtree', callbacks=None,\n",
    "              colsample_bylevel=1, colsample_bynode=1, colsample_bytree=1,\n",
    "              early_stopping_rounds=None, enable_categorical=False,\n",
    "              eval_metric=None, gamma=0.1, gpu_id=-1, grow_policy='depthwise',\n",
    "              importance_type=None, interaction_constraints='',\n",
    "              learning_rate=0.300000012, max_bin=256, max_cat_to_onehot=4,\n",
    "              max_delta_step=0, max_depth=3, max_leaves=0, min_child_weight=1,\n",
    "               monotone_constraints='()', n_estimators=100,\n",
    "              n_jobs=0, num_parallel_tree=1, predictor='auto', random_state=0,\n",
    "              reg_alpha=0, reg_lambda=1)), 'XGBoost', {} ),\n",
    "    ]"
   ]
  },
  {
   "cell_type": "code",
   "execution_count": 73,
   "id": "5f6d6dc7",
   "metadata": {},
   "outputs": [
    {
     "name": "stdout",
     "output_type": "stream",
     "text": [
      "running: XGBoost\n",
      "Elapsed time to compute the cross validate: 2.349 minutes\n"
     ]
    }
   ],
   "source": [
    "import time\n",
    "scores_df = pd.DataFrame(dtype=float)\n",
    "scoring = ('precision_macro', 'recall_macro', 'f1_macro', 'f1_micro', 'f1_weighted', 'accuracy')\n",
    "\n",
    "cross_validate_results = []\n",
    "for m, classifier_name, greed_search_cv_params in modelsToTest:\n",
    "    print(f'running: {classifier_name}')\n",
    "    start_time = time.time()\n",
    "    classifier_cross_validate_score = m.run_cross_validate(df)\n",
    "    elapsed_time = time.time() - start_time\n",
    "    print(f\"Elapsed time to compute the cross validate: {elapsed_time/60:.3f} minutes\")\n",
    "    cross_validate_results.append(classifier_cross_validate_score)\n",
    "    for s in scoring:\n",
    "        scores_df.loc[classifier_name, s] = classifier_cross_validate_score[f'test_{s}'].mean()"
   ]
  },
  {
   "cell_type": "code",
   "execution_count": 74,
   "id": "f6ee76b4",
   "metadata": {},
   "outputs": [
    {
     "data": {
      "text/html": [
       "<div>\n",
       "<style scoped>\n",
       "    .dataframe tbody tr th:only-of-type {\n",
       "        vertical-align: middle;\n",
       "    }\n",
       "\n",
       "    .dataframe tbody tr th {\n",
       "        vertical-align: top;\n",
       "    }\n",
       "\n",
       "    .dataframe thead th {\n",
       "        text-align: right;\n",
       "    }\n",
       "</style>\n",
       "<table border=\"1\" class=\"dataframe\">\n",
       "  <thead>\n",
       "    <tr style=\"text-align: right;\">\n",
       "      <th></th>\n",
       "      <th>precision_macro</th>\n",
       "      <th>recall_macro</th>\n",
       "      <th>f1_macro</th>\n",
       "      <th>f1_micro</th>\n",
       "      <th>f1_weighted</th>\n",
       "      <th>accuracy</th>\n",
       "    </tr>\n",
       "  </thead>\n",
       "  <tbody>\n",
       "    <tr>\n",
       "      <th>XGBoost</th>\n",
       "      <td>0.763781</td>\n",
       "      <td>0.748155</td>\n",
       "      <td>0.747526</td>\n",
       "      <td>0.763889</td>\n",
       "      <td>0.756159</td>\n",
       "      <td>0.763889</td>\n",
       "    </tr>\n",
       "  </tbody>\n",
       "</table>\n",
       "</div>"
      ],
      "text/plain": [
       "         precision_macro  recall_macro  f1_macro  f1_micro  f1_weighted  \\\n",
       "XGBoost         0.763781      0.748155  0.747526  0.763889     0.756159   \n",
       "\n",
       "         accuracy  \n",
       "XGBoost  0.763889  "
      ]
     },
     "execution_count": 74,
     "metadata": {},
     "output_type": "execute_result"
    }
   ],
   "source": [
    "scores_df"
   ]
  },
  {
   "cell_type": "code",
   "execution_count": null,
   "id": "fe6aad05",
   "metadata": {},
   "outputs": [],
   "source": []
  }
 ],
 "metadata": {
  "kernelspec": {
   "display_name": "Python 3",
   "language": "python",
   "name": "python3"
  },
  "language_info": {
   "codemirror_mode": {
    "name": "ipython",
    "version": 3
   },
   "file_extension": ".py",
   "mimetype": "text/x-python",
   "name": "python",
   "nbconvert_exporter": "python",
   "pygments_lexer": "ipython3",
   "version": "3.8.8"
  }
 },
 "nbformat": 4,
 "nbformat_minor": 5
}
