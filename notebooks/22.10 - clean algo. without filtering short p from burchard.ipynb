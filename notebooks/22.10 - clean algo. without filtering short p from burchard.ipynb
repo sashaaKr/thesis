{
 "cells": [
  {
   "cell_type": "code",
   "execution_count": 1,
   "id": "ac94cb7f",
   "metadata": {},
   "outputs": [
    {
     "data": {
      "text/html": [
       "<style>.container { width:100% !important; }</style>"
      ],
      "text/plain": [
       "<IPython.core.display.HTML object>"
      ]
     },
     "metadata": {},
     "output_type": "display_data"
    }
   ],
   "source": [
    "from IPython.core.display import display, HTML\n",
    "display(HTML(\"<style>.container { width:100% !important; }</style>\"))"
   ]
  },
  {
   "cell_type": "markdown",
   "id": "6bef52bf",
   "metadata": {},
   "source": [
    "As I found that I had an issue with get_shared_words - function can return the same word from text1 multiple times even though in text2 it appears only once (cause I didn't deleted it from both texts once match found)\n",
    "\n",
    "This notebook is execution of clean algo with fixed function, in order to be able to compare if there is main difference in results"
   ]
  },
  {
   "cell_type": "code",
   "execution_count": 2,
   "id": "60b5cb8f",
   "metadata": {},
   "outputs": [
    {
     "data": {
      "text/plain": [
       "<module 'similarities.cosine' from '../src/similarities/cosine.py'>"
      ]
     },
     "execution_count": 2,
     "metadata": {},
     "output_type": "execute_result"
    }
   ],
   "source": [
    "import numpy as np\n",
    "import pandas as pd\n",
    "import matplotlib.pyplot as plt\n",
    "import xgboost as xgb\n",
    "\n",
    "from sklearn.ensemble import RandomForestClassifier, AdaBoostClassifier\n",
    "from sklearn.preprocessing import LabelEncoder\n",
    "\n",
    "import sys\n",
    "import imp\n",
    "\n",
    "sys.path.append('../src/')\n",
    "import data.reader as dataReader\n",
    "import utils.utils as thesisUtils\n",
    "import similarities.cosine as thesisCosineSimilarity\n",
    "import vocabulary.vocabulary as thesisVocabulary\n",
    "import features.model_features as thesisModelFeatures\n",
    "import features.factory as thesisFactoryFeatures\n",
    "import data.corpus_stats as thesisCorpusStats\n",
    "\n",
    "imp.reload(dataReader)\n",
    "imp.reload(thesisUtils)\n",
    "imp.reload(thesisVocabulary)\n",
    "imp.reload(thesisCorpusStats)\n",
    "imp.reload(thesisModelFeatures)\n",
    "imp.reload(thesisFactoryFeatures)\n",
    "imp.reload(thesisCosineSimilarity)"
   ]
  },
  {
   "cell_type": "code",
   "execution_count": 3,
   "id": "9def95e7",
   "metadata": {},
   "outputs": [],
   "source": [
    "london_corpus = dataReader.CorpusByNewLine.london()\n",
    "zwickau_corpus = dataReader.CorpusByNewLine.zwickau()"
   ]
  },
  {
   "cell_type": "code",
   "execution_count": 4,
   "id": "489e914b",
   "metadata": {},
   "outputs": [],
   "source": [
    "featuresFactory  = thesisFactoryFeatures.FeaturesFactory(\n",
    "    london_corpus = london_corpus,\n",
    "    zwickau_corpus = zwickau_corpus\n",
    ")"
   ]
  },
  {
   "cell_type": "code",
   "execution_count": 5,
   "id": "8f343de7",
   "metadata": {},
   "outputs": [],
   "source": [
    "london_zwickau_similarities = thesisCosineSimilarity.CrossVersionSimilarity5Gram(london_corpus, zwickau_corpus)\n",
    "# london_zwickau_similarities.calculate()\n",
    "\n",
    "zwickau_london_similarities = thesisCosineSimilarity.CrossVersionSimilarity5Gram(zwickau_corpus, london_corpus)\n",
    "# zwickau_london_similarities.calculate()"
   ]
  },
  {
   "cell_type": "code",
   "execution_count": 38,
   "id": "a64fded9",
   "metadata": {},
   "outputs": [],
   "source": [
    "# london_zwickau_similarities.save()\n",
    "# zwickau_london_similarities.save()\n",
    "london_zwickau_similarities.load()\n",
    "zwickau_london_similarities.load()"
   ]
  },
  {
   "cell_type": "code",
   "execution_count": 39,
   "id": "025c30af",
   "metadata": {},
   "outputs": [],
   "source": [
    "burchard_corpus_by_london = dataReader.BurchardCorpus(london_corpus, zwickau_corpus)\n",
    "burchard_corpus_by_zwickau = dataReader.BurchardCorpus(zwickau_corpus, london_corpus)"
   ]
  },
  {
   "cell_type": "code",
   "execution_count": 40,
   "id": "995a8606",
   "metadata": {},
   "outputs": [],
   "source": [
    "london_leftovers = dataReader.LeftoversCorpus(london_corpus, zwickau_corpus)\n",
    "zwickau_leftovers = dataReader.LeftoversCorpus(zwickau_corpus, london_corpus)"
   ]
  },
  {
   "cell_type": "code",
   "execution_count": 41,
   "id": "288e57ea",
   "metadata": {},
   "outputs": [
    {
     "name": "stdout",
     "output_type": "stream",
     "text": [
      "157\n",
      "146\n"
     ]
    }
   ],
   "source": [
    "print(len(london_leftovers.corpus_for_predictions()))\n",
    "print(len(zwickau_leftovers.corpus_for_predictions()))"
   ]
  },
  {
   "cell_type": "code",
   "execution_count": 42,
   "id": "de899f6a",
   "metadata": {},
   "outputs": [],
   "source": [
    "def filter_short_p(corpus):\n",
    "    return list(filter(lambda x: len(x.split()) > 20, corpus))"
   ]
  },
  {
   "cell_type": "code",
   "execution_count": 43,
   "id": "3482b608",
   "metadata": {},
   "outputs": [],
   "source": [
    "def build_burchard_corpus_with_predictions(burchard_corpus, wrong_predictions_by_london, wrong_predictions_by_zwickau):\n",
    "    is_burchard = True\n",
    "    temp_corpus = [ [p, is_burchard, is_burchard] for p in burchard_corpus ]\n",
    "    \n",
    "    for prediction in wrong_predictions_by_london:\n",
    "        temp_corpus[prediction.index][1] = False\n",
    "    for prediction in wrong_predictions_by_zwickau:\n",
    "        temp_corpus[prediction.index][2] = False\n",
    "\n",
    "    return temp_corpus"
   ]
  },
  {
   "cell_type": "code",
   "execution_count": 44,
   "id": "c803d6cd",
   "metadata": {},
   "outputs": [],
   "source": [
    "london_leftofvers_long = filter_short_p(london_leftovers.corpus)\n",
    "zwickau_leftofvers_long = filter_short_p(zwickau_leftovers.corpus)\n",
    "burchard_corpus_by_london_corpus_long = burchard_corpus_by_london.corpus\n",
    "burchard_corpus_by_zwickau_corpus_long = burchard_corpus_by_zwickau.corpus"
   ]
  },
  {
   "cell_type": "code",
   "execution_count": 45,
   "id": "3761e0c4",
   "metadata": {},
   "outputs": [
    {
     "name": "stdout",
     "output_type": "stream",
     "text": [
      "217\n",
      "217\n"
     ]
    }
   ],
   "source": [
    "print(len(burchard_corpus_by_london_corpus_long))\n",
    "print(len(burchard_corpus_by_zwickau_corpus_long))"
   ]
  },
  {
   "cell_type": "code",
   "execution_count": 18,
   "id": "c3ccc3a1",
   "metadata": {},
   "outputs": [
    {
     "name": "stdout",
     "output_type": "stream",
     "text": [
      "n_gram_feature_name: 2_5_gram\n",
      "n_gram_feature_name: 2_5_gram\n",
      "n_gram_feature_name: 2_5_gram\n",
      "n_gram_feature_name: 2_5_gram\n",
      "n_gram_feature_name: 2_5_gram\n",
      "n_gram_feature_name: 2_5_gram\n",
      "n_gram_feature_name: 2_5_gram\n",
      "n_gram_feature_name: 2_5_gram\n"
     ]
    }
   ],
   "source": [
    "burchard_by_london_VS_zwickau_features_df = thesisModelFeatures.create_features_df(\n",
    "    london_corpus = None,\n",
    "    zwickau_corpus = zwickau_leftofvers_long,\n",
    "    burchard_corpus = burchard_corpus_by_london_corpus_long,\n",
    "    n_gram = (2,5),\n",
    "    features = { 'tfidf', 'inner_mean_cosine_similarity_score' }\n",
    ")\n",
    "burchard_by_zwickau_VS_zwickau_features_df = thesisModelFeatures.create_features_df(\n",
    "    london_corpus = None,\n",
    "    zwickau_corpus = zwickau_leftofvers_long,\n",
    "    burchard_corpus = burchard_corpus_by_zwickau_corpus_long,\n",
    "    n_gram = (2,5),\n",
    "    features = { 'tfidf', 'inner_mean_cosine_similarity_score' }\n",
    ")\n",
    "burchard_by_london_VS_london_features_df = thesisModelFeatures.create_features_df(\n",
    "    london_corpus = london_leftofvers_long,\n",
    "    zwickau_corpus = None,\n",
    "    burchard_corpus = burchard_corpus_by_london_corpus_long,\n",
    "    n_gram = (2,5),\n",
    "    features = { 'tfidf', 'inner_mean_cosine_similarity_score' }\n",
    ")\n",
    "burchard_by_zwickau_VS_london_features_df = thesisModelFeatures.create_features_df(\n",
    "    london_corpus = london_leftofvers_long,\n",
    "    zwickau_corpus = None,\n",
    "    burchard_corpus = burchard_corpus_by_zwickau_corpus_long,\n",
    "    n_gram = (2,5),\n",
    "    features = { 'tfidf', 'inner_mean_cosine_similarity_score' }\n",
    ")"
   ]
  },
  {
   "cell_type": "markdown",
   "id": "da2e94ad",
   "metadata": {},
   "source": [
    "# london vs zwickau 3 ngram"
   ]
  },
  {
   "cell_type": "code",
   "execution_count": 55,
   "id": "7b5793c3",
   "metadata": {},
   "outputs": [
    {
     "name": "stdout",
     "output_type": "stream",
     "text": [
      "n_gram_feature_name: 3_gram\n",
      "n_gram_feature_name: 3_gram\n",
      "running: SVM_linear\n"
     ]
    },
    {
     "name": "stderr",
     "output_type": "stream",
     "text": [
      "/Users/sasha.kruglyak/opt/anaconda3/lib/python3.8/site-packages/sklearn/metrics/_classification.py:1248: UndefinedMetricWarning: Precision is ill-defined and being set to 0.0 in labels with no predicted samples. Use `zero_division` parameter to control this behavior.\n",
      "  _warn_prf(average, modifier, msg_start, len(result))\n",
      "/Users/sasha.kruglyak/opt/anaconda3/lib/python3.8/site-packages/sklearn/metrics/_classification.py:1248: UndefinedMetricWarning: Precision is ill-defined and being set to 0.0 in labels with no predicted samples. Use `zero_division` parameter to control this behavior.\n",
      "  _warn_prf(average, modifier, msg_start, len(result))\n",
      "/Users/sasha.kruglyak/opt/anaconda3/lib/python3.8/site-packages/sklearn/metrics/_classification.py:1248: UndefinedMetricWarning: Precision is ill-defined and being set to 0.0 in labels with no predicted samples. Use `zero_division` parameter to control this behavior.\n",
      "  _warn_prf(average, modifier, msg_start, len(result))\n",
      "/Users/sasha.kruglyak/opt/anaconda3/lib/python3.8/site-packages/sklearn/metrics/_classification.py:1248: UndefinedMetricWarning: Precision is ill-defined and being set to 0.0 in labels with no predicted samples. Use `zero_division` parameter to control this behavior.\n",
      "  _warn_prf(average, modifier, msg_start, len(result))\n",
      "/Users/sasha.kruglyak/opt/anaconda3/lib/python3.8/site-packages/sklearn/metrics/_classification.py:1248: UndefinedMetricWarning: Precision is ill-defined and being set to 0.0 in labels with no predicted samples. Use `zero_division` parameter to control this behavior.\n",
      "  _warn_prf(average, modifier, msg_start, len(result))\n",
      "/Users/sasha.kruglyak/opt/anaconda3/lib/python3.8/site-packages/sklearn/metrics/_classification.py:1248: UndefinedMetricWarning: Precision is ill-defined and being set to 0.0 in labels with no predicted samples. Use `zero_division` parameter to control this behavior.\n",
      "  _warn_prf(average, modifier, msg_start, len(result))\n",
      "/Users/sasha.kruglyak/opt/anaconda3/lib/python3.8/site-packages/sklearn/metrics/_classification.py:1248: UndefinedMetricWarning: Precision is ill-defined and being set to 0.0 in labels with no predicted samples. Use `zero_division` parameter to control this behavior.\n",
      "  _warn_prf(average, modifier, msg_start, len(result))\n",
      "/Users/sasha.kruglyak/opt/anaconda3/lib/python3.8/site-packages/sklearn/metrics/_classification.py:1248: UndefinedMetricWarning: Precision is ill-defined and being set to 0.0 in labels with no predicted samples. Use `zero_division` parameter to control this behavior.\n",
      "  _warn_prf(average, modifier, msg_start, len(result))\n",
      "/Users/sasha.kruglyak/opt/anaconda3/lib/python3.8/site-packages/sklearn/metrics/_classification.py:1248: UndefinedMetricWarning: Precision is ill-defined and being set to 0.0 in labels with no predicted samples. Use `zero_division` parameter to control this behavior.\n",
      "  _warn_prf(average, modifier, msg_start, len(result))\n",
      "/Users/sasha.kruglyak/opt/anaconda3/lib/python3.8/site-packages/sklearn/metrics/_classification.py:1248: UndefinedMetricWarning: Precision is ill-defined and being set to 0.0 in labels with no predicted samples. Use `zero_division` parameter to control this behavior.\n",
      "  _warn_prf(average, modifier, msg_start, len(result))\n"
     ]
    },
    {
     "name": "stdout",
     "output_type": "stream",
     "text": [
      "Elapsed time to compute the cross validate: 0.038 minutes\n",
      "running: SVM_RBF\n",
      "Elapsed time to compute the cross validate: 0.041 minutes\n",
      "running: DecisionTreeClassifier\n",
      "Elapsed time to compute the cross validate: 0.030 minutes\n",
      "running: QuadraticDiscriminantAnalysis\n"
     ]
    },
    {
     "name": "stderr",
     "output_type": "stream",
     "text": [
      "/Users/sasha.kruglyak/opt/anaconda3/lib/python3.8/site-packages/sklearn/discriminant_analysis.py:808: UserWarning: Variables are collinear\n",
      "  warnings.warn(\"Variables are collinear\")\n",
      "/Users/sasha.kruglyak/opt/anaconda3/lib/python3.8/site-packages/sklearn/discriminant_analysis.py:808: UserWarning: Variables are collinear\n",
      "  warnings.warn(\"Variables are collinear\")\n",
      "/Users/sasha.kruglyak/opt/anaconda3/lib/python3.8/site-packages/sklearn/discriminant_analysis.py:808: UserWarning: Variables are collinear\n",
      "  warnings.warn(\"Variables are collinear\")\n",
      "/Users/sasha.kruglyak/opt/anaconda3/lib/python3.8/site-packages/sklearn/discriminant_analysis.py:808: UserWarning: Variables are collinear\n",
      "  warnings.warn(\"Variables are collinear\")\n",
      "/Users/sasha.kruglyak/opt/anaconda3/lib/python3.8/site-packages/sklearn/discriminant_analysis.py:808: UserWarning: Variables are collinear\n",
      "  warnings.warn(\"Variables are collinear\")\n",
      "/Users/sasha.kruglyak/opt/anaconda3/lib/python3.8/site-packages/sklearn/discriminant_analysis.py:808: UserWarning: Variables are collinear\n",
      "  warnings.warn(\"Variables are collinear\")\n",
      "/Users/sasha.kruglyak/opt/anaconda3/lib/python3.8/site-packages/sklearn/discriminant_analysis.py:808: UserWarning: Variables are collinear\n",
      "  warnings.warn(\"Variables are collinear\")\n",
      "/Users/sasha.kruglyak/opt/anaconda3/lib/python3.8/site-packages/sklearn/discriminant_analysis.py:808: UserWarning: Variables are collinear\n",
      "  warnings.warn(\"Variables are collinear\")\n",
      "/Users/sasha.kruglyak/opt/anaconda3/lib/python3.8/site-packages/sklearn/discriminant_analysis.py:808: UserWarning: Variables are collinear\n",
      "  warnings.warn(\"Variables are collinear\")\n",
      "/Users/sasha.kruglyak/opt/anaconda3/lib/python3.8/site-packages/sklearn/discriminant_analysis.py:808: UserWarning: Variables are collinear\n",
      "  warnings.warn(\"Variables are collinear\")\n"
     ]
    },
    {
     "name": "stdout",
     "output_type": "stream",
     "text": [
      "Elapsed time to compute the cross validate: 0.379 minutes\n",
      "running: DecisionTreeClassifier\n",
      "Elapsed time to compute the cross validate: 0.030 minutes\n",
      "running: GaussianProcessClassifier\n",
      "Elapsed time to compute the cross validate: 0.210 minutes\n",
      "running: RandomForestClassifier\n",
      "Elapsed time to compute the cross validate: 0.059 minutes\n",
      "running: MLPClassifier\n"
     ]
    },
    {
     "name": "stderr",
     "output_type": "stream",
     "text": [
      "/Users/sasha.kruglyak/opt/anaconda3/lib/python3.8/site-packages/sklearn/neural_network/_multilayer_perceptron.py:614: ConvergenceWarning: Stochastic Optimizer: Maximum iterations (200) reached and the optimization hasn't converged yet.\n",
      "  warnings.warn(\n",
      "/Users/sasha.kruglyak/opt/anaconda3/lib/python3.8/site-packages/sklearn/neural_network/_multilayer_perceptron.py:614: ConvergenceWarning: Stochastic Optimizer: Maximum iterations (200) reached and the optimization hasn't converged yet.\n",
      "  warnings.warn(\n",
      "/Users/sasha.kruglyak/opt/anaconda3/lib/python3.8/site-packages/sklearn/neural_network/_multilayer_perceptron.py:614: ConvergenceWarning: Stochastic Optimizer: Maximum iterations (200) reached and the optimization hasn't converged yet.\n",
      "  warnings.warn(\n",
      "/Users/sasha.kruglyak/opt/anaconda3/lib/python3.8/site-packages/sklearn/neural_network/_multilayer_perceptron.py:614: ConvergenceWarning: Stochastic Optimizer: Maximum iterations (200) reached and the optimization hasn't converged yet.\n",
      "  warnings.warn(\n",
      "/Users/sasha.kruglyak/opt/anaconda3/lib/python3.8/site-packages/sklearn/neural_network/_multilayer_perceptron.py:614: ConvergenceWarning: Stochastic Optimizer: Maximum iterations (200) reached and the optimization hasn't converged yet.\n",
      "  warnings.warn(\n",
      "/Users/sasha.kruglyak/opt/anaconda3/lib/python3.8/site-packages/sklearn/neural_network/_multilayer_perceptron.py:614: ConvergenceWarning: Stochastic Optimizer: Maximum iterations (200) reached and the optimization hasn't converged yet.\n",
      "  warnings.warn(\n",
      "/Users/sasha.kruglyak/opt/anaconda3/lib/python3.8/site-packages/sklearn/neural_network/_multilayer_perceptron.py:614: ConvergenceWarning: Stochastic Optimizer: Maximum iterations (200) reached and the optimization hasn't converged yet.\n",
      "  warnings.warn(\n",
      "/Users/sasha.kruglyak/opt/anaconda3/lib/python3.8/site-packages/sklearn/neural_network/_multilayer_perceptron.py:614: ConvergenceWarning: Stochastic Optimizer: Maximum iterations (200) reached and the optimization hasn't converged yet.\n",
      "  warnings.warn(\n",
      "/Users/sasha.kruglyak/opt/anaconda3/lib/python3.8/site-packages/sklearn/neural_network/_multilayer_perceptron.py:614: ConvergenceWarning: Stochastic Optimizer: Maximum iterations (200) reached and the optimization hasn't converged yet.\n",
      "  warnings.warn(\n",
      "/Users/sasha.kruglyak/opt/anaconda3/lib/python3.8/site-packages/sklearn/neural_network/_multilayer_perceptron.py:614: ConvergenceWarning: Stochastic Optimizer: Maximum iterations (200) reached and the optimization hasn't converged yet.\n",
      "  warnings.warn(\n"
     ]
    },
    {
     "name": "stdout",
     "output_type": "stream",
     "text": [
      "Elapsed time to compute the cross validate: 4.451 minutes\n",
      "running: GaussianNB\n",
      "Elapsed time to compute the cross validate: 0.007 minutes\n",
      "running: KNeighborsClassifier\n",
      "Elapsed time to compute the cross validate: 0.013 minutes\n",
      "running: AdaBoostClassifier\n",
      "Elapsed time to compute the cross validate: 0.163 minutes\n",
      "running: XGBClassifier\n",
      "Elapsed time to compute the cross validate: 1.127 minutes\n"
     ]
    },
    {
     "data": {
      "text/html": [
       "<div>\n",
       "<style scoped>\n",
       "    .dataframe tbody tr th:only-of-type {\n",
       "        vertical-align: middle;\n",
       "    }\n",
       "\n",
       "    .dataframe tbody tr th {\n",
       "        vertical-align: top;\n",
       "    }\n",
       "\n",
       "    .dataframe thead th {\n",
       "        text-align: right;\n",
       "    }\n",
       "</style>\n",
       "<table border=\"1\" class=\"dataframe\">\n",
       "  <thead>\n",
       "    <tr style=\"text-align: right;\">\n",
       "      <th></th>\n",
       "      <th>precision_macro</th>\n",
       "      <th>recall_macro</th>\n",
       "      <th>f1_macro</th>\n",
       "      <th>f1_micro</th>\n",
       "      <th>f1_weighted</th>\n",
       "      <th>accuracy</th>\n",
       "    </tr>\n",
       "  </thead>\n",
       "  <tbody>\n",
       "    <tr>\n",
       "      <th>DecisionTreeClassifier</th>\n",
       "      <td>0.557409</td>\n",
       "      <td>0.553127</td>\n",
       "      <td>0.547532</td>\n",
       "      <td>0.553299</td>\n",
       "      <td>0.547649</td>\n",
       "      <td>0.553299</td>\n",
       "    </tr>\n",
       "    <tr>\n",
       "      <th>AdaBoostClassifier</th>\n",
       "      <td>0.551918</td>\n",
       "      <td>0.549371</td>\n",
       "      <td>0.546329</td>\n",
       "      <td>0.549950</td>\n",
       "      <td>0.546607</td>\n",
       "      <td>0.549950</td>\n",
       "    </tr>\n",
       "    <tr>\n",
       "      <th>XGBClassifier</th>\n",
       "      <td>0.538528</td>\n",
       "      <td>0.538421</td>\n",
       "      <td>0.536642</td>\n",
       "      <td>0.538938</td>\n",
       "      <td>0.536961</td>\n",
       "      <td>0.538938</td>\n",
       "    </tr>\n",
       "    <tr>\n",
       "      <th>MLPClassifier</th>\n",
       "      <td>0.528926</td>\n",
       "      <td>0.528420</td>\n",
       "      <td>0.521251</td>\n",
       "      <td>0.527976</td>\n",
       "      <td>0.521081</td>\n",
       "      <td>0.527976</td>\n",
       "    </tr>\n",
       "    <tr>\n",
       "      <th>RandomForestClassifier</th>\n",
       "      <td>0.524509</td>\n",
       "      <td>0.522900</td>\n",
       "      <td>0.515080</td>\n",
       "      <td>0.523289</td>\n",
       "      <td>0.515330</td>\n",
       "      <td>0.523289</td>\n",
       "    </tr>\n",
       "    <tr>\n",
       "      <th>SVM_linear</th>\n",
       "      <td>0.251575</td>\n",
       "      <td>0.500000</td>\n",
       "      <td>0.334722</td>\n",
       "      <td>0.503150</td>\n",
       "      <td>0.336855</td>\n",
       "      <td>0.503150</td>\n",
       "    </tr>\n",
       "    <tr>\n",
       "      <th>GaussianProcessClassifier</th>\n",
       "      <td>0.491943</td>\n",
       "      <td>0.491709</td>\n",
       "      <td>0.479785</td>\n",
       "      <td>0.492138</td>\n",
       "      <td>0.480000</td>\n",
       "      <td>0.492138</td>\n",
       "    </tr>\n",
       "    <tr>\n",
       "      <th>GaussianNB</th>\n",
       "      <td>0.490276</td>\n",
       "      <td>0.492879</td>\n",
       "      <td>0.485533</td>\n",
       "      <td>0.492039</td>\n",
       "      <td>0.485086</td>\n",
       "      <td>0.492039</td>\n",
       "    </tr>\n",
       "    <tr>\n",
       "      <th>QuadraticDiscriminantAnalysis</th>\n",
       "      <td>0.456637</td>\n",
       "      <td>0.458813</td>\n",
       "      <td>0.454739</td>\n",
       "      <td>0.459127</td>\n",
       "      <td>0.454974</td>\n",
       "      <td>0.459127</td>\n",
       "    </tr>\n",
       "    <tr>\n",
       "      <th>KNeighborsClassifier</th>\n",
       "      <td>0.456118</td>\n",
       "      <td>0.457704</td>\n",
       "      <td>0.451670</td>\n",
       "      <td>0.457391</td>\n",
       "      <td>0.451540</td>\n",
       "      <td>0.457391</td>\n",
       "    </tr>\n",
       "    <tr>\n",
       "      <th>SVM_RBF</th>\n",
       "      <td>0.450188</td>\n",
       "      <td>0.455813</td>\n",
       "      <td>0.443380</td>\n",
       "      <td>0.456027</td>\n",
       "      <td>0.443522</td>\n",
       "      <td>0.456027</td>\n",
       "    </tr>\n",
       "  </tbody>\n",
       "</table>\n",
       "</div>"
      ],
      "text/plain": [
       "                               precision_macro  recall_macro  f1_macro  \\\n",
       "DecisionTreeClassifier                0.557409      0.553127  0.547532   \n",
       "AdaBoostClassifier                    0.551918      0.549371  0.546329   \n",
       "XGBClassifier                         0.538528      0.538421  0.536642   \n",
       "MLPClassifier                         0.528926      0.528420  0.521251   \n",
       "RandomForestClassifier                0.524509      0.522900  0.515080   \n",
       "SVM_linear                            0.251575      0.500000  0.334722   \n",
       "GaussianProcessClassifier             0.491943      0.491709  0.479785   \n",
       "GaussianNB                            0.490276      0.492879  0.485533   \n",
       "QuadraticDiscriminantAnalysis         0.456637      0.458813  0.454739   \n",
       "KNeighborsClassifier                  0.456118      0.457704  0.451670   \n",
       "SVM_RBF                               0.450188      0.455813  0.443380   \n",
       "\n",
       "                               f1_micro  f1_weighted  accuracy  \n",
       "DecisionTreeClassifier         0.553299     0.547649  0.553299  \n",
       "AdaBoostClassifier             0.549950     0.546607  0.549950  \n",
       "XGBClassifier                  0.538938     0.536961  0.538938  \n",
       "MLPClassifier                  0.527976     0.521081  0.527976  \n",
       "RandomForestClassifier         0.523289     0.515330  0.523289  \n",
       "SVM_linear                     0.503150     0.336855  0.503150  \n",
       "GaussianProcessClassifier      0.492138     0.480000  0.492138  \n",
       "GaussianNB                     0.492039     0.485086  0.492039  \n",
       "QuadraticDiscriminantAnalysis  0.459127     0.454974  0.459127  \n",
       "KNeighborsClassifier           0.457391     0.451540  0.457391  \n",
       "SVM_RBF                        0.456027     0.443522  0.456027  "
      ]
     },
     "execution_count": 55,
     "metadata": {},
     "output_type": "execute_result"
    }
   ],
   "source": [
    "london_vs_zwickau_3features_df = featuresFactory.london_original_VS_zwickau_original(n_gram = 3, features = { 'tfidf' })\n",
    "london_vs_zwickau_3modesl_experiment = thesisModelFeatures.ModelsExperiment(london_vs_zwickau_3features_df, 'london_vs_zwickau')\n",
    "london_vs_zwickau_3modesl_experiment.run_cross_validate()\n",
    "london_vs_zwickau_3modesl_experiment.show_cross_validate_results()"
   ]
  },
  {
   "cell_type": "markdown",
   "id": "b0c5cda1",
   "metadata": {},
   "source": [
    "## london VS zwickau"
   ]
  },
  {
   "cell_type": "code",
   "execution_count": 51,
   "id": "21323443",
   "metadata": {},
   "outputs": [
    {
     "name": "stdout",
     "output_type": "stream",
     "text": [
      "n_gram_feature_name: 5_gram\n",
      "n_gram_feature_name: 5_gram\n"
     ]
    }
   ],
   "source": [
    "london_vs_zwickau_features_df = featuresFactory.london_original_VS_zwickau_original(n_gram = 5, features = { 'tfidf' })"
   ]
  },
  {
   "cell_type": "code",
   "execution_count": 52,
   "id": "c62fe12e",
   "metadata": {},
   "outputs": [],
   "source": [
    "london_vs_zwickau_modesl_experiment = thesisModelFeatures.ModelsExperiment(london_vs_zwickau_features_df, 'london_vs_zwickau')"
   ]
  },
  {
   "cell_type": "code",
   "execution_count": 53,
   "id": "e24f751b",
   "metadata": {},
   "outputs": [
    {
     "name": "stdout",
     "output_type": "stream",
     "text": [
      "running: SVM_linear\n"
     ]
    },
    {
     "name": "stderr",
     "output_type": "stream",
     "text": [
      "/Users/sasha.kruglyak/opt/anaconda3/lib/python3.8/site-packages/sklearn/metrics/_classification.py:1248: UndefinedMetricWarning: Precision is ill-defined and being set to 0.0 in labels with no predicted samples. Use `zero_division` parameter to control this behavior.\n",
      "  _warn_prf(average, modifier, msg_start, len(result))\n",
      "/Users/sasha.kruglyak/opt/anaconda3/lib/python3.8/site-packages/sklearn/metrics/_classification.py:1248: UndefinedMetricWarning: Precision is ill-defined and being set to 0.0 in labels with no predicted samples. Use `zero_division` parameter to control this behavior.\n",
      "  _warn_prf(average, modifier, msg_start, len(result))\n",
      "/Users/sasha.kruglyak/opt/anaconda3/lib/python3.8/site-packages/sklearn/metrics/_classification.py:1248: UndefinedMetricWarning: Precision is ill-defined and being set to 0.0 in labels with no predicted samples. Use `zero_division` parameter to control this behavior.\n",
      "  _warn_prf(average, modifier, msg_start, len(result))\n",
      "/Users/sasha.kruglyak/opt/anaconda3/lib/python3.8/site-packages/sklearn/metrics/_classification.py:1248: UndefinedMetricWarning: Precision is ill-defined and being set to 0.0 in labels with no predicted samples. Use `zero_division` parameter to control this behavior.\n",
      "  _warn_prf(average, modifier, msg_start, len(result))\n",
      "/Users/sasha.kruglyak/opt/anaconda3/lib/python3.8/site-packages/sklearn/metrics/_classification.py:1248: UndefinedMetricWarning: Precision is ill-defined and being set to 0.0 in labels with no predicted samples. Use `zero_division` parameter to control this behavior.\n",
      "  _warn_prf(average, modifier, msg_start, len(result))\n",
      "/Users/sasha.kruglyak/opt/anaconda3/lib/python3.8/site-packages/sklearn/metrics/_classification.py:1248: UndefinedMetricWarning: Precision is ill-defined and being set to 0.0 in labels with no predicted samples. Use `zero_division` parameter to control this behavior.\n",
      "  _warn_prf(average, modifier, msg_start, len(result))\n",
      "/Users/sasha.kruglyak/opt/anaconda3/lib/python3.8/site-packages/sklearn/metrics/_classification.py:1248: UndefinedMetricWarning: Precision is ill-defined and being set to 0.0 in labels with no predicted samples. Use `zero_division` parameter to control this behavior.\n",
      "  _warn_prf(average, modifier, msg_start, len(result))\n",
      "/Users/sasha.kruglyak/opt/anaconda3/lib/python3.8/site-packages/sklearn/metrics/_classification.py:1248: UndefinedMetricWarning: Precision is ill-defined and being set to 0.0 in labels with no predicted samples. Use `zero_division` parameter to control this behavior.\n",
      "  _warn_prf(average, modifier, msg_start, len(result))\n",
      "/Users/sasha.kruglyak/opt/anaconda3/lib/python3.8/site-packages/sklearn/metrics/_classification.py:1248: UndefinedMetricWarning: Precision is ill-defined and being set to 0.0 in labels with no predicted samples. Use `zero_division` parameter to control this behavior.\n",
      "  _warn_prf(average, modifier, msg_start, len(result))\n",
      "/Users/sasha.kruglyak/opt/anaconda3/lib/python3.8/site-packages/sklearn/metrics/_classification.py:1248: UndefinedMetricWarning: Precision is ill-defined and being set to 0.0 in labels with no predicted samples. Use `zero_division` parameter to control this behavior.\n",
      "  _warn_prf(average, modifier, msg_start, len(result))\n"
     ]
    },
    {
     "name": "stdout",
     "output_type": "stream",
     "text": [
      "Elapsed time to compute the cross validate: 6.259 minutes\n",
      "running: SVM_RBF\n"
     ]
    },
    {
     "name": "stderr",
     "output_type": "stream",
     "text": [
      "/Users/sasha.kruglyak/opt/anaconda3/lib/python3.8/site-packages/sklearn/metrics/_classification.py:1248: UndefinedMetricWarning: Precision is ill-defined and being set to 0.0 in labels with no predicted samples. Use `zero_division` parameter to control this behavior.\n",
      "  _warn_prf(average, modifier, msg_start, len(result))\n"
     ]
    },
    {
     "name": "stdout",
     "output_type": "stream",
     "text": [
      "Elapsed time to compute the cross validate: 6.793 minutes\n",
      "running: DecisionTreeClassifier\n",
      "Elapsed time to compute the cross validate: 0.250 minutes\n",
      "running: QuadraticDiscriminantAnalysis\n"
     ]
    },
    {
     "name": "stderr",
     "output_type": "stream",
     "text": [
      "/Users/sasha.kruglyak/opt/anaconda3/lib/python3.8/site-packages/sklearn/discriminant_analysis.py:808: UserWarning: Variables are collinear\n",
      "  warnings.warn(\"Variables are collinear\")\n",
      "/Users/sasha.kruglyak/opt/anaconda3/lib/python3.8/site-packages/sklearn/discriminant_analysis.py:808: UserWarning: Variables are collinear\n",
      "  warnings.warn(\"Variables are collinear\")\n",
      "/Users/sasha.kruglyak/opt/anaconda3/lib/python3.8/site-packages/sklearn/discriminant_analysis.py:808: UserWarning: Variables are collinear\n",
      "  warnings.warn(\"Variables are collinear\")\n",
      "/Users/sasha.kruglyak/opt/anaconda3/lib/python3.8/site-packages/sklearn/discriminant_analysis.py:808: UserWarning: Variables are collinear\n",
      "  warnings.warn(\"Variables are collinear\")\n",
      "/Users/sasha.kruglyak/opt/anaconda3/lib/python3.8/site-packages/sklearn/discriminant_analysis.py:808: UserWarning: Variables are collinear\n",
      "  warnings.warn(\"Variables are collinear\")\n",
      "/Users/sasha.kruglyak/opt/anaconda3/lib/python3.8/site-packages/sklearn/discriminant_analysis.py:808: UserWarning: Variables are collinear\n",
      "  warnings.warn(\"Variables are collinear\")\n",
      "/Users/sasha.kruglyak/opt/anaconda3/lib/python3.8/site-packages/sklearn/discriminant_analysis.py:808: UserWarning: Variables are collinear\n",
      "  warnings.warn(\"Variables are collinear\")\n",
      "/Users/sasha.kruglyak/opt/anaconda3/lib/python3.8/site-packages/sklearn/discriminant_analysis.py:808: UserWarning: Variables are collinear\n",
      "  warnings.warn(\"Variables are collinear\")\n",
      "/Users/sasha.kruglyak/opt/anaconda3/lib/python3.8/site-packages/sklearn/discriminant_analysis.py:808: UserWarning: Variables are collinear\n",
      "  warnings.warn(\"Variables are collinear\")\n",
      "/Users/sasha.kruglyak/opt/anaconda3/lib/python3.8/site-packages/sklearn/discriminant_analysis.py:808: UserWarning: Variables are collinear\n",
      "  warnings.warn(\"Variables are collinear\")\n"
     ]
    },
    {
     "name": "stdout",
     "output_type": "stream",
     "text": [
      "Elapsed time to compute the cross validate: 2.782 minutes\n",
      "running: DecisionTreeClassifier\n",
      "Elapsed time to compute the cross validate: 0.228 minutes\n",
      "running: GaussianProcessClassifier\n",
      "Elapsed time to compute the cross validate: 2.486 minutes\n",
      "running: RandomForestClassifier\n",
      "Elapsed time to compute the cross validate: 0.219 minutes\n",
      "running: MLPClassifier\n",
      "Elapsed time to compute the cross validate: 36.173 minutes\n",
      "running: GaussianNB\n",
      "Elapsed time to compute the cross validate: 0.104 minutes\n",
      "running: KNeighborsClassifier\n",
      "Elapsed time to compute the cross validate: 0.136 minutes\n",
      "running: AdaBoostClassifier\n",
      "Elapsed time to compute the cross validate: 0.815 minutes\n",
      "running: XGBClassifier\n",
      "Elapsed time to compute the cross validate: 3.811 minutes\n"
     ]
    }
   ],
   "source": [
    "london_vs_zwickau_modesl_experiment.run_cross_validate()"
   ]
  },
  {
   "cell_type": "code",
   "execution_count": 54,
   "id": "3b4929ae",
   "metadata": {},
   "outputs": [
    {
     "data": {
      "text/html": [
       "<div>\n",
       "<style scoped>\n",
       "    .dataframe tbody tr th:only-of-type {\n",
       "        vertical-align: middle;\n",
       "    }\n",
       "\n",
       "    .dataframe tbody tr th {\n",
       "        vertical-align: top;\n",
       "    }\n",
       "\n",
       "    .dataframe thead th {\n",
       "        text-align: right;\n",
       "    }\n",
       "</style>\n",
       "<table border=\"1\" class=\"dataframe\">\n",
       "  <thead>\n",
       "    <tr style=\"text-align: right;\">\n",
       "      <th></th>\n",
       "      <th>precision_macro</th>\n",
       "      <th>recall_macro</th>\n",
       "      <th>f1_macro</th>\n",
       "      <th>f1_micro</th>\n",
       "      <th>f1_weighted</th>\n",
       "      <th>accuracy</th>\n",
       "    </tr>\n",
       "  </thead>\n",
       "  <tbody>\n",
       "    <tr>\n",
       "      <th>XGBClassifier</th>\n",
       "      <td>0.595312</td>\n",
       "      <td>0.593171</td>\n",
       "      <td>0.589010</td>\n",
       "      <td>0.593775</td>\n",
       "      <td>0.589323</td>\n",
       "      <td>0.593775</td>\n",
       "    </tr>\n",
       "    <tr>\n",
       "      <th>DecisionTreeClassifier</th>\n",
       "      <td>0.563434</td>\n",
       "      <td>0.562013</td>\n",
       "      <td>0.559754</td>\n",
       "      <td>0.562550</td>\n",
       "      <td>0.560027</td>\n",
       "      <td>0.562550</td>\n",
       "    </tr>\n",
       "    <tr>\n",
       "      <th>AdaBoostClassifier</th>\n",
       "      <td>0.551770</td>\n",
       "      <td>0.552537</td>\n",
       "      <td>0.548970</td>\n",
       "      <td>0.553075</td>\n",
       "      <td>0.549284</td>\n",
       "      <td>0.553075</td>\n",
       "    </tr>\n",
       "    <tr>\n",
       "      <th>RandomForestClassifier</th>\n",
       "      <td>0.519794</td>\n",
       "      <td>0.520074</td>\n",
       "      <td>0.515405</td>\n",
       "      <td>0.520164</td>\n",
       "      <td>0.515483</td>\n",
       "      <td>0.520164</td>\n",
       "    </tr>\n",
       "    <tr>\n",
       "      <th>MLPClassifier</th>\n",
       "      <td>0.516781</td>\n",
       "      <td>0.517334</td>\n",
       "      <td>0.511935</td>\n",
       "      <td>0.516915</td>\n",
       "      <td>0.511809</td>\n",
       "      <td>0.516915</td>\n",
       "    </tr>\n",
       "    <tr>\n",
       "      <th>SVM_linear</th>\n",
       "      <td>0.251575</td>\n",
       "      <td>0.500000</td>\n",
       "      <td>0.334722</td>\n",
       "      <td>0.503150</td>\n",
       "      <td>0.336855</td>\n",
       "      <td>0.503150</td>\n",
       "    </tr>\n",
       "    <tr>\n",
       "      <th>QuadraticDiscriminantAnalysis</th>\n",
       "      <td>0.493073</td>\n",
       "      <td>0.493565</td>\n",
       "      <td>0.486529</td>\n",
       "      <td>0.493502</td>\n",
       "      <td>0.486470</td>\n",
       "      <td>0.493502</td>\n",
       "    </tr>\n",
       "    <tr>\n",
       "      <th>GaussianProcessClassifier</th>\n",
       "      <td>0.474614</td>\n",
       "      <td>0.478453</td>\n",
       "      <td>0.467576</td>\n",
       "      <td>0.479415</td>\n",
       "      <td>0.468164</td>\n",
       "      <td>0.479415</td>\n",
       "    </tr>\n",
       "    <tr>\n",
       "      <th>GaussianNB</th>\n",
       "      <td>0.474014</td>\n",
       "      <td>0.469937</td>\n",
       "      <td>0.441520</td>\n",
       "      <td>0.468576</td>\n",
       "      <td>0.440777</td>\n",
       "      <td>0.468576</td>\n",
       "    </tr>\n",
       "    <tr>\n",
       "      <th>KNeighborsClassifier</th>\n",
       "      <td>0.462399</td>\n",
       "      <td>0.462341</td>\n",
       "      <td>0.457131</td>\n",
       "      <td>0.462202</td>\n",
       "      <td>0.457097</td>\n",
       "      <td>0.462202</td>\n",
       "    </tr>\n",
       "    <tr>\n",
       "      <th>SVM_RBF</th>\n",
       "      <td>0.293464</td>\n",
       "      <td>0.433248</td>\n",
       "      <td>0.321469</td>\n",
       "      <td>0.435689</td>\n",
       "      <td>0.323166</td>\n",
       "      <td>0.435689</td>\n",
       "    </tr>\n",
       "  </tbody>\n",
       "</table>\n",
       "</div>"
      ],
      "text/plain": [
       "                               precision_macro  recall_macro  f1_macro  \\\n",
       "XGBClassifier                         0.595312      0.593171  0.589010   \n",
       "DecisionTreeClassifier                0.563434      0.562013  0.559754   \n",
       "AdaBoostClassifier                    0.551770      0.552537  0.548970   \n",
       "RandomForestClassifier                0.519794      0.520074  0.515405   \n",
       "MLPClassifier                         0.516781      0.517334  0.511935   \n",
       "SVM_linear                            0.251575      0.500000  0.334722   \n",
       "QuadraticDiscriminantAnalysis         0.493073      0.493565  0.486529   \n",
       "GaussianProcessClassifier             0.474614      0.478453  0.467576   \n",
       "GaussianNB                            0.474014      0.469937  0.441520   \n",
       "KNeighborsClassifier                  0.462399      0.462341  0.457131   \n",
       "SVM_RBF                               0.293464      0.433248  0.321469   \n",
       "\n",
       "                               f1_micro  f1_weighted  accuracy  \n",
       "XGBClassifier                  0.593775     0.589323  0.593775  \n",
       "DecisionTreeClassifier         0.562550     0.560027  0.562550  \n",
       "AdaBoostClassifier             0.553075     0.549284  0.553075  \n",
       "RandomForestClassifier         0.520164     0.515483  0.520164  \n",
       "MLPClassifier                  0.516915     0.511809  0.516915  \n",
       "SVM_linear                     0.503150     0.336855  0.503150  \n",
       "QuadraticDiscriminantAnalysis  0.493502     0.486470  0.493502  \n",
       "GaussianProcessClassifier      0.479415     0.468164  0.479415  \n",
       "GaussianNB                     0.468576     0.440777  0.468576  \n",
       "KNeighborsClassifier           0.462202     0.457097  0.462202  \n",
       "SVM_RBF                        0.435689     0.323166  0.435689  "
      ]
     },
     "execution_count": 54,
     "metadata": {},
     "output_type": "execute_result"
    }
   ],
   "source": [
    "london_vs_zwickau_modesl_experiment.show_cross_validate_results()"
   ]
  },
  {
   "cell_type": "code",
   "execution_count": 23,
   "id": "c97880ca",
   "metadata": {},
   "outputs": [
    {
     "name": "stdout",
     "output_type": "stream",
     "text": [
      "running: DecisionTreeClassifier\n",
      "Elapsed time to compute the greed search cv: 0.488 minutes\n",
      "running: AdaBoostClassifier\n",
      "Elapsed time to compute the greed search cv: 24.958 minutes\n",
      "running: XGBClassifier\n",
      "Elapsed time to compute the greed search cv: 35.147 minutes\n"
     ]
    }
   ],
   "source": [
    "london_vs_zwickau_modesl_experiment.run_greed_search_cv_for_n_best_models(3)"
   ]
  },
  {
   "cell_type": "code",
   "execution_count": 24,
   "id": "727ffc62",
   "metadata": {},
   "outputs": [
    {
     "name": "stdout",
     "output_type": "stream",
     "text": [
      "0.6638709677419354\n",
      "DecisionTreeClassifier(max_depth=7)\n",
      "0.6536559139784945\n",
      "AdaBoostClassifier(learning_rate=0.01, n_estimators=300)\n",
      "0.6770967741935484\n",
      "XGBClassifier(base_score=0.5, booster='gbtree', callbacks=None,\n",
      "              colsample_bylevel=1, colsample_bynode=1, colsample_bytree=1,\n",
      "              early_stopping_rounds=None, enable_categorical=False,\n",
      "              eval_metric=None, gamma=0.4, gpu_id=-1, grow_policy='depthwise',\n",
      "              importance_type=None, interaction_constraints='',\n",
      "              learning_rate=0.300000012, max_bin=256, max_cat_to_onehot=4,\n",
      "              max_delta_step=0, max_depth=3, max_leaves=0, min_child_weight=5,\n",
      "              missing=nan, monotone_constraints='()', n_estimators=100,\n",
      "              n_jobs=0, num_parallel_tree=1, predictor='auto', random_state=0,\n",
      "              reg_alpha=0, reg_lambda=1, ...)\n"
     ]
    }
   ],
   "source": [
    "for i in london_vs_zwickau_modesl_experiment.greed_search_cv_results:\n",
    "    print(i.best_score_)\n",
    "    print(i.best_estimator_)"
   ]
  },
  {
   "cell_type": "code",
   "execution_count": 25,
   "id": "b3dd3016",
   "metadata": {},
   "outputs": [
    {
     "data": {
      "text/plain": [
       "{'gamma': 0.4, 'max_depth': 3, 'min_child_weight': 5}"
      ]
     },
     "execution_count": 25,
     "metadata": {},
     "output_type": "execute_result"
    }
   ],
   "source": [
    "london_vs_zwickau_modesl_experiment.greed_search_cv_results[2].best_params_"
   ]
  },
  {
   "cell_type": "markdown",
   "id": "9ec0c774",
   "metadata": {},
   "source": [
    "## burchard VS zwickau"
   ]
  },
  {
   "cell_type": "code",
   "execution_count": 27,
   "id": "99022598",
   "metadata": {},
   "outputs": [],
   "source": [
    "burchard_by_london_VS_zwickau_models_experiment = thesisModelFeatures.ModelsExperiment(\n",
    "    burchard_by_london_VS_zwickau_features_df,\n",
    "    'burchard_by_london_VS_zwickau'\n",
    ")"
   ]
  },
  {
   "cell_type": "code",
   "execution_count": 28,
   "id": "b0059af9",
   "metadata": {},
   "outputs": [
    {
     "name": "stdout",
     "output_type": "stream",
     "text": [
      "running: DecisionTreeClassifier\n",
      "Elapsed time to compute the cross validate: 0.138 minutes\n",
      "running: GaussianProcessClassifier\n"
     ]
    },
    {
     "name": "stderr",
     "output_type": "stream",
     "text": [
      "/Users/sasha.kruglyak/opt/anaconda3/lib/python3.8/site-packages/sklearn/metrics/_classification.py:1248: UndefinedMetricWarning: Precision is ill-defined and being set to 0.0 in labels with no predicted samples. Use `zero_division` parameter to control this behavior.\n",
      "  _warn_prf(average, modifier, msg_start, len(result))\n"
     ]
    },
    {
     "name": "stdout",
     "output_type": "stream",
     "text": [
      "Elapsed time to compute the cross validate: 0.947 minutes\n",
      "running: RandomForestClassifier\n",
      "Elapsed time to compute the cross validate: 0.117 minutes\n",
      "running: MLPClassifier\n",
      "Elapsed time to compute the cross validate: 9.132 minutes\n",
      "running: GaussianNB\n",
      "Elapsed time to compute the cross validate: 0.073 minutes\n",
      "running: KNeighborsClassifier\n",
      "Elapsed time to compute the cross validate: 0.097 minutes\n",
      "running: AdaBoostClassifier\n",
      "Elapsed time to compute the cross validate: 0.670 minutes\n",
      "running: XGBClassifier\n",
      "Elapsed time to compute the cross validate: 2.410 minutes\n"
     ]
    }
   ],
   "source": [
    "burchard_by_london_VS_zwickau_models_experiment.run_cross_validate()"
   ]
  },
  {
   "cell_type": "code",
   "execution_count": 29,
   "id": "f6f8ad0c",
   "metadata": {},
   "outputs": [
    {
     "data": {
      "text/html": [
       "<div>\n",
       "<style scoped>\n",
       "    .dataframe tbody tr th:only-of-type {\n",
       "        vertical-align: middle;\n",
       "    }\n",
       "\n",
       "    .dataframe tbody tr th {\n",
       "        vertical-align: top;\n",
       "    }\n",
       "\n",
       "    .dataframe thead th {\n",
       "        text-align: right;\n",
       "    }\n",
       "</style>\n",
       "<table border=\"1\" class=\"dataframe\">\n",
       "  <thead>\n",
       "    <tr style=\"text-align: right;\">\n",
       "      <th></th>\n",
       "      <th>precision_macro</th>\n",
       "      <th>recall_macro</th>\n",
       "      <th>f1_macro</th>\n",
       "      <th>f1_micro</th>\n",
       "      <th>f1_weighted</th>\n",
       "      <th>accuracy</th>\n",
       "    </tr>\n",
       "  </thead>\n",
       "  <tbody>\n",
       "    <tr>\n",
       "      <th>XGBClassifier</th>\n",
       "      <td>0.810930</td>\n",
       "      <td>0.786299</td>\n",
       "      <td>0.792773</td>\n",
       "      <td>0.807207</td>\n",
       "      <td>0.803149</td>\n",
       "      <td>0.807207</td>\n",
       "    </tr>\n",
       "    <tr>\n",
       "      <th>AdaBoostClassifier</th>\n",
       "      <td>0.727981</td>\n",
       "      <td>0.718377</td>\n",
       "      <td>0.718092</td>\n",
       "      <td>0.730030</td>\n",
       "      <td>0.728747</td>\n",
       "      <td>0.730030</td>\n",
       "    </tr>\n",
       "    <tr>\n",
       "      <th>RandomForestClassifier</th>\n",
       "      <td>0.739112</td>\n",
       "      <td>0.674242</td>\n",
       "      <td>0.671326</td>\n",
       "      <td>0.718994</td>\n",
       "      <td>0.695116</td>\n",
       "      <td>0.718994</td>\n",
       "    </tr>\n",
       "    <tr>\n",
       "      <th>DecisionTreeClassifier</th>\n",
       "      <td>0.702478</td>\n",
       "      <td>0.691840</td>\n",
       "      <td>0.692653</td>\n",
       "      <td>0.710435</td>\n",
       "      <td>0.706556</td>\n",
       "      <td>0.710435</td>\n",
       "    </tr>\n",
       "    <tr>\n",
       "      <th>GaussianProcessClassifier</th>\n",
       "      <td>0.739324</td>\n",
       "      <td>0.559286</td>\n",
       "      <td>0.489480</td>\n",
       "      <td>0.644520</td>\n",
       "      <td>0.544419</td>\n",
       "      <td>0.644520</td>\n",
       "    </tr>\n",
       "    <tr>\n",
       "      <th>MLPClassifier</th>\n",
       "      <td>0.633516</td>\n",
       "      <td>0.577987</td>\n",
       "      <td>0.564658</td>\n",
       "      <td>0.630856</td>\n",
       "      <td>0.597316</td>\n",
       "      <td>0.630856</td>\n",
       "    </tr>\n",
       "    <tr>\n",
       "      <th>KNeighborsClassifier</th>\n",
       "      <td>0.612916</td>\n",
       "      <td>0.532879</td>\n",
       "      <td>0.476318</td>\n",
       "      <td>0.611336</td>\n",
       "      <td>0.528870</td>\n",
       "      <td>0.611336</td>\n",
       "    </tr>\n",
       "    <tr>\n",
       "      <th>GaussianNB</th>\n",
       "      <td>0.599722</td>\n",
       "      <td>0.520087</td>\n",
       "      <td>0.461203</td>\n",
       "      <td>0.597823</td>\n",
       "      <td>0.514129</td>\n",
       "      <td>0.597823</td>\n",
       "    </tr>\n",
       "  </tbody>\n",
       "</table>\n",
       "</div>"
      ],
      "text/plain": [
       "                           precision_macro  recall_macro  f1_macro  f1_micro  \\\n",
       "XGBClassifier                     0.810930      0.786299  0.792773  0.807207   \n",
       "AdaBoostClassifier                0.727981      0.718377  0.718092  0.730030   \n",
       "RandomForestClassifier            0.739112      0.674242  0.671326  0.718994   \n",
       "DecisionTreeClassifier            0.702478      0.691840  0.692653  0.710435   \n",
       "GaussianProcessClassifier         0.739324      0.559286  0.489480  0.644520   \n",
       "MLPClassifier                     0.633516      0.577987  0.564658  0.630856   \n",
       "KNeighborsClassifier              0.612916      0.532879  0.476318  0.611336   \n",
       "GaussianNB                        0.599722      0.520087  0.461203  0.597823   \n",
       "\n",
       "                           f1_weighted  accuracy  \n",
       "XGBClassifier                 0.803149  0.807207  \n",
       "AdaBoostClassifier            0.728747  0.730030  \n",
       "RandomForestClassifier        0.695116  0.718994  \n",
       "DecisionTreeClassifier        0.706556  0.710435  \n",
       "GaussianProcessClassifier     0.544419  0.644520  \n",
       "MLPClassifier                 0.597316  0.630856  \n",
       "KNeighborsClassifier          0.528870  0.611336  \n",
       "GaussianNB                    0.514129  0.597823  "
      ]
     },
     "execution_count": 29,
     "metadata": {},
     "output_type": "execute_result"
    }
   ],
   "source": [
    "burchard_by_london_VS_zwickau_models_experiment.show_cross_validate_results()"
   ]
  },
  {
   "cell_type": "code",
   "execution_count": 30,
   "id": "429ec9ae",
   "metadata": {},
   "outputs": [
    {
     "name": "stdout",
     "output_type": "stream",
     "text": [
      "running: RandomForestClassifier\n"
     ]
    },
    {
     "name": "stderr",
     "output_type": "stream",
     "text": [
      "/Users/sasha.kruglyak/opt/anaconda3/lib/python3.8/site-packages/sklearn/model_selection/_search.py:922: UserWarning: One or more of the test scores are non-finite: [0.71861862 0.71291291 0.72417417 0.71869369 0.72972973 0.72154655\n",
      " 0.72695195 0.72972973 0.71861862 0.71291291 0.72417417 0.71869369\n",
      " 0.72972973 0.72154655 0.72695195 0.72972973 0.59782282 0.59782282\n",
      " 0.59782282 0.59782282 0.59782282 0.59782282 0.59782282 0.59782282\n",
      " 0.73235736 0.73798799 0.73528529 0.72695195 0.72695195 0.73250751\n",
      " 0.7298048  0.73528529 0.73235736 0.73798799 0.73528529 0.72695195\n",
      " 0.72695195 0.73250751 0.7298048  0.73528529 0.59782282 0.59782282\n",
      " 0.59782282 0.59782282 0.59782282 0.59782282 0.59782282 0.59782282\n",
      " 0.72154655 0.7240991  0.74069069 0.72957958 0.73528529 0.73528529\n",
      " 0.73521021 0.74361862 0.72154655 0.7240991  0.74069069 0.72957958\n",
      " 0.73528529 0.73528529 0.73521021 0.74361862 0.59496997 0.6033033\n",
      " 0.60052553 0.59782282 0.59782282 0.59782282 0.59782282 0.59782282\n",
      " 0.7213964  0.73498498 0.74069069 0.75172673 0.7460961  0.75713213\n",
      " 0.74887387 0.74887387 0.7213964  0.73498498 0.74069069 0.75172673\n",
      " 0.7460961  0.75713213 0.74887387 0.74887387 0.60075075 0.6006006\n",
      " 0.59782282 0.59782282 0.59782282 0.59782282 0.59782282 0.59782282\n",
      " 0.7243994  0.74084084 0.73528529 0.73521021 0.75187688 0.75465465\n",
      " 0.75735736 0.76013514 0.7243994  0.74084084 0.73528529 0.73521021\n",
      " 0.75187688 0.75465465 0.75735736 0.76013514 0.60615616 0.59782282\n",
      " 0.6033033  0.60052553 0.60052553 0.60052553 0.59782282 0.60052553\n",
      " 0.71884384 0.72424925 0.74084084 0.73250751 0.7298048  0.74084084\n",
      " 0.74902402 0.75728228 0.71884384 0.72424925 0.74084084 0.73250751\n",
      " 0.7298048  0.74084084 0.74902402 0.75728228 0.60600601 0.6033033\n",
      " 0.6006006  0.6033033  0.60322823 0.60052553 0.59782282 0.59782282\n",
      " 0.72154655 0.75172673 0.74624625 0.74617117 0.75187688 0.75728228\n",
      " 0.7518018  0.76013514 0.72154655 0.75172673 0.74624625 0.74617117\n",
      " 0.75187688 0.75728228 0.7518018  0.76013514 0.61981982 0.61433934\n",
      " 0.61163664 0.60885886 0.61711712 0.61163664 0.61163664 0.61156156\n",
      " 0.73521021 0.73528529 0.74902402 0.74339339 0.74617117 0.74617117\n",
      " 0.74069069 0.74902402 0.73521021 0.73528529 0.74902402 0.74339339\n",
      " 0.74617117 0.74617117 0.74069069 0.74902402 0.62545045 0.6253003\n",
      " 0.62252252 0.61433934 0.61433934 0.61433934 0.61704204 0.61433934\n",
      " 0.71591592 0.73806306 0.7463964  0.74624625 0.74354354 0.74902402\n",
      " 0.74902402 0.75457958 0.71591592 0.73806306 0.7463964  0.74624625\n",
      " 0.74354354 0.74902402 0.74902402 0.75457958 0.63618619 0.61696697\n",
      " 0.61711712 0.61163664 0.60885886 0.61163664 0.61163664 0.61711712\n",
      " 0.70465465 0.69917417 0.71306306 0.71869369 0.71591592 0.7213964\n",
      " 0.71599099 0.71591592 0.70465465 0.69917417 0.71306306 0.71869369\n",
      " 0.71591592 0.7213964  0.71599099 0.71591592 0.59782282 0.59782282\n",
      " 0.59782282 0.59782282 0.59782282 0.59782282 0.59782282 0.59782282\n",
      " 0.71576577 0.71028529 0.72424925 0.72154655 0.72987988 0.72972973\n",
      " 0.7298048  0.73243243 0.71576577 0.71028529 0.72424925 0.72154655\n",
      " 0.72987988 0.72972973 0.7298048  0.73243243 0.59782282 0.59782282\n",
      " 0.59782282 0.59782282 0.59782282 0.59782282 0.59782282 0.59782282\n",
      " 0.71028529 0.72124625 0.73506006 0.72972973 0.73235736 0.73235736\n",
      " 0.73528529 0.73798799 0.71028529 0.72124625 0.73506006 0.72972973\n",
      " 0.73235736 0.73235736 0.73528529 0.73798799 0.59504505 0.59782282\n",
      " 0.59782282 0.59782282 0.59782282 0.59782282 0.59782282 0.59782282\n",
      " 0.74339339 0.73228228 0.73235736 0.7460961  0.74061562 0.74887387\n",
      " 0.74894895 0.74894895 0.74339339 0.73228228 0.73235736 0.7460961\n",
      " 0.74061562 0.74887387 0.74894895 0.74894895 0.59226727 0.60337838\n",
      " 0.59782282 0.59782282 0.59782282 0.59782282 0.59782282 0.59782282\n",
      " 0.73513514 0.72665165 0.73783784 0.74894895 0.7460961  0.7460961\n",
      " 0.73798799 0.74076577 0.73513514 0.72665165 0.73783784 0.74894895\n",
      " 0.7460961  0.7460961  0.73798799 0.74076577 0.59504505 0.60337838\n",
      " 0.6006006  0.59782282 0.59782282 0.59782282 0.59782282 0.59782282\n",
      " 0.7213964  0.74061562 0.75720721 0.75157658 0.74624625 0.74632132\n",
      " 0.73806306 0.74361862 0.7213964  0.74061562 0.75720721 0.75157658\n",
      " 0.74624625 0.74632132 0.73806306 0.74361862 0.5978979  0.60337838\n",
      " 0.6006006  0.6006006  0.59782282 0.59782282 0.6006006  0.59782282\n",
      " 0.72672673 0.73521021 0.74061562 0.73513514 0.74069069 0.74624625\n",
      " 0.74084084 0.74632132 0.72672673 0.73521021 0.74061562 0.73513514\n",
      " 0.74069069 0.74624625 0.74084084 0.74632132 0.61974474 0.61156156\n",
      " 0.61156156 0.60885886 0.60885886 0.60615616 0.60615616 0.60608108\n",
      " 0.71051051 0.71854354 0.73798799 0.73528529 0.74346847 0.75728228\n",
      " 0.7490991  0.75465465 0.71051051 0.71854354 0.73798799 0.73528529\n",
      " 0.74346847 0.75728228 0.7490991  0.75465465 0.62545045 0.61433934\n",
      " 0.61704204 0.61719219 0.61719219 0.61719219 0.61171171 0.60615616\n",
      " 0.72942943 0.74331832 0.74354354 0.74076577 0.75720721 0.76006006\n",
      " 0.75187688 0.7490991  0.72942943 0.74331832 0.74354354 0.74076577\n",
      " 0.75720721 0.76006006 0.75187688 0.7490991  0.63085586 0.61989489\n",
      " 0.62537538 0.61433934 0.61433934 0.61981982 0.61433934 0.62252252\n",
      "        nan        nan        nan        nan        nan        nan\n",
      "        nan        nan        nan        nan        nan        nan\n",
      "        nan        nan        nan        nan        nan        nan\n",
      "        nan        nan        nan        nan        nan        nan\n",
      "        nan        nan        nan        nan        nan        nan\n",
      "        nan        nan        nan        nan        nan        nan\n",
      "        nan        nan        nan        nan        nan        nan\n",
      "        nan        nan        nan        nan        nan        nan\n",
      "        nan        nan        nan        nan        nan        nan\n",
      "        nan        nan        nan        nan        nan        nan\n",
      "        nan        nan        nan        nan        nan        nan\n",
      "        nan        nan        nan        nan        nan        nan\n",
      "        nan        nan        nan        nan        nan        nan\n",
      "        nan        nan        nan        nan        nan        nan\n",
      "        nan        nan        nan        nan        nan        nan\n",
      "        nan        nan        nan        nan        nan        nan\n",
      "        nan        nan        nan        nan        nan        nan\n",
      "        nan        nan        nan        nan        nan        nan\n",
      "        nan        nan        nan        nan        nan        nan\n",
      "        nan        nan        nan        nan        nan        nan\n",
      "        nan        nan        nan        nan        nan        nan\n",
      "        nan        nan        nan        nan        nan        nan\n",
      "        nan        nan        nan        nan        nan        nan\n",
      "        nan        nan        nan        nan        nan        nan\n",
      "        nan        nan        nan        nan        nan        nan\n",
      "        nan        nan        nan        nan        nan        nan\n",
      "        nan        nan        nan        nan        nan        nan\n",
      "        nan        nan        nan        nan        nan        nan\n",
      "        nan        nan        nan        nan        nan        nan\n",
      "        nan        nan        nan        nan        nan        nan\n",
      "        nan        nan        nan        nan        nan        nan\n",
      "        nan        nan        nan        nan        nan        nan\n",
      "        nan        nan        nan        nan        nan        nan\n",
      "        nan        nan        nan        nan        nan        nan\n",
      "        nan        nan        nan        nan        nan        nan\n",
      "        nan        nan        nan        nan        nan        nan]\n",
      "  warnings.warn(\n",
      "/Users/sasha.kruglyak/opt/anaconda3/lib/python3.8/site-packages/sklearn/model_selection/_search.py:922: UserWarning: One or more of the train scores are non-finite: [0.87938875 0.87847789 0.87480441 0.87633346 0.88092437 0.88153787\n",
      " 0.87664115 0.8781702  0.87938875 0.87847789 0.87480441 0.87633346\n",
      " 0.88092437 0.88153787 0.87664115 0.8781702  0.61432994 0.6026932\n",
      " 0.59993903 0.59840904 0.59810323 0.59840997 0.59779648 0.59779648\n",
      " 0.93173674 0.94183317 0.94061275 0.94061275 0.94551228 0.94796064\n",
      " 0.94703946 0.94857414 0.93173674 0.94183317 0.94061275 0.94061275\n",
      " 0.94551228 0.94796064 0.94703946 0.94857414 0.65595861 0.62871334\n",
      " 0.62167033 0.61095946 0.61309825 0.6109557  0.6078976  0.60545018\n",
      " 0.96571828 0.9749001  0.97673496 0.9816298  0.98499841 0.98683514\n",
      " 0.98683514 0.9874477  0.96571828 0.9749001  0.97673496 0.9816298\n",
      " 0.98499841 0.98683514 0.98683514 0.9874477  0.71318456 0.68686141\n",
      " 0.67829403 0.66820698 0.67126039 0.67033076 0.66268738 0.66024183\n",
      " 0.98591677 0.99295698 0.99601602 0.99632465 0.99601977 0.9966314\n",
      " 0.99816232 0.99846813 0.98591677 0.99295698 0.99601602 0.99632465\n",
      " 0.99601977 0.9966314  0.99816232 0.99846813 0.77623309 0.7664359\n",
      " 0.76797058 0.7557316  0.7587897  0.75970995 0.75176075 0.74778616\n",
      " 0.99295979 0.99754789 0.99908163 0.99938744 1.         1.\n",
      " 0.99969419 0.99969419 0.99295979 0.99754789 0.99908163 0.99938744\n",
      " 1.         1.         0.99969419 0.99969419 0.8389655  0.84049549\n",
      " 0.85734508 0.84633028 0.84480404 0.84939119 0.83990638 0.84204612\n",
      " 0.99601977 0.99877394 0.99969325 0.99969325 0.99969325 1.\n",
      " 1.         1.         0.99601977 0.99877394 0.99969325 0.99969325\n",
      " 0.99969325 1.         1.         1.         0.88183055 0.89621583\n",
      " 0.92224067 0.91153262 0.91703908 0.91367235 0.91611883 0.91642558\n",
      " 0.99908069 1.         1.         1.         1.         1.\n",
      " 1.         1.         0.99908069 1.         1.         1.\n",
      " 1.         1.         1.         1.         0.91458791 0.94029756\n",
      " 0.95530572 0.95316317 0.95714527 0.96051106 0.96020619 0.95959457\n",
      " 0.99969419 1.         1.         1.         1.         1.\n",
      " 1.         1.         0.99969419 1.         1.         1.\n",
      " 1.         1.         1.         1.         0.94029756 0.96662727\n",
      " 0.97795632 0.979794   0.98071049 0.97979588 0.98224517 0.98286055\n",
      " 0.99969419 1.         1.         1.         1.         1.\n",
      " 1.         1.         0.99969419 1.         1.         1.\n",
      " 1.         1.         1.         1.         0.9614238  0.98438303\n",
      " 0.9920358  0.99112118 0.99295792 0.99326373 0.99265117 0.99418491\n",
      " 0.86500066 0.86316204 0.86347254 0.8604135  0.86163487 0.86378398\n",
      " 0.86317517 0.86102981 0.86500066 0.86316204 0.86347254 0.8604135\n",
      " 0.86163487 0.86378398 0.86317517 0.86102981 0.60881597 0.5993274\n",
      " 0.59871578 0.59840904 0.59810323 0.59779648 0.59779648 0.59779648\n",
      " 0.92592634 0.92775464 0.92959513 0.92714771 0.92959701 0.93174237\n",
      " 0.93051631 0.93449748 0.92592634 0.92775464 0.92959513 0.92714771\n",
      " 0.92959701 0.93174237 0.93051631 0.93449748 0.64003396 0.61768916\n",
      " 0.61341251 0.60667342 0.60391644 0.60361344 0.60024765 0.59963509\n",
      " 0.95745108 0.96938988 0.97030544 0.9742866  0.97459898 0.97612615\n",
      " 0.97765427 0.97734939 0.95745108 0.96938988 0.97030544 0.9742866\n",
      " 0.97459898 0.97612615 0.97765427 0.97734939 0.68686985 0.6681929\n",
      " 0.66115833 0.64401794 0.64829741 0.65074483 0.63942421 0.63942797\n",
      " 0.97980244 0.98959025 0.99112024 0.9917328  0.99418116 0.99663233\n",
      " 0.99663327 0.99693908 0.97980244 0.98959025 0.99112024 0.9917328\n",
      " 0.99418116 0.99663233 0.99663327 0.99693908 0.75113788 0.74042044\n",
      " 0.73797208 0.72512054 0.72971051 0.72909702 0.71931202 0.71074839\n",
      " 0.99081537 0.99448885 0.99754883 0.99816232 0.99877488 0.99908069\n",
      " 0.99877488 0.99877488 0.99081537 0.99448885 0.99754883 0.99816232\n",
      " 0.99877488 0.99908069 0.99877488 0.99877488 0.81388623 0.81540496\n",
      " 0.82551453 0.80500647 0.80929438 0.80960207 0.80623347 0.80011163\n",
      " 0.99418397 0.99908163 0.99938744 0.99969325 0.99969419 0.99969419\n",
      " 0.99969419 0.99969419 0.99418397 0.99908163 0.99938744 0.99969325\n",
      " 0.99969419 0.99969419 0.99969419 0.99969419 0.85826626 0.87448172\n",
      " 0.89040825 0.87572184 0.87909702 0.87817302 0.87602765 0.87694509\n",
      " 0.99755352 0.99938838 1.         1.         1.         1.\n",
      " 1.         1.         0.99755352 0.99938838 1.         1.\n",
      " 1.         1.         1.         1.         0.90264911 0.91672107\n",
      " 0.93510253 0.92928932 0.93113262 0.93143562 0.93418229 0.93388117\n",
      " 0.99785933 1.         1.         1.         1.         1.\n",
      " 1.         1.         0.99785933 1.         1.         1.\n",
      " 1.         1.         1.         1.         0.9274432  0.94917825\n",
      " 0.96357104 0.96326992 0.96540872 0.96755314 0.96724827 0.96847808\n",
      " 0.99908163 0.99969419 1.         1.         1.         1.\n",
      " 1.         1.         0.99908163 0.99969419 1.         1.\n",
      " 1.         1.         1.         1.         0.94244667 0.97152492\n",
      " 0.98438772 0.98347217 0.98347123 0.98469541 0.98500591 0.98684265\n",
      "        nan        nan        nan        nan        nan        nan\n",
      "        nan        nan        nan        nan        nan        nan\n",
      "        nan        nan        nan        nan        nan        nan\n",
      "        nan        nan        nan        nan        nan        nan\n",
      "        nan        nan        nan        nan        nan        nan\n",
      "        nan        nan        nan        nan        nan        nan\n",
      "        nan        nan        nan        nan        nan        nan\n",
      "        nan        nan        nan        nan        nan        nan\n",
      "        nan        nan        nan        nan        nan        nan\n",
      "        nan        nan        nan        nan        nan        nan\n",
      "        nan        nan        nan        nan        nan        nan\n",
      "        nan        nan        nan        nan        nan        nan\n",
      "        nan        nan        nan        nan        nan        nan\n",
      "        nan        nan        nan        nan        nan        nan\n",
      "        nan        nan        nan        nan        nan        nan\n",
      "        nan        nan        nan        nan        nan        nan\n",
      "        nan        nan        nan        nan        nan        nan\n",
      "        nan        nan        nan        nan        nan        nan\n",
      "        nan        nan        nan        nan        nan        nan\n",
      "        nan        nan        nan        nan        nan        nan\n",
      "        nan        nan        nan        nan        nan        nan\n",
      "        nan        nan        nan        nan        nan        nan\n",
      "        nan        nan        nan        nan        nan        nan\n",
      "        nan        nan        nan        nan        nan        nan\n",
      "        nan        nan        nan        nan        nan        nan\n",
      "        nan        nan        nan        nan        nan        nan\n",
      "        nan        nan        nan        nan        nan        nan\n",
      "        nan        nan        nan        nan        nan        nan\n",
      "        nan        nan        nan        nan        nan        nan\n",
      "        nan        nan        nan        nan        nan        nan\n",
      "        nan        nan        nan        nan        nan        nan\n",
      "        nan        nan        nan        nan        nan        nan\n",
      "        nan        nan        nan        nan        nan        nan\n",
      "        nan        nan        nan        nan        nan        nan\n",
      "        nan        nan        nan        nan        nan        nan\n",
      "        nan        nan        nan        nan        nan        nan]\n",
      "  warnings.warn(\n"
     ]
    },
    {
     "name": "stdout",
     "output_type": "stream",
     "text": [
      "Elapsed time to compute the greed search cv: 14.043 minutes\n",
      "running: AdaBoostClassifier\n",
      "Elapsed time to compute the greed search cv: 56.251 minutes\n",
      "running: XGBClassifier\n",
      "Elapsed time to compute the greed search cv: 63.243 minutes\n"
     ]
    }
   ],
   "source": [
    "burchard_by_london_VS_zwickau_models_experiment.run_greed_search_cv_for_n_best_models(3)"
   ]
  },
  {
   "cell_type": "code",
   "execution_count": 31,
   "id": "544deca9",
   "metadata": {},
   "outputs": [
    {
     "name": "stdout",
     "output_type": "stream",
     "text": [
      "0.7601351351351353\n",
      "RandomForestClassifier(max_depth=10, n_estimators=500, random_state=0)\n",
      "0.8071321321321321\n",
      "AdaBoostClassifier(learning_rate=0.5, n_estimators=500)\n",
      "0.8067567567567568\n",
      "XGBClassifier(base_score=0.5, booster='gbtree', callbacks=None,\n",
      "              colsample_bylevel=1, colsample_bynode=1, colsample_bytree=1,\n",
      "              early_stopping_rounds=None, enable_categorical=False,\n",
      "              eval_metric=None, gamma=0.0, gpu_id=-1, grow_policy='depthwise',\n",
      "              importance_type=None, interaction_constraints='',\n",
      "              learning_rate=0.300000012, max_bin=256, max_cat_to_onehot=4,\n",
      "              max_delta_step=0, max_depth=3, max_leaves=0, min_child_weight=3,\n",
      "              missing=nan, monotone_constraints='()', n_estimators=100,\n",
      "              n_jobs=0, num_parallel_tree=1, predictor='auto', random_state=0,\n",
      "              reg_alpha=0, reg_lambda=1, ...)\n"
     ]
    }
   ],
   "source": [
    "for i in burchard_by_london_VS_zwickau_models_experiment.greed_search_cv_results:\n",
    "    print(i.best_score_)\n",
    "    print(i.best_estimator_)"
   ]
  },
  {
   "cell_type": "code",
   "execution_count": 32,
   "id": "c7cc93fa",
   "metadata": {},
   "outputs": [
    {
     "ename": "TypeError",
     "evalue": "__init__() missing 1 required positional argument: 'experiment_name'",
     "output_type": "error",
     "traceback": [
      "\u001b[0;31m---------------------------------------------------------------------------\u001b[0m",
      "\u001b[0;31mTypeError\u001b[0m                                 Traceback (most recent call last)",
      "\u001b[0;32m<ipython-input-32-32b0d9b29b8d>\u001b[0m in \u001b[0;36m<module>\u001b[0;34m\u001b[0m\n\u001b[0;32m----> 1\u001b[0;31m \u001b[0mburchard_by_zwickau_VS_zwickau_models_experiment\u001b[0m \u001b[0;34m=\u001b[0m \u001b[0mthesisModelFeatures\u001b[0m\u001b[0;34m.\u001b[0m\u001b[0mModelsExperiment\u001b[0m\u001b[0;34m(\u001b[0m\u001b[0mburchard_by_zwickau_VS_zwickau_features_df\u001b[0m\u001b[0;34m)\u001b[0m\u001b[0;34m\u001b[0m\u001b[0;34m\u001b[0m\u001b[0m\n\u001b[0m",
      "\u001b[0;31mTypeError\u001b[0m: __init__() missing 1 required positional argument: 'experiment_name'"
     ]
    }
   ],
   "source": [
    "burchard_by_zwickau_VS_zwickau_models_experiment = thesisModelFeatures.ModelsExperiment(burchard_by_zwickau_VS_zwickau_features_df)"
   ]
  },
  {
   "cell_type": "code",
   "execution_count": null,
   "id": "30f37831",
   "metadata": {},
   "outputs": [],
   "source": [
    "burchard_by_zwickau_VS_zwickau_models_experiment.run_cross_validate()"
   ]
  },
  {
   "cell_type": "code",
   "execution_count": null,
   "id": "8cd6071b",
   "metadata": {},
   "outputs": [],
   "source": [
    "burchard_by_zwickau_VS_zwickau_models_experiment.show_cross_validate_results()"
   ]
  },
  {
   "cell_type": "code",
   "execution_count": null,
   "id": "78876aee",
   "metadata": {},
   "outputs": [],
   "source": [
    "burchard_by_zwickau_VS_zwickau_models_experiment.run_greed_search_cv_for_n_best_models(3)"
   ]
  },
  {
   "cell_type": "code",
   "execution_count": null,
   "id": "309dc642",
   "metadata": {},
   "outputs": [],
   "source": [
    "for i in burchard_by_zwickau_VS_zwickau_models_experiment.greed_search_cv_results:\n",
    "    print(i.best_score_)\n",
    "    print(i.best_estimator_)"
   ]
  },
  {
   "cell_type": "code",
   "execution_count": null,
   "id": "a69a79f6",
   "metadata": {},
   "outputs": [],
   "source": [
    "burchard_by_zwickau_VS_zwickau_models_experiment.greed_search_cv_results[2].best_params_"
   ]
  },
  {
   "cell_type": "markdown",
   "id": "e15697b5",
   "metadata": {},
   "source": [
    "## burchard vs london"
   ]
  },
  {
   "cell_type": "code",
   "execution_count": null,
   "id": "48526d7f",
   "metadata": {},
   "outputs": [],
   "source": [
    "burchard_by_london_VS_london_models_experiment = thesisModelFeatures.ModelsExperiment(burchard_by_london_VS_london_features_df)"
   ]
  },
  {
   "cell_type": "code",
   "execution_count": null,
   "id": "c47969e4",
   "metadata": {},
   "outputs": [],
   "source": [
    "burchard_by_london_VS_london_models_experiment.run_cross_validate()"
   ]
  },
  {
   "cell_type": "code",
   "execution_count": null,
   "id": "e3822367",
   "metadata": {},
   "outputs": [],
   "source": [
    "burchard_by_london_VS_london_models_experiment.show_cross_validate_results()"
   ]
  },
  {
   "cell_type": "code",
   "execution_count": null,
   "id": "0ac4667c",
   "metadata": {},
   "outputs": [],
   "source": [
    "burchard_by_london_VS_london_models_experiment.run_greed_search_cv_for_n_best_models(3)"
   ]
  },
  {
   "cell_type": "code",
   "execution_count": null,
   "id": "a681db86",
   "metadata": {},
   "outputs": [],
   "source": [
    "for i in burchard_by_london_VS_london_models_experiment.greed_search_cv_results:\n",
    "    print(i.best_score_)\n",
    "    print(i.best_estimator_)"
   ]
  },
  {
   "cell_type": "code",
   "execution_count": null,
   "id": "ddb94166",
   "metadata": {},
   "outputs": [],
   "source": [
    "burchard_by_zwickau_VS_london_models_experiment = thesisModelFeatures.ModelsExperiment(\n",
    "    burchard_by_zwickau_VS_london_features_df\n",
    ")"
   ]
  },
  {
   "cell_type": "code",
   "execution_count": null,
   "id": "916c78a6",
   "metadata": {},
   "outputs": [],
   "source": [
    "burchard_by_zwickau_VS_london_models_experiment.run_cross_validate()"
   ]
  },
  {
   "cell_type": "code",
   "execution_count": null,
   "id": "8de31153",
   "metadata": {},
   "outputs": [],
   "source": [
    "burchard_by_zwickau_VS_london_models_experiment.show_cross_validate_results()"
   ]
  },
  {
   "cell_type": "code",
   "execution_count": null,
   "id": "2c4f0529",
   "metadata": {},
   "outputs": [],
   "source": [
    "burchard_by_zwickau_VS_london_models_experiment.run_greed_search_cv_for_n_best_models(3)"
   ]
  },
  {
   "cell_type": "code",
   "execution_count": null,
   "id": "39958117",
   "metadata": {},
   "outputs": [],
   "source": [
    "for i in burchard_by_zwickau_VS_london_models_experiment.greed_search_cv_results:\n",
    "    print(i.best_score_)\n",
    "    print(i.best_estimator_)"
   ]
  },
  {
   "cell_type": "code",
   "execution_count": null,
   "id": "b637c8f4",
   "metadata": {},
   "outputs": [],
   "source": []
  },
  {
   "cell_type": "code",
   "execution_count": null,
   "id": "95c53232",
   "metadata": {},
   "outputs": [],
   "source": [
    "# burchard_by_london_VS_zwickau_models_experiment.get_n_best_models(3)"
   ]
  },
  {
   "cell_type": "code",
   "execution_count": null,
   "id": "b24b56dc",
   "metadata": {},
   "outputs": [],
   "source": [
    "t= burchard_by_london_VS_zwickau_models_experiment.show_cross_validate_results().index[:3]"
   ]
  },
  {
   "cell_type": "code",
   "execution_count": null,
   "id": "3ff7aa78",
   "metadata": {},
   "outputs": [],
   "source": [
    "t"
   ]
  },
  {
   "cell_type": "code",
   "execution_count": null,
   "id": "2debc5a2",
   "metadata": {},
   "outputs": [],
   "source": [
    "best_models_names = burchard_by_london_VS_zwickau_models_experiment.show_cross_validate_results().index[:3]\n",
    "best_models = []\n",
    "\n",
    "for m, name, greed_search_cv_params in burchard_by_london_VS_zwickau_models_experiment.models:\n",
    "    if name in best_models_names: best_models.append(m)\n",
    "best_models"
   ]
  },
  {
   "cell_type": "code",
   "execution_count": null,
   "id": "91f67748",
   "metadata": {},
   "outputs": [],
   "source": [
    "for m, classifier_name, greed_search_cv_params in best_models:\n",
    "    print(classifier_name)"
   ]
  },
  {
   "cell_type": "code",
   "execution_count": null,
   "id": "52ed3e20",
   "metadata": {},
   "outputs": [],
   "source": [
    "for i in burchard_by_london_VS_zwickau_models_experiment.greed_search_cv_results:\n",
    "    print(i.best_score_)\n",
    "    print(i.best_estimator_)"
   ]
  },
  {
   "cell_type": "code",
   "execution_count": null,
   "id": "2d1df4a8",
   "metadata": {},
   "outputs": [],
   "source": []
  },
  {
   "cell_type": "code",
   "execution_count": null,
   "id": "d334d4e5",
   "metadata": {},
   "outputs": [],
   "source": []
  },
  {
   "cell_type": "code",
   "execution_count": null,
   "id": "490786d2",
   "metadata": {},
   "outputs": [],
   "source": []
  },
  {
   "cell_type": "code",
   "execution_count": null,
   "id": "babbfedf",
   "metadata": {},
   "outputs": [],
   "source": [
    "burchard_by_london_VS_zwickau_models_results = thesisModelFeatures.run_models(\n",
    "    burchard_by_london_VS_zwickau_features_df\n",
    ")"
   ]
  },
  {
   "cell_type": "code",
   "execution_count": null,
   "id": "ebce7b79",
   "metadata": {},
   "outputs": [],
   "source": [
    "burchard_by_london_VS_zwickau_models_results[0].sort_values(by=['accuracy'], ascending=False)"
   ]
  },
  {
   "cell_type": "code",
   "execution_count": null,
   "id": "321690b7",
   "metadata": {},
   "outputs": [],
   "source": [
    "'XGBClassifiers' in burchard_by_london_VS_zwickau_models_results[0].sort_values(by=['accuracy'], ascending=False).index[:3]"
   ]
  },
  {
   "cell_type": "code",
   "execution_count": null,
   "id": "0c73c624",
   "metadata": {},
   "outputs": [],
   "source": [
    "burchard_by_zwickau_VS_zwickau_models_results = thesisModelFeatures.run_models(\n",
    "    burchard_by_zwickau_VS_zwickau_features_df\n",
    ")"
   ]
  },
  {
   "cell_type": "code",
   "execution_count": null,
   "id": "1e284a22",
   "metadata": {},
   "outputs": [],
   "source": [
    "burchard_by_zwickau_VS_zwickau_models_results[0].sort_values(by=['accuracy'], ascending=False)"
   ]
  },
  {
   "cell_type": "markdown",
   "id": "451d95e8",
   "metadata": {},
   "source": [
    "## burchard VS london"
   ]
  },
  {
   "cell_type": "code",
   "execution_count": null,
   "id": "2093952c",
   "metadata": {},
   "outputs": [],
   "source": [
    "burchard_by_london_VS_london_models_results = thesisModelFeatures.run_models(\n",
    "    burchard_by_london_VS_london_features_df\n",
    ")"
   ]
  },
  {
   "cell_type": "code",
   "execution_count": null,
   "id": "e3267710",
   "metadata": {},
   "outputs": [],
   "source": [
    "burchard_by_london_VS_london_models_results[0].sort_values(by=['accuracy'], ascending=False)"
   ]
  },
  {
   "cell_type": "code",
   "execution_count": null,
   "id": "2194dc39",
   "metadata": {},
   "outputs": [],
   "source": [
    "burchard_by_zwickau_VS_london_models_results = thesisModelFeatures.run_models(\n",
    "    burchard_by_zwickau_VS_london_features_df\n",
    ")"
   ]
  },
  {
   "cell_type": "code",
   "execution_count": null,
   "id": "0a633aee",
   "metadata": {},
   "outputs": [],
   "source": [
    "burchard_by_zwickau_VS_london_models_results[0].sort_values(by=['accuracy'], ascending=False)"
   ]
  },
  {
   "cell_type": "markdown",
   "id": "4aac55ed",
   "metadata": {},
   "source": [
    "## burchard VS zwickau greed search CV"
   ]
  },
  {
   "cell_type": "code",
   "execution_count": null,
   "id": "5dc160c0",
   "metadata": {},
   "outputs": [],
   "source": [
    "# burchard_by_london_VS_zwickau_greed_rearch_results = []\n",
    "# for cls in [\n",
    "#     'KNeighborsClassifier', \n",
    "#     'AdaBoostClassifier', \n",
    "#     'XGBClassifier'\n",
    "# ]:\n",
    "#     grid_search_cv_result = thesisModelFeatures.run_grid_search_cv(burchard_by_london_VS_zwickau_features_df, [cls])\n",
    "#     burchard_by_london_VS_zwickau_greed_rearch_results.append([cls, grid_search_cv_result[1][0].best_score_, grid_search_cv_result[1][0].best_estimator_])"
   ]
  },
  {
   "cell_type": "code",
   "execution_count": null,
   "id": "b2a4eae7",
   "metadata": {},
   "outputs": [],
   "source": [
    "# burchard_by_london_VS_zwickau_greed_rearch_results"
   ]
  },
  {
   "cell_type": "code",
   "execution_count": null,
   "id": "e6032ce0",
   "metadata": {},
   "outputs": [],
   "source": [
    "# burchard_by_zwickau_VS_zwickau_greed_rearch_results = []\n",
    "# for cls in [\n",
    "#     'KNeighborsClassifier', \n",
    "#     'AdaBoostClassifier', \n",
    "#     'XGBClassifier'\n",
    "# ]:\n",
    "#     grid_search_cv_result = thesisModelFeatures.run_grid_search_cv(burchard_by_zwickau_VS_zwickau_features_df, [cls])\n",
    "#     burchard_by_zwickau_VS_zwickau_greed_rearch_results.append([cls, grid_search_cv_result[1][0].best_score_, grid_search_cv_result[1][0].best_estimator_])"
   ]
  },
  {
   "cell_type": "code",
   "execution_count": null,
   "id": "0e38b641",
   "metadata": {},
   "outputs": [],
   "source": [
    "# burchard_by_zwickau_VS_zwickau_greed_rearch_results"
   ]
  },
  {
   "cell_type": "markdown",
   "id": "d503771f",
   "metadata": {},
   "source": [
    "## burchard VS london greed search CV"
   ]
  },
  {
   "cell_type": "code",
   "execution_count": null,
   "id": "45c09d6c",
   "metadata": {},
   "outputs": [],
   "source": [
    "# burchard_by_london_VS_london_greed_rearch_results = []\n",
    "# for cls in [\n",
    "#     'KNeighborsClassifier', \n",
    "#     'AdaBoostClassifier', \n",
    "#     'XGBClassifier'\n",
    "# ]:\n",
    "#     grid_search_cv_result = thesisModelFeatures.run_grid_search_cv(burchard_by_london_VS_london_features_df, [cls])\n",
    "#     burchard_by_london_VS_london_greed_rearch_results.append([cls, grid_search_cv_result[1][0].best_score_, grid_search_cv_result[1][0].best_estimator_])"
   ]
  },
  {
   "cell_type": "code",
   "execution_count": null,
   "id": "1d21fcfd",
   "metadata": {},
   "outputs": [],
   "source": [
    "# burchard_by_london_VS_london_greed_rearch_results"
   ]
  },
  {
   "cell_type": "code",
   "execution_count": null,
   "id": "64598c96",
   "metadata": {},
   "outputs": [],
   "source": [
    "# burchard_by_zwickau_VS_london_greed_rearch_results = []\n",
    "# for cls in [\n",
    "#     'KNeighborsClassifier', \n",
    "#     'AdaBoostClassifier', \n",
    "#     'XGBClassifier'\n",
    "# ]:\n",
    "#     grid_search_cv_result = thesisModelFeatures.run_grid_search_cv(burchard_by_zwickau_VS_london_features_df, [cls])\n",
    "#     burchard_by_zwickau_VS_london_greed_rearch_results.append([cls, grid_search_cv_result[1][0].best_score_, grid_search_cv_result[1][0].best_estimator_])"
   ]
  },
  {
   "cell_type": "markdown",
   "id": "79db8ade",
   "metadata": {},
   "source": [
    "## testing"
   ]
  },
  {
   "cell_type": "code",
   "execution_count": null,
   "id": "3d9b3524",
   "metadata": {},
   "outputs": [],
   "source": [
    "m = thesisModelFeatures.Model(xgb.XGBClassifier())"
   ]
  },
  {
   "cell_type": "code",
   "execution_count": null,
   "id": "f54de87d",
   "metadata": {},
   "outputs": [],
   "source": [
    "m2 = thesisModelFeatures.Model(AdaBoostClassifier(learning_rate=1, n_estimators=2000))"
   ]
  }
 ],
 "metadata": {
  "kernelspec": {
   "display_name": "Python 3",
   "language": "python",
   "name": "python3"
  },
  "language_info": {
   "codemirror_mode": {
    "name": "ipython",
    "version": 3
   },
   "file_extension": ".py",
   "mimetype": "text/x-python",
   "name": "python",
   "nbconvert_exporter": "python",
   "pygments_lexer": "ipython3",
   "version": "3.8.8"
  }
 },
 "nbformat": 4,
 "nbformat_minor": 5
}
