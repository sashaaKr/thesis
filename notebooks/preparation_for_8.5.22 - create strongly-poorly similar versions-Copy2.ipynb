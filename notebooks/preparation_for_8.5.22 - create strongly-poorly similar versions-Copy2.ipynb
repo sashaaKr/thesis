{
 "cells": [
  {
   "cell_type": "code",
   "execution_count": 1,
   "id": "5c2a0684",
   "metadata": {
    "scrolled": true
   },
   "outputs": [
    {
     "data": {
      "text/html": [
       "<style>.container { width:100% !important; }</style>"
      ],
      "text/plain": [
       "<IPython.core.display.HTML object>"
      ]
     },
     "metadata": {},
     "output_type": "display_data"
    }
   ],
   "source": [
    "from IPython.core.display import display, HTML\n",
    "display(HTML(\"<style>.container { width:100% !important; }</style>\"))"
   ]
  },
  {
   "cell_type": "code",
   "execution_count": 2,
   "id": "5bdb9b91",
   "metadata": {
    "scrolled": true
   },
   "outputs": [
    {
     "name": "stdout",
     "output_type": "stream",
     "text": [
      "Note: you may need to restart the kernel to use updated packages.\n"
     ]
    }
   ],
   "source": [
    "%pip install -q decorator==5.0.9\n",
    "!pip install -q ipywidgets\n",
    "\n",
    "import re\n",
    "import imp\n",
    "import json\n",
    "import numpy as np\n",
    "import pandas as pd\n",
    "from sklearn.feature_extraction.text import TfidfVectorizer, CountVectorizer\n",
    "from sklearn.metrics.pairwise import cosine_similarity\n",
    "import matplotlib.pyplot as plt\n",
    "import networkx as nx\n",
    "import seaborn as sns\n",
    "from collections import Counter\n",
    "\n",
    "import ipywidgets as widgets\n",
    "from ipywidgets import interact, interact_manual"
   ]
  },
  {
   "cell_type": "code",
   "execution_count": 3,
   "id": "c68c8e47",
   "metadata": {
    "scrolled": true
   },
   "outputs": [
    {
     "name": "stdout",
     "output_type": "stream",
     "text": [
      "Note: you may need to restart the kernel to use updated packages.\n"
     ]
    }
   ],
   "source": [
    "%pip install -q cltk==1.0.22"
   ]
  },
  {
   "cell_type": "code",
   "execution_count": 4,
   "id": "31999ecb",
   "metadata": {
    "scrolled": true
   },
   "outputs": [
    {
     "data": {
      "text/plain": [
       "<module 'p_aligment.p_aligment' from '../src/p_aligment/p_aligment.py'>"
      ]
     },
     "execution_count": 4,
     "metadata": {},
     "output_type": "execute_result"
    }
   ],
   "source": [
    "# importing local modules\n",
    "\n",
    "import sys\n",
    "sys.path.append('../src/')\n",
    "\n",
    "import text_cleanup.text_cleanup as thesisCleanUp\n",
    "import preprocessing.text_preprocessing as thesisTextPreprocessing\n",
    "import data.reader as thesisDataReader\n",
    "import utils.utils as thesisUtils\n",
    "import features.tf_idf.n_gram as thesisTfIdfNgramFeatures\n",
    "import features.count_vectorizer.n_gram as thesisCountVectorizerNgramFeatures\n",
    "import similarities.cosine as thesisCosineSimilarities\n",
    "import vocabulary.vocabulary as thesisVocabulary\n",
    "import features.lexical as thesisLexicalFeatures\n",
    "import similarities.cosine as thesisCosineSimilarity\n",
    "import text_cleanup.text_cleanup as thesisTextCleanUp\n",
    "import p_aligment.p_aligment as thesisPAligment\n",
    "\n",
    "imp.reload(thesisLexicalFeatures)\n",
    "imp.reload(thesisCosineSimilarity)\n",
    "imp.reload(thesisCleanUp)\n",
    "imp.reload(thesisTextPreprocessing)\n",
    "imp.reload(thesisDataReader)\n",
    "imp.reload(thesisUtils)\n",
    "imp.reload(thesisTfIdfNgramFeatures)\n",
    "imp.reload(thesisVocabulary)\n",
    "imp.reload(thesisCosineSimilarities)\n",
    "imp.reload(thesisTextCleanUp)\n",
    "imp.reload(thesisCountVectorizerNgramFeatures)\n",
    "imp.reload(thesisPAligment)"
   ]
  },
  {
   "cell_type": "markdown",
   "id": "8ea35692",
   "metadata": {},
   "source": [
    "# p aligment without most similar above by threshold"
   ]
  },
  {
   "cell_type": "markdown",
   "id": "ddbf6597",
   "metadata": {},
   "source": [
    "#### load data"
   ]
  },
  {
   "cell_type": "code",
   "execution_count": 5,
   "id": "4ab6e658",
   "metadata": {
    "scrolled": true
   },
   "outputs": [],
   "source": [
    "SIMILARITY_SCORE_UPPER_THRESHOLD = 0.8\n",
    "\n",
    "N_GRAM_RANGE_FOR_SHARED_VOCABULARY_FROM = 36\n",
    "N_GRAM_RANGE_FOR_SHARED_VOCABULARY_TO = 29\n",
    "\n",
    "BIDIRECTIONAL_SIMILARITY_THRESHOLD = 0.5"
   ]
  },
  {
   "cell_type": "code",
   "execution_count": 6,
   "id": "7e4aeaf8",
   "metadata": {
    "scrolled": true
   },
   "outputs": [],
   "source": [
    "LONDON_INDEXES_TO_REMOVE_SET = set()\n",
    "ZWICKAU_INDEXES_TO_REMOVE_SET = set()"
   ]
  },
  {
   "cell_type": "code",
   "execution_count": 7,
   "id": "61d0be6f",
   "metadata": {
    "scrolled": true
   },
   "outputs": [],
   "source": [
    "london_zwickau_original_best_similarities = thesisCosineSimilarities.get_cross_version_best_similarities(\n",
    "    thesisDataReader.get_london_by_new_line(),\n",
    "    thesisDataReader.get_zwickau_by_new_line(),\n",
    ")\n",
    "# with open('../computed_data/similarities/cross_version/best_similarities/by_new_line/london_zwickau.json', 'w') as f:\n",
    "#     json.dump(london_zwickau_original_best_similarities, f)"
   ]
  },
  {
   "cell_type": "code",
   "execution_count": null,
   "id": "36a741cd",
   "metadata": {
    "scrolled": true
   },
   "outputs": [],
   "source": [
    "# input_file = open('../computed_data/similarities/cross_version/best_similarities/by_new_line/london_zwickau.json')\n",
    "# london_zwickau_original_best_similarities = json.load(input_file)"
   ]
  },
  {
   "cell_type": "code",
   "execution_count": 8,
   "id": "2781fd58",
   "metadata": {
    "scrolled": true
   },
   "outputs": [],
   "source": [
    "zwickau_london_original_best_similarities = thesisCosineSimilarities.get_cross_version_best_similarities(\n",
    "    thesisDataReader.get_zwickau_by_new_line(),\n",
    "    thesisDataReader.get_london_by_new_line(),\n",
    ")\n",
    "# with open('../computed_data/similarities/cross_version/best_similarities/by_new_line/zwickau_london.json', 'w') as f:\n",
    "#     json.dump(zwickau_london_original_best_similarities, f)"
   ]
  },
  {
   "cell_type": "code",
   "execution_count": null,
   "id": "969f6d74",
   "metadata": {
    "scrolled": true
   },
   "outputs": [],
   "source": [
    "# input_file = open('../computed_data/similarities/cross_version/best_similarities/by_new_line/zwickau_london.json')\n",
    "# zwickau_london_original_best_similarities = json.load(input_file)"
   ]
  },
  {
   "cell_type": "code",
   "execution_count": null,
   "id": "ef197275",
   "metadata": {
    "scrolled": true
   },
   "outputs": [],
   "source": [
    "# london_breslau_original_best_similarities = thesisCosineSimilarities.get_cross_version_best_similarities(\n",
    "#     thesisDataReader.get_london_by_new_line(),\n",
    "#     thesisDataReader.get_breslau_by_new_line(),\n",
    "# )\n",
    "# with open('../computed_data/similarities/cross_version/best_similarities/by_new_line/london_breslau.json', 'w') as f:\n",
    "#     json.dump(london_breslau_original_best_similarities, f)"
   ]
  },
  {
   "cell_type": "code",
   "execution_count": null,
   "id": "e96e4fd4",
   "metadata": {
    "scrolled": true
   },
   "outputs": [],
   "source": [
    "# input_file = open('../computed_data/similarities/cross_version/best_similarities/by_new_line/london_breslau.json')\n",
    "# london_breslau_original_best_similarities = json.load(input_file)"
   ]
  },
  {
   "cell_type": "code",
   "execution_count": null,
   "id": "79fb1792",
   "metadata": {
    "scrolled": true
   },
   "outputs": [],
   "source": [
    "# zwickau_breslau_original_best_similarities = thesisCosineSimilarities.get_cross_version_best_similarities(\n",
    "#     thesisDataReader.get_zwickau_by_new_line(),\n",
    "#     thesisDataReader.get_breslau_by_new_line(),\n",
    "# )\n",
    "# with open('../computed_data/similarities/cross_version/best_similarities/by_new_line/zwickau_breslau.json', 'w') as f:\n",
    "#     json.dump(london_breslau_original_best_similarities, f)"
   ]
  },
  {
   "cell_type": "code",
   "execution_count": null,
   "id": "c54187b2",
   "metadata": {
    "scrolled": true
   },
   "outputs": [],
   "source": [
    "# input_file = open('../computed_data/similarities/cross_version/best_similarities/by_new_line/zwickau_breslau.json')\n",
    "# zwickau_breslau_original_best_similarities = json.load(input_file)"
   ]
  },
  {
   "cell_type": "markdown",
   "id": "3a685772",
   "metadata": {},
   "source": [
    "#### original data"
   ]
  },
  {
   "cell_type": "code",
   "execution_count": 9,
   "id": "976d4634",
   "metadata": {
    "scrolled": true
   },
   "outputs": [],
   "source": [
    "def plot_original_similarities():\n",
    "    fig, ax = plt.subplots(figsize=(35, 5))\n",
    "\n",
    "    ax.plot([i['5_gram'][1] for i in london_zwickau_original_best_similarities], label=\"london_zwickau original\")\n",
    "    ax.plot([i['5_gram'][1] for i in zwickau_london_original_best_similarities], label=\"zwickau_london original\")\n",
    "\n",
    "    ax.set_ylim([0,1])\n",
    "    ax.set_xlim([-5,325])\n",
    "    ax.legend()\n",
    "    plt.title('Max cross similarity per p')\n",
    "    plt.show()"
   ]
  },
  {
   "cell_type": "code",
   "execution_count": 10,
   "id": "5b478e90",
   "metadata": {
    "scrolled": true
   },
   "outputs": [
    {
     "data": {
      "image/png": "[encoded data removed]",
      "text/plain": [
       "<Figure size 2520x360 with 1 Axes>"
      ]
     },
     "metadata": {
      "needs_background": "light"
     },
     "output_type": "display_data"
    }
   ],
   "source": [
    "plot_original_similarities()"
   ]
  },
  {
   "cell_type": "code",
   "execution_count": 11,
   "id": "dac25581",
   "metadata": {
    "scrolled": true
   },
   "outputs": [],
   "source": [
    "def create_best_match_by_text_map(\n",
    "    original_corpus, \n",
    "    original_best_similarites, \n",
    "    without_strong_similar_corpus, \n",
    "    without_strong_similar_best_match\n",
    "):\n",
    "    best_match_by_text_map = {}\n",
    "    \n",
    "    for p_index, text in enumerate(original_corpus):\n",
    "        best_match_by_text_map[text] = {\n",
    "            'original': {\n",
    "                'index': p_index,\n",
    "                'best_match': original_best_similarites[p_index]\n",
    "            }\n",
    "        }\n",
    "    \n",
    "    for p_index, text in enumerate(without_strong_similar_corpus):\n",
    "                best_match_by_text_map[text] = {\n",
    "                    **best_match_by_text_map[text],\n",
    "                    'without_strong_similar': {\n",
    "                        'index': p_index,\n",
    "                        'best_match': without_strong_similar_best_match[p_index]\n",
    "                    }\n",
    "                }\n",
    "    \n",
    "    return best_match_by_text_map"
   ]
  },
  {
   "cell_type": "code",
   "execution_count": 12,
   "id": "59c4fe28",
   "metadata": {
    "scrolled": true
   },
   "outputs": [],
   "source": [
    "def create_similarities_with_mock_for_drop(original_corpus, best_match_by_p_map):\n",
    "    mock = []\n",
    "    for index, text in enumerate(original_corpus):\n",
    "        text_info = best_match_by_p_map[text]\n",
    "        similarity_score = 0 if text_info.get('without_strong_similar') is None else text_info['without_strong_similar']['best_match']['5_gram'][1]\n",
    "        mock.append(similarity_score)\n",
    "\n",
    "    return mock"
   ]
  },
  {
   "cell_type": "markdown",
   "id": "3f598de6",
   "metadata": {},
   "source": [
    "#### remove p by threshold and same index"
   ]
  },
  {
   "cell_type": "code",
   "execution_count": 13,
   "id": "a628badf",
   "metadata": {
    "scrolled": true
   },
   "outputs": [],
   "source": [
    "def find_candidate_p_to_remove_by_score_or_index(original_best_similarities):\n",
    "    p_to_remove = []\n",
    "    \n",
    "    for i, s in enumerate(original_best_similarities):\n",
    "        if s['5_gram'][1] > SIMILARITY_SCORE_UPPER_THRESHOLD: #or s['5_gram'][0] == i:\n",
    "            p_to_remove.append(i)\n",
    "    \n",
    "    return p_to_remove"
   ]
  },
  {
   "cell_type": "code",
   "execution_count": 14,
   "id": "760f63bb",
   "metadata": {
    "scrolled": true
   },
   "outputs": [],
   "source": [
    "def remove_p_by_indexes(corpus, indexes_to_remove):\n",
    "    return [p for i, p in enumerate(corpus) if i not in indexes_to_remove]"
   ]
  },
  {
   "cell_type": "code",
   "execution_count": null,
   "id": "83a3c26e",
   "metadata": {
    "scrolled": true
   },
   "outputs": [],
   "source": [
    "london_zwickau_p_to_remove_by_score_or_index = find_candidate_p_to_remove_by_score_or_index(london_zwickau_original_best_similarities)\n",
    "LONDON_INDEXES_TO_REMOVE_SET = LONDON_INDEXES_TO_REMOVE_SET.union(set(london_zwickau_p_to_remove_by_score_or_index))\n",
    "len(london_zwickau_p_to_remove_by_score_or_index)"
   ]
  },
  {
   "cell_type": "code",
   "execution_count": null,
   "id": "1dce4ea8",
   "metadata": {},
   "outputs": [],
   "source": [
    "print(sorted(LONDON_INDEXES_TO_REMOVE_SET))"
   ]
  },
  {
   "cell_type": "code",
   "execution_count": null,
   "id": "750b47ea",
   "metadata": {
    "scrolled": true
   },
   "outputs": [],
   "source": [
    "zwickau_london_p_to_remove_by_score_or_index = find_candidate_p_to_remove_by_score_or_index(zwickau_london_original_best_similarities)\n",
    "ZWICKAU_INDEXES_TO_REMOVE_SET = ZWICKAU_INDEXES_TO_REMOVE_SET.union(set(zwickau_london_p_to_remove_by_score_or_index))\n",
    "len(zwickau_london_p_to_remove_by_score_or_index)"
   ]
  },
  {
   "cell_type": "code",
   "execution_count": null,
   "id": "8a531d95",
   "metadata": {},
   "outputs": [],
   "source": [
    "print(sorted(ZWICKAU_INDEXES_TO_REMOVE_SET))"
   ]
  },
  {
   "cell_type": "code",
   "execution_count": null,
   "id": "4173bcc6",
   "metadata": {
    "scrolled": true
   },
   "outputs": [],
   "source": [
    "for i in london_zwickau_p_to_remove_by_score_or_index:\n",
    "    london_zwickau_best_match = london_zwickau_original_best_similarities[i]['5_gram']\n",
    "    zwickau_p = london_zwickau_best_match[0]\n",
    "\n",
    "    related_zwickau = zwickau_london_original_best_similarities[zwickau_p]\n",
    "    if london_zwickau_best_match[0] not in zwickau_london_p_to_remove_by_score_or_index:\n",
    "        print(f'found london {i} without zwickau: {london_zwickau_original_best_similarities[i]}')\n",
    "        print(f'related zwickau is: {related_zwickau}')"
   ]
  },
  {
   "cell_type": "code",
   "execution_count": null,
   "id": "38ac5152",
   "metadata": {
    "scrolled": true
   },
   "outputs": [],
   "source": [
    "london_corpus_without_strong_similar = remove_p_by_indexes(thesisDataReader.get_london_by_new_line(), list(LONDON_INDEXES_TO_REMOVE_SET))\n",
    "zwickau_corpus_without_strong_similar = remove_p_by_indexes(thesisDataReader.get_zwickau_by_new_line(), list(ZWICKAU_INDEXES_TO_REMOVE_SET))"
   ]
  },
  {
   "cell_type": "code",
   "execution_count": null,
   "id": "d0c360e7",
   "metadata": {
    "scrolled": true
   },
   "outputs": [],
   "source": [
    "print(len(thesisDataReader.get_london_by_new_line()))\n",
    "print(len(london_corpus_without_strong_similar))"
   ]
  },
  {
   "cell_type": "code",
   "execution_count": null,
   "id": "f9d03634",
   "metadata": {
    "scrolled": true
   },
   "outputs": [],
   "source": [
    "print(len(thesisDataReader.get_zwickau_by_new_line()))\n",
    "print(len(zwickau_corpus_without_strong_similar))"
   ]
  },
  {
   "cell_type": "code",
   "execution_count": null,
   "id": "28d093ad",
   "metadata": {
    "scrolled": true
   },
   "outputs": [],
   "source": [
    "london_mock = create_similarities_with_mock_for_drop(\n",
    "    thesisDataReader.get_london_by_new_line(),\n",
    "    create_best_match_by_text_map(\n",
    "        thesisDataReader.get_london_by_new_line(),\n",
    "        london_zwickau_original_best_similarities,\n",
    "        london_corpus_without_strong_similar,\n",
    "        thesisCosineSimilarities.get_cross_version_best_similarities(\n",
    "            london_corpus_without_strong_similar,\n",
    "            zwickau_corpus_without_strong_similar,\n",
    "        )\n",
    "    )\n",
    ")\n",
    "london_mock"
   ]
  },
  {
   "cell_type": "code",
   "execution_count": null,
   "id": "1ade4331",
   "metadata": {
    "scrolled": true
   },
   "outputs": [],
   "source": [
    "zwickau_mock = create_similarities_with_mock_for_drop(\n",
    "    thesisDataReader.get_zwickau_by_new_line(),\n",
    "    create_best_match_by_text_map(\n",
    "        thesisDataReader.get_zwickau_by_new_line(),\n",
    "        zwickau_london_original_best_similarities,\n",
    "        zwickau_corpus_without_strong_similar,\n",
    "        thesisCosineSimilarities.get_cross_version_best_similarities(\n",
    "            zwickau_corpus_without_strong_similar,\n",
    "            london_corpus_without_strong_similar,\n",
    "        )\n",
    "    )\n",
    ")\n",
    "zwickau_mock"
   ]
  },
  {
   "cell_type": "code",
   "execution_count": null,
   "id": "351d85e3",
   "metadata": {
    "scrolled": true
   },
   "outputs": [],
   "source": [
    "fig, ax = plt.subplots(figsize=(35, 5))\n",
    "\n",
    "ax.plot(london_mock, label=\"london_zwickau without strong similar\")\n",
    "ax.plot(zwickau_mock, label=\"zwickau_london without strong similar\")\n",
    "\n",
    "ax.set_ylim([0,1])\n",
    "ax.set_xlim([-5,325])\n",
    "ax.legend()\n",
    "plt.title('Max cross similarity per p')\n",
    "plt.show()"
   ]
  },
  {
   "cell_type": "code",
   "execution_count": null,
   "id": "a670e6cd",
   "metadata": {
    "scrolled": true
   },
   "outputs": [],
   "source": [
    "plot_original_similarities()"
   ]
  },
  {
   "cell_type": "code",
   "execution_count": null,
   "id": "0ef74169",
   "metadata": {
    "scrolled": true
   },
   "outputs": [],
   "source": [
    "fig, ax = plt.subplots(figsize=(35, 5))\n",
    "\n",
    "ax.plot(london_mock, label=\"london_zwickau without strong similar\")\n",
    "ax.plot([i['5_gram'][1] for i in london_zwickau_original_best_similarities], label=\"london_zwickau original\")\n",
    "\n",
    "ax.set_ylim([0,1])\n",
    "ax.set_xlim([-5,325])\n",
    "ax.legend()\n",
    "plt.title('Max cross similarity per p')\n",
    "plt.show()"
   ]
  },
  {
   "cell_type": "code",
   "execution_count": null,
   "id": "9f1a0d39",
   "metadata": {
    "scrolled": true
   },
   "outputs": [],
   "source": [
    "fig, ax = plt.subplots(figsize=(35, 5))\n",
    "\n",
    "ax.plot(zwickau_mock, label=\"zwickau_london without strong similar\")\n",
    "ax.plot([i['5_gram'][1] for i in zwickau_london_original_best_similarities], label=\"zwickau_london original\")\n",
    "\n",
    "ax.set_ylim([0,1])\n",
    "ax.set_xlim([-5,325])\n",
    "ax.legend()\n",
    "plt.title('Max cross similarity per p')\n",
    "plt.show()"
   ]
  },
  {
   "cell_type": "markdown",
   "id": "98f5dc14",
   "metadata": {},
   "source": [
    "#### remove by shared ngrm"
   ]
  },
  {
   "cell_type": "code",
   "execution_count": null,
   "id": "c55779e2",
   "metadata": {
    "scrolled": true
   },
   "outputs": [],
   "source": [
    "# for n_gram_range in range(N_GRAM_RANGE_FOR_SHARED_VOCABULARY_FROM, N_GRAM_RANGE_FOR_SHARED_VOCABULARY_TO, -1):\n",
    "#     shared_words = thesisVocabulary.get_version_shared_words(\n",
    "#         thesisCountVectorizerNgramFeatures.get_ngrams_words_dictionary(\n",
    "#             zwickau_corpus_without_strong_similar, \n",
    "#             n_gram_range, \n",
    "#             n_gram_range\n",
    "#         ),\n",
    "#         'zwickau',\n",
    "#         thesisCountVectorizerNgramFeatures.get_ngrams_words_dictionary(\n",
    "#             london_corpus_without_strong_similar, \n",
    "#             n_gram_range, \n",
    "#             n_gram_range\n",
    "#         ),\n",
    "#         'london',\n",
    "#         thesisCountVectorizerNgramFeatures.get_ngrams_words_dictionary(\n",
    "#             thesisDataReader.get_breslau_by_new_line(), \n",
    "#             n_gram_range, \n",
    "#             n_gram_range\n",
    "#         ),\n",
    "#     )\n",
    "\n",
    "#     london_zwickau_p_to_remove_by_shared_word = []\n",
    "#     zwickau_london_p_to_remove_by_shared_word = []\n",
    "    \n",
    "#     for shared_word in shared_words:\n",
    "#         london_indexes_for_shared_word = thesisUtils.find_text_p_indexed_in_corpus(london_corpus_without_strong_similar, shared_word)\n",
    "#         london_zwickau_p_to_remove_by_shared_word = london_zwickau_p_to_remove_by_shared_word + london_indexes_for_shared_word\n",
    "        \n",
    "#         zwickau_indexes_for_shared_word = thesisUtils.find_text_p_indexed_in_corpus(zwickau_corpus_without_strong_similar, shared_word)\n",
    "#         zwickau_london_p_to_remove_by_shared_word = zwickau_london_p_to_remove_by_shared_word + zwickau_indexes_for_shared_word\n",
    "\n",
    "# print('london_zwickau_p_to_remove_by_shared_word', len(london_zwickau_p_to_remove_by_shared_word))\n",
    "# print('zwickau_london_p_to_remove_by_shared_word', len(zwickau_london_p_to_remove_by_shared_word))\n",
    "\n",
    "# print('len LONDON_INDEXES_TO_REMOVE_SET before', len(LONDON_INDEXES_TO_REMOVE_SET))\n",
    "# print('len ZWICKAU_INDEXES_TO_REMOVE_SET before', len(ZWICKAU_INDEXES_TO_REMOVE_SET))\n",
    "\n",
    "# LONDON_INDEXES_TO_REMOVE_SET = LONDON_INDEXES_TO_REMOVE_SET.union(set(london_zwickau_p_to_remove_by_shared_word))\n",
    "# ZWICKAU_INDEXES_TO_REMOVE_SET = ZWICKAU_INDEXES_TO_REMOVE_SET.union(set(zwickau_london_p_to_remove_by_shared_word))\n",
    "\n",
    "# print('len LONDON_INDEXES_TO_REMOVE_SET after', len(LONDON_INDEXES_TO_REMOVE_SET))\n",
    "# print('len ZWICKAU_INDEXES_TO_REMOVE_SET after', len(ZWICKAU_INDEXES_TO_REMOVE_SET))"
   ]
  },
  {
   "cell_type": "code",
   "execution_count": null,
   "id": "9b0f2a23",
   "metadata": {},
   "outputs": [],
   "source": [
    "shared_words = thesisVocabulary.get_2_version_shared_words(\n",
    "        thesisCountVectorizerNgramFeatures.get_ngrams_words_dictionary(\n",
    "            thesisDataReader.get_zwickau_by_new_line(), \n",
    "            36, \n",
    "            36\n",
    "        ),\n",
    "        'zwickau',\n",
    "        thesisCountVectorizerNgramFeatures.get_ngrams_words_dictionary(\n",
    "            thesisDataReader.get_london_by_new_line(), \n",
    "            36, \n",
    "            36\n",
    "        ),\n",
    "        'london',\n",
    ")\n",
    "london_zwickau_p_to_remove_by_shared_word = []\n",
    "zwickau_london_p_to_remove_by_shared_word = []\n",
    "for shared_word in shared_words:\n",
    "    london_zwickau_p_to_remove_by_shared_word = london_zwickau_p_to_remove_by_shared_word +"
   ]
  },
  {
   "cell_type": "code",
   "execution_count": 15,
   "id": "ffc900fc",
   "metadata": {},
   "outputs": [
    {
     "name": "stdout",
     "output_type": "stream",
     "text": [
      "london_zwickau_p_to_remove_by_shared_word 351\n",
      "zwickau_london_p_to_remove_by_shared_word 351\n",
      "len LONDON_INDEXES_TO_REMOVE_SET before 24\n",
      "len ZWICKAU_INDEXES_TO_REMOVE_SET before 24\n",
      "len LONDON_INDEXES_TO_REMOVE_SET after 24\n",
      "len ZWICKAU_INDEXES_TO_REMOVE_SET after 24\n"
     ]
    }
   ],
   "source": [
    "LONDON_INDEXES_TO_REMOVE_SET = set()\n",
    "ZWICKAU_INDEXES_TO_REMOVE_SET = set()\n",
    "\n",
    "for n_gram_range in range(N_GRAM_RANGE_FOR_SHARED_VOCABULARY_FROM, N_GRAM_RANGE_FOR_SHARED_VOCABULARY_TO, -1):\n",
    "    shared_words = thesisVocabulary.get_version_shared_words(\n",
    "        thesisCountVectorizerNgramFeatures.get_ngrams_words_dictionary(\n",
    "            thesisDataReader.get_zwickau_by_new_line(), \n",
    "            n_gram_range, \n",
    "            n_gram_range\n",
    "        ),\n",
    "        'zwickau',\n",
    "        thesisCountVectorizerNgramFeatures.get_ngrams_words_dictionary(\n",
    "            thesisDataReader.get_london_by_new_line(), \n",
    "            n_gram_range, \n",
    "            n_gram_range\n",
    "        ),\n",
    "        'london',\n",
    "        thesisCountVectorizerNgramFeatures.get_ngrams_words_dictionary(\n",
    "            thesisDataReader.get_breslau_by_new_line(), \n",
    "            n_gram_range, \n",
    "            n_gram_range\n",
    "        ),\n",
    "    )\n",
    "\n",
    "    london_zwickau_p_to_remove_by_shared_word = []\n",
    "    zwickau_london_p_to_remove_by_shared_word = []\n",
    "    \n",
    "    for shared_word in shared_words:\n",
    "        london_indexes_for_shared_word = thesisUtils.find_text_p_indexed_in_corpus(thesisDataReader.get_london_by_new_line(), shared_word)\n",
    "        london_zwickau_p_to_remove_by_shared_word = london_zwickau_p_to_remove_by_shared_word + london_indexes_for_shared_word\n",
    "        \n",
    "        zwickau_indexes_for_shared_word = thesisUtils.find_text_p_indexed_in_corpus(thesisDataReader.get_zwickau_by_new_line(), shared_word)\n",
    "        zwickau_london_p_to_remove_by_shared_word = zwickau_london_p_to_remove_by_shared_word + zwickau_indexes_for_shared_word\n",
    "        \n",
    "    LONDON_INDEXES_TO_REMOVE_SET = LONDON_INDEXES_TO_REMOVE_SET.union(set(london_zwickau_p_to_remove_by_shared_word))\n",
    "    ZWICKAU_INDEXES_TO_REMOVE_SET = ZWICKAU_INDEXES_TO_REMOVE_SET.union(set(zwickau_london_p_to_remove_by_shared_word))\n",
    "\n",
    "print('london_zwickau_p_to_remove_by_shared_word', len(london_zwickau_p_to_remove_by_shared_word))\n",
    "print('zwickau_london_p_to_remove_by_shared_word', len(zwickau_london_p_to_remove_by_shared_word))\n",
    "\n",
    "print('len LONDON_INDEXES_TO_REMOVE_SET before', len(LONDON_INDEXES_TO_REMOVE_SET))\n",
    "print('len ZWICKAU_INDEXES_TO_REMOVE_SET before', len(ZWICKAU_INDEXES_TO_REMOVE_SET))\n",
    "\n",
    "# LONDON_INDEXES_TO_REMOVE_SET = LONDON_INDEXES_TO_REMOVE_SET.union(set(london_zwickau_p_to_remove_by_shared_word))\n",
    "# ZWICKAU_INDEXES_TO_REMOVE_SET = ZWICKAU_INDEXES_TO_REMOVE_SET.union(set(zwickau_london_p_to_remove_by_shared_word))\n",
    "\n",
    "print('len LONDON_INDEXES_TO_REMOVE_SET after', len(LONDON_INDEXES_TO_REMOVE_SET))\n",
    "print('len ZWICKAU_INDEXES_TO_REMOVE_SET after', len(ZWICKAU_INDEXES_TO_REMOVE_SET))"
   ]
  },
  {
   "cell_type": "code",
   "execution_count": 16,
   "id": "67b1ab90",
   "metadata": {},
   "outputs": [
    {
     "name": "stdout",
     "output_type": "stream",
     "text": [
      "[5, 232, 244, 245, 251, 260, 263, 264, 265, 271, 272, 273, 275, 278, 280, 285, 288, 290, 291, 292, 294, 299, 302, 304]\n",
      "[5, 226, 240, 241, 247, 254, 271, 272, 273, 279, 280, 281, 283, 286, 288, 293, 296, 298, 299, 300, 302, 307, 310, 312]\n"
     ]
    }
   ],
   "source": [
    "print(sorted(LONDON_INDEXES_TO_REMOVE_SET))\n",
    "print(sorted(ZWICKAU_INDEXES_TO_REMOVE_SET))"
   ]
  },
  {
   "cell_type": "code",
   "execution_count": null,
   "id": "f142519d",
   "metadata": {},
   "outputs": [],
   "source": []
  },
  {
   "cell_type": "code",
   "execution_count": null,
   "id": "fde24d67",
   "metadata": {},
   "outputs": [],
   "source": [
    "london_zwickau_p_to_remove_by_shared_word"
   ]
  },
  {
   "cell_type": "code",
   "execution_count": null,
   "id": "d30582b5",
   "metadata": {},
   "outputs": [],
   "source": [
    "zwickau_london_p_to_remove_by_shared_word"
   ]
  },
  {
   "cell_type": "code",
   "execution_count": null,
   "id": "8c3e4266",
   "metadata": {
    "scrolled": true
   },
   "outputs": [],
   "source": [
    "print(sorted(LONDON_INDEXES_TO_REMOVE_SET))\n",
    "print(sorted(ZWICKAU_INDEXES_TO_REMOVE_SET))"
   ]
  },
  {
   "cell_type": "code",
   "execution_count": null,
   "id": "a66f06a1",
   "metadata": {
    "scrolled": true
   },
   "outputs": [],
   "source": [
    "london_zwickau_without_strong_similar_best_similarities = thesisCosineSimilarities.get_cross_version_best_similarities(\n",
    "    london_corpus_without_strong_similar,\n",
    "    zwickau_corpus_without_strong_similar,\n",
    ")"
   ]
  },
  {
   "cell_type": "code",
   "execution_count": null,
   "id": "3a910f05",
   "metadata": {
    "scrolled": true
   },
   "outputs": [],
   "source": [
    "zwickau_london_without_strong_similar_best_similarities = thesisCosineSimilarities.get_cross_version_best_similarities(\n",
    "    zwickau_corpus_without_strong_similar,\n",
    "    london_corpus_without_strong_similar,\n",
    ")"
   ]
  },
  {
   "cell_type": "code",
   "execution_count": null,
   "id": "2528506b",
   "metadata": {
    "scrolled": true
   },
   "outputs": [],
   "source": [
    "print(london_zwickau_without_strong_similar_best_similarities[217])\n",
    "print(zwickau_london_without_strong_similar_best_similarities[211])"
   ]
  },
  {
   "cell_type": "code",
   "execution_count": null,
   "id": "c7cd06c9",
   "metadata": {
    "scrolled": true
   },
   "outputs": [],
   "source": [
    "print('lengths before:')\n",
    "print(len(london_corpus_without_strong_similar))\n",
    "print(len(zwickau_corpus_without_strong_similar))\n",
    "\n",
    "london_corpus_without_strong_similar = remove_p_by_indexes(thesisDataReader.get_london_by_new_line(), list(LONDON_INDEXES_TO_REMOVE_SET))\n",
    "zwickau_corpus_without_strong_similar = remove_p_by_indexes(thesisDataReader.get_zwickau_by_new_line(), list(ZWICKAU_INDEXES_TO_REMOVE_SET))\n",
    "\n",
    "print('lengths after:')\n",
    "print(len(london_corpus_without_strong_similar))\n",
    "print(len(zwickau_corpus_without_strong_similar))"
   ]
  },
  {
   "cell_type": "code",
   "execution_count": null,
   "id": "1076eeee",
   "metadata": {
    "scrolled": true
   },
   "outputs": [],
   "source": [
    "london_zwickau_without_strong_similar_best_similarities = thesisCosineSimilarities.get_cross_version_best_similarities(\n",
    "    london_corpus_without_strong_similar,\n",
    "    zwickau_corpus_without_strong_similar,\n",
    ")"
   ]
  },
  {
   "cell_type": "code",
   "execution_count": null,
   "id": "3a97ec79",
   "metadata": {
    "scrolled": true
   },
   "outputs": [],
   "source": [
    "zwickau_london_without_strong_similar_best_similarities = thesisCosineSimilarities.get_cross_version_best_similarities(\n",
    "    zwickau_corpus_without_strong_similar,\n",
    "    london_corpus_without_strong_similar,\n",
    ")"
   ]
  },
  {
   "cell_type": "code",
   "execution_count": null,
   "id": "26cac17b",
   "metadata": {
    "scrolled": true
   },
   "outputs": [],
   "source": [
    "# def create_best_match_by_text_map(\n",
    "#     original_corpus, \n",
    "#     original_best_similarites, \n",
    "#     without_strong_similar_corpus, \n",
    "#     without_strong_similar_best_match\n",
    "# ):\n",
    "#     best_match_by_text_map = {}\n",
    "    \n",
    "#     for p_index, text in enumerate(original_corpus):\n",
    "#         best_match_by_text_map[text] = {\n",
    "#             'original': {\n",
    "#                 'index': p_index,\n",
    "#                 'best_match': original_best_similarites[p_index]\n",
    "#             }\n",
    "#         }\n",
    "    \n",
    "#     for p_index, text in enumerate(without_strong_similar_corpus):\n",
    "#                 best_match_by_text_map[text] = {\n",
    "#                     **best_match_by_text_map[text],\n",
    "#                     'without_strong_similar': {\n",
    "#                         'index': p_index,\n",
    "#                         'best_match': without_strong_similar_best_match[p_index]\n",
    "#                     }\n",
    "#                 }\n",
    "    \n",
    "#     return best_match_by_text_map"
   ]
  },
  {
   "cell_type": "code",
   "execution_count": null,
   "id": "3ab39f0d",
   "metadata": {
    "scrolled": true
   },
   "outputs": [],
   "source": [
    "london_zwickau_best_match_by_p_map = create_best_match_by_text_map(\n",
    "    thesisDataReader.get_london_by_new_line(),\n",
    "    london_zwickau_original_best_similarities,\n",
    "    london_corpus_without_strong_similar,\n",
    "    london_zwickau_without_strong_similar_best_similarities,\n",
    ")"
   ]
  },
  {
   "cell_type": "code",
   "execution_count": null,
   "id": "e82a1130",
   "metadata": {
    "scrolled": true
   },
   "outputs": [],
   "source": [
    "zwickau_london_best_match_by_p_map = create_best_match_by_text_map(\n",
    "    thesisDataReader.get_zwickau_by_new_line(),\n",
    "    zwickau_london_original_best_similarities,\n",
    "    zwickau_corpus_without_strong_similar,\n",
    "    zwickau_london_without_strong_similar_best_similarities\n",
    ")"
   ]
  },
  {
   "cell_type": "code",
   "execution_count": null,
   "id": "b8a0d136",
   "metadata": {
    "scrolled": true
   },
   "outputs": [],
   "source": [
    "# for p_index, text in enumerate(london_corpus_without_strong_similar):\n",
    "#     text_data = london_zwickau_best_match_by_p_map[text]\n",
    "\n",
    "#     original = text_data['original']\n",
    "#     original_best_match = original['best_match']['5_gram']\n",
    "#     original_best_match_p = original_best_match[0]\n",
    "#     original_best_match_score = original_best_match[1]\n",
    "    \n",
    "#     without_strong_similar = text_data['without_strong_similar']\n",
    "#     without_strong_similar_best_match = without_strong_similar['best_match']['5_gram']\n",
    "#     without_strong_similar_best_match_p = without_strong_similar_best_match[0]\n",
    "#     without_strong_similar_best_match_score = without_strong_similar_best_match[1]\n",
    "    \n",
    "#     zwickau_text_in_original = thesisDataReader.get_zwickau_by_new_line()[original_best_match_p]\n",
    "#     zwickau_text_in_without_strong_similar = zwickau_corpus_without_strong_similar[without_strong_similar_best_match_p]\n",
    "    \n",
    "#     if zwickau_text_in_original != zwickau_text_in_without_strong_similar:\n",
    "#         was_removed = True if original_best_match_p in zwickau_p_to_remove_set else False\n",
    "#         print('# found mismatch for:')\n",
    "#         print(text)\n",
    "#         print()\n",
    "#         print(f'original best match with score: {original_best_match_score} was to zwickau p {original_best_match_p}, was remove - {was_removed}:')\n",
    "#         print(zwickau_text_in_original)\n",
    "#         print()\n",
    "#         print(f'new best match with score: {without_strong_similar_best_match_score} to zwickau new p index {without_strong_similar_best_match_p}:')\n",
    "#         print(zwickau_text_in_without_strong_similar)\n",
    "#         print()\n",
    "#         print()\n",
    "#         print()\n",
    "\n",
    "\n",
    "#     if original_best_match_score - without_strong_similar_best_match_score > 0.1:\n",
    "#         print(f'% found score mismatch for:\\n{text}\\n')\n",
    "#         print(f'original match score was: {original_best_match_score}, was to zwickau p {original_best_match_p}, was removed - {was_removed}:')\n",
    "#         print(zwickau_text_in_original)\n",
    "#         print()\n",
    "#         print(f'new match score was: {without_strong_similar_best_match_score}, to zwickau new p index {without_strong_similar_best_match_p}:')\n",
    "#         print(zwickau_text_in_without_strong_similar)\n",
    "#         print('\\n'*3)"
   ]
  },
  {
   "cell_type": "code",
   "execution_count": null,
   "id": "81dcaf6c",
   "metadata": {
    "scrolled": true
   },
   "outputs": [],
   "source": [
    "# for p_index, text in enumerate(zwickau_corpus_without_strong_similar):\n",
    "#     text_data = zwickau_london_best_match_by_p_map[text]\n",
    "\n",
    "#     original = text_data['original']\n",
    "#     original_best_match = original['best_match']['5_gram']\n",
    "#     original_best_match_p = original_best_match[0]\n",
    "#     original_best_match_score = original_best_match[1]\n",
    "    \n",
    "#     without_strong_similar = text_data['without_strong_similar']\n",
    "#     without_strong_similar_best_match = without_strong_similar['best_match']['5_gram']\n",
    "#     without_strong_similar_best_match_p = without_strong_similar_best_match[0]\n",
    "#     without_strong_similar_best_match_score = without_strong_similar_best_match[1]\n",
    "    \n",
    "#     london_text_in_original = thesisDataReader.get_london_by_new_line()[original_best_match_p]\n",
    "#     london_text_in_without_strong_similar = london_corpus_without_strong_similar[without_strong_similar_best_match_p]\n",
    "        \n",
    "#     if london_text_in_original != london_text_in_without_strong_similar:\n",
    "#         was_removed = True if original_best_match_p in london_p_to_remove_set else False\n",
    "#         print('# found text mismatch for:')\n",
    "#         print(text)\n",
    "#         print()\n",
    "#         print(f'original best match with score: {original_best_match_score} was to london p {original_best_match_p}, was removed - {was_removed}:')\n",
    "#         print(london_text_in_original)\n",
    "#         print()\n",
    "#         print(f'new best match with score: {without_strong_similar_best_match_score} to london new p index {without_strong_similar_best_match_p}:')\n",
    "#         print(london_text_in_without_strong_similar)\n",
    "#         print('\\n'*3)\n",
    "    \n",
    "#     if original_best_match_score - without_strong_similar_best_match_score > 0.1:\n",
    "#         print(f'% found score mismatch for:\\n{text}')\n",
    "#         print(f'original match score was: {original_best_match_score}, was to london p {original_best_match_p}, was removed - {was_removed}:')\n",
    "#         print(london_text_in_original)\n",
    "#         print()\n",
    "#         print(f'new match score was: {without_strong_similar_best_match_score}, to london new p index {without_strong_similar_best_match_p}:')\n",
    "#         print(london_text_in_without_strong_similar)\n",
    "#         print('\\n'*3)"
   ]
  },
  {
   "cell_type": "code",
   "execution_count": null,
   "id": "2b3e855e",
   "metadata": {
    "scrolled": true
   },
   "outputs": [],
   "source": [
    "# london_zwickau_full_remove_best_similarities = thesisCosineSimilarities.get_cross_version_best_similarities(\n",
    "#     london_corpus_without_strong_similar,\n",
    "#     zwickau_corpus_without_strong_similar,\n",
    "# )"
   ]
  },
  {
   "cell_type": "code",
   "execution_count": null,
   "id": "c21f3faf",
   "metadata": {
    "scrolled": true
   },
   "outputs": [],
   "source": [
    "# zwickau_london_full_remove_best_similarities = thesisCosineSimilarities.get_cross_version_best_similarities(\n",
    "#     zwickau_corpus_without_strong_similar,\n",
    "#     london_corpus_without_strong_similar,\n",
    "# )"
   ]
  },
  {
   "cell_type": "code",
   "execution_count": null,
   "id": "22a7891f",
   "metadata": {
    "scrolled": true
   },
   "outputs": [],
   "source": [
    "# london_mock = []\n",
    "\n",
    "# for index, text in enumerate(thesisDataReader.get_london_by_new_line()):\n",
    "#     text_info = london_zwickau_best_match_by_p_map[text]\n",
    "#     similarity_score = 0 if text_info.get('without_strong_similar') is None else text_info['without_strong_similar']['best_match']['5_gram'][1]\n",
    "#     london_mock.append(similarity_score)\n",
    "london_mock = create_similarities_with_mock_for_drop(\n",
    "    thesisDataReader.get_london_by_new_line(),\n",
    "    london_zwickau_best_match_by_p_map,\n",
    ")\n",
    "london_mock"
   ]
  },
  {
   "cell_type": "code",
   "execution_count": null,
   "id": "c14329f7",
   "metadata": {
    "scrolled": true
   },
   "outputs": [],
   "source": [
    "zwickau_mock = create_similarities_with_mock_for_drop(\n",
    "    thesisDataReader.get_zwickau_by_new_line(),\n",
    "    zwickau_london_best_match_by_p_map,\n",
    ")\n",
    "zwickau_mock"
   ]
  },
  {
   "cell_type": "code",
   "execution_count": null,
   "id": "2e3b3c11",
   "metadata": {
    "scrolled": true
   },
   "outputs": [],
   "source": [
    "fig, ax = plt.subplots(figsize=(35, 5))\n",
    "\n",
    "ax.plot(london_mock, label=\"london_zwickau without strong similar\")\n",
    "ax.plot(zwickau_mock, label=\"zwickau_london without strong similar\")\n",
    "\n",
    "ax.set_ylim([0,1])\n",
    "ax.set_xlim([-5,325])\n",
    "ax.legend()\n",
    "plt.title('Max cross similarity per p')\n",
    "plt.show()"
   ]
  },
  {
   "cell_type": "code",
   "execution_count": null,
   "id": "3ffb5ade",
   "metadata": {
    "scrolled": true
   },
   "outputs": [],
   "source": [
    "plot_original_similarities()"
   ]
  },
  {
   "cell_type": "code",
   "execution_count": null,
   "id": "13389ae8",
   "metadata": {
    "scrolled": true
   },
   "outputs": [],
   "source": [
    "fig, ax = plt.subplots(figsize=(35, 5))\n",
    "\n",
    "ax.plot(london_mock, label=\"london_zwickau without strong similar\")\n",
    "ax.plot([i['5_gram'][1] for i in london_zwickau_original_best_similarities], label=\"london_zwickau original\")\n",
    "\n",
    "ax.set_ylim([0,1])\n",
    "ax.set_xlim([-5,325])\n",
    "ax.legend()\n",
    "plt.title('Max cross similarity per p')\n",
    "plt.show()"
   ]
  },
  {
   "cell_type": "code",
   "execution_count": null,
   "id": "85a9a0ba",
   "metadata": {
    "scrolled": true
   },
   "outputs": [],
   "source": [
    "fig, ax = plt.subplots(figsize=(35, 5))\n",
    "\n",
    "ax.plot(zwickau_mock, label=\"zwickau_london without strong similar\")\n",
    "ax.plot([i['5_gram'][1] for i in zwickau_london_original_best_similarities], label=\"zwickau_london original\")\n",
    "\n",
    "ax.set_ylim([0,1])\n",
    "ax.set_xlim([-5,325])\n",
    "ax.legend()\n",
    "plt.title('Max cross similarity per p')\n",
    "plt.show()"
   ]
  },
  {
   "cell_type": "markdown",
   "id": "e6a95818",
   "metadata": {},
   "source": [
    "#### remove by bidirectional similarity with score > 0.5"
   ]
  },
  {
   "cell_type": "code",
   "execution_count": null,
   "id": "7a259714",
   "metadata": {
    "scrolled": true
   },
   "outputs": [],
   "source": [
    "def get_indexes_with_bidirectional_similarity(\n",
    "    mock_similarities,\n",
    "    \n",
    "    version_a_corpus,\n",
    "    version_a_best_match_by_p_map,\n",
    "\n",
    "    version_b_corpus,\n",
    "    version_b_best_match_by_p_map,\n",
    "):\n",
    "    result = []\n",
    "    for i, p in enumerate(mock_similarities):\n",
    "        if p > 0:\n",
    "            version_a_p_info = version_a_best_match_by_p_map[version_a_corpus[i]]\n",
    "            version_a_p_info_original = version_a_p_info['original']\n",
    "            version_a_p_info_original_best_match_p = version_a_p_info_original['best_match']['5_gram'][0]\n",
    "#             print(version_a_p_info_original_best_match_p)\n",
    "            version_a_p_info_original_best_match_score = version_a_p_info_original['best_match']['5_gram'][1]\n",
    "            \n",
    "            version_b_p_info = version_b_best_match_by_p_map[version_b_corpus[version_a_p_info_original_best_match_p]]\n",
    "            version_b_p_info_original = version_b_p_info['original']\n",
    "            version_b_p_info_original_best_match_p = version_b_p_info_original['best_match']['5_gram'][0]\n",
    "            version_b_p_info_original_best_match_score = version_b_p_info_original['best_match']['5_gram'][1]\n",
    "            \n",
    "            if i == 30:\n",
    "                print('running on', i)\n",
    "                print('version_a_p_info', version_a_p_info)\n",
    "                print('version_b_p_info',version_b_p_info)\n",
    "                print('version_a_p_info_original_best_match_p', version_a_p_info_original_best_match_p)\n",
    "                print('version_b_p_info_original_best_match_p', version_b_p_info_original_best_match_p)\n",
    "                print('version_a_p_info_original_best_match_p == version_b_p_info_original_best_match_p', version_a_p_info_original_best_match_p == version_b_p_info_original_best_match_p)\n",
    "            \n",
    "            if i == version_b_p_info_original_best_match_p and (version_a_p_info_original_best_match_score > BIDIRECTIONAL_SIMILARITY_THRESHOLD and version_b_p_info_original_best_match_score > BIDIRECTIONAL_SIMILARITY_THRESHOLD):\n",
    "                result.append(i)\n",
    "    \n",
    "    return result"
   ]
  },
  {
   "cell_type": "code",
   "execution_count": null,
   "id": "d97a521b",
   "metadata": {},
   "outputs": [],
   "source": [
    "# get_indexes_with_bidirectional_similarity(\n",
    "#     london_mock,\n",
    "    \n",
    "#     thesisDataReader.get_london_by_new_line(),\n",
    "#     london_zwickau_best_match_by_p_map,\n",
    "    \n",
    "#     thesisDataReader.get_zwickau_by_new_line(),\n",
    "#     zwickau_london_best_match_by_p_map\n",
    "# )"
   ]
  },
  {
   "cell_type": "code",
   "execution_count": null,
   "id": "b53b1aaa",
   "metadata": {
    "scrolled": true
   },
   "outputs": [],
   "source": [
    "london_zwickau_p_to_remove_by_bidirectional_similarity = get_indexes_with_bidirectional_similarity(\n",
    "    london_mock,\n",
    "    \n",
    "    thesisDataReader.get_london_by_new_line(),\n",
    "    london_zwickau_best_match_by_p_map,\n",
    "    \n",
    "    thesisDataReader.get_zwickau_by_new_line(),\n",
    "    zwickau_london_best_match_by_p_map\n",
    ")\n",
    "LONDON_INDEXES_TO_REMOVE_SET = LONDON_INDEXES_TO_REMOVE_SET.union(set(london_zwickau_p_to_remove_by_bidirectional_similarity))\n",
    "print(london_zwickau_p_to_remove_by_bidirectional_similarity)\n",
    "print(len(london_zwickau_p_to_remove_by_bidirectional_similarity))"
   ]
  },
  {
   "cell_type": "code",
   "execution_count": null,
   "id": "61a62f31",
   "metadata": {
    "scrolled": true
   },
   "outputs": [],
   "source": [
    "zwickau_london_p_to_remove_by_bidirectional_similarity = get_indexes_with_bidirectional_similarity(\n",
    "    zwickau_mock,\n",
    "    \n",
    "    thesisDataReader.get_zwickau_by_new_line(),\n",
    "    zwickau_london_best_match_by_p_map,\n",
    "    \n",
    "    thesisDataReader.get_london_by_new_line(),\n",
    "    london_zwickau_best_match_by_p_map\n",
    ")\n",
    "ZWICKAU_INDEXES_TO_REMOVE_SET = ZWICKAU_INDEXES_TO_REMOVE_SET.union(set(zwickau_london_p_to_remove_by_bidirectional_similarity))\n",
    "print(zwickau_london_p_to_remove_by_bidirectional_similarity)\n",
    "print(len(zwickau_london_p_to_remove_by_bidirectional_similarity))"
   ]
  },
  {
   "cell_type": "code",
   "execution_count": null,
   "id": "2c4c2e7a",
   "metadata": {
    "scrolled": true
   },
   "outputs": [],
   "source": [
    "print(len(london_corpus_without_strong_similar))\n",
    "print(len(zwickau_corpus_without_strong_similar))\n",
    "print()\n",
    "\n",
    "london_corpus_without_strong_similar = remove_p_by_indexes(thesisDataReader.get_london_by_new_line(), list(LONDON_INDEXES_TO_REMOVE_SET))\n",
    "zwickau_corpus_without_strong_similar = remove_p_by_indexes(thesisDataReader.get_zwickau_by_new_line(), list(ZWICKAU_INDEXES_TO_REMOVE_SET))\n",
    "\n",
    "print(len(london_corpus_without_strong_similar))\n",
    "print(len(zwickau_corpus_without_strong_similar))"
   ]
  },
  {
   "cell_type": "code",
   "execution_count": null,
   "id": "5391bae9",
   "metadata": {
    "scrolled": true
   },
   "outputs": [],
   "source": [
    "london_zwickau_without_strong_similar_best_similarities = thesisCosineSimilarities.get_cross_version_best_similarities(\n",
    "    london_corpus_without_strong_similar,\n",
    "    zwickau_corpus_without_strong_similar,\n",
    ")"
   ]
  },
  {
   "cell_type": "code",
   "execution_count": null,
   "id": "b18d4873",
   "metadata": {
    "scrolled": true
   },
   "outputs": [],
   "source": [
    "zwickau_london_without_strong_similar_best_similarities = thesisCosineSimilarities.get_cross_version_best_similarities(\n",
    "    zwickau_corpus_without_strong_similar,\n",
    "    london_corpus_without_strong_similar,\n",
    ")"
   ]
  },
  {
   "cell_type": "code",
   "execution_count": null,
   "id": "9113a008",
   "metadata": {
    "scrolled": true
   },
   "outputs": [],
   "source": [
    "london_zwickau_best_match_by_p_map = create_best_match_by_text_map(\n",
    "    thesisDataReader.get_london_by_new_line(),\n",
    "    london_zwickau_original_best_similarities,\n",
    "    london_corpus_without_strong_similar,\n",
    "    london_zwickau_without_strong_similar_best_similarities,\n",
    ")"
   ]
  },
  {
   "cell_type": "code",
   "execution_count": null,
   "id": "bb553c66",
   "metadata": {
    "scrolled": true
   },
   "outputs": [],
   "source": [
    "zwickau_london_best_match_by_p_map = create_best_match_by_text_map(\n",
    "    thesisDataReader.get_zwickau_by_new_line(),\n",
    "    zwickau_london_original_best_similarities,\n",
    "    zwickau_corpus_without_strong_similar,\n",
    "    zwickau_london_without_strong_similar_best_similarities,\n",
    ")"
   ]
  },
  {
   "cell_type": "code",
   "execution_count": null,
   "id": "3cc954bb",
   "metadata": {
    "scrolled": true
   },
   "outputs": [],
   "source": [
    "london_mock = create_similarities_with_mock_for_drop(\n",
    "    thesisDataReader.get_london_by_new_line(),\n",
    "    london_zwickau_best_match_by_p_map,\n",
    ")\n",
    "london_mock"
   ]
  },
  {
   "cell_type": "code",
   "execution_count": null,
   "id": "b5a973b7",
   "metadata": {
    "scrolled": true
   },
   "outputs": [],
   "source": [
    "zwickau_mock = create_similarities_with_mock_for_drop(\n",
    "    thesisDataReader.get_zwickau_by_new_line(),\n",
    "    zwickau_london_best_match_by_p_map,\n",
    ")\n",
    "zwickau_mock"
   ]
  },
  {
   "cell_type": "code",
   "execution_count": null,
   "id": "6789045e",
   "metadata": {
    "scrolled": true
   },
   "outputs": [],
   "source": [
    "fig, ax = plt.subplots(figsize=(35, 5))\n",
    "\n",
    "ax.plot(london_mock, label=\"london_zwickau without strong similar\")\n",
    "ax.plot(zwickau_mock, label=\"zwickau_london without strong similar\")\n",
    "\n",
    "ax.set_ylim([0,1])\n",
    "ax.set_xlim([-5,325])\n",
    "ax.legend()\n",
    "plt.title('Max cross similarity per p')\n",
    "plt.show()"
   ]
  },
  {
   "cell_type": "code",
   "execution_count": null,
   "id": "9a4f8375",
   "metadata": {
    "scrolled": true
   },
   "outputs": [],
   "source": [
    "for i, p in enumerate(london_mock):\n",
    "    print(f'{i} - {p}')"
   ]
  },
  {
   "cell_type": "code",
   "execution_count": null,
   "id": "683a3e13",
   "metadata": {},
   "outputs": [],
   "source": [
    "london_mock"
   ]
  },
  {
   "cell_type": "code",
   "execution_count": null,
   "id": "59087c95",
   "metadata": {},
   "outputs": [],
   "source": [
    "london_mock[44]"
   ]
  },
  {
   "cell_type": "code",
   "execution_count": null,
   "id": "5a722ba8",
   "metadata": {
    "scrolled": true
   },
   "outputs": [],
   "source": [
    "london_zwickau_best_match_by_p_map[thesisDataReader.get_london_by_new_line()[44]]"
   ]
  },
  {
   "cell_type": "code",
   "execution_count": null,
   "id": "ab70ddc6",
   "metadata": {
    "scrolled": true
   },
   "outputs": [],
   "source": [
    "zwickau_london_best_match_by_p_map[thesisDataReader.get_zwickau_by_new_line()[44]]"
   ]
  },
  {
   "cell_type": "markdown",
   "id": "34374002",
   "metadata": {},
   "source": [
    "#### strongly / poorly similar"
   ]
  },
  {
   "cell_type": "code",
   "execution_count": null,
   "id": "27079dc7",
   "metadata": {},
   "outputs": [],
   "source": [
    "london_zwickau_strongly_similar_indexes = [i for i, p in enumerate(london_mock) if p == 0]\n",
    "london_zwickau_poorly_similar_indexes = [i for i, p in enumerate(london_mock) if p > 0]"
   ]
  },
  {
   "cell_type": "code",
   "execution_count": null,
   "id": "c98afe38",
   "metadata": {},
   "outputs": [],
   "source": [
    "print(len(london_zwickau_strongly_similar_indexes))\n",
    "print(len(london_zwickau_poorly_similar_indexes))"
   ]
  },
  {
   "cell_type": "code",
   "execution_count": null,
   "id": "fe064661",
   "metadata": {},
   "outputs": [],
   "source": [
    "london_zwickau_strongly_similar_corpus = [p for i, p in enumerate(thesisDataReader.get_london_by_new_line()) if i in set(london_zwickau_strongly_similar_indexes)]\n",
    "london_zwickau_poorly_similar_corpus = [p for i, p in enumerate(thesisDataReader.get_london_by_new_line()) if i in set(london_zwickau_poorly_similar_indexes)]"
   ]
  },
  {
   "cell_type": "code",
   "execution_count": null,
   "id": "fcc5624d",
   "metadata": {},
   "outputs": [],
   "source": [
    "len(london_zwickau_poorly_similar_corpus)"
   ]
  },
  {
   "cell_type": "code",
   "execution_count": null,
   "id": "a740cea9",
   "metadata": {},
   "outputs": [],
   "source": [
    "zwickau_london_strongly_similar_indexes = [i for i, p in enumerate(zwickau_mock) if p == 0]\n",
    "zwickau_london_poorly_similar_indexes = [i for i, p in enumerate(zwickau_mock) if p > 0]"
   ]
  },
  {
   "cell_type": "code",
   "execution_count": null,
   "id": "53e35a35",
   "metadata": {},
   "outputs": [],
   "source": [
    "print(len(zwickau_london_strongly_similar_indexes))\n",
    "print(len(zwickau_london_poorly_similar_indexes))"
   ]
  },
  {
   "cell_type": "code",
   "execution_count": null,
   "id": "e73fed76",
   "metadata": {},
   "outputs": [],
   "source": [
    "zwickau_london_strongly_similar_corpus = [p for i, p in enumerate(thesisDataReader.get_zwickau_by_new_line()) if i in set(zwickau_london_strongly_similar_indexes)]\n",
    "zwickau_london_poorly_similar_corpus = [p for i, p in enumerate(thesisDataReader.get_zwickau_by_new_line()) if i in set(zwickau_london_poorly_similar_indexes)]"
   ]
  },
  {
   "cell_type": "code",
   "execution_count": null,
   "id": "eaa1d2f6",
   "metadata": {},
   "outputs": [],
   "source": [
    "london_zwickau_strongly_similar_best_similarities = thesisCosineSimilarities.get_cross_version_best_similarities(\n",
    "    london_zwickau_strongly_similar_corpus,\n",
    "    zwickau_london_strongly_similar_corpus,\n",
    ")"
   ]
  },
  {
   "cell_type": "code",
   "execution_count": null,
   "id": "dafabe75",
   "metadata": {},
   "outputs": [],
   "source": [
    "zwickau_london_strongly_similar_best_similarities = thesisCosineSimilarities.get_cross_version_best_similarities(\n",
    "    zwickau_london_strongly_similar_corpus,\n",
    "    london_zwickau_strongly_similar_corpus,\n",
    ")"
   ]
  },
  {
   "cell_type": "code",
   "execution_count": null,
   "id": "8095f50e",
   "metadata": {},
   "outputs": [],
   "source": [
    "fig, ax = plt.subplots(figsize=(35, 5))\n",
    "\n",
    "ax.plot([i['5_gram'][1] for i in london_zwickau_strongly_similar_best_similarities], label=\"london_zwickau\")\n",
    "ax.plot([i['5_gram'][1] for i in zwickau_london_strongly_similar_best_similarities], label=\"zwickau_london\")\n",
    "\n",
    "ax.set_ylim([0,1])\n",
    "ax.set_xlim([-5,240])\n",
    "ax.legend()\n",
    "plt.title('Max cross similarity per p')\n",
    "plt.show()"
   ]
  },
  {
   "cell_type": "code",
   "execution_count": null,
   "id": "7c98b4de",
   "metadata": {},
   "outputs": [],
   "source": [
    "london_zwickau_poorly_similar_best_similarities = thesisCosineSimilarities.get_cross_version_best_similarities(\n",
    "    london_zwickau_poorly_similar_corpus,\n",
    "    zwickau_london_poorly_similar_corpus,\n",
    ")"
   ]
  },
  {
   "cell_type": "code",
   "execution_count": null,
   "id": "166cbf51",
   "metadata": {},
   "outputs": [],
   "source": [
    "zwickau_london_poorly_similar_best_similarities = thesisCosineSimilarities.get_cross_version_best_similarities(\n",
    "    zwickau_london_poorly_similar_corpus,\n",
    "    london_zwickau_poorly_similar_corpus,\n",
    ")"
   ]
  },
  {
   "cell_type": "code",
   "execution_count": null,
   "id": "edb1b505",
   "metadata": {},
   "outputs": [],
   "source": [
    "fig, ax = plt.subplots(figsize=(35, 5))\n",
    "\n",
    "ax.plot([i['5_gram'][1] for i in london_zwickau_poorly_similar_best_similarities], label=\"london_zwickau\")\n",
    "ax.plot([i['5_gram'][1] for i in zwickau_london_poorly_similar_best_similarities], label=\"zwickau_london\")\n",
    "\n",
    "ax.set_ylim([0,1])\n",
    "ax.set_xlim([-5,120])\n",
    "ax.legend()\n",
    "plt.title('Max cross similarity per p')\n",
    "plt.show()"
   ]
  },
  {
   "cell_type": "code",
   "execution_count": null,
   "id": "77b39207",
   "metadata": {},
   "outputs": [],
   "source": [
    "london_breslau_strongly_similar_best_similarities = thesisCosineSimilarities.get_cross_version_best_similarities(\n",
    "    london_zwickau_strongly_similar_corpus,\n",
    "    thesisDataReader.get_breslau_by_new_line(),\n",
    ")\n",
    "london_breslau_poorly_similar_best_similarities = thesisCosineSimilarities.get_cross_version_best_similarities(\n",
    "    london_zwickau_poorly_similar_corpus,\n",
    "    thesisDataReader.get_breslau_by_new_line(),\n",
    ")"
   ]
  },
  {
   "cell_type": "code",
   "execution_count": null,
   "id": "3f852a1a",
   "metadata": {},
   "outputs": [],
   "source": [
    "fig, ax = plt.subplots(figsize=(35, 5))\n",
    "\n",
    "ax.plot([i['5_gram'][1] for i in london_breslau_strongly_similar_best_similarities], label=\"strongly\")\n",
    "ax.plot([i['5_gram'][1] for i in london_breslau_poorly_similar_best_similarities], label=\"poorly\")\n",
    "\n",
    "ax.set_ylim([0,1])\n",
    "ax.set_xlim([-5,120])\n",
    "ax.legend()\n",
    "plt.title('Max cross similarity per p')\n",
    "plt.show()"
   ]
  },
  {
   "cell_type": "code",
   "execution_count": null,
   "id": "f535a5f5",
   "metadata": {},
   "outputs": [],
   "source": [
    "zwickau_breslau_strongly_similar_best_similarities = thesisCosineSimilarities.get_cross_version_best_similarities(\n",
    "    zwickau_london_strongly_similar_corpus,\n",
    "    thesisDataReader.get_breslau_by_new_line(),\n",
    ")\n",
    "zwickau_breslau_poorly_similar_best_similarities = thesisCosineSimilarities.get_cross_version_best_similarities(\n",
    "    zwickau_london_poorly_similar_corpus,\n",
    "    thesisDataReader.get_breslau_by_new_line(),\n",
    ")"
   ]
  },
  {
   "cell_type": "code",
   "execution_count": null,
   "id": "b3270ab2",
   "metadata": {},
   "outputs": [],
   "source": [
    "fig, ax = plt.subplots(figsize=(35, 5))\n",
    "\n",
    "ax.plot([i['5_gram'][1] for i in zwickau_breslau_strongly_similar_best_similarities], label=\"strongly\")\n",
    "ax.plot([i['5_gram'][1] for i in zwickau_breslau_poorly_similar_best_similarities], label=\"poorly\")\n",
    "\n",
    "ax.set_ylim([0,1])\n",
    "ax.set_xlim([-5,120])\n",
    "ax.legend()\n",
    "plt.title('Max cross similarity per p')\n",
    "plt.show()"
   ]
  },
  {
   "cell_type": "markdown",
   "id": "261194c0",
   "metadata": {},
   "source": [
    "#### p aligment"
   ]
  },
  {
   "cell_type": "code",
   "execution_count": null,
   "id": "7c6d3e4e",
   "metadata": {},
   "outputs": [],
   "source": [
    "london_zwickau_breslau_strongly_similar_p_aligment_df = thesisPAligment.create_london_p_aligment(\n",
    "    london_zwickau_strongly_similar_corpus,\n",
    "    zwickau_london_strongly_similar_corpus,\n",
    "    london_zwickau_strongly_similar_best_similarities,\n",
    "    thesisDataReader.get_breslau_by_new_line(),\n",
    "    london_breslau_strongly_similar_best_similarities,\n",
    ")"
   ]
  },
  {
   "cell_type": "code",
   "execution_count": null,
   "id": "d56a707c",
   "metadata": {},
   "outputs": [],
   "source": [
    "london_zwickau_breslau_strongly_similar_p_aligment_df"
   ]
  },
  {
   "cell_type": "code",
   "execution_count": null,
   "id": "8630a8b7",
   "metadata": {
    "scrolled": true
   },
   "outputs": [],
   "source": [
    "london_zwickau_breslau_strongly_similar_p_aligment_df.to_csv('../computed_data/p_aligment/by_new_line/strongly_similar/london_zwickau_breslau.csv')"
   ]
  },
  {
   "cell_type": "code",
   "execution_count": null,
   "id": "2c456151",
   "metadata": {},
   "outputs": [],
   "source": [
    "zwickau_london_strongly_similar_corpus"
   ]
  },
  {
   "cell_type": "code",
   "execution_count": null,
   "id": "f08f9052",
   "metadata": {},
   "outputs": [],
   "source": [
    "zwickau_london_breslau_strongly_similar_p_aligment_df = thesisPAligment.create_zwickau_p_aligment(\n",
    "    zwickau_london_strongly_similar_corpus,\n",
    "    london_zwickau_strongly_similar_corpus,\n",
    "    zwickau_london_strongly_similar_best_similarities,\n",
    "    thesisDataReader.get_breslau_by_new_line(),\n",
    "    zwickau_breslau_strongly_similar_best_similarities,\n",
    ")"
   ]
  },
  {
   "cell_type": "code",
   "execution_count": null,
   "id": "c9d5e799",
   "metadata": {},
   "outputs": [],
   "source": [
    "zwickau_london_breslau_strongly_similar_p_aligment_df"
   ]
  },
  {
   "cell_type": "code",
   "execution_count": null,
   "id": "6456b799",
   "metadata": {},
   "outputs": [],
   "source": [
    "zwickau_london_breslau_strongly_similar_p_aligment_df.to_csv('../computed_data/p_aligment/by_new_line/strongly_similar/zwickau_london_breslau.csv')"
   ]
  },
  {
   "cell_type": "code",
   "execution_count": null,
   "id": "a3c520b4",
   "metadata": {},
   "outputs": [],
   "source": [
    "breslau_london_zwickau_strongly_similar_p_aligment_df = thesisPAligment.create_breslau_p_aligment(\n",
    "    thesisDataReader.get_breslau_by_new_line(),\n",
    "    zwickau_london_strongly_similar_corpus,\n",
    "    thesisCosineSimilarities.get_cross_version_best_similarities(\n",
    "        thesisDataReader.get_breslau_by_new_line(),\n",
    "        zwickau_london_strongly_similar_corpus\n",
    "    ),\n",
    "    london_zwickau_strongly_similar_corpus,\n",
    "    thesisCosineSimilarities.get_cross_version_best_similarities(\n",
    "        thesisDataReader.get_breslau_by_new_line(),\n",
    "        london_zwickau_strongly_similar_corpus\n",
    "    ),\n",
    ")"
   ]
  },
  {
   "cell_type": "code",
   "execution_count": null,
   "id": "4a7529fe",
   "metadata": {},
   "outputs": [],
   "source": [
    "breslau_london_zwickau_strongly_similar_p_aligment_df"
   ]
  },
  {
   "cell_type": "code",
   "execution_count": null,
   "id": "7afe974d",
   "metadata": {},
   "outputs": [],
   "source": [
    "breslau_london_zwickau_strongly_similar_p_aligment_df.to_csv('../computed_data/p_aligment/by_new_line/strongly_similar/breslau_london_zwickau.csv')"
   ]
  },
  {
   "cell_type": "code",
   "execution_count": null,
   "id": "c1e0763e",
   "metadata": {},
   "outputs": [],
   "source": [
    "london_zwickau_breslau_poorly_similar_p_aligment_df = thesisPAligment.create_london_p_aligment(\n",
    "    london_zwickau_poorly_similar_corpus,\n",
    "    zwickau_london_poorly_similar_corpus,\n",
    "    london_zwickau_poorly_similar_best_similarities,\n",
    "    thesisDataReader.get_breslau_by_new_line(),\n",
    "    london_breslau_poorly_similar_best_similarities,\n",
    ")"
   ]
  },
  {
   "cell_type": "code",
   "execution_count": null,
   "id": "70a96797",
   "metadata": {},
   "outputs": [],
   "source": [
    "london_zwickau_breslau_poorly_similar_p_aligment_df"
   ]
  },
  {
   "cell_type": "code",
   "execution_count": null,
   "id": "035a893a",
   "metadata": {},
   "outputs": [],
   "source": [
    "london_zwickau_breslau_poorly_similar_p_aligment_df.to_csv('../computed_data/p_aligment/by_new_line/poorly_similar/london_zwickau_breslau.csv')"
   ]
  },
  {
   "cell_type": "code",
   "execution_count": null,
   "id": "e294b27e",
   "metadata": {},
   "outputs": [],
   "source": [
    "zwickau_london_breslau_poorly_similar_p_aligment_df = thesisPAligment.create_zwickau_p_aligment(\n",
    "    zwickau_london_poorly_similar_corpus,\n",
    "    london_zwickau_poorly_similar_corpus,\n",
    "    zwickau_london_poorly_similar_best_similarities,\n",
    "    thesisDataReader.get_breslau_by_new_line(),\n",
    "    zwickau_breslau_poorly_similar_best_similarities,\n",
    ")"
   ]
  },
  {
   "cell_type": "code",
   "execution_count": null,
   "id": "ba028241",
   "metadata": {},
   "outputs": [],
   "source": [
    "zwickau_london_breslau_poorly_similar_p_aligment_df"
   ]
  },
  {
   "cell_type": "code",
   "execution_count": null,
   "id": "cc4e3ca4",
   "metadata": {},
   "outputs": [],
   "source": [
    "zwickau_london_breslau_poorly_similar_p_aligment_df.to_csv('../computed_data/p_aligment/by_new_line/poorly_similar/zwickau_london_breslau.csv')"
   ]
  },
  {
   "cell_type": "code",
   "execution_count": null,
   "id": "95f14dd2",
   "metadata": {},
   "outputs": [],
   "source": [
    "breslau_london_zwickau_poorly_similar_p_aligment_df = thesisPAligment.create_breslau_p_aligment(\n",
    "    thesisDataReader.get_breslau_by_new_line(),\n",
    "    zwickau_london_poorly_similar_corpus,\n",
    "    thesisCosineSimilarities.get_cross_version_best_similarities(\n",
    "        thesisDataReader.get_breslau_by_new_line(),\n",
    "        zwickau_london_poorly_similar_corpus\n",
    "    ),\n",
    "    london_zwickau_poorly_similar_corpus,\n",
    "    thesisCosineSimilarities.get_cross_version_best_similarities(\n",
    "        thesisDataReader.get_breslau_by_new_line(),\n",
    "        london_zwickau_poorly_similar_corpus\n",
    "    ),\n",
    ")"
   ]
  },
  {
   "cell_type": "code",
   "execution_count": null,
   "id": "75d29e58",
   "metadata": {},
   "outputs": [],
   "source": [
    "breslau_london_zwickau_poorly_similar_p_aligment_df"
   ]
  },
  {
   "cell_type": "code",
   "execution_count": null,
   "id": "ed76053d",
   "metadata": {},
   "outputs": [],
   "source": [
    "breslau_london_zwickau_poorly_similar_p_aligment_df.to_csv('../computed_data/p_aligment/by_new_line/poorly_similar/breslau_london_zwickau.csv')"
   ]
  },
  {
   "cell_type": "code",
   "execution_count": null,
   "id": "37c941ad",
   "metadata": {
    "scrolled": true
   },
   "outputs": [],
   "source": [
    "# london_breslau_best_match_by_p_map = create_best_match_by_text_map(\n",
    "#     thesisDataReader.get_london_by_new_line(),\n",
    "#     london_breslau_original_best_similarities,\n",
    "#     london_corpus_without_strong_similar,\n",
    "#     london_breslau_full_remove_best_similarities,\n",
    "# )"
   ]
  },
  {
   "cell_type": "code",
   "execution_count": null,
   "id": "683d5783",
   "metadata": {
    "scrolled": true
   },
   "outputs": [],
   "source": [
    "# len(zwickau_london_full_remove_best_similarities)"
   ]
  },
  {
   "cell_type": "code",
   "execution_count": null,
   "id": "ffb25f38",
   "metadata": {
    "scrolled": true
   },
   "outputs": [],
   "source": [
    "# london_breslau_mock = []\n",
    "\n",
    "# for index, text in enumerate(thesisDataReader.get_london_by_new_line()):\n",
    "#     text_info = london_breslau_best_match_by_p_map[text]\n",
    "#     similarity_score = 0 if text_info.get('without_strong_similar') is None else text_info['without_strong_similar']['best_match']['5_gram'][1]\n",
    "#     london_breslau_mock.append(similarity_score)"
   ]
  },
  {
   "cell_type": "code",
   "execution_count": null,
   "id": "375aa3de",
   "metadata": {
    "scrolled": true
   },
   "outputs": [],
   "source": [
    "# fig, ax = plt.subplots(figsize=(35, 5))\n",
    "\n",
    "# ax.plot([i['5_gram'][1] for i in london_breslau_original_best_similarities], label=\"london_breslau original\")\n",
    "# # ax.plot([i['5_gram'][1] for i in london_breslau_full_remove_best_similarities], label=\"london_breslau without strong similar\")\n",
    "# ax.plot(london_breslau_mock, label=\"london_breslau without strong similar\")\n",
    "\n",
    "# ax.set_ylim([0,1])\n",
    "# ax.set_xlim([-5,320])\n",
    "# ax.legend()\n",
    "# plt.title('Max cross similarity per p')\n",
    "# plt.show()"
   ]
  },
  {
   "cell_type": "code",
   "execution_count": null,
   "id": "22113373",
   "metadata": {
    "scrolled": true
   },
   "outputs": [],
   "source": [
    "# zwickau_mock = []\n",
    "\n",
    "# for index, text in enumerate(thesisDataReader.get_zwickau_by_new_line()):\n",
    "#     text_info = zwickau_london_best_match_by_p_map[text]\n",
    "#     similarity_score = 0 if text_info.get('without_strong_similar') is None else text_info['without_strong_similar']['best_match']['5_gram'][1]\n",
    "#     zwickau_mock.append(similarity_score)"
   ]
  },
  {
   "cell_type": "code",
   "execution_count": null,
   "id": "0452710b",
   "metadata": {
    "scrolled": true
   },
   "outputs": [],
   "source": [
    "# fig, ax = plt.subplots(figsize=(35, 5))\n",
    "\n",
    "# ax.plot([i['5_gram'][1] for i in zwickau_london_original_best_similarities], label=\"zwickau_london original\")\n",
    "# ax.plot(zwickau_mock, label=\"zwickau_london without strong similar\")\n",
    "\n",
    "# ax.set_ylim([0,1])\n",
    "# ax.set_xlim([-5,325])\n",
    "# ax.legend()\n",
    "# plt.title('Max cross similarity per p')\n",
    "# plt.show()"
   ]
  },
  {
   "cell_type": "code",
   "execution_count": null,
   "id": "fd806e3d",
   "metadata": {
    "scrolled": true
   },
   "outputs": [],
   "source": [
    "# fig, ax = plt.subplots(figsize=(35, 5))\n",
    "\n",
    "# ax.plot(london_mock, label=\"london_zwickau without strong similar\")\n",
    "# ax.plot(zwickau_mock, label=\"zwickau_london without strong similar\")\n",
    "\n",
    "# ax.set_ylim([0,1])\n",
    "# ax.set_xlim([-5,325])\n",
    "# ax.legend()\n",
    "# plt.title('Max cross similarity per p')\n",
    "# plt.show()"
   ]
  },
  {
   "cell_type": "code",
   "execution_count": null,
   "id": "01c76221",
   "metadata": {
    "scrolled": true
   },
   "outputs": [],
   "source": [
    "# related = []\n",
    "# for i, p in enumerate(london_mock):\n",
    "#     if p > 0:\n",
    "#         london_p_info = london_zwickau_best_match_by_p_map[thesisDataReader.get_london_by_new_line()[i]]\n",
    "#         london_p_info_original = london_p_info['original']\n",
    "#         london_p_info_original_best_match_p = london_p_info_original['best_match']['5_gram'][0]\n",
    "        \n",
    "#         zwickau_p_info = zwickau_london_best_match_by_p_map[thesisDataReader.get_zwickau_by_new_line()[london_p_info_original_best_match_p]]\n",
    "#         zwickau_p_info_original = zwickau_p_info['original']\n",
    "#         zwickau_p_info_original_best_match_p = zwickau_p_info_original['best_match']['5_gram'][0]\n",
    "        \n",
    "#         if london_p_info_original_best_match_p == zwickau_p_info_original_best_match_p:\n",
    "#             related.append(i)\n",
    "# print(related)\n",
    "# print(len(related))"
   ]
  },
  {
   "cell_type": "code",
   "execution_count": null,
   "id": "4a7751f4",
   "metadata": {
    "scrolled": true
   },
   "outputs": [],
   "source": [
    "# related = []\n",
    "# # for i, p in enumerate(london_mock):\n",
    "# #     if p > 0:\n",
    "# #         london_p_info = london_zwickau_best_match_by_p_map[thesisDataReader.get_london_by_new_line()[i]]\n",
    "# #         london_p_info_original = london_p_info['original']\n",
    "# #         london_p_info_original_best_match_p = london_p_info_original['best_match']['5_gram'][0]\n",
    "# #         london_p_info_original_best_match_score = london_p_info_original['best_match']['5_gram'][1]\n",
    "        \n",
    "# #         zwickau_p_info = zwickau_london_best_match_by_p_map[thesisDataReader.get_zwickau_by_new_line()[london_p_info_original_best_match_p]]\n",
    "# #         zwickau_p_info_original = zwickau_p_info['original']\n",
    "# #         zwickau_p_info_original_best_match_p = zwickau_p_info_original['best_match']['5_gram'][0]\n",
    "# #         zwickau_p_info_original_best_match_score = zwickau_p_info_original['best_match']['5_gram'][1]\n",
    "        \n",
    "# #         if london_p_info_original_best_match_p == zwickau_p_info_original_best_match_p and (zwickau_p_info_original_best_match_score > 0.5 and london_p_info_original_best_match_score > 0.5):\n",
    "# #             related.append(i)\n",
    "# #             print('london_p_info_original_best_match_score', london_p_info_original_best_match_score)\n",
    "# #             print('zwickau_p_info_original_best_match_score', zwickau_p_info_original_best_match_score)\n",
    "# print(related)\n",
    "# print(len(related))"
   ]
  },
  {
   "cell_type": "code",
   "execution_count": null,
   "id": "25bce2ba",
   "metadata": {
    "scrolled": true
   },
   "outputs": [],
   "source": [
    "# london_zwickau_best_match_by_p_map[thesisDataReader.get_london_by_new_line()[22]]"
   ]
  },
  {
   "cell_type": "code",
   "execution_count": null,
   "id": "4a6b33ef",
   "metadata": {
    "scrolled": true
   },
   "outputs": [],
   "source": [
    "# zwickau_london_best_match_by_p_map[thesisDataReader.get_zwickau_by_new_line()[11]]"
   ]
  },
  {
   "cell_type": "code",
   "execution_count": null,
   "id": "2ee0f2b6",
   "metadata": {
    "scrolled": true
   },
   "outputs": [],
   "source": [
    "# london_zwickau_strongly_similar_p = [i for i, p in enumerate(london_mock) if p == 0]\n",
    "# london_zwickau_poorly_similar_p = [i for i, p in enumerate(london_mock) if p > 0]\n",
    "# print('strongly similar amount',len(london_zwickau_strongly_similar_p))\n",
    "# print('poorly similar amount', len(london_zwickau_poorly_similar_p))"
   ]
  },
  {
   "cell_type": "code",
   "execution_count": null,
   "id": "fd671d97",
   "metadata": {
    "scrolled": true
   },
   "outputs": [],
   "source": [
    "# zwickau_london_strongly_similar_p = [i for i, p in enumerate(zwickau_mock) if p == 0]\n",
    "# zwickau_london_poorly_similar_p = [i for i, p in enumerate(zwickau_mock) if p > 0]\n",
    "# print('strongly similar amount',len(zwickau_london_strongly_similar_p))\n",
    "# print('poorly similar amount', len(zwickau_london_poorly_similar_p))"
   ]
  },
  {
   "cell_type": "code",
   "execution_count": null,
   "id": "1bfa42cc",
   "metadata": {
    "scrolled": true
   },
   "outputs": [],
   "source": [
    "# zwickau_breslau_original_best_similarities = thesisCosineSimilarities.get_cross_version_best_similarities(\n",
    "#     thesisDataReader.get_zwickau_by_new_line(),\n",
    "#     thesisDataReader.get_breslau_by_new_line(),\n",
    "# )"
   ]
  },
  {
   "cell_type": "code",
   "execution_count": null,
   "id": "5c9baa7e",
   "metadata": {
    "scrolled": true
   },
   "outputs": [],
   "source": [
    "# zwickau_breslau_full_remove_best_similarities = thesisCosineSimilarities.get_cross_version_best_similarities(\n",
    "#     zwickau_corpus_without_strong_similar,\n",
    "#     thesisDataReader.get_breslau_by_new_line(),\n",
    "# )"
   ]
  },
  {
   "cell_type": "code",
   "execution_count": null,
   "id": "e638bb32",
   "metadata": {
    "scrolled": true
   },
   "outputs": [],
   "source": [
    "# zwickau_breslau_best_match_by_p_map = create_best_match_by_text_map(\n",
    "#     thesisDataReader.get_zwickau_by_new_line(),\n",
    "#     zwickau_breslau_original_best_similarities,\n",
    "#     zwickau_corpus_without_strong_similar,\n",
    "#     zwickau_breslau_full_remove_best_similarities,\n",
    "# )"
   ]
  },
  {
   "cell_type": "code",
   "execution_count": null,
   "id": "8ca7147e",
   "metadata": {
    "scrolled": true
   },
   "outputs": [],
   "source": [
    "# zwickau_breslau_mock = []\n",
    "\n",
    "# for index, text in enumerate(thesisDataReader.get_zwickau_by_new_line()):\n",
    "#     text_info = zwickau_breslau_best_match_by_p_map[text]\n",
    "#     similarity_score = 0 if text_info.get('without_strong_similar') is None else text_info['without_strong_similar']['best_match']['5_gram'][1]\n",
    "#     zwickau_breslau_mock.append(similarity_score)"
   ]
  },
  {
   "cell_type": "code",
   "execution_count": null,
   "id": "69cfcf1e",
   "metadata": {
    "scrolled": true
   },
   "outputs": [],
   "source": [
    "# fig, ax = plt.subplots(figsize=(35, 5))\n",
    "\n",
    "# ax.plot([i['5_gram'][1] for i in zwickau_breslau_original_best_similarities], label=\"zwickau_breslau original\")\n",
    "# # ax.plot([i['5_gram'][1] for i in london_breslau_full_remove_best_similarities], label=\"london_breslau without strong similar\")\n",
    "# ax.plot(zwickau_breslau_mock, label=\"zwickau_breslau without strong similar\")\n",
    "\n",
    "# ax.set_ylim([0,1])\n",
    "# ax.set_xlim([-5,325])\n",
    "# ax.legend()\n",
    "# plt.title('Max cross similarity per p')\n",
    "# plt.show()"
   ]
  },
  {
   "cell_type": "code",
   "execution_count": null,
   "id": "502439ff",
   "metadata": {
    "scrolled": true
   },
   "outputs": [],
   "source": [
    "# fig, ax = plt.subplots(figsize=(35, 5))\n",
    "\n",
    "# ax.plot([i['5_gram'][1] for i in zwickau_breslau_original_best_similarities], label=\"zwickau_breslau original\")\n",
    "# ax.plot([i['5_gram'][1] for i in london_breslau_original_best_similarities], label=\"london_breslau original\")\n",
    "\n",
    "# ax.set_ylim([0,1])\n",
    "# ax.set_xlim([-5,325])\n",
    "# ax.legend()\n",
    "# plt.title('Max cross similarity per p')\n",
    "# plt.show()"
   ]
  },
  {
   "cell_type": "code",
   "execution_count": null,
   "id": "a7fd7431",
   "metadata": {
    "scrolled": true
   },
   "outputs": [],
   "source": [
    "# fig, ax = plt.subplots(figsize=(35, 5))\n",
    "\n",
    "# ax.plot(zwickau_breslau_mock, label=\"zwickau_breslau without most similart\")\n",
    "# ax.plot(london_breslau_mock, label=\"london_breslau without most similar\")\n",
    "\n",
    "# ax.set_ylim([0,1])\n",
    "# ax.set_xlim([-5,325])\n",
    "# ax.legend()\n",
    "# plt.title('Max cross similarity per p')\n",
    "# plt.show()"
   ]
  },
  {
   "cell_type": "markdown",
   "id": "a361b500",
   "metadata": {
    "scrolled": true
   },
   "source": [
    "# Create poorly similar corpus with chops"
   ]
  },
  {
   "cell_type": "code",
   "execution_count": null,
   "id": "81b14e97",
   "metadata": {
    "scrolled": true
   },
   "outputs": [],
   "source": [
    "london_poorly_similar_corpus_with_gaps = [p if london_mock[i] > 0 else None for i, p in enumerate(thesisDataReader.get_london_by_new_line())]\n",
    "zwickau_poorly_similar_corpus_with_gaps = [p if zwickau_mock[i] > 0 else None for i, p in enumerate(thesisDataReader.get_zwickau_by_new_line())]"
   ]
  },
  {
   "cell_type": "code",
   "execution_count": null,
   "id": "17f677c5",
   "metadata": {},
   "outputs": [],
   "source": [
    "len(list(filter(lambda x: x > 0, london_mock)))"
   ]
  },
  {
   "cell_type": "code",
   "execution_count": null,
   "id": "fcd1b7f9",
   "metadata": {},
   "outputs": [],
   "source": [
    "len(list(filter(lambda x: x > 0, zwickau_mock)))"
   ]
  },
  {
   "cell_type": "code",
   "execution_count": null,
   "id": "4e2a0df1",
   "metadata": {},
   "outputs": [],
   "source": [
    "np.save(\n",
    "    '../computed_data/corpus/london/london_poorly_similar_corpus_with_gaps.npy',\n",
    "    np.array(london_poorly_similar_corpus_with_gaps)\n",
    ")\n",
    "np.save(\n",
    "    '../computed_data/corpus/zwickau/zwickau_poorly_similar_corpus_with_gaps.npy',\n",
    "    np.array(zwickau_poorly_similar_corpus_with_gaps)\n",
    ")"
   ]
  },
  {
   "cell_type": "code",
   "execution_count": null,
   "id": "10b53eb8",
   "metadata": {},
   "outputs": [],
   "source": [
    "london_zwickau_breslau_p_aligment = pd.read_csv('../computed_data/p_aligment/by_new_line/london_zwickau_breslau.csv').drop(['Unnamed: 0'], axis=1)\n",
    "zwickau_london_breslau_p_aligment = pd.read_csv('../computed_data/p_aligment/by_new_line/zwickau_london_breslau.csv').drop(['Unnamed: 0'], axis=1)"
   ]
  },
  {
   "cell_type": "code",
   "execution_count": null,
   "id": "58d13070",
   "metadata": {},
   "outputs": [],
   "source": [
    "london_zwickau_breslau_p_aligment"
   ]
  },
  {
   "cell_type": "code",
   "execution_count": null,
   "id": "73ab7438",
   "metadata": {},
   "outputs": [],
   "source": [
    "p_aligment_with_chop_by_london_by_order = thesisPAligment.create_p_aligment_df_with_chop_by_london(london_zwickau_breslau_p_aligment).iloc[london_zwickau_strongly_similar_indexes]"
   ]
  },
  {
   "cell_type": "code",
   "execution_count": null,
   "id": "7bd81862",
   "metadata": {},
   "outputs": [],
   "source": [
    "p_aligment_with_chop_by_london_by_order"
   ]
  },
  {
   "cell_type": "code",
   "execution_count": null,
   "id": "51d982e9",
   "metadata": {},
   "outputs": [],
   "source": [
    "london_exceptional_corpus = [ p if p is not None else p_aligment_with_chop_by_london_by_order.loc[i]['london chop'] for i, p in enumerate(london_poorly_similar_corpus_with_gaps)]"
   ]
  },
  {
   "cell_type": "code",
   "execution_count": null,
   "id": "9dad7f1d",
   "metadata": {},
   "outputs": [],
   "source": [
    "zwickau_exceptional_corpus = [ p if p is not None else p_aligment_with_chop_by_london_by_order.loc[p_aligment_with_chop_by_order['zwickau p#'] == i]['zwickau chop'].values[0] for i, p in enumerate(zwickau_poorly_similar_corpus_with_gaps)]"
   ]
  },
  {
   "cell_type": "code",
   "execution_count": null,
   "id": "383222f3",
   "metadata": {},
   "outputs": [],
   "source": [
    "with open(\"../computed_data/corpus/london/london_poorly_similar_with_chops.txt\", \"w\") as text_file:\n",
    "    text_file.write('\\n'.join(london_exceptional_corpus))"
   ]
  },
  {
   "cell_type": "code",
   "execution_count": null,
   "id": "5eb0ebf1",
   "metadata": {},
   "outputs": [],
   "source": [
    "len(''.join(london_exceptional_corpus).split())"
   ]
  },
  {
   "cell_type": "code",
   "execution_count": null,
   "id": "84901d22",
   "metadata": {},
   "outputs": [],
   "source": [
    "np.save(\n",
    "    '../computed_data/corpus/london/london_poorly_similar_with_chops.npy',\n",
    "    np.array(london_exceptional_corpus)\n",
    ")"
   ]
  },
  {
   "cell_type": "code",
   "execution_count": null,
   "id": "cd10c9bd",
   "metadata": {},
   "outputs": [],
   "source": [
    "with open(\"../computed_data/corpus/zwickau/zwickau_poorly_similar_with_chops.txt\", \"w\") as text_file:\n",
    "    text_file.write('\\n'.join(zwickau_exceptional_corpus))"
   ]
  },
  {
   "cell_type": "code",
   "execution_count": null,
   "id": "80bc4abc",
   "metadata": {},
   "outputs": [],
   "source": [
    "len(''.join(zwickau_exceptional_corpus).split())"
   ]
  },
  {
   "cell_type": "code",
   "execution_count": null,
   "id": "4f74bd9b",
   "metadata": {},
   "outputs": [],
   "source": [
    "np.save(\n",
    "    '../computed_data/corpus/zwickau/zwickau_poorly_similar_with_chops.npy',\n",
    "    np.array(zwickau_exceptional_corpus)\n",
    ")"
   ]
  },
  {
   "cell_type": "code",
   "execution_count": null,
   "id": "cac8546c",
   "metadata": {},
   "outputs": [],
   "source": [
    "london_exceptional_corpus[246]"
   ]
  },
  {
   "cell_type": "code",
   "execution_count": null,
   "id": "6aa33825",
   "metadata": {},
   "outputs": [],
   "source": [
    "len(thesisDataReader.get_london_by_new_line())"
   ]
  },
  {
   "cell_type": "code",
   "execution_count": null,
   "id": "cde8c9ad",
   "metadata": {},
   "outputs": [],
   "source": [
    "len(zwickau_exceptional_corpus)"
   ]
  },
  {
   "cell_type": "code",
   "execution_count": null,
   "id": "56718617",
   "metadata": {},
   "outputs": [],
   "source": [
    "len(thesisDataReader.get_zwickau_by_new_line())"
   ]
  },
  {
   "cell_type": "code",
   "execution_count": null,
   "id": "dafd9110",
   "metadata": {},
   "outputs": [],
   "source": [
    "p_aligment_with_chop_by_london_by_order.loc[246]"
   ]
  },
  {
   "cell_type": "code",
   "execution_count": null,
   "id": "a59a659c",
   "metadata": {},
   "outputs": [],
   "source": [
    "london_without_shared_words = 'get inde ad leucas non longe a mari est get ciuitas una de ciuitatibus pilistinorum que nunc ibilim dicitur et est modica ualde in cole sita'\n",
    "word = 'get'\n",
    "re.sub(r'\\b' + word + r'\\b', '', london_without_shared_words, count = 1).replace('  ', ' ').strip()"
   ]
  },
  {
   "cell_type": "code",
   "execution_count": null,
   "id": "6ece3b36",
   "metadata": {},
   "outputs": [],
   "source": []
  },
  {
   "cell_type": "code",
   "execution_count": null,
   "id": "f20dd9df",
   "metadata": {},
   "outputs": [],
   "source": [
    "thesisDataReader.get_zwickau_by_new_line()[318]"
   ]
  },
  {
   "cell_type": "code",
   "execution_count": null,
   "id": "ec9c6acb",
   "metadata": {},
   "outputs": [],
   "source": []
  }
 ],
 "metadata": {
  "kernelspec": {
   "display_name": "Python 3",
   "language": "python",
   "name": "python3"
  },
  "language_info": {
   "codemirror_mode": {
    "name": "ipython",
    "version": 3
   },
   "file_extension": ".py",
   "mimetype": "text/x-python",
   "name": "python",
   "nbconvert_exporter": "python",
   "pygments_lexer": "ipython3",
   "version": "3.8.8"
  }
 },
 "nbformat": 4,
 "nbformat_minor": 5
}
