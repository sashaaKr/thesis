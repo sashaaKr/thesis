{
 "cells": [
  {
   "cell_type": "code",
   "execution_count": 1,
   "id": "5c2a0684",
   "metadata": {
    "scrolled": true
   },
   "outputs": [
    {
     "data": {
      "text/html": [
       "<style>.container { width:100% !important; }</style>"
      ],
      "text/plain": [
       "<IPython.core.display.HTML object>"
      ]
     },
     "metadata": {},
     "output_type": "display_data"
    }
   ],
   "source": [
    "from IPython.core.display import display, HTML\n",
    "display(HTML(\"<style>.container { width:100% !important; }</style>\"))"
   ]
  },
  {
   "cell_type": "code",
   "execution_count": 2,
   "id": "5bdb9b91",
   "metadata": {
    "scrolled": true
   },
   "outputs": [
    {
     "name": "stdout",
     "output_type": "stream",
     "text": [
      "Note: you may need to restart the kernel to use updated packages.\n"
     ]
    }
   ],
   "source": [
    "%pip install -q decorator==5.0.9\n",
    "!pip install -q ipywidgets\n",
    "\n",
    "import re\n",
    "import imp\n",
    "import json\n",
    "import numpy as np\n",
    "import pandas as pd\n",
    "from sklearn.feature_extraction.text import TfidfVectorizer, CountVectorizer\n",
    "from sklearn.metrics.pairwise import cosine_similarity\n",
    "import matplotlib.pyplot as plt\n",
    "import networkx as nx\n",
    "import seaborn as sns\n",
    "from collections import Counter\n",
    "\n",
    "import ipywidgets as widgets\n",
    "from ipywidgets import interact, interact_manual"
   ]
  },
  {
   "cell_type": "code",
   "execution_count": 3,
   "id": "c68c8e47",
   "metadata": {
    "scrolled": true
   },
   "outputs": [
    {
     "name": "stdout",
     "output_type": "stream",
     "text": [
      "Note: you may need to restart the kernel to use updated packages.\n"
     ]
    }
   ],
   "source": [
    "%pip install -q cltk==1.0.22"
   ]
  },
  {
   "cell_type": "code",
   "execution_count": 4,
   "id": "31999ecb",
   "metadata": {
    "scrolled": true
   },
   "outputs": [
    {
     "data": {
      "text/plain": [
       "<module 'p_aligment.p_aligment' from '../src/p_aligment/p_aligment.py'>"
      ]
     },
     "execution_count": 4,
     "metadata": {},
     "output_type": "execute_result"
    }
   ],
   "source": [
    "# importing local modules\n",
    "\n",
    "import sys\n",
    "sys.path.append('../src/')\n",
    "\n",
    "import text_cleanup.text_cleanup as thesisCleanUp\n",
    "import preprocessing.text_preprocessing as thesisTextPreprocessing\n",
    "import data.reader as thesisDataReader\n",
    "import utils.utils as thesisUtils\n",
    "import features.tf_idf.n_gram as thesisTfIdfNgramFeatures\n",
    "import features.count_vectorizer.n_gram as thesisCountVectorizerNgramFeatures\n",
    "import similarities.cosine as thesisCosineSimilarities\n",
    "import vocabulary.vocabulary as thesisVocabulary\n",
    "import features.lexical as thesisLexicalFeatures\n",
    "import similarities.cosine as thesisCosineSimilarity\n",
    "import text_cleanup.text_cleanup as thesisTextCleanUp\n",
    "import p_aligment.p_aligment as thesisPAligment\n",
    "\n",
    "imp.reload(thesisLexicalFeatures)\n",
    "imp.reload(thesisCosineSimilarity)\n",
    "imp.reload(thesisCleanUp)\n",
    "imp.reload(thesisTextPreprocessing)\n",
    "imp.reload(thesisDataReader)\n",
    "imp.reload(thesisUtils)\n",
    "imp.reload(thesisTfIdfNgramFeatures)\n",
    "imp.reload(thesisVocabulary)\n",
    "imp.reload(thesisCosineSimilarities)\n",
    "imp.reload(thesisTextCleanUp)\n",
    "imp.reload(thesisCountVectorizerNgramFeatures)\n",
    "imp.reload(thesisPAligment)"
   ]
  },
  {
   "cell_type": "markdown",
   "id": "8ea35692",
   "metadata": {},
   "source": [
    "# p aligment without most similar above by threshold"
   ]
  },
  {
   "cell_type": "markdown",
   "id": "ddbf6597",
   "metadata": {},
   "source": [
    "#### load data"
   ]
  },
  {
   "cell_type": "code",
   "execution_count": 5,
   "id": "4ab6e658",
   "metadata": {
    "scrolled": true
   },
   "outputs": [],
   "source": [
    "SIMILARITY_SCORE_UPPER_THRESHOLD = 0.8\n",
    "\n",
    "N_GRAM_RANGE_FOR_SHARED_VOCABULARY_FROM = 36\n",
    "N_GRAM_RANGE_FOR_SHARED_VOCABULARY_TO = 29\n",
    "\n",
    "BIDIRECTIONAL_SIMILARITY_THRESHOLD = 0.5"
   ]
  },
  {
   "cell_type": "code",
   "execution_count": 6,
   "id": "7e4aeaf8",
   "metadata": {
    "scrolled": true
   },
   "outputs": [],
   "source": [
    "LONDON_INDEXES_TO_REMOVE_SET = set()\n",
    "ZWICKAU_INDEXES_TO_REMOVE_SET = set()"
   ]
  },
  {
   "cell_type": "code",
   "execution_count": 14,
   "id": "61d0be6f",
   "metadata": {
    "scrolled": true
   },
   "outputs": [],
   "source": [
    "london_zwickau_original_best_similarities = thesisCosineSimilarities.get_cross_version_best_similarities(\n",
    "    thesisDataReader.get_london_by_new_line(),\n",
    "    thesisDataReader.get_zwickau_by_new_line(),\n",
    ")\n",
    "# with open('../computed_data/similarities/cross_version/best_similarities/by_new_line/london_zwickau.json', 'w') as f:\n",
    "#     json.dump(london_zwickau_original_best_similarities, f)"
   ]
  },
  {
   "cell_type": "code",
   "execution_count": null,
   "id": "36a741cd",
   "metadata": {
    "scrolled": true
   },
   "outputs": [],
   "source": [
    "# input_file = open('../computed_data/similarities/cross_version/best_similarities/by_new_line/london_zwickau.json')\n",
    "# london_zwickau_original_best_similarities = json.load(input_file)"
   ]
  },
  {
   "cell_type": "code",
   "execution_count": 15,
   "id": "2781fd58",
   "metadata": {
    "scrolled": true
   },
   "outputs": [],
   "source": [
    "zwickau_london_original_best_similarities = thesisCosineSimilarities.get_cross_version_best_similarities(\n",
    "    thesisDataReader.get_zwickau_by_new_line(),\n",
    "    thesisDataReader.get_london_by_new_line(),\n",
    ")\n",
    "# with open('../computed_data/similarities/cross_version/best_similarities/by_new_line/zwickau_london.json', 'w') as f:\n",
    "#     json.dump(zwickau_london_original_best_similarities, f)"
   ]
  },
  {
   "cell_type": "code",
   "execution_count": null,
   "id": "969f6d74",
   "metadata": {
    "scrolled": true
   },
   "outputs": [],
   "source": [
    "# input_file = open('../computed_data/similarities/cross_version/best_similarities/by_new_line/zwickau_london.json')\n",
    "# zwickau_london_original_best_similarities = json.load(input_file)"
   ]
  },
  {
   "cell_type": "code",
   "execution_count": null,
   "id": "ef197275",
   "metadata": {
    "scrolled": true
   },
   "outputs": [],
   "source": [
    "# london_breslau_original_best_similarities = thesisCosineSimilarities.get_cross_version_best_similarities(\n",
    "#     thesisDataReader.get_london_by_new_line(),\n",
    "#     thesisDataReader.get_breslau_by_new_line(),\n",
    "# )\n",
    "# with open('../computed_data/similarities/cross_version/best_similarities/by_new_line/london_breslau.json', 'w') as f:\n",
    "#     json.dump(london_breslau_original_best_similarities, f)"
   ]
  },
  {
   "cell_type": "code",
   "execution_count": null,
   "id": "e96e4fd4",
   "metadata": {
    "scrolled": true
   },
   "outputs": [],
   "source": [
    "# input_file = open('../computed_data/similarities/cross_version/best_similarities/by_new_line/london_breslau.json')\n",
    "# london_breslau_original_best_similarities = json.load(input_file)"
   ]
  },
  {
   "cell_type": "code",
   "execution_count": null,
   "id": "79fb1792",
   "metadata": {
    "scrolled": true
   },
   "outputs": [],
   "source": [
    "# zwickau_breslau_original_best_similarities = thesisCosineSimilarities.get_cross_version_best_similarities(\n",
    "#     thesisDataReader.get_zwickau_by_new_line(),\n",
    "#     thesisDataReader.get_breslau_by_new_line(),\n",
    "# )\n",
    "# with open('../computed_data/similarities/cross_version/best_similarities/by_new_line/zwickau_breslau.json', 'w') as f:\n",
    "#     json.dump(london_breslau_original_best_similarities, f)"
   ]
  },
  {
   "cell_type": "code",
   "execution_count": null,
   "id": "c54187b2",
   "metadata": {
    "scrolled": true
   },
   "outputs": [],
   "source": [
    "# input_file = open('../computed_data/similarities/cross_version/best_similarities/by_new_line/zwickau_breslau.json')\n",
    "# zwickau_breslau_original_best_similarities = json.load(input_file)"
   ]
  },
  {
   "cell_type": "markdown",
   "id": "3a685772",
   "metadata": {},
   "source": [
    "#### original data"
   ]
  },
  {
   "cell_type": "code",
   "execution_count": null,
   "id": "976d4634",
   "metadata": {
    "scrolled": true
   },
   "outputs": [],
   "source": [
    "def plot_original_similarities():\n",
    "    fig, ax = plt.subplots(figsize=(35, 5))\n",
    "\n",
    "    ax.plot([i['5_gram'][1] for i in london_zwickau_original_best_similarities], label=\"london_zwickau original\")\n",
    "    ax.plot([i['5_gram'][1] for i in zwickau_london_original_best_similarities], label=\"zwickau_london original\")\n",
    "\n",
    "    ax.set_ylim([0,1])\n",
    "    ax.set_xlim([-5,325])\n",
    "    ax.legend()\n",
    "    plt.title('Max cross similarity per p')\n",
    "    plt.show()"
   ]
  },
  {
   "cell_type": "code",
   "execution_count": null,
   "id": "5b478e90",
   "metadata": {
    "scrolled": true
   },
   "outputs": [],
   "source": [
    "plot_original_similarities()"
   ]
  },
  {
   "cell_type": "code",
   "execution_count": 12,
   "id": "dac25581",
   "metadata": {
    "scrolled": true
   },
   "outputs": [],
   "source": [
    "def create_best_match_by_text_map(\n",
    "    original_corpus, \n",
    "    original_best_similarites, \n",
    "    without_strong_similar_corpus, \n",
    "    without_strong_similar_best_match\n",
    "):\n",
    "    best_match_by_text_map = {}\n",
    "    \n",
    "    for p_index, text in enumerate(original_corpus):\n",
    "        best_match_by_text_map[text] = {\n",
    "            'original': {\n",
    "                'index': p_index,\n",
    "                'best_match': original_best_similarites[p_index]\n",
    "            }\n",
    "        }\n",
    "    \n",
    "    for p_index, text in enumerate(without_strong_similar_corpus):\n",
    "                best_match_by_text_map[text] = {\n",
    "                    **best_match_by_text_map[text],\n",
    "                    'without_strong_similar': {\n",
    "                        'index': p_index,\n",
    "                        'best_match': without_strong_similar_best_match[p_index]\n",
    "                    }\n",
    "                }\n",
    "    \n",
    "    return best_match_by_text_map"
   ]
  },
  {
   "cell_type": "code",
   "execution_count": 10,
   "id": "59c4fe28",
   "metadata": {
    "scrolled": true
   },
   "outputs": [],
   "source": [
    "def create_similarities_with_mock_for_drop(original_corpus, best_match_by_p_map):\n",
    "    mock = []\n",
    "    for index, text in enumerate(original_corpus):\n",
    "        text_info = best_match_by_p_map[text]\n",
    "        similarity_score = 0 if text_info.get('without_strong_similar') is None else text_info['without_strong_similar']['best_match']['5_gram'][1]\n",
    "        mock.append(similarity_score)\n",
    "\n",
    "    return mock"
   ]
  },
  {
   "cell_type": "markdown",
   "id": "3f598de6",
   "metadata": {},
   "source": [
    "#### remove p by threshold and same index"
   ]
  },
  {
   "cell_type": "code",
   "execution_count": null,
   "id": "a628badf",
   "metadata": {
    "scrolled": true
   },
   "outputs": [],
   "source": [
    "def find_candidate_p_to_remove_by_score_or_index(original_best_similarities):\n",
    "    p_to_remove = []\n",
    "    \n",
    "    for i, s in enumerate(original_best_similarities):\n",
    "        if s['5_gram'][1] > SIMILARITY_SCORE_UPPER_THRESHOLD: #or s['5_gram'][0] == i:\n",
    "            p_to_remove.append(i)\n",
    "    \n",
    "    return p_to_remove"
   ]
  },
  {
   "cell_type": "code",
   "execution_count": 18,
   "id": "760f63bb",
   "metadata": {
    "scrolled": true
   },
   "outputs": [],
   "source": [
    "def remove_p_by_indexes(corpus, indexes_to_remove):\n",
    "    return [p for i, p in enumerate(corpus) if i not in indexes_to_remove]"
   ]
  },
  {
   "cell_type": "code",
   "execution_count": null,
   "id": "83a3c26e",
   "metadata": {
    "scrolled": true
   },
   "outputs": [],
   "source": [
    "london_zwickau_p_to_remove_by_score_or_index = find_candidate_p_to_remove_by_score_or_index(london_zwickau_original_best_similarities)\n",
    "LONDON_INDEXES_TO_REMOVE_SET = LONDON_INDEXES_TO_REMOVE_SET.union(set(london_zwickau_p_to_remove_by_score_or_index))\n",
    "len(london_zwickau_p_to_remove_by_score_or_index)"
   ]
  },
  {
   "cell_type": "code",
   "execution_count": null,
   "id": "1dce4ea8",
   "metadata": {},
   "outputs": [],
   "source": [
    "print(sorted(LONDON_INDEXES_TO_REMOVE_SET))"
   ]
  },
  {
   "cell_type": "code",
   "execution_count": null,
   "id": "750b47ea",
   "metadata": {
    "scrolled": true
   },
   "outputs": [],
   "source": [
    "zwickau_london_p_to_remove_by_score_or_index = find_candidate_p_to_remove_by_score_or_index(zwickau_london_original_best_similarities)\n",
    "ZWICKAU_INDEXES_TO_REMOVE_SET = ZWICKAU_INDEXES_TO_REMOVE_SET.union(set(zwickau_london_p_to_remove_by_score_or_index))\n",
    "len(zwickau_london_p_to_remove_by_score_or_index)"
   ]
  },
  {
   "cell_type": "code",
   "execution_count": null,
   "id": "8a531d95",
   "metadata": {},
   "outputs": [],
   "source": [
    "print(sorted(ZWICKAU_INDEXES_TO_REMOVE_SET))"
   ]
  },
  {
   "cell_type": "code",
   "execution_count": null,
   "id": "4173bcc6",
   "metadata": {
    "scrolled": true
   },
   "outputs": [],
   "source": [
    "for i in london_zwickau_p_to_remove_by_score_or_index:\n",
    "    london_zwickau_best_match = london_zwickau_original_best_similarities[i]['5_gram']\n",
    "    zwickau_p = london_zwickau_best_match[0]\n",
    "\n",
    "    related_zwickau = zwickau_london_original_best_similarities[zwickau_p]\n",
    "    if london_zwickau_best_match[0] not in zwickau_london_p_to_remove_by_score_or_index:\n",
    "        print(f'found london {i} without zwickau: {london_zwickau_original_best_similarities[i]}')\n",
    "        print(f'related zwickau is: {related_zwickau}')"
   ]
  },
  {
   "cell_type": "code",
   "execution_count": 19,
   "id": "38ac5152",
   "metadata": {
    "scrolled": true
   },
   "outputs": [],
   "source": [
    "london_corpus_without_strong_similar = remove_p_by_indexes(thesisDataReader.get_london_by_new_line(), list(LONDON_INDEXES_TO_REMOVE_SET))\n",
    "zwickau_corpus_without_strong_similar = remove_p_by_indexes(thesisDataReader.get_zwickau_by_new_line(), list(ZWICKAU_INDEXES_TO_REMOVE_SET))"
   ]
  },
  {
   "cell_type": "code",
   "execution_count": null,
   "id": "d0c360e7",
   "metadata": {
    "scrolled": true
   },
   "outputs": [],
   "source": [
    "print(len(thesisDataReader.get_london_by_new_line()))\n",
    "print(len(london_corpus_without_strong_similar))"
   ]
  },
  {
   "cell_type": "code",
   "execution_count": null,
   "id": "f9d03634",
   "metadata": {
    "scrolled": true
   },
   "outputs": [],
   "source": [
    "print(len(thesisDataReader.get_zwickau_by_new_line()))\n",
    "print(len(zwickau_corpus_without_strong_similar))"
   ]
  },
  {
   "cell_type": "code",
   "execution_count": 20,
   "id": "28d093ad",
   "metadata": {
    "scrolled": true
   },
   "outputs": [
    {
     "data": {
      "text/plain": [
       "[0.09542035650856369,\n",
       " 0.8131045786315674,\n",
       " 0.8958853131371243,\n",
       " 0.8903220617363937,\n",
       " 0.8165486916831831,\n",
       " 0.8642997597862219,\n",
       " 0.6452430863004893,\n",
       " 0.7753975488026391,\n",
       " 0.8293117327749867,\n",
       " 0.6902343875522335,\n",
       " 0.5224296396123066,\n",
       " 0.7390791727469789,\n",
       " 0.4006858731043264,\n",
       " 0.5481486770843644,\n",
       " 0.668196985320916,\n",
       " 0.3797727189889326,\n",
       " 0.5306360466634273,\n",
       " 0.47870469931661386,\n",
       " 0.5985020501523044,\n",
       " 0.5091682598222478,\n",
       " 0.14628841125238443,\n",
       " 0.6043295704212351,\n",
       " 0.27198773742207527,\n",
       " 0.6749838320249644,\n",
       " 0.28113978623667846,\n",
       " 0.6175246851311899,\n",
       " 0.6336833611166691,\n",
       " 0.5081848038683509,\n",
       " 0.6529561596139642,\n",
       " 0.6865907305169173,\n",
       " 0.7774978841416829,\n",
       " 0.5248658504923325,\n",
       " 0.7403961494289866,\n",
       " 0.6203753656148526,\n",
       " 0.15031105135700795,\n",
       " 0.2950660671353278,\n",
       " 0.7211054725447279,\n",
       " 0.6021472459426359,\n",
       " 0.46951622307936375,\n",
       " 0.7231274168937603,\n",
       " 0.8063132048187789,\n",
       " 0.569759580499171,\n",
       " 0.7524752862513171,\n",
       " 0.757534896036682,\n",
       " 0.49755878325194636,\n",
       " 0.4186203461077321,\n",
       " 0.5308608045105072,\n",
       " 0.5181947816067686,\n",
       " 0.818124147457859,\n",
       " 0.47893630088336825,\n",
       " 0.5155569939464101,\n",
       " 0.6561069971568076,\n",
       " 0.7631492250555978,\n",
       " 0.5669667715586673,\n",
       " 0.575646731143554,\n",
       " 0.6875990245648085,\n",
       " 0.3836028027386741,\n",
       " 0.4737886747824888,\n",
       " 0.45193095103697756,\n",
       " 0.7001519946084465,\n",
       " 0.5363841095730367,\n",
       " 0.587873142772694,\n",
       " 0.3391751431578884,\n",
       " 0.5277744169161799,\n",
       " 0.5497704921034425,\n",
       " 0.47374704071034834,\n",
       " 0.5266757572510479,\n",
       " 0.4827035668891178,\n",
       " 0.7568110767926645,\n",
       " 0.763638655921415,\n",
       " 0.7117388091020028,\n",
       " 0.7883566745186925,\n",
       " 0.23450618277569504,\n",
       " 0.6126235017394013,\n",
       " 0.6082910246857424,\n",
       " 0.21638991082105027,\n",
       " 0.485752204543852,\n",
       " 0.43761197001236973,\n",
       " 0.13548598921586766,\n",
       " 0.32509274249186043,\n",
       " 0.7337623643290334,\n",
       " 0.10447882802882069,\n",
       " 0.5258887569083307,\n",
       " 0.6597871147370392,\n",
       " 0.41865372124832484,\n",
       " 0.46747849256455687,\n",
       " 0.6276599089759363,\n",
       " 0.5893239680099301,\n",
       " 0.7946343892762123,\n",
       " 0.2959641149710233,\n",
       " 0.7135585790770442,\n",
       " 0.4201749777982603,\n",
       " 0.4340149267210244,\n",
       " 0.4168652804915219,\n",
       " 0.6535244699263622,\n",
       " 0.353877812094533,\n",
       " 0.34091647310820533,\n",
       " 0.7245304481418992,\n",
       " 0.665007247678924,\n",
       " 0.22580790837405842,\n",
       " 0.5699491955384495,\n",
       " 0.6382584107117574,\n",
       " 0.5777351969287233,\n",
       " 0.5552882816799544,\n",
       " 0.32188120952512705,\n",
       " 0.5816216460661809,\n",
       " 0.5624230881204136,\n",
       " 0.6681980116776868,\n",
       " 0.1313503725115566,\n",
       " 0.5486726216098535,\n",
       " 0.7210699410001318,\n",
       " 0.6054174602722331,\n",
       " 0.5426689772891016,\n",
       " 0.4328068878651476,\n",
       " 0.31828555696215066,\n",
       " 0.6296822534231491,\n",
       " 0.6152261895046676,\n",
       " 0.817103347087383,\n",
       " 0.7091536121693685,\n",
       " 0.8077434386502398,\n",
       " 0.6220180168842839,\n",
       " 0.35447937438630556,\n",
       " 0.46344351339287887,\n",
       " 0.6599582977662068,\n",
       " 0.6560951781117444,\n",
       " 0.5289013145869257,\n",
       " 0.2881566780407056,\n",
       " 0.0794957570881444,\n",
       " 0.20169286024479627,\n",
       " 0.32211939129699846,\n",
       " 0.4413667171123223,\n",
       " 0.5317881338597131,\n",
       " 0.7928509793974555,\n",
       " 0.5539122163394675,\n",
       " 0.3938035090502957,\n",
       " 0.6163235670022383,\n",
       " 0.6085329711279578,\n",
       " 0.6734434257817227,\n",
       " 0.43733208379085964,\n",
       " 0.4164691029515983,\n",
       " 0.6368024658681736,\n",
       " 0.35478106274067395,\n",
       " 0.3051667880766643,\n",
       " 0.6284738486452052,\n",
       " 0.35003132009003746,\n",
       " 0.33872809281041155,\n",
       " 0.6703792886546539,\n",
       " 0.3228201652884013,\n",
       " 0.3868745715802023,\n",
       " 0.7604586370321966,\n",
       " 0.6613512864412192,\n",
       " 0.6063099841354268,\n",
       " 0.2708882430488246,\n",
       " 0.4874287668875446,\n",
       " 0.2653467639408645,\n",
       " 0.6744565423689094,\n",
       " 0.3248490046339944,\n",
       " 0.3319398348881118,\n",
       " 0.10700038516521776,\n",
       " 0.17159473162184713,\n",
       " 0.7051286265873273,\n",
       " 0.7892768493827701,\n",
       " 0.7400216963422276,\n",
       " 0.5268404445657772,\n",
       " 0.5621294820909292,\n",
       " 0.7457784874949153,\n",
       " 0.844067389629243,\n",
       " 0.6090162024640551,\n",
       " 0.7534182595519174,\n",
       " 0.8098589830818179,\n",
       " 0.635123730880582,\n",
       " 0.6103168477076503,\n",
       " 0.7618412678095757,\n",
       " 0.736882036683198,\n",
       " 0.11995225620586804,\n",
       " 0.6228067633638612,\n",
       " 0.659544722182648,\n",
       " 0.7937647463506121,\n",
       " 0.6524234437223401,\n",
       " 0.4682187181971203,\n",
       " 0.36830434060460404,\n",
       " 0.672701740797121,\n",
       " 0.5163542430898266,\n",
       " 0.6693079142292745,\n",
       " 0.7397794988531069,\n",
       " 0.8002479175280295,\n",
       " 0.7712076986111837,\n",
       " 0.542101967816974,\n",
       " 0.5425915826099823,\n",
       " 0.38894308688532697,\n",
       " 0.722111508368822,\n",
       " 0.2871375591915739,\n",
       " 0.8654566572032558,\n",
       " 0.8623420097819804,\n",
       " 0.5827469848059411,\n",
       " 0.3899060253249913,\n",
       " 0.5886500952482266,\n",
       " 0.6295809485123169,\n",
       " 0.6983449754046543,\n",
       " 0.6557918405842156,\n",
       " 0.6085755733935645,\n",
       " 0.5421433295740651,\n",
       " 0.5674785447281852,\n",
       " 0.6725881996259395,\n",
       " 0.23095497907099155,\n",
       " 0.25266511287376436,\n",
       " 0.3267847795492327,\n",
       " 0.46061994530494277,\n",
       " 0.20898309961258965,\n",
       " 0.26473705384927393,\n",
       " 0.5387469966434617,\n",
       " 0.6268709653568364,\n",
       " 0.3694945397040617,\n",
       " 0.33379480980643605,\n",
       " 0.30229997717101004,\n",
       " 0.3011858295042948,\n",
       " 0.47983719911230555,\n",
       " 0.38187425352141385,\n",
       " 0.21114071642095322,\n",
       " 0.45678304385086704,\n",
       " 0.13757072712715068,\n",
       " 0.6791512383789013,\n",
       " 0.2043157885998302,\n",
       " 0.7509351738435606,\n",
       " 0.5489680242896036,\n",
       " 0.41154654493031895,\n",
       " 0.2601703613055936,\n",
       " 0.3114042760510252,\n",
       " 0.18762779556753864,\n",
       " 0.40569028827401227,\n",
       " 0.27749276883059903,\n",
       " 0.24980176688472808,\n",
       " 0.6749991039492469,\n",
       " 0.45345987433633517,\n",
       " 0.5117729321117567,\n",
       " 0.7766374516988714,\n",
       " 0.6568737913199605,\n",
       " 0.8038463459700745,\n",
       " 0.8884756958325792,\n",
       " 0.8064803973318556,\n",
       " 0.7702117528271825,\n",
       " 0.8170656962023194,\n",
       " 0.7800670648113025,\n",
       " 0.8568922682825689,\n",
       " 0.9605102439657496,\n",
       " 0.9567323366506958,\n",
       " 0.9837316304424514,\n",
       " 0.8650658420886953,\n",
       " 0.9262722996579451,\n",
       " 0.9669399419309315,\n",
       " 0.731806975642549,\n",
       " 0.9710170154299992,\n",
       " 0.9743336173709812,\n",
       " 0.8862986006180578,\n",
       " 0.84493799069109,\n",
       " 0.6738365884756471,\n",
       " 0.7468912075058834,\n",
       " 0.34693985481782363,\n",
       " 0.10985335967850642,\n",
       " 0.7515317135355561,\n",
       " 0.9006783854967839,\n",
       " 0.8684075138095967,\n",
       " 0.9093050072404407,\n",
       " 0.8189598064191109,\n",
       " 0.9202598768382833,\n",
       " 0.9287847773722734,\n",
       " 0.9100130980805522,\n",
       " 0.7051115517167421,\n",
       " 0.8601378182664121,\n",
       " 0.3234310143950775,\n",
       " 0.831166130323505,\n",
       " 0.8826171764185119,\n",
       " 0.9211138953067347,\n",
       " 0.9258913684630723,\n",
       " 0.9183659354810014,\n",
       " 0.908666685668084,\n",
       " 0.9453828265739064,\n",
       " 0.8373890754910205,\n",
       " 0.9489855687084727,\n",
       " 0.92403674173157,\n",
       " 0.9132060870394407,\n",
       " 0.876367432024104,\n",
       " 0.9107509259947579,\n",
       " 0.8916338107395679,\n",
       " 0.8469575002169814,\n",
       " 0.9733307911727858,\n",
       " 0.8872179944680769,\n",
       " 0.9053309307788423,\n",
       " 0.9252105286315029,\n",
       " 0.904500324714848,\n",
       " 0.9460408649020573,\n",
       " 0.9610487677089798,\n",
       " 0.8972756729672818,\n",
       " 0.889461415807794,\n",
       " 0.9261654123223791,\n",
       " 0.905036864165333,\n",
       " 0.8326765641625814,\n",
       " 0.8564199997683082,\n",
       " 0.9094018034331425,\n",
       " 0.9206833274200498,\n",
       " 0.9013770606439242,\n",
       " 0.8676996544788206,\n",
       " 0.8400209090113689,\n",
       " 0.7369707323051962,\n",
       " 0.9512013054976816,\n",
       " 0.9407671918772083,\n",
       " 0.8657707580105792,\n",
       " 0.8731194595611045,\n",
       " 0.9173823097578908,\n",
       " 0.8926370347681678,\n",
       " 0.8582282180046971,\n",
       " 0.845601672452558,\n",
       " 0.19074432232529506,\n",
       " 0.23292347164950739,\n",
       " 0.22027852944195558,\n",
       " 0.10359358945990099,\n",
       " 0.213488072178499]"
      ]
     },
     "execution_count": 20,
     "metadata": {},
     "output_type": "execute_result"
    }
   ],
   "source": [
    "london_mock = create_similarities_with_mock_for_drop(\n",
    "    thesisDataReader.get_london_by_new_line(),\n",
    "    create_best_match_by_text_map(\n",
    "        thesisDataReader.get_london_by_new_line(),\n",
    "        london_zwickau_original_best_similarities,\n",
    "        london_corpus_without_strong_similar,\n",
    "        thesisCosineSimilarities.get_cross_version_best_similarities(\n",
    "            london_corpus_without_strong_similar,\n",
    "            zwickau_corpus_without_strong_similar,\n",
    "        )\n",
    "    )\n",
    ")\n",
    "london_mock"
   ]
  },
  {
   "cell_type": "code",
   "execution_count": 21,
   "id": "1ade4331",
   "metadata": {
    "scrolled": true
   },
   "outputs": [
    {
     "data": {
      "text/plain": [
       "[0.1704873948064964,\n",
       " 0.8111619165215265,\n",
       " 0.8955204482831662,\n",
       " 0.8888052764433803,\n",
       " 0.8129204850428482,\n",
       " 0.8641903047425635,\n",
       " 0.6400702693650797,\n",
       " 0.7812126402345771,\n",
       " 0.8299511726683574,\n",
       " 0.6924557432640323,\n",
       " 0.5202867159439521,\n",
       " 0.7372167818505769,\n",
       " 0.4014069428389761,\n",
       " 0.5633428021944303,\n",
       " 0.6724398287820631,\n",
       " 0.38471555323991363,\n",
       " 0.5271886819019778,\n",
       " 0.4835518509577656,\n",
       " 0.5971348164979383,\n",
       " 0.5132654802679306,\n",
       " 0.6017747741260767,\n",
       " 0.2564345409039801,\n",
       " 0.6772914759175633,\n",
       " 0.28969023314461306,\n",
       " 0.6185615445378273,\n",
       " 0.6357428088862379,\n",
       " 0.5032235433327005,\n",
       " 0.6492390742386936,\n",
       " 0.6856835457073956,\n",
       " 0.7729869556331048,\n",
       " 0.5223356917670445,\n",
       " 0.7407750068767793,\n",
       " 0.27998192333442934,\n",
       " 0.6215385006583045,\n",
       " 0.2935153283279716,\n",
       " 0.7175021800178416,\n",
       " 0.6068474898058419,\n",
       " 0.11873487408189755,\n",
       " 0.46517610577064294,\n",
       " 0.722435599356017,\n",
       " 0.8080331537121154,\n",
       " 0.5789244907600753,\n",
       " 0.7525913873186968,\n",
       " 0.7643170072772324,\n",
       " 0.4961417314966214,\n",
       " 0.41584212853654967,\n",
       " 0.5341624048801983,\n",
       " 0.17635877843730158,\n",
       " 0.2905192591607815,\n",
       " 0.1083633246552082,\n",
       " 0.5163063699745383,\n",
       " 0.8151183356212311,\n",
       " 0.4753314646816797,\n",
       " 0.5149828759651246,\n",
       " 0.6511210430328721,\n",
       " 0.765788640744826,\n",
       " 0.5591281787720719,\n",
       " 0.22683278326008405,\n",
       " 0.5746595086907926,\n",
       " 0.6880860044572781,\n",
       " 0.37317313858293444,\n",
       " 0.45644236346369543,\n",
       " 0.459844461502181,\n",
       " 0.6913174244522559,\n",
       " 0.5353569040125754,\n",
       " 0.5769951507402904,\n",
       " 0.5347826506558987,\n",
       " 0.5430355760383103,\n",
       " 0.4545438252437515,\n",
       " 0.7629908910934422,\n",
       " 0.45293652869834694,\n",
       " 0.17615235916111824,\n",
       " 0.30685110150831857,\n",
       " 0.6066842018677694,\n",
       " 0.6121734795736169,\n",
       " 0.21142346436547632,\n",
       " 0.48243240398587733,\n",
       " 0.44451538778864846,\n",
       " 0.47205943284106155,\n",
       " 0.5135363957966369,\n",
       " 0.765595481409809,\n",
       " 0.705804848605838,\n",
       " 0.7878336164432359,\n",
       " 0.19302831600926942,\n",
       " 0.48236708036007075,\n",
       " 0.32259519452546387,\n",
       " 0.733078755856211,\n",
       " 0.5251641547422803,\n",
       " 0.662975236246324,\n",
       " 0.4677436875921182,\n",
       " 0.41931691139584015,\n",
       " 0.1913149640672859,\n",
       " 0.628806372882763,\n",
       " 0.5853585923750872,\n",
       " 0.7944747392885568,\n",
       " 0.2801955435408845,\n",
       " 0.7092319238250057,\n",
       " 0.4186315763606569,\n",
       " 0.4309859682792908,\n",
       " 0.4194750424095424,\n",
       " 0.6546357484608308,\n",
       " 0.29149210295663075,\n",
       " 0.3468679676280184,\n",
       " 0.721742712114841,\n",
       " 0.6654367700927493,\n",
       " 0.20852216881902358,\n",
       " 0.5625391018698573,\n",
       " 0.638542524363451,\n",
       " 0.5764683831239633,\n",
       " 0.5509574947800602,\n",
       " 0.36181485089524185,\n",
       " 0.41886485164650694,\n",
       " 0.5461413153635353,\n",
       " 0.579492008153311,\n",
       " 0.5539423638551184,\n",
       " 0.6626824034139618,\n",
       " 0.5513385664050827,\n",
       " 0.7204426914307587,\n",
       " 0.6040815021361676,\n",
       " 0.42392894602616543,\n",
       " 0.6150524327625684,\n",
       " 0.6227242254439215,\n",
       " 0.8173929462001565,\n",
       " 0.706305868688464,\n",
       " 0.8124295797882729,\n",
       " 0.6195400173683844,\n",
       " 0.35097565538385805,\n",
       " 0.4698769806013964,\n",
       " 0.6564639498630408,\n",
       " 0.6498296974567382,\n",
       " 0.528975374402344,\n",
       " 0.20767106250090542,\n",
       " 0.29170998965447575,\n",
       " 0.15973373007412991,\n",
       " 0.3177178608839083,\n",
       " 0.4431767396990029,\n",
       " 0.5335389292698803,\n",
       " 0.7897308156212994,\n",
       " 0.5512117226045881,\n",
       " 0.3927131522489105,\n",
       " 0.6206342780333239,\n",
       " 0.6000757515094002,\n",
       " 0.6731140247638242,\n",
       " 0.43672075263006765,\n",
       " 0.4298909078906046,\n",
       " 0.6327418963830019,\n",
       " 0.34709826406485234,\n",
       " 0.2104048877233898,\n",
       " 0.6371079768452389,\n",
       " 0.3493867750177548,\n",
       " 0.3353159995608102,\n",
       " 0.6726074334472515,\n",
       " 0.3218522202294832,\n",
       " 0.7614358239485485,\n",
       " 0.65933191761026,\n",
       " 0.182673010424232,\n",
       " 0.6049055055360445,\n",
       " 0.275873924702945,\n",
       " 0.1274231807032254,\n",
       " 0.2699459670462081,\n",
       " 0.6812406327536888,\n",
       " 0.3227824879818337,\n",
       " 0.3292085092902634,\n",
       " 0.4849773572444383,\n",
       " 0.17589768267959788,\n",
       " 0.2534868434663898,\n",
       " 0.7038275737385231,\n",
       " 0.0905629365116092,\n",
       " 0.7908706424537295,\n",
       " 0.8582298899015596,\n",
       " 0.8619156270279937,\n",
       " 0.5859992080202651,\n",
       " 0.7410155333464223,\n",
       " 0.5250510700157794,\n",
       " 0.5590363112881017,\n",
       " 0.7456964574094838,\n",
       " 0.8422106784260558,\n",
       " 0.6066518688359097,\n",
       " 0.7524619533185795,\n",
       " 0.8075643540022831,\n",
       " 0.634276214572074,\n",
       " 0.6126966119095137,\n",
       " 0.7612913813201759,\n",
       " 0.7356699669273689,\n",
       " 0.6200471003499924,\n",
       " 0.6447331264014484,\n",
       " 0.7870725789453901,\n",
       " 0.6511492619337254,\n",
       " 0.47104986144419214,\n",
       " 0.3665293316002823,\n",
       " 0.6754189770762239,\n",
       " 0.5203104684603832,\n",
       " 0.6730089407127982,\n",
       " 0.7355559597543796,\n",
       " 0.7951333425433547,\n",
       " 0.771196516921847,\n",
       " 0.5426367281102299,\n",
       " 0.5393877490025881,\n",
       " 0.3899082466282698,\n",
       " 0.7285909667561187,\n",
       " 0.28442377628685594,\n",
       " 0.1950107464456444,\n",
       " 0.5308276050290286,\n",
       " 0.6159289767479285,\n",
       " 0.2770902721623778,\n",
       " 0.35104482857755254,\n",
       " 0.36997531881659884,\n",
       " 0.23080444248402962,\n",
       " 0.29948828837749436,\n",
       " 0.47949047564486114,\n",
       " 0.3883773273306733,\n",
       " 0.46103853179250476,\n",
       " 0.6747751562225047,\n",
       " 0.19600196464672331,\n",
       " 0.7506390453694576,\n",
       " 0.5490042980864989,\n",
       " 0.10084837519879758,\n",
       " 0.41239861985247755,\n",
       " 0.24759757246129557,\n",
       " 0.1456666907792782,\n",
       " 0.2986682458162015,\n",
       " 0.08331918975257299,\n",
       " 0.40253041777909165,\n",
       " 0.27141432160474976,\n",
       " 0.19863211760787008,\n",
       " 0.2525501996607982,\n",
       " 0.6750029817251406,\n",
       " 0.44767772381335363,\n",
       " 0.5102932937030233,\n",
       " 0.26755954779957974,\n",
       " 0.1181473115967726,\n",
       " 0.774055898292522,\n",
       " 0.6589014291925306,\n",
       " 0.8045230883044668,\n",
       " 0.8895890432890744,\n",
       " 0.8027250784342521,\n",
       " 0.76547091329926,\n",
       " 0.8150558046318663,\n",
       " 0.7774656047543862,\n",
       " 0.8650063347616449,\n",
       " 0.959805512600755,\n",
       " 0.955984378542172,\n",
       " 0.9823868325118573,\n",
       " 0.8700795888701991,\n",
       " 0.9200731076344084,\n",
       " 0.9634865819607075,\n",
       " 0.7421616472504023,\n",
       " 0.9706731454765917,\n",
       " 0.9726250053170385,\n",
       " 0.8865740043089521,\n",
       " 0.8452916202181304,\n",
       " 0.6777436208441122,\n",
       " 0.745251812696581,\n",
       " 0.746262159726157,\n",
       " 0.90277723814648,\n",
       " 0.3925020439440199,\n",
       " 0.5903382496424672,\n",
       " 0.6310985934807936,\n",
       " 0.6973384600836311,\n",
       " 0.650204113343176,\n",
       " 0.6075171745583378,\n",
       " 0.5409064113230383,\n",
       " 0.5666717165537443,\n",
       " 0.6678316766602279,\n",
       " 0.23511802724144126,\n",
       " 0.21428315327494094,\n",
       " 0.3218830509907657,\n",
       " 0.4590226382806836,\n",
       " 0.8698343981785053,\n",
       " 0.9090451657764185,\n",
       " 0.5098893611778197,\n",
       " 0.8197709994844019,\n",
       " 0.9204499082281119,\n",
       " 0.9264896851251668,\n",
       " 0.9122220895184947,\n",
       " 0.2835499813894181,\n",
       " 0.6893260131133905,\n",
       " 0.8567224859952365,\n",
       " 0.832060068218529,\n",
       " 0.8823557558687,\n",
       " 0.921640292800349,\n",
       " 0.9242148404597056,\n",
       " 0.9166215053040846,\n",
       " 0.9091970405940576,\n",
       " 0.9429138826116374,\n",
       " 0.8371363372303414,\n",
       " 0.9452585416130085,\n",
       " 0.9244446752507985,\n",
       " 0.9098446657250754,\n",
       " 0.8755710958959416,\n",
       " 0.9114563621229742,\n",
       " 0.8917247105077669,\n",
       " 0.8449387971335832,\n",
       " 0.973210060271568,\n",
       " 0.8861655530168613,\n",
       " 0.9038179657666036,\n",
       " 0.925683458457254,\n",
       " 0.905364867748262,\n",
       " 0.9450332218362265,\n",
       " 0.959744713471554,\n",
       " 0.8986835035980486,\n",
       " 0.8913887826602216,\n",
       " 0.9248119559604548,\n",
       " 0.9058258478810345,\n",
       " 0.8292586428342477,\n",
       " 0.8571301083901651,\n",
       " 0.9107813996339509,\n",
       " 0.9194581556101058,\n",
       " 0.9016135236328903,\n",
       " 0.8662501605116755,\n",
       " 0.8390792631642341,\n",
       " 0.7412548561235762,\n",
       " 0.9501131326138701,\n",
       " 0.9426340658947838,\n",
       " 0.8675998992398869,\n",
       " 0.8732576700851398,\n",
       " 0.9176457810348918,\n",
       " 0.8908506765277062,\n",
       " 0.8569114602261664,\n",
       " 0.8417008543405003,\n",
       " 0.08427683787136928]"
      ]
     },
     "execution_count": 21,
     "metadata": {},
     "output_type": "execute_result"
    }
   ],
   "source": [
    "zwickau_mock = create_similarities_with_mock_for_drop(\n",
    "    thesisDataReader.get_zwickau_by_new_line(),\n",
    "    create_best_match_by_text_map(\n",
    "        thesisDataReader.get_zwickau_by_new_line(),\n",
    "        zwickau_london_original_best_similarities,\n",
    "        zwickau_corpus_without_strong_similar,\n",
    "        thesisCosineSimilarities.get_cross_version_best_similarities(\n",
    "            zwickau_corpus_without_strong_similar,\n",
    "            london_corpus_without_strong_similar,\n",
    "        )\n",
    "    )\n",
    ")\n",
    "zwickau_mock"
   ]
  },
  {
   "cell_type": "code",
   "execution_count": null,
   "id": "351d85e3",
   "metadata": {
    "scrolled": true
   },
   "outputs": [],
   "source": [
    "fig, ax = plt.subplots(figsize=(35, 5))\n",
    "\n",
    "ax.plot(london_mock, label=\"london_zwickau without strong similar\")\n",
    "ax.plot(zwickau_mock, label=\"zwickau_london without strong similar\")\n",
    "\n",
    "ax.set_ylim([0,1])\n",
    "ax.set_xlim([-5,325])\n",
    "ax.legend()\n",
    "plt.title('Max cross similarity per p')\n",
    "plt.show()"
   ]
  },
  {
   "cell_type": "code",
   "execution_count": null,
   "id": "a670e6cd",
   "metadata": {
    "scrolled": true
   },
   "outputs": [],
   "source": [
    "plot_original_similarities()"
   ]
  },
  {
   "cell_type": "code",
   "execution_count": null,
   "id": "0ef74169",
   "metadata": {
    "scrolled": true
   },
   "outputs": [],
   "source": [
    "fig, ax = plt.subplots(figsize=(35, 5))\n",
    "\n",
    "ax.plot(london_mock, label=\"london_zwickau without strong similar\")\n",
    "ax.plot([i['5_gram'][1] for i in london_zwickau_original_best_similarities], label=\"london_zwickau original\")\n",
    "\n",
    "ax.set_ylim([0,1])\n",
    "ax.set_xlim([-5,325])\n",
    "ax.legend()\n",
    "plt.title('Max cross similarity per p')\n",
    "plt.show()"
   ]
  },
  {
   "cell_type": "code",
   "execution_count": null,
   "id": "9f1a0d39",
   "metadata": {
    "scrolled": true
   },
   "outputs": [],
   "source": [
    "fig, ax = plt.subplots(figsize=(35, 5))\n",
    "\n",
    "ax.plot(zwickau_mock, label=\"zwickau_london without strong similar\")\n",
    "ax.plot([i['5_gram'][1] for i in zwickau_london_original_best_similarities], label=\"zwickau_london original\")\n",
    "\n",
    "ax.set_ylim([0,1])\n",
    "ax.set_xlim([-5,325])\n",
    "ax.legend()\n",
    "plt.title('Max cross similarity per p')\n",
    "plt.show()"
   ]
  },
  {
   "cell_type": "markdown",
   "id": "98f5dc14",
   "metadata": {},
   "source": [
    "#### remove by shared ngrm"
   ]
  },
  {
   "cell_type": "code",
   "execution_count": null,
   "id": "c55779e2",
   "metadata": {
    "scrolled": true
   },
   "outputs": [],
   "source": [
    "# for n_gram_range in range(N_GRAM_RANGE_FOR_SHARED_VOCABULARY_FROM, N_GRAM_RANGE_FOR_SHARED_VOCABULARY_TO, -1):\n",
    "#     shared_words = thesisVocabulary.get_version_shared_words(\n",
    "#         thesisCountVectorizerNgramFeatures.get_ngrams_words_dictionary(\n",
    "#             zwickau_corpus_without_strong_similar, \n",
    "#             n_gram_range, \n",
    "#             n_gram_range\n",
    "#         ),\n",
    "#         'zwickau',\n",
    "#         thesisCountVectorizerNgramFeatures.get_ngrams_words_dictionary(\n",
    "#             london_corpus_without_strong_similar, \n",
    "#             n_gram_range, \n",
    "#             n_gram_range\n",
    "#         ),\n",
    "#         'london',\n",
    "#         thesisCountVectorizerNgramFeatures.get_ngrams_words_dictionary(\n",
    "#             thesisDataReader.get_breslau_by_new_line(), \n",
    "#             n_gram_range, \n",
    "#             n_gram_range\n",
    "#         ),\n",
    "#     )\n",
    "\n",
    "#     london_zwickau_p_to_remove_by_shared_word = []\n",
    "#     zwickau_london_p_to_remove_by_shared_word = []\n",
    "    \n",
    "#     for shared_word in shared_words:\n",
    "#         london_indexes_for_shared_word = thesisUtils.find_text_p_indexed_in_corpus(london_corpus_without_strong_similar, shared_word)\n",
    "#         london_zwickau_p_to_remove_by_shared_word = london_zwickau_p_to_remove_by_shared_word + london_indexes_for_shared_word\n",
    "        \n",
    "#         zwickau_indexes_for_shared_word = thesisUtils.find_text_p_indexed_in_corpus(zwickau_corpus_without_strong_similar, shared_word)\n",
    "#         zwickau_london_p_to_remove_by_shared_word = zwickau_london_p_to_remove_by_shared_word + zwickau_indexes_for_shared_word\n",
    "\n",
    "# print('london_zwickau_p_to_remove_by_shared_word', len(london_zwickau_p_to_remove_by_shared_word))\n",
    "# print('zwickau_london_p_to_remove_by_shared_word', len(zwickau_london_p_to_remove_by_shared_word))\n",
    "\n",
    "# print('len LONDON_INDEXES_TO_REMOVE_SET before', len(LONDON_INDEXES_TO_REMOVE_SET))\n",
    "# print('len ZWICKAU_INDEXES_TO_REMOVE_SET before', len(ZWICKAU_INDEXES_TO_REMOVE_SET))\n",
    "\n",
    "# LONDON_INDEXES_TO_REMOVE_SET = LONDON_INDEXES_TO_REMOVE_SET.union(set(london_zwickau_p_to_remove_by_shared_word))\n",
    "# ZWICKAU_INDEXES_TO_REMOVE_SET = ZWICKAU_INDEXES_TO_REMOVE_SET.union(set(zwickau_london_p_to_remove_by_shared_word))\n",
    "\n",
    "# print('len LONDON_INDEXES_TO_REMOVE_SET after', len(LONDON_INDEXES_TO_REMOVE_SET))\n",
    "# print('len ZWICKAU_INDEXES_TO_REMOVE_SET after', len(ZWICKAU_INDEXES_TO_REMOVE_SET))"
   ]
  },
  {
   "cell_type": "code",
   "execution_count": null,
   "id": "9b0f2a23",
   "metadata": {},
   "outputs": [],
   "source": [
    "shared_words = thesisVocabulary.get_2_version_shared_words(\n",
    "        thesisCountVectorizerNgramFeatures.get_ngrams_words_dictionary(\n",
    "            thesisDataReader.get_zwickau_by_new_line(), \n",
    "            36, \n",
    "            36\n",
    "        ),\n",
    "        'zwickau',\n",
    "        thesisCountVectorizerNgramFeatures.get_ngrams_words_dictionary(\n",
    "            thesisDataReader.get_london_by_new_line(), \n",
    "            36, \n",
    "            36\n",
    "        ),\n",
    "        'london',\n",
    ")\n",
    "london_zwickau_p_to_remove_by_shared_word = []\n",
    "zwickau_london_p_to_remove_by_shared_word = []\n",
    "for shared_word in shared_words:\n",
    "    london_zwickau_p_to_remove_by_shared_word = london_zwickau_p_to_remove_by_shared_word +"
   ]
  },
  {
   "cell_type": "code",
   "execution_count": null,
   "id": "ffc900fc",
   "metadata": {},
   "outputs": [],
   "source": [
    "LONDON_INDEXES_TO_REMOVE_SET = set()\n",
    "ZWICKAU_INDEXES_TO_REMOVE_SET = set()\n",
    "\n",
    "for n_gram_range in range(N_GRAM_RANGE_FOR_SHARED_VOCABULARY_FROM, N_GRAM_RANGE_FOR_SHARED_VOCABULARY_TO, -1):\n",
    "    shared_words = thesisVocabulary.get_version_shared_words(\n",
    "        thesisCountVectorizerNgramFeatures.get_ngrams_words_dictionary(\n",
    "            thesisDataReader.get_zwickau_by_new_line(), \n",
    "            n_gram_range, \n",
    "            n_gram_range\n",
    "        ),\n",
    "        'zwickau',\n",
    "        thesisCountVectorizerNgramFeatures.get_ngrams_words_dictionary(\n",
    "            thesisDataReader.get_london_by_new_line(), \n",
    "            n_gram_range, \n",
    "            n_gram_range\n",
    "        ),\n",
    "        'london',\n",
    "        thesisCountVectorizerNgramFeatures.get_ngrams_words_dictionary(\n",
    "            thesisDataReader.get_breslau_by_new_line(), \n",
    "            n_gram_range, \n",
    "            n_gram_range\n",
    "        ),\n",
    "    )\n",
    "\n",
    "    london_zwickau_p_to_remove_by_shared_word = []\n",
    "    zwickau_london_p_to_remove_by_shared_word = []\n",
    "    \n",
    "    for shared_word in shared_words:\n",
    "        london_indexes_for_shared_word = thesisUtils.find_text_p_indexed_in_corpus(thesisDataReader.get_london_by_new_line(), shared_word)\n",
    "        london_zwickau_p_to_remove_by_shared_word = london_zwickau_p_to_remove_by_shared_word + london_indexes_for_shared_word\n",
    "        \n",
    "        zwickau_indexes_for_shared_word = thesisUtils.find_text_p_indexed_in_corpus(thesisDataReader.get_zwickau_by_new_line(), shared_word)\n",
    "        zwickau_london_p_to_remove_by_shared_word = zwickau_london_p_to_remove_by_shared_word + zwickau_indexes_for_shared_word\n",
    "        \n",
    "    LONDON_INDEXES_TO_REMOVE_SET = LONDON_INDEXES_TO_REMOVE_SET.union(set(london_zwickau_p_to_remove_by_shared_word))\n",
    "    ZWICKAU_INDEXES_TO_REMOVE_SET = ZWICKAU_INDEXES_TO_REMOVE_SET.union(set(zwickau_london_p_to_remove_by_shared_word))\n",
    "\n",
    "print('london_zwickau_p_to_remove_by_shared_word', len(london_zwickau_p_to_remove_by_shared_word))\n",
    "print('zwickau_london_p_to_remove_by_shared_word', len(zwickau_london_p_to_remove_by_shared_word))\n",
    "\n",
    "print('len LONDON_INDEXES_TO_REMOVE_SET before', len(LONDON_INDEXES_TO_REMOVE_SET))\n",
    "print('len ZWICKAU_INDEXES_TO_REMOVE_SET before', len(ZWICKAU_INDEXES_TO_REMOVE_SET))\n",
    "\n",
    "# LONDON_INDEXES_TO_REMOVE_SET = LONDON_INDEXES_TO_REMOVE_SET.union(set(london_zwickau_p_to_remove_by_shared_word))\n",
    "# ZWICKAU_INDEXES_TO_REMOVE_SET = ZWICKAU_INDEXES_TO_REMOVE_SET.union(set(zwickau_london_p_to_remove_by_shared_word))\n",
    "\n",
    "print('len LONDON_INDEXES_TO_REMOVE_SET after', len(LONDON_INDEXES_TO_REMOVE_SET))\n",
    "print('len ZWICKAU_INDEXES_TO_REMOVE_SET after', len(ZWICKAU_INDEXES_TO_REMOVE_SET))"
   ]
  },
  {
   "cell_type": "code",
   "execution_count": null,
   "id": "67b1ab90",
   "metadata": {},
   "outputs": [],
   "source": [
    "print(sorted(LONDON_INDEXES_TO_REMOVE_SET))\n",
    "print(sorted(ZWICKAU_INDEXES_TO_REMOVE_SET))"
   ]
  },
  {
   "cell_type": "code",
   "execution_count": null,
   "id": "f142519d",
   "metadata": {},
   "outputs": [],
   "source": []
  },
  {
   "cell_type": "code",
   "execution_count": null,
   "id": "fde24d67",
   "metadata": {},
   "outputs": [],
   "source": [
    "london_zwickau_p_to_remove_by_shared_word"
   ]
  },
  {
   "cell_type": "code",
   "execution_count": null,
   "id": "d30582b5",
   "metadata": {},
   "outputs": [],
   "source": [
    "zwickau_london_p_to_remove_by_shared_word"
   ]
  },
  {
   "cell_type": "code",
   "execution_count": null,
   "id": "8c3e4266",
   "metadata": {
    "scrolled": true
   },
   "outputs": [],
   "source": [
    "print(sorted(LONDON_INDEXES_TO_REMOVE_SET))\n",
    "print(sorted(ZWICKAU_INDEXES_TO_REMOVE_SET))"
   ]
  },
  {
   "cell_type": "code",
   "execution_count": 27,
   "id": "a66f06a1",
   "metadata": {
    "scrolled": true
   },
   "outputs": [],
   "source": [
    "london_zwickau_without_strong_similar_best_similarities = thesisCosineSimilarities.get_cross_version_best_similarities(\n",
    "    london_corpus_without_strong_similar,\n",
    "    zwickau_corpus_without_strong_similar,\n",
    ")"
   ]
  },
  {
   "cell_type": "code",
   "execution_count": 28,
   "id": "3a910f05",
   "metadata": {
    "scrolled": true
   },
   "outputs": [],
   "source": [
    "zwickau_london_without_strong_similar_best_similarities = thesisCosineSimilarities.get_cross_version_best_similarities(\n",
    "    zwickau_corpus_without_strong_similar,\n",
    "    london_corpus_without_strong_similar,\n",
    ")"
   ]
  },
  {
   "cell_type": "code",
   "execution_count": null,
   "id": "2528506b",
   "metadata": {
    "scrolled": true
   },
   "outputs": [],
   "source": [
    "print(london_zwickau_without_strong_similar_best_similarities[217])\n",
    "print(zwickau_london_without_strong_similar_best_similarities[211])"
   ]
  },
  {
   "cell_type": "code",
   "execution_count": null,
   "id": "c7cd06c9",
   "metadata": {
    "scrolled": true
   },
   "outputs": [],
   "source": [
    "print('lengths before:')\n",
    "print(len(london_corpus_without_strong_similar))\n",
    "print(len(zwickau_corpus_without_strong_similar))\n",
    "\n",
    "london_corpus_without_strong_similar = remove_p_by_indexes(thesisDataReader.get_london_by_new_line(), list(LONDON_INDEXES_TO_REMOVE_SET))\n",
    "zwickau_corpus_without_strong_similar = remove_p_by_indexes(thesisDataReader.get_zwickau_by_new_line(), list(ZWICKAU_INDEXES_TO_REMOVE_SET))\n",
    "\n",
    "print('lengths after:')\n",
    "print(len(london_corpus_without_strong_similar))\n",
    "print(len(zwickau_corpus_without_strong_similar))"
   ]
  },
  {
   "cell_type": "code",
   "execution_count": null,
   "id": "1076eeee",
   "metadata": {
    "scrolled": true
   },
   "outputs": [],
   "source": [
    "london_zwickau_without_strong_similar_best_similarities = thesisCosineSimilarities.get_cross_version_best_similarities(\n",
    "    london_corpus_without_strong_similar,\n",
    "    zwickau_corpus_without_strong_similar,\n",
    ")"
   ]
  },
  {
   "cell_type": "code",
   "execution_count": null,
   "id": "3a97ec79",
   "metadata": {
    "scrolled": true
   },
   "outputs": [],
   "source": [
    "zwickau_london_without_strong_similar_best_similarities = thesisCosineSimilarities.get_cross_version_best_similarities(\n",
    "    zwickau_corpus_without_strong_similar,\n",
    "    london_corpus_without_strong_similar,\n",
    ")"
   ]
  },
  {
   "cell_type": "code",
   "execution_count": null,
   "id": "26cac17b",
   "metadata": {
    "scrolled": true
   },
   "outputs": [],
   "source": [
    "# def create_best_match_by_text_map(\n",
    "#     original_corpus, \n",
    "#     original_best_similarites, \n",
    "#     without_strong_similar_corpus, \n",
    "#     without_strong_similar_best_match\n",
    "# ):\n",
    "#     best_match_by_text_map = {}\n",
    "    \n",
    "#     for p_index, text in enumerate(original_corpus):\n",
    "#         best_match_by_text_map[text] = {\n",
    "#             'original': {\n",
    "#                 'index': p_index,\n",
    "#                 'best_match': original_best_similarites[p_index]\n",
    "#             }\n",
    "#         }\n",
    "    \n",
    "#     for p_index, text in enumerate(without_strong_similar_corpus):\n",
    "#                 best_match_by_text_map[text] = {\n",
    "#                     **best_match_by_text_map[text],\n",
    "#                     'without_strong_similar': {\n",
    "#                         'index': p_index,\n",
    "#                         'best_match': without_strong_similar_best_match[p_index]\n",
    "#                     }\n",
    "#                 }\n",
    "    \n",
    "#     return best_match_by_text_map"
   ]
  },
  {
   "cell_type": "code",
   "execution_count": 29,
   "id": "3ab39f0d",
   "metadata": {
    "scrolled": true
   },
   "outputs": [],
   "source": [
    "london_zwickau_best_match_by_p_map = create_best_match_by_text_map(\n",
    "    thesisDataReader.get_london_by_new_line(),\n",
    "    london_zwickau_original_best_similarities,\n",
    "    london_corpus_without_strong_similar,\n",
    "    london_zwickau_without_strong_similar_best_similarities,\n",
    ")"
   ]
  },
  {
   "cell_type": "code",
   "execution_count": 30,
   "id": "e82a1130",
   "metadata": {
    "scrolled": true
   },
   "outputs": [],
   "source": [
    "zwickau_london_best_match_by_p_map = create_best_match_by_text_map(\n",
    "    thesisDataReader.get_zwickau_by_new_line(),\n",
    "    zwickau_london_original_best_similarities,\n",
    "    zwickau_corpus_without_strong_similar,\n",
    "    zwickau_london_without_strong_similar_best_similarities\n",
    ")"
   ]
  },
  {
   "cell_type": "code",
   "execution_count": null,
   "id": "b8a0d136",
   "metadata": {
    "scrolled": true
   },
   "outputs": [],
   "source": [
    "# for p_index, text in enumerate(london_corpus_without_strong_similar):\n",
    "#     text_data = london_zwickau_best_match_by_p_map[text]\n",
    "\n",
    "#     original = text_data['original']\n",
    "#     original_best_match = original['best_match']['5_gram']\n",
    "#     original_best_match_p = original_best_match[0]\n",
    "#     original_best_match_score = original_best_match[1]\n",
    "    \n",
    "#     without_strong_similar = text_data['without_strong_similar']\n",
    "#     without_strong_similar_best_match = without_strong_similar['best_match']['5_gram']\n",
    "#     without_strong_similar_best_match_p = without_strong_similar_best_match[0]\n",
    "#     without_strong_similar_best_match_score = without_strong_similar_best_match[1]\n",
    "    \n",
    "#     zwickau_text_in_original = thesisDataReader.get_zwickau_by_new_line()[original_best_match_p]\n",
    "#     zwickau_text_in_without_strong_similar = zwickau_corpus_without_strong_similar[without_strong_similar_best_match_p]\n",
    "    \n",
    "#     if zwickau_text_in_original != zwickau_text_in_without_strong_similar:\n",
    "#         was_removed = True if original_best_match_p in zwickau_p_to_remove_set else False\n",
    "#         print('# found mismatch for:')\n",
    "#         print(text)\n",
    "#         print()\n",
    "#         print(f'original best match with score: {original_best_match_score} was to zwickau p {original_best_match_p}, was remove - {was_removed}:')\n",
    "#         print(zwickau_text_in_original)\n",
    "#         print()\n",
    "#         print(f'new best match with score: {without_strong_similar_best_match_score} to zwickau new p index {without_strong_similar_best_match_p}:')\n",
    "#         print(zwickau_text_in_without_strong_similar)\n",
    "#         print()\n",
    "#         print()\n",
    "#         print()\n",
    "\n",
    "\n",
    "#     if original_best_match_score - without_strong_similar_best_match_score > 0.1:\n",
    "#         print(f'% found score mismatch for:\\n{text}\\n')\n",
    "#         print(f'original match score was: {original_best_match_score}, was to zwickau p {original_best_match_p}, was removed - {was_removed}:')\n",
    "#         print(zwickau_text_in_original)\n",
    "#         print()\n",
    "#         print(f'new match score was: {without_strong_similar_best_match_score}, to zwickau new p index {without_strong_similar_best_match_p}:')\n",
    "#         print(zwickau_text_in_without_strong_similar)\n",
    "#         print('\\n'*3)"
   ]
  },
  {
   "cell_type": "code",
   "execution_count": null,
   "id": "81dcaf6c",
   "metadata": {
    "scrolled": true
   },
   "outputs": [],
   "source": [
    "# for p_index, text in enumerate(zwickau_corpus_without_strong_similar):\n",
    "#     text_data = zwickau_london_best_match_by_p_map[text]\n",
    "\n",
    "#     original = text_data['original']\n",
    "#     original_best_match = original['best_match']['5_gram']\n",
    "#     original_best_match_p = original_best_match[0]\n",
    "#     original_best_match_score = original_best_match[1]\n",
    "    \n",
    "#     without_strong_similar = text_data['without_strong_similar']\n",
    "#     without_strong_similar_best_match = without_strong_similar['best_match']['5_gram']\n",
    "#     without_strong_similar_best_match_p = without_strong_similar_best_match[0]\n",
    "#     without_strong_similar_best_match_score = without_strong_similar_best_match[1]\n",
    "    \n",
    "#     london_text_in_original = thesisDataReader.get_london_by_new_line()[original_best_match_p]\n",
    "#     london_text_in_without_strong_similar = london_corpus_without_strong_similar[without_strong_similar_best_match_p]\n",
    "        \n",
    "#     if london_text_in_original != london_text_in_without_strong_similar:\n",
    "#         was_removed = True if original_best_match_p in london_p_to_remove_set else False\n",
    "#         print('# found text mismatch for:')\n",
    "#         print(text)\n",
    "#         print()\n",
    "#         print(f'original best match with score: {original_best_match_score} was to london p {original_best_match_p}, was removed - {was_removed}:')\n",
    "#         print(london_text_in_original)\n",
    "#         print()\n",
    "#         print(f'new best match with score: {without_strong_similar_best_match_score} to london new p index {without_strong_similar_best_match_p}:')\n",
    "#         print(london_text_in_without_strong_similar)\n",
    "#         print('\\n'*3)\n",
    "    \n",
    "#     if original_best_match_score - without_strong_similar_best_match_score > 0.1:\n",
    "#         print(f'% found score mismatch for:\\n{text}')\n",
    "#         print(f'original match score was: {original_best_match_score}, was to london p {original_best_match_p}, was removed - {was_removed}:')\n",
    "#         print(london_text_in_original)\n",
    "#         print()\n",
    "#         print(f'new match score was: {without_strong_similar_best_match_score}, to london new p index {without_strong_similar_best_match_p}:')\n",
    "#         print(london_text_in_without_strong_similar)\n",
    "#         print('\\n'*3)"
   ]
  },
  {
   "cell_type": "code",
   "execution_count": null,
   "id": "2b3e855e",
   "metadata": {
    "scrolled": true
   },
   "outputs": [],
   "source": [
    "# london_zwickau_full_remove_best_similarities = thesisCosineSimilarities.get_cross_version_best_similarities(\n",
    "#     london_corpus_without_strong_similar,\n",
    "#     zwickau_corpus_without_strong_similar,\n",
    "# )"
   ]
  },
  {
   "cell_type": "code",
   "execution_count": null,
   "id": "c21f3faf",
   "metadata": {
    "scrolled": true
   },
   "outputs": [],
   "source": [
    "# zwickau_london_full_remove_best_similarities = thesisCosineSimilarities.get_cross_version_best_similarities(\n",
    "#     zwickau_corpus_without_strong_similar,\n",
    "#     london_corpus_without_strong_similar,\n",
    "# )"
   ]
  },
  {
   "cell_type": "code",
   "execution_count": null,
   "id": "22a7891f",
   "metadata": {
    "scrolled": true
   },
   "outputs": [],
   "source": [
    "# london_mock = []\n",
    "\n",
    "# for index, text in enumerate(thesisDataReader.get_london_by_new_line()):\n",
    "#     text_info = london_zwickau_best_match_by_p_map[text]\n",
    "#     similarity_score = 0 if text_info.get('without_strong_similar') is None else text_info['without_strong_similar']['best_match']['5_gram'][1]\n",
    "#     london_mock.append(similarity_score)\n",
    "london_mock = create_similarities_with_mock_for_drop(\n",
    "    thesisDataReader.get_london_by_new_line(),\n",
    "    london_zwickau_best_match_by_p_map,\n",
    ")\n",
    "london_mock"
   ]
  },
  {
   "cell_type": "code",
   "execution_count": null,
   "id": "c14329f7",
   "metadata": {
    "scrolled": true
   },
   "outputs": [],
   "source": [
    "zwickau_mock = create_similarities_with_mock_for_drop(\n",
    "    thesisDataReader.get_zwickau_by_new_line(),\n",
    "    zwickau_london_best_match_by_p_map,\n",
    ")\n",
    "zwickau_mock"
   ]
  },
  {
   "cell_type": "code",
   "execution_count": null,
   "id": "2e3b3c11",
   "metadata": {
    "scrolled": true
   },
   "outputs": [],
   "source": [
    "fig, ax = plt.subplots(figsize=(35, 5))\n",
    "\n",
    "ax.plot(london_mock, label=\"london_zwickau without strong similar\")\n",
    "ax.plot(zwickau_mock, label=\"zwickau_london without strong similar\")\n",
    "\n",
    "ax.set_ylim([0,1])\n",
    "ax.set_xlim([-5,325])\n",
    "ax.legend()\n",
    "plt.title('Max cross similarity per p')\n",
    "plt.show()"
   ]
  },
  {
   "cell_type": "code",
   "execution_count": null,
   "id": "3ffb5ade",
   "metadata": {
    "scrolled": true
   },
   "outputs": [],
   "source": [
    "plot_original_similarities()"
   ]
  },
  {
   "cell_type": "code",
   "execution_count": null,
   "id": "13389ae8",
   "metadata": {
    "scrolled": true
   },
   "outputs": [],
   "source": [
    "fig, ax = plt.subplots(figsize=(35, 5))\n",
    "\n",
    "ax.plot(london_mock, label=\"london_zwickau without strong similar\")\n",
    "ax.plot([i['5_gram'][1] for i in london_zwickau_original_best_similarities], label=\"london_zwickau original\")\n",
    "\n",
    "ax.set_ylim([0,1])\n",
    "ax.set_xlim([-5,325])\n",
    "ax.legend()\n",
    "plt.title('Max cross similarity per p')\n",
    "plt.show()"
   ]
  },
  {
   "cell_type": "code",
   "execution_count": null,
   "id": "85a9a0ba",
   "metadata": {
    "scrolled": true
   },
   "outputs": [],
   "source": [
    "fig, ax = plt.subplots(figsize=(35, 5))\n",
    "\n",
    "ax.plot(zwickau_mock, label=\"zwickau_london without strong similar\")\n",
    "ax.plot([i['5_gram'][1] for i in zwickau_london_original_best_similarities], label=\"zwickau_london original\")\n",
    "\n",
    "ax.set_ylim([0,1])\n",
    "ax.set_xlim([-5,325])\n",
    "ax.legend()\n",
    "plt.title('Max cross similarity per p')\n",
    "plt.show()"
   ]
  },
  {
   "cell_type": "markdown",
   "id": "e6a95818",
   "metadata": {},
   "source": [
    "#### remove by bidirectional similarity with score > 0.5"
   ]
  },
  {
   "cell_type": "code",
   "execution_count": 22,
   "id": "7a259714",
   "metadata": {
    "scrolled": true
   },
   "outputs": [],
   "source": [
    "def get_indexes_with_bidirectional_similarity(\n",
    "    mock_similarities,\n",
    "    \n",
    "    version_a_corpus,\n",
    "    version_a_best_match_by_p_map,\n",
    "\n",
    "    version_b_corpus,\n",
    "    version_b_best_match_by_p_map,\n",
    "):\n",
    "    result = []\n",
    "    for i, p in enumerate(mock_similarities):\n",
    "        if p > 0:\n",
    "            version_a_p_info = version_a_best_match_by_p_map[version_a_corpus[i]]\n",
    "            version_a_p_info_original = version_a_p_info['original']\n",
    "            version_a_p_info_original_best_match_p = version_a_p_info_original['best_match']['5_gram'][0]\n",
    "#             print(version_a_p_info_original_best_match_p)\n",
    "            version_a_p_info_original_best_match_score = version_a_p_info_original['best_match']['5_gram'][1]\n",
    "            \n",
    "            version_b_p_info = version_b_best_match_by_p_map[version_b_corpus[version_a_p_info_original_best_match_p]]\n",
    "            version_b_p_info_original = version_b_p_info['original']\n",
    "            version_b_p_info_original_best_match_p = version_b_p_info_original['best_match']['5_gram'][0]\n",
    "            version_b_p_info_original_best_match_score = version_b_p_info_original['best_match']['5_gram'][1]\n",
    "            \n",
    "            if i == 30:\n",
    "                print('running on', i)\n",
    "                print('version_a_p_info', version_a_p_info)\n",
    "                print('version_b_p_info',version_b_p_info)\n",
    "                print('version_a_p_info_original_best_match_p', version_a_p_info_original_best_match_p)\n",
    "                print('version_b_p_info_original_best_match_p', version_b_p_info_original_best_match_p)\n",
    "                print('version_a_p_info_original_best_match_p == version_b_p_info_original_best_match_p', version_a_p_info_original_best_match_p == version_b_p_info_original_best_match_p)\n",
    "            \n",
    "            if i == version_b_p_info_original_best_match_p and (version_a_p_info_original_best_match_score > BIDIRECTIONAL_SIMILARITY_THRESHOLD and version_b_p_info_original_best_match_score > BIDIRECTIONAL_SIMILARITY_THRESHOLD):\n",
    "                result.append(i)\n",
    "    \n",
    "    return result"
   ]
  },
  {
   "cell_type": "code",
   "execution_count": 23,
   "id": "d97a521b",
   "metadata": {},
   "outputs": [],
   "source": [
    "# get_indexes_with_bidirectional_similarity(\n",
    "#     london_mock,\n",
    "    \n",
    "#     thesisDataReader.get_london_by_new_line(),\n",
    "#     london_zwickau_best_match_by_p_map,\n",
    "    \n",
    "#     thesisDataReader.get_zwickau_by_new_line(),\n",
    "#     zwickau_london_best_match_by_p_map\n",
    "# )"
   ]
  },
  {
   "cell_type": "code",
   "execution_count": 31,
   "id": "b53b1aaa",
   "metadata": {
    "scrolled": true
   },
   "outputs": [
    {
     "name": "stdout",
     "output_type": "stream",
     "text": [
      "running on 30\n",
      "version_a_p_info {'original': {'index': 30, 'best_match': {'5_gram': (29, 0.7774978841416829)}}, 'without_strong_similar': {'index': 30, 'best_match': {'5_gram': (29, 0.7774978841416829)}}}\n",
      "version_b_p_info {'original': {'index': 29, 'best_match': {'5_gram': (30, 0.7729869556331048)}}, 'without_strong_similar': {'index': 29, 'best_match': {'5_gram': (30, 0.7729869556331048)}}}\n",
      "version_a_p_info_original_best_match_p 29\n",
      "version_b_p_info_original_best_match_p 30\n",
      "version_a_p_info_original_best_match_p == version_b_p_info_original_best_match_p False\n",
      "[1, 2, 3, 4, 5, 6, 7, 8, 9, 10, 11, 13, 14, 16, 18, 19, 21, 23, 25, 26, 27, 28, 29, 30, 31, 32, 33, 36, 37, 39, 40, 41, 42, 43, 46, 47, 48, 50, 51, 52, 53, 54, 55, 59, 60, 61, 63, 64, 66, 68, 69, 70, 71, 73, 74, 80, 82, 83, 86, 87, 88, 90, 94, 97, 98, 100, 101, 102, 103, 105, 106, 107, 109, 110, 111, 112, 115, 116, 117, 118, 119, 120, 123, 124, 125, 131, 132, 133, 135, 136, 137, 140, 143, 146, 149, 150, 151, 155, 160, 161, 162, 163, 164, 165, 166, 167, 168, 169, 170, 171, 172, 173, 175, 176, 177, 178, 181, 182, 183, 184, 185, 186, 187, 188, 190, 192, 193, 194, 196, 197, 198, 199, 200, 201, 202, 203, 210, 211, 221, 223, 224, 232, 234, 235, 236, 237, 238, 239, 240, 241, 242, 243, 244, 245, 246, 247, 248, 249, 250, 251, 252, 253, 254, 255, 256, 259, 260, 261, 262, 263, 264, 265, 266, 267, 268, 270, 271, 272, 273, 274, 275, 276, 277, 278, 279, 280, 281, 282, 283, 284, 285, 286, 287, 288, 289, 290, 291, 292, 293, 294, 295, 296, 297, 298, 299, 300, 301, 302, 303, 304, 305, 306, 307, 308, 309, 310, 311]\n",
      "217\n"
     ]
    }
   ],
   "source": [
    "london_zwickau_p_to_remove_by_bidirectional_similarity = get_indexes_with_bidirectional_similarity(\n",
    "    london_mock,\n",
    "    \n",
    "    thesisDataReader.get_london_by_new_line(),\n",
    "    london_zwickau_best_match_by_p_map,\n",
    "    \n",
    "    thesisDataReader.get_zwickau_by_new_line(),\n",
    "    zwickau_london_best_match_by_p_map\n",
    ")\n",
    "LONDON_INDEXES_TO_REMOVE_SET = LONDON_INDEXES_TO_REMOVE_SET.union(set(london_zwickau_p_to_remove_by_bidirectional_similarity))\n",
    "print(london_zwickau_p_to_remove_by_bidirectional_similarity)\n",
    "print(len(london_zwickau_p_to_remove_by_bidirectional_similarity))"
   ]
  },
  {
   "cell_type": "code",
   "execution_count": 32,
   "id": "61a62f31",
   "metadata": {
    "scrolled": true
   },
   "outputs": [
    {
     "name": "stdout",
     "output_type": "stream",
     "text": [
      "running on 30\n",
      "version_a_p_info {'original': {'index': 30, 'best_match': {'5_gram': (31, 0.5223356917670445)}}, 'without_strong_similar': {'index': 30, 'best_match': {'5_gram': (31, 0.5223356917670445)}}}\n",
      "version_b_p_info {'original': {'index': 31, 'best_match': {'5_gram': (30, 0.5248658504923325)}}, 'without_strong_similar': {'index': 31, 'best_match': {'5_gram': (30, 0.5248658504923325)}}}\n",
      "version_a_p_info_original_best_match_p 31\n",
      "version_b_p_info_original_best_match_p 30\n",
      "version_a_p_info_original_best_match_p == version_b_p_info_original_best_match_p False\n",
      "[1, 2, 3, 4, 5, 6, 7, 8, 9, 10, 11, 13, 14, 16, 18, 19, 20, 22, 24, 25, 26, 27, 28, 29, 30, 31, 33, 35, 36, 39, 40, 41, 42, 43, 46, 50, 51, 53, 54, 55, 56, 58, 59, 63, 64, 65, 66, 67, 69, 73, 74, 79, 80, 81, 82, 86, 87, 88, 92, 93, 94, 96, 100, 103, 104, 106, 107, 108, 109, 112, 113, 114, 115, 116, 117, 118, 120, 121, 122, 123, 124, 125, 128, 129, 130, 136, 137, 138, 140, 141, 142, 145, 148, 151, 153, 154, 156, 160, 166, 168, 169, 170, 171, 172, 173, 174, 175, 176, 177, 178, 179, 180, 181, 182, 183, 184, 185, 186, 187, 190, 191, 192, 193, 194, 195, 196, 197, 199, 202, 203, 212, 214, 215, 226, 228, 231, 232, 233, 234, 235, 236, 237, 238, 239, 240, 241, 242, 243, 244, 245, 246, 247, 248, 249, 250, 251, 252, 253, 254, 256, 257, 258, 259, 260, 261, 262, 263, 268, 269, 271, 272, 273, 274, 276, 277, 278, 279, 280, 281, 282, 283, 284, 285, 286, 287, 288, 289, 290, 291, 292, 293, 294, 295, 296, 297, 298, 299, 300, 301, 302, 303, 304, 305, 306, 307, 308, 309, 310, 311, 312, 313, 314, 315, 316, 317, 318, 319]\n",
      "217\n"
     ]
    }
   ],
   "source": [
    "zwickau_london_p_to_remove_by_bidirectional_similarity = get_indexes_with_bidirectional_similarity(\n",
    "    zwickau_mock,\n",
    "    \n",
    "    thesisDataReader.get_zwickau_by_new_line(),\n",
    "    zwickau_london_best_match_by_p_map,\n",
    "    \n",
    "    thesisDataReader.get_london_by_new_line(),\n",
    "    london_zwickau_best_match_by_p_map\n",
    ")\n",
    "ZWICKAU_INDEXES_TO_REMOVE_SET = ZWICKAU_INDEXES_TO_REMOVE_SET.union(set(zwickau_london_p_to_remove_by_bidirectional_similarity))\n",
    "print(zwickau_london_p_to_remove_by_bidirectional_similarity)\n",
    "print(len(zwickau_london_p_to_remove_by_bidirectional_similarity))"
   ]
  },
  {
   "cell_type": "code",
   "execution_count": null,
   "id": "2c4c2e7a",
   "metadata": {
    "scrolled": true
   },
   "outputs": [],
   "source": [
    "print(len(london_corpus_without_strong_similar))\n",
    "print(len(zwickau_corpus_without_strong_similar))\n",
    "print()\n",
    "\n",
    "london_corpus_without_strong_similar = remove_p_by_indexes(thesisDataReader.get_london_by_new_line(), list(LONDON_INDEXES_TO_REMOVE_SET))\n",
    "zwickau_corpus_without_strong_similar = remove_p_by_indexes(thesisDataReader.get_zwickau_by_new_line(), list(ZWICKAU_INDEXES_TO_REMOVE_SET))\n",
    "\n",
    "print(len(london_corpus_without_strong_similar))\n",
    "print(len(zwickau_corpus_without_strong_similar))"
   ]
  },
  {
   "cell_type": "code",
   "execution_count": null,
   "id": "5391bae9",
   "metadata": {
    "scrolled": true
   },
   "outputs": [],
   "source": [
    "london_zwickau_without_strong_similar_best_similarities = thesisCosineSimilarities.get_cross_version_best_similarities(\n",
    "    london_corpus_without_strong_similar,\n",
    "    zwickau_corpus_without_strong_similar,\n",
    ")"
   ]
  },
  {
   "cell_type": "code",
   "execution_count": null,
   "id": "b18d4873",
   "metadata": {
    "scrolled": true
   },
   "outputs": [],
   "source": [
    "zwickau_london_without_strong_similar_best_similarities = thesisCosineSimilarities.get_cross_version_best_similarities(\n",
    "    zwickau_corpus_without_strong_similar,\n",
    "    london_corpus_without_strong_similar,\n",
    ")"
   ]
  },
  {
   "cell_type": "code",
   "execution_count": null,
   "id": "9113a008",
   "metadata": {
    "scrolled": true
   },
   "outputs": [],
   "source": [
    "london_zwickau_best_match_by_p_map = create_best_match_by_text_map(\n",
    "    thesisDataReader.get_london_by_new_line(),\n",
    "    london_zwickau_original_best_similarities,\n",
    "    london_corpus_without_strong_similar,\n",
    "    london_zwickau_without_strong_similar_best_similarities,\n",
    ")"
   ]
  },
  {
   "cell_type": "code",
   "execution_count": null,
   "id": "bb553c66",
   "metadata": {
    "scrolled": true
   },
   "outputs": [],
   "source": [
    "zwickau_london_best_match_by_p_map = create_best_match_by_text_map(\n",
    "    thesisDataReader.get_zwickau_by_new_line(),\n",
    "    zwickau_london_original_best_similarities,\n",
    "    zwickau_corpus_without_strong_similar,\n",
    "    zwickau_london_without_strong_similar_best_similarities,\n",
    ")"
   ]
  },
  {
   "cell_type": "code",
   "execution_count": null,
   "id": "3cc954bb",
   "metadata": {
    "scrolled": true
   },
   "outputs": [],
   "source": [
    "london_mock = create_similarities_with_mock_for_drop(\n",
    "    thesisDataReader.get_london_by_new_line(),\n",
    "    london_zwickau_best_match_by_p_map,\n",
    ")\n",
    "london_mock"
   ]
  },
  {
   "cell_type": "code",
   "execution_count": null,
   "id": "b5a973b7",
   "metadata": {
    "scrolled": true
   },
   "outputs": [],
   "source": [
    "zwickau_mock = create_similarities_with_mock_for_drop(\n",
    "    thesisDataReader.get_zwickau_by_new_line(),\n",
    "    zwickau_london_best_match_by_p_map,\n",
    ")\n",
    "zwickau_mock"
   ]
  },
  {
   "cell_type": "code",
   "execution_count": null,
   "id": "6789045e",
   "metadata": {
    "scrolled": true
   },
   "outputs": [],
   "source": [
    "fig, ax = plt.subplots(figsize=(35, 5))\n",
    "\n",
    "ax.plot(london_mock, label=\"london_zwickau without strong similar\")\n",
    "ax.plot(zwickau_mock, label=\"zwickau_london without strong similar\")\n",
    "\n",
    "ax.set_ylim([0,1])\n",
    "ax.set_xlim([-5,325])\n",
    "ax.legend()\n",
    "plt.title('Max cross similarity per p')\n",
    "plt.show()"
   ]
  },
  {
   "cell_type": "code",
   "execution_count": null,
   "id": "9a4f8375",
   "metadata": {
    "scrolled": true
   },
   "outputs": [],
   "source": [
    "for i, p in enumerate(london_mock):\n",
    "    print(f'{i} - {p}')"
   ]
  },
  {
   "cell_type": "code",
   "execution_count": null,
   "id": "683a3e13",
   "metadata": {},
   "outputs": [],
   "source": [
    "london_mock"
   ]
  },
  {
   "cell_type": "code",
   "execution_count": null,
   "id": "59087c95",
   "metadata": {},
   "outputs": [],
   "source": [
    "london_mock[44]"
   ]
  },
  {
   "cell_type": "code",
   "execution_count": null,
   "id": "5a722ba8",
   "metadata": {
    "scrolled": true
   },
   "outputs": [],
   "source": [
    "london_zwickau_best_match_by_p_map[thesisDataReader.get_london_by_new_line()[44]]"
   ]
  },
  {
   "cell_type": "code",
   "execution_count": null,
   "id": "ab70ddc6",
   "metadata": {
    "scrolled": true
   },
   "outputs": [],
   "source": [
    "zwickau_london_best_match_by_p_map[thesisDataReader.get_zwickau_by_new_line()[44]]"
   ]
  },
  {
   "cell_type": "markdown",
   "id": "34374002",
   "metadata": {},
   "source": [
    "#### strongly / poorly similar"
   ]
  },
  {
   "cell_type": "code",
   "execution_count": null,
   "id": "27079dc7",
   "metadata": {},
   "outputs": [],
   "source": [
    "london_zwickau_strongly_similar_indexes = [i for i, p in enumerate(london_mock) if p == 0]\n",
    "london_zwickau_poorly_similar_indexes = [i for i, p in enumerate(london_mock) if p > 0]"
   ]
  },
  {
   "cell_type": "code",
   "execution_count": null,
   "id": "c98afe38",
   "metadata": {},
   "outputs": [],
   "source": [
    "print(len(london_zwickau_strongly_similar_indexes))\n",
    "print(len(london_zwickau_poorly_similar_indexes))"
   ]
  },
  {
   "cell_type": "code",
   "execution_count": null,
   "id": "fe064661",
   "metadata": {},
   "outputs": [],
   "source": [
    "london_zwickau_strongly_similar_corpus = [p for i, p in enumerate(thesisDataReader.get_london_by_new_line()) if i in set(london_zwickau_strongly_similar_indexes)]\n",
    "london_zwickau_poorly_similar_corpus = [p for i, p in enumerate(thesisDataReader.get_london_by_new_line()) if i in set(london_zwickau_poorly_similar_indexes)]"
   ]
  },
  {
   "cell_type": "code",
   "execution_count": null,
   "id": "fcc5624d",
   "metadata": {},
   "outputs": [],
   "source": [
    "len(london_zwickau_poorly_similar_corpus)"
   ]
  },
  {
   "cell_type": "code",
   "execution_count": null,
   "id": "a740cea9",
   "metadata": {},
   "outputs": [],
   "source": [
    "zwickau_london_strongly_similar_indexes = [i for i, p in enumerate(zwickau_mock) if p == 0]\n",
    "zwickau_london_poorly_similar_indexes = [i for i, p in enumerate(zwickau_mock) if p > 0]"
   ]
  },
  {
   "cell_type": "code",
   "execution_count": null,
   "id": "53e35a35",
   "metadata": {},
   "outputs": [],
   "source": [
    "print(len(zwickau_london_strongly_similar_indexes))\n",
    "print(len(zwickau_london_poorly_similar_indexes))"
   ]
  },
  {
   "cell_type": "code",
   "execution_count": null,
   "id": "e73fed76",
   "metadata": {},
   "outputs": [],
   "source": [
    "zwickau_london_strongly_similar_corpus = [p for i, p in enumerate(thesisDataReader.get_zwickau_by_new_line()) if i in set(zwickau_london_strongly_similar_indexes)]\n",
    "zwickau_london_poorly_similar_corpus = [p for i, p in enumerate(thesisDataReader.get_zwickau_by_new_line()) if i in set(zwickau_london_poorly_similar_indexes)]"
   ]
  },
  {
   "cell_type": "code",
   "execution_count": null,
   "id": "eaa1d2f6",
   "metadata": {},
   "outputs": [],
   "source": [
    "london_zwickau_strongly_similar_best_similarities = thesisCosineSimilarities.get_cross_version_best_similarities(\n",
    "    london_zwickau_strongly_similar_corpus,\n",
    "    zwickau_london_strongly_similar_corpus,\n",
    ")"
   ]
  },
  {
   "cell_type": "code",
   "execution_count": null,
   "id": "dafabe75",
   "metadata": {},
   "outputs": [],
   "source": [
    "zwickau_london_strongly_similar_best_similarities = thesisCosineSimilarities.get_cross_version_best_similarities(\n",
    "    zwickau_london_strongly_similar_corpus,\n",
    "    london_zwickau_strongly_similar_corpus,\n",
    ")"
   ]
  },
  {
   "cell_type": "code",
   "execution_count": null,
   "id": "8095f50e",
   "metadata": {},
   "outputs": [],
   "source": [
    "fig, ax = plt.subplots(figsize=(35, 5))\n",
    "\n",
    "ax.plot([i['5_gram'][1] for i in london_zwickau_strongly_similar_best_similarities], label=\"london_zwickau\")\n",
    "ax.plot([i['5_gram'][1] for i in zwickau_london_strongly_similar_best_similarities], label=\"zwickau_london\")\n",
    "\n",
    "ax.set_ylim([0,1])\n",
    "ax.set_xlim([-5,240])\n",
    "ax.legend()\n",
    "plt.title('Max cross similarity per p')\n",
    "plt.show()"
   ]
  },
  {
   "cell_type": "code",
   "execution_count": null,
   "id": "7c98b4de",
   "metadata": {},
   "outputs": [],
   "source": [
    "london_zwickau_poorly_similar_best_similarities = thesisCosineSimilarities.get_cross_version_best_similarities(\n",
    "    london_zwickau_poorly_similar_corpus,\n",
    "    zwickau_london_poorly_similar_corpus,\n",
    ")"
   ]
  },
  {
   "cell_type": "code",
   "execution_count": null,
   "id": "166cbf51",
   "metadata": {},
   "outputs": [],
   "source": [
    "zwickau_london_poorly_similar_best_similarities = thesisCosineSimilarities.get_cross_version_best_similarities(\n",
    "    zwickau_london_poorly_similar_corpus,\n",
    "    london_zwickau_poorly_similar_corpus,\n",
    ")"
   ]
  },
  {
   "cell_type": "code",
   "execution_count": null,
   "id": "edb1b505",
   "metadata": {},
   "outputs": [],
   "source": [
    "fig, ax = plt.subplots(figsize=(35, 5))\n",
    "\n",
    "ax.plot([i['5_gram'][1] for i in london_zwickau_poorly_similar_best_similarities], label=\"london_zwickau\")\n",
    "ax.plot([i['5_gram'][1] for i in zwickau_london_poorly_similar_best_similarities], label=\"zwickau_london\")\n",
    "\n",
    "ax.set_ylim([0,1])\n",
    "ax.set_xlim([-5,120])\n",
    "ax.legend()\n",
    "plt.title('Max cross similarity per p')\n",
    "plt.show()"
   ]
  },
  {
   "cell_type": "code",
   "execution_count": null,
   "id": "77b39207",
   "metadata": {},
   "outputs": [],
   "source": [
    "london_breslau_strongly_similar_best_similarities = thesisCosineSimilarities.get_cross_version_best_similarities(\n",
    "    london_zwickau_strongly_similar_corpus,\n",
    "    thesisDataReader.get_breslau_by_new_line(),\n",
    ")\n",
    "london_breslau_poorly_similar_best_similarities = thesisCosineSimilarities.get_cross_version_best_similarities(\n",
    "    london_zwickau_poorly_similar_corpus,\n",
    "    thesisDataReader.get_breslau_by_new_line(),\n",
    ")"
   ]
  },
  {
   "cell_type": "code",
   "execution_count": null,
   "id": "3f852a1a",
   "metadata": {},
   "outputs": [],
   "source": [
    "fig, ax = plt.subplots(figsize=(35, 5))\n",
    "\n",
    "ax.plot([i['5_gram'][1] for i in london_breslau_strongly_similar_best_similarities], label=\"strongly\")\n",
    "ax.plot([i['5_gram'][1] for i in london_breslau_poorly_similar_best_similarities], label=\"poorly\")\n",
    "\n",
    "ax.set_ylim([0,1])\n",
    "ax.set_xlim([-5,120])\n",
    "ax.legend()\n",
    "plt.title('Max cross similarity per p')\n",
    "plt.show()"
   ]
  },
  {
   "cell_type": "code",
   "execution_count": null,
   "id": "f535a5f5",
   "metadata": {},
   "outputs": [],
   "source": [
    "zwickau_breslau_strongly_similar_best_similarities = thesisCosineSimilarities.get_cross_version_best_similarities(\n",
    "    zwickau_london_strongly_similar_corpus,\n",
    "    thesisDataReader.get_breslau_by_new_line(),\n",
    ")\n",
    "zwickau_breslau_poorly_similar_best_similarities = thesisCosineSimilarities.get_cross_version_best_similarities(\n",
    "    zwickau_london_poorly_similar_corpus,\n",
    "    thesisDataReader.get_breslau_by_new_line(),\n",
    ")"
   ]
  },
  {
   "cell_type": "code",
   "execution_count": null,
   "id": "b3270ab2",
   "metadata": {},
   "outputs": [],
   "source": [
    "fig, ax = plt.subplots(figsize=(35, 5))\n",
    "\n",
    "ax.plot([i['5_gram'][1] for i in zwickau_breslau_strongly_similar_best_similarities], label=\"strongly\")\n",
    "ax.plot([i['5_gram'][1] for i in zwickau_breslau_poorly_similar_best_similarities], label=\"poorly\")\n",
    "\n",
    "ax.set_ylim([0,1])\n",
    "ax.set_xlim([-5,120])\n",
    "ax.legend()\n",
    "plt.title('Max cross similarity per p')\n",
    "plt.show()"
   ]
  },
  {
   "cell_type": "markdown",
   "id": "261194c0",
   "metadata": {},
   "source": [
    "#### p aligment"
   ]
  },
  {
   "cell_type": "code",
   "execution_count": null,
   "id": "7c6d3e4e",
   "metadata": {},
   "outputs": [],
   "source": [
    "london_zwickau_breslau_strongly_similar_p_aligment_df = thesisPAligment.create_london_p_aligment(\n",
    "    london_zwickau_strongly_similar_corpus,\n",
    "    zwickau_london_strongly_similar_corpus,\n",
    "    london_zwickau_strongly_similar_best_similarities,\n",
    "    thesisDataReader.get_breslau_by_new_line(),\n",
    "    london_breslau_strongly_similar_best_similarities,\n",
    ")"
   ]
  },
  {
   "cell_type": "code",
   "execution_count": null,
   "id": "d56a707c",
   "metadata": {},
   "outputs": [],
   "source": [
    "london_zwickau_breslau_strongly_similar_p_aligment_df"
   ]
  },
  {
   "cell_type": "code",
   "execution_count": null,
   "id": "8630a8b7",
   "metadata": {
    "scrolled": true
   },
   "outputs": [],
   "source": [
    "london_zwickau_breslau_strongly_similar_p_aligment_df.to_csv('../computed_data/p_aligment/by_new_line/strongly_similar/london_zwickau_breslau.csv')"
   ]
  },
  {
   "cell_type": "code",
   "execution_count": null,
   "id": "2c456151",
   "metadata": {},
   "outputs": [],
   "source": [
    "zwickau_london_strongly_similar_corpus"
   ]
  },
  {
   "cell_type": "code",
   "execution_count": null,
   "id": "f08f9052",
   "metadata": {},
   "outputs": [],
   "source": [
    "zwickau_london_breslau_strongly_similar_p_aligment_df = thesisPAligment.create_zwickau_p_aligment(\n",
    "    zwickau_london_strongly_similar_corpus,\n",
    "    london_zwickau_strongly_similar_corpus,\n",
    "    zwickau_london_strongly_similar_best_similarities,\n",
    "    thesisDataReader.get_breslau_by_new_line(),\n",
    "    zwickau_breslau_strongly_similar_best_similarities,\n",
    ")"
   ]
  },
  {
   "cell_type": "code",
   "execution_count": null,
   "id": "c9d5e799",
   "metadata": {},
   "outputs": [],
   "source": [
    "zwickau_london_breslau_strongly_similar_p_aligment_df"
   ]
  },
  {
   "cell_type": "code",
   "execution_count": null,
   "id": "6456b799",
   "metadata": {},
   "outputs": [],
   "source": [
    "zwickau_london_breslau_strongly_similar_p_aligment_df.to_csv('../computed_data/p_aligment/by_new_line/strongly_similar/zwickau_london_breslau.csv')"
   ]
  },
  {
   "cell_type": "code",
   "execution_count": null,
   "id": "a3c520b4",
   "metadata": {},
   "outputs": [],
   "source": [
    "breslau_london_zwickau_strongly_similar_p_aligment_df = thesisPAligment.create_breslau_p_aligment(\n",
    "    thesisDataReader.get_breslau_by_new_line(),\n",
    "    zwickau_london_strongly_similar_corpus,\n",
    "    thesisCosineSimilarities.get_cross_version_best_similarities(\n",
    "        thesisDataReader.get_breslau_by_new_line(),\n",
    "        zwickau_london_strongly_similar_corpus\n",
    "    ),\n",
    "    london_zwickau_strongly_similar_corpus,\n",
    "    thesisCosineSimilarities.get_cross_version_best_similarities(\n",
    "        thesisDataReader.get_breslau_by_new_line(),\n",
    "        london_zwickau_strongly_similar_corpus\n",
    "    ),\n",
    ")"
   ]
  },
  {
   "cell_type": "code",
   "execution_count": null,
   "id": "4a7529fe",
   "metadata": {},
   "outputs": [],
   "source": [
    "breslau_london_zwickau_strongly_similar_p_aligment_df"
   ]
  },
  {
   "cell_type": "code",
   "execution_count": null,
   "id": "7afe974d",
   "metadata": {},
   "outputs": [],
   "source": [
    "breslau_london_zwickau_strongly_similar_p_aligment_df.to_csv('../computed_data/p_aligment/by_new_line/strongly_similar/breslau_london_zwickau.csv')"
   ]
  },
  {
   "cell_type": "code",
   "execution_count": null,
   "id": "c1e0763e",
   "metadata": {},
   "outputs": [],
   "source": [
    "london_zwickau_breslau_poorly_similar_p_aligment_df = thesisPAligment.create_london_p_aligment(\n",
    "    london_zwickau_poorly_similar_corpus,\n",
    "    zwickau_london_poorly_similar_corpus,\n",
    "    london_zwickau_poorly_similar_best_similarities,\n",
    "    thesisDataReader.get_breslau_by_new_line(),\n",
    "    london_breslau_poorly_similar_best_similarities,\n",
    ")"
   ]
  },
  {
   "cell_type": "code",
   "execution_count": null,
   "id": "70a96797",
   "metadata": {},
   "outputs": [],
   "source": [
    "london_zwickau_breslau_poorly_similar_p_aligment_df"
   ]
  },
  {
   "cell_type": "code",
   "execution_count": null,
   "id": "035a893a",
   "metadata": {},
   "outputs": [],
   "source": [
    "london_zwickau_breslau_poorly_similar_p_aligment_df.to_csv('../computed_data/p_aligment/by_new_line/poorly_similar/london_zwickau_breslau.csv')"
   ]
  },
  {
   "cell_type": "code",
   "execution_count": null,
   "id": "e294b27e",
   "metadata": {},
   "outputs": [],
   "source": [
    "zwickau_london_breslau_poorly_similar_p_aligment_df = thesisPAligment.create_zwickau_p_aligment(\n",
    "    zwickau_london_poorly_similar_corpus,\n",
    "    london_zwickau_poorly_similar_corpus,\n",
    "    zwickau_london_poorly_similar_best_similarities,\n",
    "    thesisDataReader.get_breslau_by_new_line(),\n",
    "    zwickau_breslau_poorly_similar_best_similarities,\n",
    ")"
   ]
  },
  {
   "cell_type": "code",
   "execution_count": null,
   "id": "ba028241",
   "metadata": {},
   "outputs": [],
   "source": [
    "zwickau_london_breslau_poorly_similar_p_aligment_df"
   ]
  },
  {
   "cell_type": "code",
   "execution_count": null,
   "id": "cc4e3ca4",
   "metadata": {},
   "outputs": [],
   "source": [
    "zwickau_london_breslau_poorly_similar_p_aligment_df.to_csv('../computed_data/p_aligment/by_new_line/poorly_similar/zwickau_london_breslau.csv')"
   ]
  },
  {
   "cell_type": "code",
   "execution_count": null,
   "id": "95f14dd2",
   "metadata": {},
   "outputs": [],
   "source": [
    "breslau_london_zwickau_poorly_similar_p_aligment_df = thesisPAligment.create_breslau_p_aligment(\n",
    "    thesisDataReader.get_breslau_by_new_line(),\n",
    "    zwickau_london_poorly_similar_corpus,\n",
    "    thesisCosineSimilarities.get_cross_version_best_similarities(\n",
    "        thesisDataReader.get_breslau_by_new_line(),\n",
    "        zwickau_london_poorly_similar_corpus\n",
    "    ),\n",
    "    london_zwickau_poorly_similar_corpus,\n",
    "    thesisCosineSimilarities.get_cross_version_best_similarities(\n",
    "        thesisDataReader.get_breslau_by_new_line(),\n",
    "        london_zwickau_poorly_similar_corpus\n",
    "    ),\n",
    ")"
   ]
  },
  {
   "cell_type": "code",
   "execution_count": null,
   "id": "75d29e58",
   "metadata": {},
   "outputs": [],
   "source": [
    "breslau_london_zwickau_poorly_similar_p_aligment_df"
   ]
  },
  {
   "cell_type": "code",
   "execution_count": null,
   "id": "ed76053d",
   "metadata": {},
   "outputs": [],
   "source": [
    "breslau_london_zwickau_poorly_similar_p_aligment_df.to_csv('../computed_data/p_aligment/by_new_line/poorly_similar/breslau_london_zwickau.csv')"
   ]
  },
  {
   "cell_type": "code",
   "execution_count": null,
   "id": "37c941ad",
   "metadata": {
    "scrolled": true
   },
   "outputs": [],
   "source": [
    "# london_breslau_best_match_by_p_map = create_best_match_by_text_map(\n",
    "#     thesisDataReader.get_london_by_new_line(),\n",
    "#     london_breslau_original_best_similarities,\n",
    "#     london_corpus_without_strong_similar,\n",
    "#     london_breslau_full_remove_best_similarities,\n",
    "# )"
   ]
  },
  {
   "cell_type": "code",
   "execution_count": null,
   "id": "683d5783",
   "metadata": {
    "scrolled": true
   },
   "outputs": [],
   "source": [
    "# len(zwickau_london_full_remove_best_similarities)"
   ]
  },
  {
   "cell_type": "code",
   "execution_count": null,
   "id": "ffb25f38",
   "metadata": {
    "scrolled": true
   },
   "outputs": [],
   "source": [
    "# london_breslau_mock = []\n",
    "\n",
    "# for index, text in enumerate(thesisDataReader.get_london_by_new_line()):\n",
    "#     text_info = london_breslau_best_match_by_p_map[text]\n",
    "#     similarity_score = 0 if text_info.get('without_strong_similar') is None else text_info['without_strong_similar']['best_match']['5_gram'][1]\n",
    "#     london_breslau_mock.append(similarity_score)"
   ]
  },
  {
   "cell_type": "code",
   "execution_count": null,
   "id": "375aa3de",
   "metadata": {
    "scrolled": true
   },
   "outputs": [],
   "source": [
    "# fig, ax = plt.subplots(figsize=(35, 5))\n",
    "\n",
    "# ax.plot([i['5_gram'][1] for i in london_breslau_original_best_similarities], label=\"london_breslau original\")\n",
    "# # ax.plot([i['5_gram'][1] for i in london_breslau_full_remove_best_similarities], label=\"london_breslau without strong similar\")\n",
    "# ax.plot(london_breslau_mock, label=\"london_breslau without strong similar\")\n",
    "\n",
    "# ax.set_ylim([0,1])\n",
    "# ax.set_xlim([-5,320])\n",
    "# ax.legend()\n",
    "# plt.title('Max cross similarity per p')\n",
    "# plt.show()"
   ]
  },
  {
   "cell_type": "code",
   "execution_count": null,
   "id": "22113373",
   "metadata": {
    "scrolled": true
   },
   "outputs": [],
   "source": [
    "# zwickau_mock = []\n",
    "\n",
    "# for index, text in enumerate(thesisDataReader.get_zwickau_by_new_line()):\n",
    "#     text_info = zwickau_london_best_match_by_p_map[text]\n",
    "#     similarity_score = 0 if text_info.get('without_strong_similar') is None else text_info['without_strong_similar']['best_match']['5_gram'][1]\n",
    "#     zwickau_mock.append(similarity_score)"
   ]
  },
  {
   "cell_type": "code",
   "execution_count": null,
   "id": "0452710b",
   "metadata": {
    "scrolled": true
   },
   "outputs": [],
   "source": [
    "# fig, ax = plt.subplots(figsize=(35, 5))\n",
    "\n",
    "# ax.plot([i['5_gram'][1] for i in zwickau_london_original_best_similarities], label=\"zwickau_london original\")\n",
    "# ax.plot(zwickau_mock, label=\"zwickau_london without strong similar\")\n",
    "\n",
    "# ax.set_ylim([0,1])\n",
    "# ax.set_xlim([-5,325])\n",
    "# ax.legend()\n",
    "# plt.title('Max cross similarity per p')\n",
    "# plt.show()"
   ]
  },
  {
   "cell_type": "code",
   "execution_count": null,
   "id": "fd806e3d",
   "metadata": {
    "scrolled": true
   },
   "outputs": [],
   "source": [
    "# fig, ax = plt.subplots(figsize=(35, 5))\n",
    "\n",
    "# ax.plot(london_mock, label=\"london_zwickau without strong similar\")\n",
    "# ax.plot(zwickau_mock, label=\"zwickau_london without strong similar\")\n",
    "\n",
    "# ax.set_ylim([0,1])\n",
    "# ax.set_xlim([-5,325])\n",
    "# ax.legend()\n",
    "# plt.title('Max cross similarity per p')\n",
    "# plt.show()"
   ]
  },
  {
   "cell_type": "code",
   "execution_count": null,
   "id": "01c76221",
   "metadata": {
    "scrolled": true
   },
   "outputs": [],
   "source": [
    "# related = []\n",
    "# for i, p in enumerate(london_mock):\n",
    "#     if p > 0:\n",
    "#         london_p_info = london_zwickau_best_match_by_p_map[thesisDataReader.get_london_by_new_line()[i]]\n",
    "#         london_p_info_original = london_p_info['original']\n",
    "#         london_p_info_original_best_match_p = london_p_info_original['best_match']['5_gram'][0]\n",
    "        \n",
    "#         zwickau_p_info = zwickau_london_best_match_by_p_map[thesisDataReader.get_zwickau_by_new_line()[london_p_info_original_best_match_p]]\n",
    "#         zwickau_p_info_original = zwickau_p_info['original']\n",
    "#         zwickau_p_info_original_best_match_p = zwickau_p_info_original['best_match']['5_gram'][0]\n",
    "        \n",
    "#         if london_p_info_original_best_match_p == zwickau_p_info_original_best_match_p:\n",
    "#             related.append(i)\n",
    "# print(related)\n",
    "# print(len(related))"
   ]
  },
  {
   "cell_type": "code",
   "execution_count": null,
   "id": "4a7751f4",
   "metadata": {
    "scrolled": true
   },
   "outputs": [],
   "source": [
    "# related = []\n",
    "# # for i, p in enumerate(london_mock):\n",
    "# #     if p > 0:\n",
    "# #         london_p_info = london_zwickau_best_match_by_p_map[thesisDataReader.get_london_by_new_line()[i]]\n",
    "# #         london_p_info_original = london_p_info['original']\n",
    "# #         london_p_info_original_best_match_p = london_p_info_original['best_match']['5_gram'][0]\n",
    "# #         london_p_info_original_best_match_score = london_p_info_original['best_match']['5_gram'][1]\n",
    "        \n",
    "# #         zwickau_p_info = zwickau_london_best_match_by_p_map[thesisDataReader.get_zwickau_by_new_line()[london_p_info_original_best_match_p]]\n",
    "# #         zwickau_p_info_original = zwickau_p_info['original']\n",
    "# #         zwickau_p_info_original_best_match_p = zwickau_p_info_original['best_match']['5_gram'][0]\n",
    "# #         zwickau_p_info_original_best_match_score = zwickau_p_info_original['best_match']['5_gram'][1]\n",
    "        \n",
    "# #         if london_p_info_original_best_match_p == zwickau_p_info_original_best_match_p and (zwickau_p_info_original_best_match_score > 0.5 and london_p_info_original_best_match_score > 0.5):\n",
    "# #             related.append(i)\n",
    "# #             print('london_p_info_original_best_match_score', london_p_info_original_best_match_score)\n",
    "# #             print('zwickau_p_info_original_best_match_score', zwickau_p_info_original_best_match_score)\n",
    "# print(related)\n",
    "# print(len(related))"
   ]
  },
  {
   "cell_type": "code",
   "execution_count": null,
   "id": "25bce2ba",
   "metadata": {
    "scrolled": true
   },
   "outputs": [],
   "source": [
    "# london_zwickau_best_match_by_p_map[thesisDataReader.get_london_by_new_line()[22]]"
   ]
  },
  {
   "cell_type": "code",
   "execution_count": null,
   "id": "4a6b33ef",
   "metadata": {
    "scrolled": true
   },
   "outputs": [],
   "source": [
    "# zwickau_london_best_match_by_p_map[thesisDataReader.get_zwickau_by_new_line()[11]]"
   ]
  },
  {
   "cell_type": "code",
   "execution_count": null,
   "id": "2ee0f2b6",
   "metadata": {
    "scrolled": true
   },
   "outputs": [],
   "source": [
    "# london_zwickau_strongly_similar_p = [i for i, p in enumerate(london_mock) if p == 0]\n",
    "# london_zwickau_poorly_similar_p = [i for i, p in enumerate(london_mock) if p > 0]\n",
    "# print('strongly similar amount',len(london_zwickau_strongly_similar_p))\n",
    "# print('poorly similar amount', len(london_zwickau_poorly_similar_p))"
   ]
  },
  {
   "cell_type": "code",
   "execution_count": null,
   "id": "fd671d97",
   "metadata": {
    "scrolled": true
   },
   "outputs": [],
   "source": [
    "# zwickau_london_strongly_similar_p = [i for i, p in enumerate(zwickau_mock) if p == 0]\n",
    "# zwickau_london_poorly_similar_p = [i for i, p in enumerate(zwickau_mock) if p > 0]\n",
    "# print('strongly similar amount',len(zwickau_london_strongly_similar_p))\n",
    "# print('poorly similar amount', len(zwickau_london_poorly_similar_p))"
   ]
  },
  {
   "cell_type": "code",
   "execution_count": null,
   "id": "1bfa42cc",
   "metadata": {
    "scrolled": true
   },
   "outputs": [],
   "source": [
    "# zwickau_breslau_original_best_similarities = thesisCosineSimilarities.get_cross_version_best_similarities(\n",
    "#     thesisDataReader.get_zwickau_by_new_line(),\n",
    "#     thesisDataReader.get_breslau_by_new_line(),\n",
    "# )"
   ]
  },
  {
   "cell_type": "code",
   "execution_count": null,
   "id": "5c9baa7e",
   "metadata": {
    "scrolled": true
   },
   "outputs": [],
   "source": [
    "# zwickau_breslau_full_remove_best_similarities = thesisCosineSimilarities.get_cross_version_best_similarities(\n",
    "#     zwickau_corpus_without_strong_similar,\n",
    "#     thesisDataReader.get_breslau_by_new_line(),\n",
    "# )"
   ]
  },
  {
   "cell_type": "code",
   "execution_count": null,
   "id": "e638bb32",
   "metadata": {
    "scrolled": true
   },
   "outputs": [],
   "source": [
    "# zwickau_breslau_best_match_by_p_map = create_best_match_by_text_map(\n",
    "#     thesisDataReader.get_zwickau_by_new_line(),\n",
    "#     zwickau_breslau_original_best_similarities,\n",
    "#     zwickau_corpus_without_strong_similar,\n",
    "#     zwickau_breslau_full_remove_best_similarities,\n",
    "# )"
   ]
  },
  {
   "cell_type": "code",
   "execution_count": null,
   "id": "8ca7147e",
   "metadata": {
    "scrolled": true
   },
   "outputs": [],
   "source": [
    "# zwickau_breslau_mock = []\n",
    "\n",
    "# for index, text in enumerate(thesisDataReader.get_zwickau_by_new_line()):\n",
    "#     text_info = zwickau_breslau_best_match_by_p_map[text]\n",
    "#     similarity_score = 0 if text_info.get('without_strong_similar') is None else text_info['without_strong_similar']['best_match']['5_gram'][1]\n",
    "#     zwickau_breslau_mock.append(similarity_score)"
   ]
  },
  {
   "cell_type": "code",
   "execution_count": null,
   "id": "69cfcf1e",
   "metadata": {
    "scrolled": true
   },
   "outputs": [],
   "source": [
    "# fig, ax = plt.subplots(figsize=(35, 5))\n",
    "\n",
    "# ax.plot([i['5_gram'][1] for i in zwickau_breslau_original_best_similarities], label=\"zwickau_breslau original\")\n",
    "# # ax.plot([i['5_gram'][1] for i in london_breslau_full_remove_best_similarities], label=\"london_breslau without strong similar\")\n",
    "# ax.plot(zwickau_breslau_mock, label=\"zwickau_breslau without strong similar\")\n",
    "\n",
    "# ax.set_ylim([0,1])\n",
    "# ax.set_xlim([-5,325])\n",
    "# ax.legend()\n",
    "# plt.title('Max cross similarity per p')\n",
    "# plt.show()"
   ]
  },
  {
   "cell_type": "code",
   "execution_count": null,
   "id": "502439ff",
   "metadata": {
    "scrolled": true
   },
   "outputs": [],
   "source": [
    "# fig, ax = plt.subplots(figsize=(35, 5))\n",
    "\n",
    "# ax.plot([i['5_gram'][1] for i in zwickau_breslau_original_best_similarities], label=\"zwickau_breslau original\")\n",
    "# ax.plot([i['5_gram'][1] for i in london_breslau_original_best_similarities], label=\"london_breslau original\")\n",
    "\n",
    "# ax.set_ylim([0,1])\n",
    "# ax.set_xlim([-5,325])\n",
    "# ax.legend()\n",
    "# plt.title('Max cross similarity per p')\n",
    "# plt.show()"
   ]
  },
  {
   "cell_type": "code",
   "execution_count": null,
   "id": "a7fd7431",
   "metadata": {
    "scrolled": true
   },
   "outputs": [],
   "source": [
    "# fig, ax = plt.subplots(figsize=(35, 5))\n",
    "\n",
    "# ax.plot(zwickau_breslau_mock, label=\"zwickau_breslau without most similart\")\n",
    "# ax.plot(london_breslau_mock, label=\"london_breslau without most similar\")\n",
    "\n",
    "# ax.set_ylim([0,1])\n",
    "# ax.set_xlim([-5,325])\n",
    "# ax.legend()\n",
    "# plt.title('Max cross similarity per p')\n",
    "# plt.show()"
   ]
  },
  {
   "cell_type": "markdown",
   "id": "a361b500",
   "metadata": {
    "scrolled": true
   },
   "source": [
    "# Create poorly similar corpus with chops"
   ]
  },
  {
   "cell_type": "code",
   "execution_count": null,
   "id": "81b14e97",
   "metadata": {
    "scrolled": true
   },
   "outputs": [],
   "source": [
    "london_poorly_similar_corpus_with_gaps = [p if london_mock[i] > 0 else None for i, p in enumerate(thesisDataReader.get_london_by_new_line())]\n",
    "zwickau_poorly_similar_corpus_with_gaps = [p if zwickau_mock[i] > 0 else None for i, p in enumerate(thesisDataReader.get_zwickau_by_new_line())]"
   ]
  },
  {
   "cell_type": "code",
   "execution_count": null,
   "id": "17f677c5",
   "metadata": {},
   "outputs": [],
   "source": [
    "len(list(filter(lambda x: x > 0, london_mock)))"
   ]
  },
  {
   "cell_type": "code",
   "execution_count": null,
   "id": "fcd1b7f9",
   "metadata": {},
   "outputs": [],
   "source": [
    "len(list(filter(lambda x: x > 0, zwickau_mock)))"
   ]
  },
  {
   "cell_type": "code",
   "execution_count": null,
   "id": "4e2a0df1",
   "metadata": {},
   "outputs": [],
   "source": [
    "np.save(\n",
    "    '../computed_data/corpus/london/london_poorly_similar_corpus_with_gaps.npy',\n",
    "    np.array(london_poorly_similar_corpus_with_gaps)\n",
    ")\n",
    "np.save(\n",
    "    '../computed_data/corpus/zwickau/zwickau_poorly_similar_corpus_with_gaps.npy',\n",
    "    np.array(zwickau_poorly_similar_corpus_with_gaps)\n",
    ")"
   ]
  },
  {
   "cell_type": "code",
   "execution_count": null,
   "id": "10b53eb8",
   "metadata": {},
   "outputs": [],
   "source": [
    "london_zwickau_breslau_p_aligment = pd.read_csv('../computed_data/p_aligment/by_new_line/london_zwickau_breslau.csv').drop(['Unnamed: 0'], axis=1)\n",
    "zwickau_london_breslau_p_aligment = pd.read_csv('../computed_data/p_aligment/by_new_line/zwickau_london_breslau.csv').drop(['Unnamed: 0'], axis=1)"
   ]
  },
  {
   "cell_type": "code",
   "execution_count": null,
   "id": "58d13070",
   "metadata": {},
   "outputs": [],
   "source": [
    "london_zwickau_breslau_p_aligment"
   ]
  },
  {
   "cell_type": "code",
   "execution_count": null,
   "id": "73ab7438",
   "metadata": {},
   "outputs": [],
   "source": [
    "p_aligment_with_chop_by_london_by_order = thesisPAligment.create_p_aligment_df_with_chop_by_london(london_zwickau_breslau_p_aligment).iloc[london_zwickau_strongly_similar_indexes]"
   ]
  },
  {
   "cell_type": "code",
   "execution_count": null,
   "id": "7bd81862",
   "metadata": {},
   "outputs": [],
   "source": [
    "p_aligment_with_chop_by_london_by_order"
   ]
  },
  {
   "cell_type": "code",
   "execution_count": null,
   "id": "51d982e9",
   "metadata": {},
   "outputs": [],
   "source": [
    "london_exceptional_corpus = [ p if p is not None else p_aligment_with_chop_by_london_by_order.loc[i]['london chop'] for i, p in enumerate(london_poorly_similar_corpus_with_gaps)]"
   ]
  },
  {
   "cell_type": "code",
   "execution_count": null,
   "id": "9dad7f1d",
   "metadata": {},
   "outputs": [],
   "source": [
    "zwickau_exceptional_corpus = [ p if p is not None else p_aligment_with_chop_by_london_by_order.loc[p_aligment_with_chop_by_order['zwickau p#'] == i]['zwickau chop'].values[0] for i, p in enumerate(zwickau_poorly_similar_corpus_with_gaps)]"
   ]
  },
  {
   "cell_type": "code",
   "execution_count": null,
   "id": "383222f3",
   "metadata": {},
   "outputs": [],
   "source": [
    "with open(\"../computed_data/corpus/london/london_poorly_similar_with_chops.txt\", \"w\") as text_file:\n",
    "    text_file.write('\\n'.join(london_exceptional_corpus))"
   ]
  },
  {
   "cell_type": "code",
   "execution_count": null,
   "id": "5eb0ebf1",
   "metadata": {},
   "outputs": [],
   "source": [
    "len(''.join(london_exceptional_corpus).split())"
   ]
  },
  {
   "cell_type": "code",
   "execution_count": null,
   "id": "84901d22",
   "metadata": {},
   "outputs": [],
   "source": [
    "np.save(\n",
    "    '../computed_data/corpus/london/london_poorly_similar_with_chops.npy',\n",
    "    np.array(london_exceptional_corpus)\n",
    ")"
   ]
  },
  {
   "cell_type": "code",
   "execution_count": null,
   "id": "cd10c9bd",
   "metadata": {},
   "outputs": [],
   "source": [
    "with open(\"../computed_data/corpus/zwickau/zwickau_poorly_similar_with_chops.txt\", \"w\") as text_file:\n",
    "    text_file.write('\\n'.join(zwickau_exceptional_corpus))"
   ]
  },
  {
   "cell_type": "code",
   "execution_count": null,
   "id": "80bc4abc",
   "metadata": {},
   "outputs": [],
   "source": [
    "len(''.join(zwickau_exceptional_corpus).split())"
   ]
  },
  {
   "cell_type": "code",
   "execution_count": null,
   "id": "4f74bd9b",
   "metadata": {},
   "outputs": [],
   "source": [
    "np.save(\n",
    "    '../computed_data/corpus/zwickau/zwickau_poorly_similar_with_chops.npy',\n",
    "    np.array(zwickau_exceptional_corpus)\n",
    ")"
   ]
  },
  {
   "cell_type": "code",
   "execution_count": null,
   "id": "cac8546c",
   "metadata": {},
   "outputs": [],
   "source": [
    "london_exceptional_corpus[246]"
   ]
  },
  {
   "cell_type": "code",
   "execution_count": null,
   "id": "6aa33825",
   "metadata": {},
   "outputs": [],
   "source": [
    "len(thesisDataReader.get_london_by_new_line())"
   ]
  },
  {
   "cell_type": "code",
   "execution_count": null,
   "id": "cde8c9ad",
   "metadata": {},
   "outputs": [],
   "source": [
    "len(zwickau_exceptional_corpus)"
   ]
  },
  {
   "cell_type": "code",
   "execution_count": null,
   "id": "56718617",
   "metadata": {},
   "outputs": [],
   "source": [
    "len(thesisDataReader.get_zwickau_by_new_line())"
   ]
  },
  {
   "cell_type": "code",
   "execution_count": null,
   "id": "dafd9110",
   "metadata": {},
   "outputs": [],
   "source": [
    "p_aligment_with_chop_by_london_by_order.loc[246]"
   ]
  },
  {
   "cell_type": "code",
   "execution_count": null,
   "id": "a59a659c",
   "metadata": {},
   "outputs": [],
   "source": [
    "london_without_shared_words = 'get inde ad leucas non longe a mari est get ciuitas una de ciuitatibus pilistinorum que nunc ibilim dicitur et est modica ualde in cole sita'\n",
    "word = 'get'\n",
    "re.sub(r'\\b' + word + r'\\b', '', london_without_shared_words, count = 1).replace('  ', ' ').strip()"
   ]
  },
  {
   "cell_type": "code",
   "execution_count": null,
   "id": "6ece3b36",
   "metadata": {},
   "outputs": [],
   "source": []
  },
  {
   "cell_type": "code",
   "execution_count": null,
   "id": "f20dd9df",
   "metadata": {},
   "outputs": [],
   "source": [
    "thesisDataReader.get_zwickau_by_new_line()[318]"
   ]
  },
  {
   "cell_type": "code",
   "execution_count": null,
   "id": "ec9c6acb",
   "metadata": {},
   "outputs": [],
   "source": []
  }
 ],
 "metadata": {
  "kernelspec": {
   "display_name": "Python 3",
   "language": "python",
   "name": "python3"
  },
  "language_info": {
   "codemirror_mode": {
    "name": "ipython",
    "version": 3
   },
   "file_extension": ".py",
   "mimetype": "text/x-python",
   "name": "python",
   "nbconvert_exporter": "python",
   "pygments_lexer": "ipython3",
   "version": "3.8.8"
  }
 },
 "nbformat": 4,
 "nbformat_minor": 5
}
