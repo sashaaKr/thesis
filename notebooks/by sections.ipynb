{
 "cells": [
  {
   "cell_type": "code",
   "execution_count": 44,
   "id": "5c82dc2c",
   "metadata": {},
   "outputs": [],
   "source": [
    "# some manual processing that i did on text:\n",
    "# convert docx to txt format\n",
    "# remove footer from txt file\n",
    "# remove header in english from txt file\n",
    "\n",
    "import os\n",
    "import re\n",
    "import imp\n",
    "import json\n",
    "import nltk\n",
    "import numpy as np\n",
    "from numpy import savetxt\n",
    "import pandas as pd\n",
    "import matplotlib.pyplot as plt\n",
    "\n",
    "from gensim import corpora\n",
    "from nltk.util import ngrams\n",
    "from collections import Counter\n",
    "from nltk.tokenize import RegexpTokenizer\n",
    "from sklearn.feature_extraction.text import CountVectorizer\n",
    "from sklearn.metrics.pairwise import cosine_similarity"
   ]
  },
  {
   "cell_type": "code",
   "execution_count": 2,
   "id": "0fef302c",
   "metadata": {},
   "outputs": [
    {
     "data": {
      "text/plain": [
       "<module 'features.lexical' from '../src/features/lexical.py'>"
      ]
     },
     "execution_count": 2,
     "metadata": {},
     "output_type": "execute_result"
    }
   ],
   "source": [
    "# importing local modules\n",
    "\n",
    "import sys\n",
    "sys.path.append('../src/')\n",
    "\n",
    "import text_cleanup.text_cleanup as thesisCleanUp\n",
    "import preprocessing.text_preprocessing as thesisTextPreprocessing\n",
    "import data.reader as thesisDataReader\n",
    "import utils.utils as thesisUtils\n",
    "import features.lexical as thesisLexicalFeatures\n",
    "\n",
    "\n",
    "imp.reload(thesisCleanUp)\n",
    "imp.reload(thesisTextPreprocessing)\n",
    "imp.reload(thesisDataReader)\n",
    "imp.reload(thesisUtils)\n",
    "imp.reload(thesisLexicalFeatures)"
   ]
  },
  {
   "cell_type": "code",
   "execution_count": 3,
   "id": "7aa7c262",
   "metadata": {},
   "outputs": [],
   "source": [
    "version_len_in_paragraphs = 322\n",
    "total_samples = 64\n",
    "number_of_sections = 5\n",
    "samples_per_section = total_samples / number_of_sections"
   ]
  },
  {
   "cell_type": "code",
   "execution_count": 4,
   "id": "3c82240d",
   "metadata": {},
   "outputs": [
    {
     "data": {
      "text/plain": [
       "12.8"
      ]
     },
     "execution_count": 4,
     "metadata": {},
     "output_type": "execute_result"
    }
   ],
   "source": [
    "samples_per_section"
   ]
  },
  {
   "cell_type": "markdown",
   "id": "74a62793",
   "metadata": {},
   "source": [
    "we can split 12 samples in section into 3 groups: strongly similar, silimar, poor similar\n",
    "each group will have 4 paragraphs per section\n",
    "in total 20 paragraphs cross all sections"
   ]
  },
  {
   "cell_type": "code",
   "execution_count": 5,
   "id": "ab06d810",
   "metadata": {},
   "outputs": [
    {
     "data": {
      "text/plain": [
       "64.0"
      ]
     },
     "execution_count": 5,
     "metadata": {},
     "output_type": "execute_result"
    }
   ],
   "source": [
    "320/5"
   ]
  },
  {
   "cell_type": "code",
   "execution_count": 6,
   "id": "dd865d3f",
   "metadata": {},
   "outputs": [],
   "source": [
    "zwickau_sections = thesisDataReader.get_zwickau_separated_by_sections()\n",
    "london_sections = thesisDataReader.get_london_separated_by_sections()"
   ]
  },
  {
   "cell_type": "code",
   "execution_count": 7,
   "id": "8d14f2c2",
   "metadata": {},
   "outputs": [
    {
     "data": {
      "text/html": [
       "<div>\n",
       "<style scoped>\n",
       "    .dataframe tbody tr th:only-of-type {\n",
       "        vertical-align: middle;\n",
       "    }\n",
       "\n",
       "    .dataframe tbody tr th {\n",
       "        vertical-align: top;\n",
       "    }\n",
       "\n",
       "    .dataframe thead th {\n",
       "        text-align: right;\n",
       "    }\n",
       "</style>\n",
       "<table border=\"1\" class=\"dataframe\">\n",
       "  <thead>\n",
       "    <tr style=\"text-align: right;\">\n",
       "      <th></th>\n",
       "      <th>total_characters</th>\n",
       "      <th>total_words</th>\n",
       "      <th>unique_words</th>\n",
       "      <th>paragraphs</th>\n",
       "      <th>unique_lemmatized_word</th>\n",
       "    </tr>\n",
       "  </thead>\n",
       "  <tbody>\n",
       "    <tr>\n",
       "      <th>zwickau, section: 0</th>\n",
       "      <td>14195.0</td>\n",
       "      <td>2123.0</td>\n",
       "      <td>1067.0</td>\n",
       "      <td>20.0</td>\n",
       "      <td>807.0</td>\n",
       "    </tr>\n",
       "    <tr>\n",
       "      <th>london, section: 0</th>\n",
       "      <td>10165.0</td>\n",
       "      <td>1510.0</td>\n",
       "      <td>845.0</td>\n",
       "      <td>20.0</td>\n",
       "      <td>663.0</td>\n",
       "    </tr>\n",
       "  </tbody>\n",
       "</table>\n",
       "</div>"
      ],
      "text/plain": [
       "                     total_characters  total_words  unique_words  paragraphs  \\\n",
       "zwickau, section: 0           14195.0       2123.0        1067.0        20.0   \n",
       "london, section: 0            10165.0       1510.0         845.0        20.0   \n",
       "\n",
       "                     unique_lemmatized_word  \n",
       "zwickau, section: 0                   807.0  \n",
       "london, section: 0                    663.0  "
      ]
     },
     "metadata": {},
     "output_type": "display_data"
    },
    {
     "data": {
      "text/html": [
       "<div>\n",
       "<style scoped>\n",
       "    .dataframe tbody tr th:only-of-type {\n",
       "        vertical-align: middle;\n",
       "    }\n",
       "\n",
       "    .dataframe tbody tr th {\n",
       "        vertical-align: top;\n",
       "    }\n",
       "\n",
       "    .dataframe thead th {\n",
       "        text-align: right;\n",
       "    }\n",
       "</style>\n",
       "<table border=\"1\" class=\"dataframe\">\n",
       "  <thead>\n",
       "    <tr style=\"text-align: right;\">\n",
       "      <th></th>\n",
       "      <th>total_characters</th>\n",
       "      <th>total_words</th>\n",
       "      <th>unique_words</th>\n",
       "      <th>paragraphs</th>\n",
       "      <th>unique_lemmatized_word</th>\n",
       "    </tr>\n",
       "  </thead>\n",
       "  <tbody>\n",
       "    <tr>\n",
       "      <th>zwickau, section: 1</th>\n",
       "      <td>112411.0</td>\n",
       "      <td>17861.0</td>\n",
       "      <td>4134.0</td>\n",
       "      <td>249.0</td>\n",
       "      <td>2852.0</td>\n",
       "    </tr>\n",
       "    <tr>\n",
       "      <th>london, section: 1</th>\n",
       "      <td>129837.0</td>\n",
       "      <td>20656.0</td>\n",
       "      <td>4495.0</td>\n",
       "      <td>242.0</td>\n",
       "      <td>2988.0</td>\n",
       "    </tr>\n",
       "  </tbody>\n",
       "</table>\n",
       "</div>"
      ],
      "text/plain": [
       "                     total_characters  total_words  unique_words  paragraphs  \\\n",
       "zwickau, section: 1          112411.0      17861.0        4134.0       249.0   \n",
       "london, section: 1           129837.0      20656.0        4495.0       242.0   \n",
       "\n",
       "                     unique_lemmatized_word  \n",
       "zwickau, section: 1                  2852.0  \n",
       "london, section: 1                   2988.0  "
      ]
     },
     "metadata": {},
     "output_type": "display_data"
    },
    {
     "data": {
      "text/html": [
       "<div>\n",
       "<style scoped>\n",
       "    .dataframe tbody tr th:only-of-type {\n",
       "        vertical-align: middle;\n",
       "    }\n",
       "\n",
       "    .dataframe tbody tr th {\n",
       "        vertical-align: top;\n",
       "    }\n",
       "\n",
       "    .dataframe thead th {\n",
       "        text-align: right;\n",
       "    }\n",
       "</style>\n",
       "<table border=\"1\" class=\"dataframe\">\n",
       "  <thead>\n",
       "    <tr style=\"text-align: right;\">\n",
       "      <th></th>\n",
       "      <th>total_characters</th>\n",
       "      <th>total_words</th>\n",
       "      <th>unique_words</th>\n",
       "      <th>paragraphs</th>\n",
       "      <th>unique_lemmatized_word</th>\n",
       "    </tr>\n",
       "  </thead>\n",
       "  <tbody>\n",
       "    <tr>\n",
       "      <th>zwickau, section: 2</th>\n",
       "      <td>4959.0</td>\n",
       "      <td>788.0</td>\n",
       "      <td>454.0</td>\n",
       "      <td>7.0</td>\n",
       "      <td>357.0</td>\n",
       "    </tr>\n",
       "    <tr>\n",
       "      <th>london, section: 2</th>\n",
       "      <td>4974.0</td>\n",
       "      <td>784.0</td>\n",
       "      <td>453.0</td>\n",
       "      <td>6.0</td>\n",
       "      <td>353.0</td>\n",
       "    </tr>\n",
       "  </tbody>\n",
       "</table>\n",
       "</div>"
      ],
      "text/plain": [
       "                     total_characters  total_words  unique_words  paragraphs  \\\n",
       "zwickau, section: 2            4959.0        788.0         454.0         7.0   \n",
       "london, section: 2             4974.0        784.0         453.0         6.0   \n",
       "\n",
       "                     unique_lemmatized_word  \n",
       "zwickau, section: 2                   357.0  \n",
       "london, section: 2                    353.0  "
      ]
     },
     "metadata": {},
     "output_type": "display_data"
    },
    {
     "data": {
      "text/html": [
       "<div>\n",
       "<style scoped>\n",
       "    .dataframe tbody tr th:only-of-type {\n",
       "        vertical-align: middle;\n",
       "    }\n",
       "\n",
       "    .dataframe tbody tr th {\n",
       "        vertical-align: top;\n",
       "    }\n",
       "\n",
       "    .dataframe thead th {\n",
       "        text-align: right;\n",
       "    }\n",
       "</style>\n",
       "<table border=\"1\" class=\"dataframe\">\n",
       "  <thead>\n",
       "    <tr style=\"text-align: right;\">\n",
       "      <th></th>\n",
       "      <th>total_characters</th>\n",
       "      <th>total_words</th>\n",
       "      <th>unique_words</th>\n",
       "      <th>paragraphs</th>\n",
       "      <th>unique_lemmatized_word</th>\n",
       "    </tr>\n",
       "  </thead>\n",
       "  <tbody>\n",
       "    <tr>\n",
       "      <th>zwickau, section: 3</th>\n",
       "      <td>18419.0</td>\n",
       "      <td>2803.0</td>\n",
       "      <td>1353.0</td>\n",
       "      <td>21.0</td>\n",
       "      <td>987.0</td>\n",
       "    </tr>\n",
       "    <tr>\n",
       "      <th>london, section: 3</th>\n",
       "      <td>18332.0</td>\n",
       "      <td>2784.0</td>\n",
       "      <td>1345.0</td>\n",
       "      <td>21.0</td>\n",
       "      <td>973.0</td>\n",
       "    </tr>\n",
       "  </tbody>\n",
       "</table>\n",
       "</div>"
      ],
      "text/plain": [
       "                     total_characters  total_words  unique_words  paragraphs  \\\n",
       "zwickau, section: 3           18419.0       2803.0        1353.0        21.0   \n",
       "london, section: 3            18332.0       2784.0        1345.0        21.0   \n",
       "\n",
       "                     unique_lemmatized_word  \n",
       "zwickau, section: 3                   987.0  \n",
       "london, section: 3                    973.0  "
      ]
     },
     "metadata": {},
     "output_type": "display_data"
    },
    {
     "data": {
      "text/html": [
       "<div>\n",
       "<style scoped>\n",
       "    .dataframe tbody tr th:only-of-type {\n",
       "        vertical-align: middle;\n",
       "    }\n",
       "\n",
       "    .dataframe tbody tr th {\n",
       "        vertical-align: top;\n",
       "    }\n",
       "\n",
       "    .dataframe thead th {\n",
       "        text-align: right;\n",
       "    }\n",
       "</style>\n",
       "<table border=\"1\" class=\"dataframe\">\n",
       "  <thead>\n",
       "    <tr style=\"text-align: right;\">\n",
       "      <th></th>\n",
       "      <th>total_characters</th>\n",
       "      <th>total_words</th>\n",
       "      <th>unique_words</th>\n",
       "      <th>paragraphs</th>\n",
       "      <th>unique_lemmatized_word</th>\n",
       "    </tr>\n",
       "  </thead>\n",
       "  <tbody>\n",
       "    <tr>\n",
       "      <th>zwickau, section: 4</th>\n",
       "      <td>23766.0</td>\n",
       "      <td>3760.0</td>\n",
       "      <td>1627.0</td>\n",
       "      <td>25.0</td>\n",
       "      <td>1225.0</td>\n",
       "    </tr>\n",
       "    <tr>\n",
       "      <th>london, section: 4</th>\n",
       "      <td>30250.0</td>\n",
       "      <td>4769.0</td>\n",
       "      <td>1952.0</td>\n",
       "      <td>29.0</td>\n",
       "      <td>1454.0</td>\n",
       "    </tr>\n",
       "  </tbody>\n",
       "</table>\n",
       "</div>"
      ],
      "text/plain": [
       "                     total_characters  total_words  unique_words  paragraphs  \\\n",
       "zwickau, section: 4           23766.0       3760.0        1627.0        25.0   \n",
       "london, section: 4            30250.0       4769.0        1952.0        29.0   \n",
       "\n",
       "                     unique_lemmatized_word  \n",
       "zwickau, section: 4                  1225.0  \n",
       "london, section: 4                   1454.0  "
      ]
     },
     "metadata": {},
     "output_type": "display_data"
    }
   ],
   "source": [
    "for section_num in range(0, 5):\n",
    "    zwickau_section_corpus = thesisCleanUp.create_corpus_by_line(thesisCleanUp.jvtext(zwickau_sections[section_num]))\n",
    "    london_section_corpus = thesisCleanUp.create_corpus_by_line(thesisCleanUp.jvtext(london_sections[section_num]))\n",
    "    \n",
    "    lexical_features_df = pd.concat([\n",
    "        thesisLexicalFeatures.create_lexical_features_df(zwickau_section_corpus, f'zwickau, section: {section_num}'), \n",
    "        thesisLexicalFeatures.create_lexical_features_df(london_section_corpus, f'london, section: {section_num}')\n",
    "    ])\n",
    "    \n",
    "    display(lexical_features_df)\n"
   ]
  },
  {
   "cell_type": "code",
   "execution_count": 48,
   "id": "fca9345a",
   "metadata": {},
   "outputs": [
    {
     "data": {
      "text/plain": [
       "322"
      ]
     },
     "execution_count": 48,
     "metadata": {},
     "output_type": "execute_result"
    }
   ],
   "source": [
    "20+249+7+21+25"
   ]
  },
  {
   "cell_type": "code",
   "execution_count": 53,
   "id": "368f9d05",
   "metadata": {},
   "outputs": [],
   "source": [
    "def calculate_percentages(section_len):\n",
    "    section_1_in_per = (section_len/322)*100\n",
    "    percentage_of_percentage = (section_1_in_per/60)*100\n",
    "#     print('percentage_of_percentage', percentage_of_percentage)\n",
    "    to_take_from_section_1 = (section_1_in_per/percentage_of_percentage)*100\n",
    "    print('section in %', section_1_in_per)\n",
    "    print('from section will be takken', to_take_from_section_1)"
   ]
  },
  {
   "cell_type": "code",
   "execution_count": 54,
   "id": "edef3fc1",
   "metadata": {},
   "outputs": [
    {
     "name": "stdout",
     "output_type": "stream",
     "text": [
      "section in % 6.211180124223603\n",
      "from section will be takken 60.0\n",
      "***************\n",
      "section in % 77.32919254658384\n",
      "from section will be takken 60.0\n",
      "***************\n",
      "section in % 2.1739130434782608\n",
      "from section will be takken 60.0\n",
      "***************\n",
      "section in % 6.521739130434782\n",
      "from section will be takken 60.0\n",
      "***************\n",
      "section in % 7.763975155279502\n",
      "from section will be takken 60.00000000000001\n"
     ]
    }
   ],
   "source": [
    "calculate_percentages(20)\n",
    "print('***************')\n",
    "calculate_percentages(249)\n",
    "print('***************')\n",
    "calculate_percentages(7)\n",
    "print('***************')\n",
    "calculate_percentages(21)\n",
    "print('***************')\n",
    "calculate_percentages(25)"
   ]
  },
  {
   "cell_type": "code",
   "execution_count": 73,
   "id": "cb2424c5",
   "metadata": {},
   "outputs": [
    {
     "data": {
      "text/plain": [
       "100"
      ]
     },
     "execution_count": 73,
     "metadata": {},
     "output_type": "execute_result"
    }
   ],
   "source": [
    "6 + 77 + 2 + 7 + 8"
   ]
  },
  {
   "cell_type": "code",
   "execution_count": 75,
   "id": "c5e55bf7",
   "metadata": {},
   "outputs": [
    {
     "data": {
      "text/plain": [
       "60"
      ]
     },
     "execution_count": 75,
     "metadata": {},
     "output_type": "execute_result"
    }
   ],
   "source": [
    "4 + 46 + 1 + 4 + 5"
   ]
  },
  {
   "cell_type": "code",
   "execution_count": 79,
   "id": "ed3b89b3",
   "metadata": {},
   "outputs": [
    {
     "data": {
      "text/plain": [
       "7.0"
      ]
     },
     "execution_count": 79,
     "metadata": {},
     "output_type": "execute_result"
    }
   ],
   "source": [
    "322/46"
   ]
  },
  {
   "cell_type": "code",
   "execution_count": null,
   "id": "7254a963",
   "metadata": {},
   "outputs": [],
   "source": []
  }
 ],
 "metadata": {
  "kernelspec": {
   "display_name": "Python 3",
   "language": "python",
   "name": "python3"
  },
  "language_info": {
   "codemirror_mode": {
    "name": "ipython",
    "version": 3
   },
   "file_extension": ".py",
   "mimetype": "text/x-python",
   "name": "python",
   "nbconvert_exporter": "python",
   "pygments_lexer": "ipython3",
   "version": "3.8.8"
  }
 },
 "nbformat": 4,
 "nbformat_minor": 5
}
