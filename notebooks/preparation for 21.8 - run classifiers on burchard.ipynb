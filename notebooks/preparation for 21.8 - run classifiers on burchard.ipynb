{
 "cells": [
  {
   "cell_type": "code",
   "execution_count": 1,
   "id": "f9f7000f",
   "metadata": {},
   "outputs": [
    {
     "data": {
      "text/html": [
       "<style>.container { width:100% !important; }</style>"
      ],
      "text/plain": [
       "<IPython.core.display.HTML object>"
      ]
     },
     "metadata": {},
     "output_type": "display_data"
    }
   ],
   "source": [
    "from IPython.core.display import display, HTML\n",
    "display(HTML(\"<style>.container { width:100% !important; }</style>\"))"
   ]
  },
  {
   "cell_type": "code",
   "execution_count": 2,
   "id": "a02bed21",
   "metadata": {},
   "outputs": [
    {
     "name": "stdout",
     "output_type": "stream",
     "text": [
      "Note: you may need to restart the kernel to use updated packages.\n"
     ]
    }
   ],
   "source": [
    "%pip install -q decorator==5.0.9\n",
    "!pip install -q ipywidgets\n",
    "\n",
    "import re\n",
    "import imp\n",
    "import json\n",
    "import numpy as np\n",
    "import pandas as pd\n",
    "from sklearn.feature_extraction.text import TfidfVectorizer, CountVectorizer\n",
    "from sklearn.metrics.pairwise import cosine_similarity\n",
    "import matplotlib.pyplot as plt\n",
    "import networkx as nx\n",
    "import seaborn as sns\n",
    "from collections import Counter\n",
    "\n",
    "import ipywidgets as widgets\n",
    "from ipywidgets import interact, interact_manual"
   ]
  },
  {
   "cell_type": "code",
   "execution_count": 3,
   "id": "641d7037",
   "metadata": {},
   "outputs": [
    {
     "name": "stdout",
     "output_type": "stream",
     "text": [
      "Note: you may need to restart the kernel to use updated packages.\n",
      "Note: you may need to restart the kernel to use updated packages.\n",
      "Note: you may need to restart the kernel to use updated packages.\n"
     ]
    }
   ],
   "source": [
    "%pip install -q cltk==1.0.22\n",
    "%pip install -q strsim\n",
    "%pip install -q leven"
   ]
  },
  {
   "cell_type": "code",
   "execution_count": 4,
   "id": "04b03e7c",
   "metadata": {},
   "outputs": [
    {
     "data": {
      "text/plain": [
       "<module 'features.model_features' from '../src/features/model_features.py'>"
      ]
     },
     "execution_count": 4,
     "metadata": {},
     "output_type": "execute_result"
    }
   ],
   "source": [
    "# importing local modules\n",
    "\n",
    "import sys\n",
    "sys.path.append('../src/')\n",
    "\n",
    "import text_cleanup.text_cleanup as thesisCleanUp\n",
    "import preprocessing.text_preprocessing as thesisTextPreprocessing\n",
    "import data.reader as thesisDataReader\n",
    "import utils.utils as thesisUtils\n",
    "import features.tf_idf.n_gram as thesisTfIdfNgramFeatures\n",
    "import features.count_vectorizer.n_gram as thesisCountVectorizerNgramFeatures\n",
    "import similarities.cosine as thesisCosineSimilarities\n",
    "import similarities.levenshtein as thesisLevenshteinSimilarities\n",
    "import vocabulary.vocabulary as thesisVocabulary\n",
    "import features.lexical as thesisLexicalFeatures\n",
    "import similarities.cosine as thesisCosineSimilarity\n",
    "import text_cleanup.text_cleanup as thesisTextCleanUp\n",
    "import p_aligment.p_aligment as thesisPAligment\n",
    "import features.model_features as thesisModelFeatures\n",
    "\n",
    "imp.reload(thesisTfIdfNgramFeatures)\n",
    "imp.reload(thesisLexicalFeatures)\n",
    "imp.reload(thesisCosineSimilarity)\n",
    "imp.reload(thesisCleanUp)\n",
    "imp.reload(thesisTextPreprocessing)\n",
    "imp.reload(thesisDataReader)\n",
    "imp.reload(thesisUtils)\n",
    "\n",
    "imp.reload(thesisVocabulary)\n",
    "imp.reload(thesisCosineSimilarities)\n",
    "imp.reload(thesisTextCleanUp)\n",
    "imp.reload(thesisCountVectorizerNgramFeatures)\n",
    "imp.reload(thesisPAligment)\n",
    "imp.reload(thesisLevenshteinSimilarities)\n",
    "imp.reload(thesisModelFeatures)"
   ]
  },
  {
   "cell_type": "code",
   "execution_count": 5,
   "id": "868ea777",
   "metadata": {},
   "outputs": [],
   "source": [
    "breslau_corpus = thesisDataReader.CorpusByNewLine.breslau()"
   ]
  },
  {
   "cell_type": "code",
   "execution_count": 25,
   "id": "dcac7e35",
   "metadata": {},
   "outputs": [],
   "source": [
    "london_vs_burchard_best_model = thesisModelFeatures.get_london_vs_burchard_best_model()\n",
    "zwickau_vs_burchard_best_model = thesisModelFeatures.get_zwickau_vs_burchard_best_model()\n",
    "london_vs_zwickau_best_model = thesisModelFeatures.get_london_vs_zwickau_best_model()"
   ]
  },
  {
   "cell_type": "code",
   "execution_count": 9,
   "id": "b7445b48",
   "metadata": {},
   "outputs": [
    {
     "name": "stdout",
     "output_type": "stream",
     "text": [
      "n_gram_feature_name: 2_5_gram\n"
     ]
    }
   ],
   "source": [
    "breslau_features_by_london_vectorizer = thesisModelFeatures.create_features_df(\n",
    "    breslau_corpus.corpus,\n",
    "    None,\n",
    "    None,\n",
    "    n_gram = (2,5),\n",
    "    features = { 'tfidf', 'inner_mean_cosine_similarity_score' },\n",
    "    vectorizer = thesisModelFeatures.load_london_burchard_vectorizer('features_tfidf_2_5_gram_cosine_similarity_long_p')\n",
    ")"
   ]
  },
  {
   "cell_type": "code",
   "execution_count": 11,
   "id": "18f74253",
   "metadata": {},
   "outputs": [],
   "source": [
    "X_breslau, y_breslau = thesisModelFeatures.create_X_y(breslau_features_by_london_vectorizer)"
   ]
  },
  {
   "cell_type": "code",
   "execution_count": 12,
   "id": "701dc110",
   "metadata": {},
   "outputs": [],
   "source": [
    "london_vs_burchard_classifier_on_breslau_resuts = london_vs_burchard_best_model.predict(X_breslau)"
   ]
  },
  {
   "cell_type": "code",
   "execution_count": 13,
   "id": "b4e4e164",
   "metadata": {},
   "outputs": [
    {
     "data": {
      "text/plain": [
       "array([2., 2., 2., 2., 2., 2., 2., 2., 2., 2., 2., 2., 2., 2., 2., 2., 2.,\n",
       "       2., 2., 2., 0., 2., 2., 2., 2., 2., 2., 2., 2., 2., 2., 0., 2., 2.,\n",
       "       2., 2., 2., 2., 2., 2., 2., 2., 2., 2., 2., 2., 2., 2., 2., 2., 2.,\n",
       "       2., 2., 2., 2., 2., 2., 2., 2., 2., 2., 2., 2., 2., 2., 2., 2., 2.,\n",
       "       2., 2., 2.])"
      ]
     },
     "execution_count": 13,
     "metadata": {},
     "output_type": "execute_result"
    }
   ],
   "source": [
    "london_vs_burchard_classifier_on_breslau_resuts"
   ]
  },
  {
   "cell_type": "code",
   "execution_count": 14,
   "id": "c0b7b566",
   "metadata": {},
   "outputs": [
    {
     "name": "stdout",
     "output_type": "stream",
     "text": [
      "n_gram_feature_name: 2_5_gram\n"
     ]
    }
   ],
   "source": [
    "breslau_features_by_zwickau_vectorizer = thesisModelFeatures.create_features_df(\n",
    "    breslau_corpus.corpus,\n",
    "    None,\n",
    "    None,\n",
    "    n_gram = (2,5),\n",
    "    features = { 'tfidf', 'inner_mean_cosine_similarity_score' },\n",
    "    vectorizer = thesisModelFeatures.load_zwickau_burchard_vectorizer('features_tfidf_2_5_gram_cosine_similarity_long_p')\n",
    ")"
   ]
  },
  {
   "cell_type": "code",
   "execution_count": 15,
   "id": "aea4fa6d",
   "metadata": {},
   "outputs": [],
   "source": [
    "X_breslau, y_breslau = thesisModelFeatures.create_X_y(breslau_features_by_zwickau_vectorizer)"
   ]
  },
  {
   "cell_type": "code",
   "execution_count": 16,
   "id": "69cc9e84",
   "metadata": {},
   "outputs": [],
   "source": [
    "zwickau_vs_burchard_classifier_on_breslau_resuts = zwickau_vs_burchard_best_model.predict(X_breslau)"
   ]
  },
  {
   "cell_type": "code",
   "execution_count": 17,
   "id": "81f83dcc",
   "metadata": {},
   "outputs": [
    {
     "data": {
      "text/plain": [
       "array([2., 2., 2., 2., 2., 1., 1., 1., 2., 2., 2., 2., 1., 2., 2., 2., 1.,\n",
       "       1., 2., 1., 2., 2., 1., 1., 2., 2., 1., 1., 2., 1., 2., 2., 2., 1.,\n",
       "       2., 2., 1., 2., 2., 1., 2., 1., 1., 1., 1., 1., 2., 2., 2., 2., 2.,\n",
       "       2., 1., 2., 2., 2., 2., 2., 2., 1., 2., 1., 2., 1., 1., 2., 2., 2.,\n",
       "       2., 2., 1.])"
      ]
     },
     "execution_count": 17,
     "metadata": {},
     "output_type": "execute_result"
    }
   ],
   "source": [
    "zwickau_vs_burchard_classifier_on_breslau_resuts"
   ]
  },
  {
   "cell_type": "code",
   "execution_count": 26,
   "id": "8dc7bf29",
   "metadata": {},
   "outputs": [
    {
     "name": "stdout",
     "output_type": "stream",
     "text": [
      "n_gram_feature_name: 2_5_gram\n"
     ]
    }
   ],
   "source": [
    "breslau_features_by_london_zwickau_vectorizer = thesisModelFeatures.create_features_df(\n",
    "    breslau_corpus.corpus,\n",
    "    None,\n",
    "    None,\n",
    "    n_gram = (2,5),\n",
    "    features = { 'tfidf', 'inner_mean_cosine_similarity_score' },\n",
    "    vectorizer = thesisModelFeatures.load_london_zwickau_vectorizer('features_tfidf_2_5_gram_cosine_similarity_long_p')\n",
    ")"
   ]
  },
  {
   "cell_type": "code",
   "execution_count": 27,
   "id": "c792dc61",
   "metadata": {},
   "outputs": [],
   "source": [
    "X_breslau, y_breslau = thesisModelFeatures.create_X_y(breslau_features_by_london_zwickau_vectorizer)"
   ]
  },
  {
   "cell_type": "code",
   "execution_count": 28,
   "id": "2caf0816",
   "metadata": {},
   "outputs": [],
   "source": [
    "london_vs_zwickau_classifier_on_breslau_resuts = london_vs_zwickau_best_model.predict(X_breslau)"
   ]
  },
  {
   "cell_type": "code",
   "execution_count": 29,
   "id": "b57936b2",
   "metadata": {},
   "outputs": [
    {
     "data": {
      "text/plain": [
       "array([0., 0., 0., 1., 0., 1., 1., 1., 1., 1., 0., 0., 1., 1., 1., 1., 1.,\n",
       "       1., 1., 1., 0., 1., 1., 1., 0., 0., 1., 1., 1., 1., 0., 0., 0., 1.,\n",
       "       1., 0., 1., 0., 1., 1., 0., 1., 1., 1., 1., 1., 0., 0., 0., 0., 0.,\n",
       "       0., 1., 0., 0., 1., 1., 0., 0., 1., 0., 0., 0., 1., 1., 1., 0., 1.,\n",
       "       0., 1., 0.])"
      ]
     },
     "execution_count": 29,
     "metadata": {},
     "output_type": "execute_result"
    }
   ],
   "source": [
    "london_vs_zwickau_classifier_on_breslau_resuts"
   ]
  },
  {
   "cell_type": "code",
   "execution_count": 30,
   "id": "bb4937c1",
   "metadata": {},
   "outputs": [],
   "source": [
    "data = [\n",
    "    [\n",
    "        p, \n",
    "        thesisModelFeatures.version_label_to_human_readable(london_vs_burchard_classifier_on_breslau_resuts[i]),\n",
    "        thesisModelFeatures.version_label_to_human_readable(zwickau_vs_burchard_classifier_on_breslau_resuts[i]),\n",
    "        thesisModelFeatures.version_label_to_human_readable(london_vs_zwickau_classifier_on_breslau_resuts[i]),\n",
    "    ]\n",
    "    for i, p in enumerate(breslau_corpus.corpus)\n",
    "]"
   ]
  },
  {
   "cell_type": "code",
   "execution_count": 34,
   "id": "74997a90",
   "metadata": {},
   "outputs": [],
   "source": [
    "pd.DataFrame(\n",
    "    data, \n",
    "    columns = ['breslau text', 'london VS burchard classifier', 'zwickau VS burchard classifier', 'london VS zwickau classifier']\n",
    ").to_csv('../computed_data/models/breslau/breslau_predictions.csv')"
   ]
  },
  {
   "cell_type": "code",
   "execution_count": null,
   "id": "af588ad0",
   "metadata": {},
   "outputs": [],
   "source": []
  }
 ],
 "metadata": {
  "kernelspec": {
   "display_name": "Python 3",
   "language": "python",
   "name": "python3"
  },
  "language_info": {
   "codemirror_mode": {
    "name": "ipython",
    "version": 3
   },
   "file_extension": ".py",
   "mimetype": "text/x-python",
   "name": "python",
   "nbconvert_exporter": "python",
   "pygments_lexer": "ipython3",
   "version": "3.8.8"
  }
 },
 "nbformat": 4,
 "nbformat_minor": 5
}
